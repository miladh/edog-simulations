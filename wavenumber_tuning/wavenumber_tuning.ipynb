{
 "cells": [
  {
   "cell_type": "code",
   "execution_count": null,
   "metadata": {
    "slideshow": {
     "slide_type": "slide"
    }
   },
   "outputs": [],
   "source": [
    "%load_ext autoreload\n",
    "%autoreload 2\n",
    "%matplotlib inline\n",
    "\n",
    "from IPython.display import set_matplotlib_formats\n",
    "set_matplotlib_formats('png', 'pdf')\n",
    "\n",
    "import numpy as np\n",
    "import matplotlib.pyplot as plt\n",
    "import quantities as pq\n",
    "from operator import itemgetter\n",
    "from edog.tools import*\n",
    "from edog.plot import*\n",
    "plt.style.use('seaborn')\n",
    "plt.rcParams.update(edog.plot.params)\n",
    "\n",
    "filename = \"params.yaml\"\n",
    "params = parse_parameters(filename)\n",
    "\n",
    "nt, nr, dt, dr = itemgetter(\"nt\", \"nr\", \"dt\", \"dr\")(params[\"grid\"])\n",
    "k_id, w_id, patch_diameter = itemgetter(\"k_id\", \"w_id\", \"patch_diameter\")(params[\"stimulus\"])\n",
    "A_g, a_g, B_g, b_g = itemgetter(\"A\", \"a\", \"B\", \"b\")(params[\"ganglion\"])\n",
    "w_rg, A_rg, a_rg = itemgetter(\"w\", \"A\", \"a\")(params[\"relay\"][\"Krg\"])\n",
    "w_rig, A_rig, a_rig = itemgetter(\"w\", \"A\", \"a\")(params[\"relay\"][\"Krig\"])\n",
    "w_rc_ex, A_rc_ex, a_rc_ex = itemgetter(\"w\", \"A\", \"a\")(params[\"relay\"][\"Krc_ex\"])\n",
    "w_rc_in, A_rc_in, a_rc_in = itemgetter(\"w\", \"A\", \"a\")(params[\"relay\"][\"Krc_in\"])\n",
    "\n",
    "w_rc_mix = itemgetter(\"w\")(params[\"relay\"][\"Krc_mix\"])\n",
    "A_rc_mix_in, a_rc_mix_in = itemgetter(\"A\", \"a\")(params[\"relay\"][\"Krc_mix\"][\"Krc_in\"])\n",
    "A_rc_mix_ex, a_rc_mix_ex = itemgetter(\"A\", \"a\")(params[\"relay\"][\"Krc_mix\"][\"Krc_ex\"])\n",
    "\n",
    "wavenumber_tuning = {\"fb_ex\": {}, \"fb_in\": {}, \"fb_mix\": {}}"
   ]
  },
  {
   "cell_type": "markdown",
   "metadata": {
    "nbpresent": {
     "id": "4717121a-ec21-4560-a366-49a411d9a737"
    }
   },
   "source": [
    "## Feedback excitation"
   ]
  },
  {
   "cell_type": "code",
   "execution_count": null,
   "metadata": {
    "nbpresent": {
     "id": "382b46f7-25d4-4eaf-b3a9-647de01d8348"
    }
   },
   "outputs": [],
   "source": [
    "for d in patch_diameter:\n",
    "    tuning_curve = np.zeros([len(w_rc_ex), len(k_id)])\n",
    "\n",
    "    for i, w in enumerate(w_rc_ex):\n",
    "        network = create_spatial_network(nt=nt, nr=nr, dt=dt, dr=dr,\n",
    "                                 A_g=A_g, a_g=a_g, B_g=B_g, b_g=b_g,\n",
    "                                 w_rg=w_rg, A_rg=A_rg, a_rg=a_rg,\n",
    "                                 w_rig=w_rig, A_rig=A_rig, a_rig=a_rig,\n",
    "                                 w_rc_ex=w, A_rc_ex=A_rc_ex, a_rc_ex=a_rc_ex)\n",
    "\n",
    "        angular_freq = network.integrator.temporal_angular_freqs[int(w_id)]\n",
    "        wavenumber = network.integrator.spatial_angular_freqs[k_id.astype(int)]\n",
    "        spatiotemporal_tuning = spatiotemporal_wavenumber_tuning(network=network,\n",
    "                                                                 angular_freq=angular_freq,\n",
    "                                                                 wavenumber=wavenumber,\n",
    "                                                                 patch_diameter=d)\n",
    "    \n",
    "        tuning_curve[i, :] = spatiotemporal_tuning[0, :]\n",
    "    \n",
    "    wavenumber_tuning[\"fb_ex\"][float(d.magnitude)] = tuning_curve"
   ]
  },
  {
   "cell_type": "markdown",
   "metadata": {
    "nbpresent": {
     "id": "4717121a-ec21-4560-a366-49a411d9a737"
    }
   },
   "source": [
    "## Feedback inhibition"
   ]
  },
  {
   "cell_type": "code",
   "execution_count": null,
   "metadata": {
    "nbpresent": {
     "id": "382b46f7-25d4-4eaf-b3a9-647de01d8348"
    }
   },
   "outputs": [],
   "source": [
    "for d in patch_diameter:\n",
    "    tuning_curve = np.zeros([len(w_rc_in), len(k_id)])\n",
    "    \n",
    "    for i, w in enumerate(w_rc_in):\n",
    "        network = create_spatial_network(nt=nt, nr=nr, dt=dt, dr=dr,\n",
    "                                 A_g=A_g, a_g=a_g, B_g=B_g, b_g=b_g,\n",
    "                                 w_rg=w_rg, A_rg=A_rg, a_rg=a_rg,\n",
    "                                 w_rig=w_rig, A_rig=A_rig, a_rig=a_rig,\n",
    "                                 w_rc_in=w, A_rc_in=A_rc_in, a_rc_in=a_rc_in)\n",
    "\n",
    "        angular_freq = network.integrator.temporal_angular_freqs[int(w_id)]\n",
    "        wavenumber = network.integrator.spatial_angular_freqs[k_id.astype(int)]\n",
    "        spatiotemporal_tuning = spatiotemporal_wavenumber_tuning(network=network,\n",
    "                                                                 angular_freq=angular_freq,\n",
    "                                                                 wavenumber=wavenumber,\n",
    "                                                                 patch_diameter=d)\n",
    "    \n",
    "        tuning_curve[i, :] = spatiotemporal_tuning[0, :]\n",
    "        \n",
    "    wavenumber_tuning[\"fb_in\"][float(d.magnitude)] = tuning_curve"
   ]
  },
  {
   "cell_type": "markdown",
   "metadata": {},
   "source": [
    "## Mixed excitatory and inhibitory feedback"
   ]
  },
  {
   "cell_type": "code",
   "execution_count": null,
   "metadata": {
    "nbpresent": {
     "id": "382b46f7-25d4-4eaf-b3a9-647de01d8348"
    }
   },
   "outputs": [],
   "source": [
    "for d in patch_diameter:\n",
    "    tuning_curve = np.zeros([len(w_rc_mix), len(k_id)])\n",
    "    \n",
    "    for i, w in enumerate(w_rc_mix):\n",
    "        network = create_spatial_network(nt=nt, nr=nr, dt=dt, dr=dr,\n",
    "                                 A_g=A_g, a_g=a_g, B_g=B_g, b_g=b_g,\n",
    "                                 w_rg=w_rg, A_rg=A_rg, a_rg=a_rg,\n",
    "                                 w_rig=w_rig, A_rig=A_rig, a_rig=a_rig,\n",
    "                                 w_rc_in=w, A_rc_in=A_rc_mix_in, a_rc_in=a_rc_mix_in,\n",
    "                                 w_rc_ex=w, A_rc_ex=A_rc_mix_ex, a_rc_ex=a_rc_mix_ex)\n",
    "        angular_freq = network.integrator.temporal_angular_freqs[int(w_id)]\n",
    "        wavenumber = network.integrator.spatial_angular_freqs[k_id.astype(int)]\n",
    "        spatiotemporal_tuning = spatiotemporal_wavenumber_tuning(network=network,\n",
    "                                                                 angular_freq=angular_freq,\n",
    "                                                                 wavenumber=wavenumber,\n",
    "                                                                 patch_diameter=d)\n",
    "\n",
    "        tuning_curve[i, :] = spatiotemporal_tuning[0, :]\n",
    "\n",
    "\n",
    "    wavenumber_tuning[\"fb_mix\"][float(d.magnitude)] = tuning_curve"
   ]
  },
  {
   "cell_type": "markdown",
   "metadata": {
    "collapsed": true,
    "nbpresent": {
     "id": "de161638-3993-460b-bfe5-5f6e7782b40d"
    }
   },
   "source": [
    "-------------\n",
    "## Plotting"
   ]
  },
  {
   "cell_type": "code",
   "execution_count": null,
   "metadata": {
    "scrolled": false
   },
   "outputs": [],
   "source": [
    "titles = [\"Excitatory feedback\", \"Inhibitory feedback\", \"Mixed feedback\"]\n",
    "labels = [r\"$w^\\mathrm{ex}_{\\mathrm{RCR}}$\", r\"$w^\\mathrm{in}_{\\mathrm{RCR}}$\", \n",
    "          r\"$w^\\mathrm{ex/in}_{\\mathrm{RCR}}$\"]\n",
    "\n",
    "fig, ((ax1, ax2, ax3), (ax4, ax5, ax6)) = plt.subplots(2, 3, figsize=(9, 6), sharey=\"row\", sharex=\"col\")\n",
    "\n",
    "# small patch size:\n",
    "for ax, w_rc, curves, title, label in zip([ax1, ax2, ax3],\n",
    "                                           [w_rc_ex, w_rc_in, w_rc_mix], \n",
    "                                           [wavenumber_tuning[\"fb_ex\"][float(patch_diameter[0].magnitude)], \n",
    "                                            wavenumber_tuning[\"fb_in\"][float(patch_diameter[0].magnitude)], \n",
    "                                            wavenumber_tuning[\"fb_mix\"][float(patch_diameter[0].magnitude)]],\n",
    "                                           titles, labels):\n",
    "\n",
    "    for w, curve in zip(w_rc[:], curves[:]):\n",
    "        ax.plot(wavenumber, curve, '-', label=r\"${} \\times$\".format(round(w, 1))+label)\n",
    "\n",
    "    ax.set_xlim([0, 12])\n",
    "    ax.set_ylim([-0.05, 0.4])\n",
    "    ax.legend(fontsize=15, handlelength=0.5, labelspacing=0.4, borderpad=0.0)\n",
    "    ax.set_title(title, y=1.0)\n",
    "    ax.set_xscale(\"log\")\n",
    "    ax.grid(which=\"minor\", lw=1.5)\n",
    "    ax.grid(which=\"major\", lw=1.5)\n",
    "\n",
    "    \n",
    "ax1.scatter(7., 0.3, facecolor='white', hatch=3*\"-\", s=100, zorder=10)\n",
    "rect = plt.Rectangle((4.5, 0.25), 10**0.8, 0.1, facecolor=\"grey\", edgecolor=\"k\",\n",
    "                     linewidth=2, linestyle=\"-\")\n",
    "ax1.add_artist(rect)    \n",
    "    \n",
    "ax1.set_ylabel(\"Response\")\n",
    "ax2.set_title(titles[1])\n",
    "ax2.set_xticklabels([])\n",
    "ax3.set_xticklabels([])\n",
    "\n",
    "# large patch size:\n",
    "for ax, w_rc, curves, title, label in zip([ax4, ax5, ax6],\n",
    "                                           [w_rc_ex, w_rc_in, w_rc_mix], \n",
    "                                           [wavenumber_tuning[\"fb_ex\"][float(patch_diameter[1].magnitude)], \n",
    "                                            wavenumber_tuning[\"fb_in\"][float(patch_diameter[1].magnitude)], \n",
    "                                            wavenumber_tuning[\"fb_mix\"][float(patch_diameter[1].magnitude)]],\n",
    "                                           titles, labels):\n",
    "\n",
    "    for w, curve in zip(w_rc[:], curves[:]):\n",
    "        ax.plot(wavenumber, curve, '-', label=r\"${} \\times$\".format(round(w, 1))+label)\n",
    "\n",
    "    ax.set_xlim([0, 12])\n",
    "    ax.set_ylim([-0.05, 0.4])\n",
    "    ax.set_xscale(\"log\")\n",
    "    ax.grid(which=\"minor\", lw=1.5)\n",
    "    ax.grid(which=\"major\", lw=1.5)\n",
    "\n",
    "ax4.scatter(7., 0.3, facecolor='white', hatch=3*\"-\", s=6*100, zorder=10)\n",
    "rect = plt.Rectangle((4.5, 0.25), 10**0.8, 0.1, facecolor=\"grey\", edgecolor=\"k\",\n",
    "                     linewidth=2, linestyle=\"-\")\n",
    "ax4.add_artist(rect)    \n",
    "    \n",
    "ax4.set_ylabel(\"Response\")\n",
    "ax4.set_xlabel(\"Wavenumber (1/deg)\")\n",
    "\n",
    "fig.tight_layout()"
   ]
  },
  {
   "cell_type": "code",
   "execution_count": null,
   "metadata": {},
   "outputs": [],
   "source": [
    "fig, axarr = plt.subplots(1, 3, figsize=(12, 4), sharey=\"row\")\n",
    "\n",
    "\n",
    "for ax, label, title, curves in zip(axarr, labels, titles, \n",
    "                                    [wavenumber_tuning[\"fb_ex\"], \n",
    "                                    wavenumber_tuning[\"fb_in\"], \n",
    "                                    wavenumber_tuning[\"fb_mix\"]]):\n",
    "    \n",
    "    cen_curves = curves[float(patch_diameter[0].magnitude)]\n",
    "    sur_curves = curves[float(patch_diameter[1].magnitude)]\n",
    "    for i, (cen_curve, sur_curve) in enumerate(zip(cen_curves, sur_curves)):\n",
    "        max_id = 6\n",
    "        ax.plot(wavenumber[:max_id], 1 - sur_curve[:max_id] / cen_curve[:max_id], \n",
    "                \"-o\", label=r\"${} \\times$\".format(round(w_rc_ex[i], 1))+label)\n",
    "    \n",
    "    ax.set_title(title, y=1.2)\n",
    "    ax.set_xlabel(\"Wavenumber (1/deg)\")\n",
    "    ax.legend(fontsize=15, handlelength=0.5, labelspacing=0.4, borderpad=0.0)\n",
    "    \n",
    "axarr[0].set_ylabel(\"Precentage response reduction\")"
   ]
  },
  {
   "cell_type": "code",
   "execution_count": null,
   "metadata": {},
   "outputs": [],
   "source": []
  }
 ],
 "metadata": {
  "anaconda-cloud": {},
  "kernelspec": {
   "display_name": "Python 3",
   "language": "python",
   "name": "python3"
  },
  "language_info": {
   "codemirror_mode": {
    "name": "ipython",
    "version": 3
   },
   "file_extension": ".py",
   "mimetype": "text/x-python",
   "name": "python",
   "nbconvert_exporter": "python",
   "pygments_lexer": "ipython3",
   "version": "3.5.4"
  },
  "nbpresent": {
   "slides": {
    "0c512947-22b0-4620-957c-acb049a64df1": {
     "id": "0c512947-22b0-4620-957c-acb049a64df1",
     "prev": "fb0a318a-a23a-4d41-886a-dd6cea238b53",
     "regions": {
      "4f50cc9d-7580-428e-a900-06d87cdfe71a": {
       "attrs": {
        "height": 0.8,
        "width": 0.8,
        "x": 0.1,
        "y": 0.1
       },
       "content": {
        "cell": "0329e4f2-14b2-4162-9265-b79666a7f713",
        "part": "whole"
       },
       "id": "4f50cc9d-7580-428e-a900-06d87cdfe71a"
      }
     },
     "theme": null
    },
    "30d1a1d6-85e5-4a38-b09c-822be9414bd4": {
     "id": "30d1a1d6-85e5-4a38-b09c-822be9414bd4",
     "prev": "d6db61c1-604e-4121-8c01-f3d22416de15",
     "regions": {
      "2f6d32e5-a952-4294-9cc4-f99945d45603": {
       "attrs": {
        "height": 0.8,
        "width": 0.8,
        "x": 0.1,
        "y": 0.1
       },
       "content": {
        "cell": "382b46f7-25d4-4eaf-b3a9-647de01d8348",
        "part": "whole"
       },
       "id": "2f6d32e5-a952-4294-9cc4-f99945d45603"
      }
     }
    },
    "52a12f95-282a-48f3-ad0c-35b4502ef810": {
     "id": "52a12f95-282a-48f3-ad0c-35b4502ef810",
     "prev": null,
     "regions": {
      "f682cb8c-f3ed-466a-b367-d9ee4b3696af": {
       "attrs": {
        "height": 0.8,
        "width": 0.8,
        "x": 0.1,
        "y": 0.1
       },
       "content": {
        "cell": "43262e84-0cf5-4f65-84c5-9efe58e654cd",
        "part": "whole"
       },
       "id": "f682cb8c-f3ed-466a-b367-d9ee4b3696af"
      }
     }
    },
    "641d5b5a-6aa1-40f6-bd32-585fc0e31382": {
     "id": "641d5b5a-6aa1-40f6-bd32-585fc0e31382",
     "prev": "95e6a885-2625-4579-b8b1-086d1fdb95f2",
     "regions": {
      "e4d018eb-5924-4c4b-9fdb-c8bbb2a9518e": {
       "attrs": {
        "height": 0.8,
        "width": 0.8,
        "x": 0.1,
        "y": 0.1
       },
       "content": {
        "cell": "bddec95f-d01d-45ad-aefb-bf3949f29c57",
        "part": "whole"
       },
       "id": "e4d018eb-5924-4c4b-9fdb-c8bbb2a9518e"
      }
     }
    },
    "8e9695f4-d725-4cf1-a771-dd22895bb5fc": {
     "id": "8e9695f4-d725-4cf1-a771-dd22895bb5fc",
     "prev": "641d5b5a-6aa1-40f6-bd32-585fc0e31382",
     "regions": {
      "dc7c7f91-9001-4633-a354-4f5389771235": {
       "attrs": {
        "height": 0.8,
        "width": 0.8,
        "x": 0.1,
        "y": 0.1
       },
       "content": {
        "cell": "dbdb971a-6087-405a-9c5d-9cd2920fbfd0",
        "part": "whole"
       },
       "id": "dc7c7f91-9001-4633-a354-4f5389771235"
      }
     }
    },
    "95e6a885-2625-4579-b8b1-086d1fdb95f2": {
     "id": "95e6a885-2625-4579-b8b1-086d1fdb95f2",
     "prev": "b5581607-c17f-4f66-96cc-1a2c36dc5ca3",
     "regions": {
      "2612b9d1-8f75-4832-b18d-bc756004d96b": {
       "attrs": {
        "height": 0.8,
        "width": 0.8,
        "x": 0.1,
        "y": 0.1
       },
       "content": {
        "cell": "04113409-bf22-490e-929c-902239ddee2f",
        "part": "whole"
       },
       "id": "2612b9d1-8f75-4832-b18d-bc756004d96b"
      }
     }
    },
    "9ba4c26f-cf11-4b3e-aaa9-14b470d809a4": {
     "id": "9ba4c26f-cf11-4b3e-aaa9-14b470d809a4",
     "prev": "df83e99b-f0c7-4f83-82c2-66db3a61d655",
     "regions": {
      "7705d5e8-c66c-4ac6-9f67-af901d3f062f": {
       "attrs": {
        "height": 0.8,
        "width": 0.8,
        "x": 0.1,
        "y": 0.1
       },
       "content": {
        "cell": "382b46f7-25d4-4eaf-b3a9-647de01d8348",
        "part": "whole"
       },
       "id": "7705d5e8-c66c-4ac6-9f67-af901d3f062f"
      }
     }
    },
    "9d0e3a49-f3d0-418f-b9d7-38e403f65770": {
     "id": "9d0e3a49-f3d0-418f-b9d7-38e403f65770",
     "prev": "0c512947-22b0-4620-957c-acb049a64df1",
     "regions": {
      "7668ddf4-59a7-47d0-88ac-987690baaa79": {
       "attrs": {
        "height": 0.8,
        "width": 0.8,
        "x": 0.1,
        "y": 0.1
       },
       "content": {
        "cell": "70350ee6-6295-4d0e-94c3-58e42c451918",
        "part": "whole"
       },
       "id": "7668ddf4-59a7-47d0-88ac-987690baaa79"
      }
     }
    },
    "b5581607-c17f-4f66-96cc-1a2c36dc5ca3": {
     "id": "b5581607-c17f-4f66-96cc-1a2c36dc5ca3",
     "prev": "9ba4c26f-cf11-4b3e-aaa9-14b470d809a4",
     "regions": {
      "eb078aeb-4c73-42f9-b303-62e78c80f9d1": {
       "attrs": {
        "height": 0.8,
        "width": 0.8,
        "x": 0.1,
        "y": 0.1
       },
       "content": {
        "cell": "de161638-3993-460b-bfe5-5f6e7782b40d",
        "part": "whole"
       },
       "id": "eb078aeb-4c73-42f9-b303-62e78c80f9d1"
      }
     }
    },
    "d6db61c1-604e-4121-8c01-f3d22416de15": {
     "id": "d6db61c1-604e-4121-8c01-f3d22416de15",
     "prev": "9d0e3a49-f3d0-418f-b9d7-38e403f65770",
     "regions": {
      "e233c42f-3857-443b-88d3-a3ca810237e8": {
       "attrs": {
        "height": 0.8,
        "width": 0.8,
        "x": 0.1,
        "y": 0.1
       },
       "content": {
        "cell": "4717121a-ec21-4560-a366-49a411d9a737",
        "part": "whole"
       },
       "id": "e233c42f-3857-443b-88d3-a3ca810237e8"
      }
     }
    },
    "df83e99b-f0c7-4f83-82c2-66db3a61d655": {
     "id": "df83e99b-f0c7-4f83-82c2-66db3a61d655",
     "prev": "30d1a1d6-85e5-4a38-b09c-822be9414bd4",
     "regions": {
      "170d6c07-f7ae-4c44-ac52-9ea5fdae038a": {
       "attrs": {
        "height": 0.8,
        "width": 0.8,
        "x": 0.1,
        "y": 0.1
       },
       "content": {
        "cell": "4717121a-ec21-4560-a366-49a411d9a737",
        "part": "whole"
       },
       "id": "170d6c07-f7ae-4c44-ac52-9ea5fdae038a"
      }
     }
    },
    "fb0a318a-a23a-4d41-886a-dd6cea238b53": {
     "id": "fb0a318a-a23a-4d41-886a-dd6cea238b53",
     "prev": "fda6540a-8662-495f-ba36-808ad292157d",
     "regions": {
      "3d312848-0567-498a-bd11-883ee4b6d357": {
       "attrs": {
        "height": 0.8,
        "width": 0.8,
        "x": 0.1,
        "y": 0.1
       },
       "content": {
        "cell": "03a51aa3-95e0-430b-9f4c-9604e8e01fdf",
        "part": "whole"
       },
       "id": "3d312848-0567-498a-bd11-883ee4b6d357"
      }
     }
    },
    "fda6540a-8662-495f-ba36-808ad292157d": {
     "id": "fda6540a-8662-495f-ba36-808ad292157d",
     "prev": "52a12f95-282a-48f3-ad0c-35b4502ef810",
     "regions": {
      "e7a689ab-12c6-4d3e-9619-e6b4c4fa6d3f": {
       "attrs": {
        "height": 0.8,
        "width": 0.8,
        "x": 0.1,
        "y": 0.1
       },
       "content": {
        "cell": "95a143d6-6f5f-4049-945a-a013649da004",
        "part": "whole"
       },
       "id": "e7a689ab-12c6-4d3e-9619-e6b4c4fa6d3f"
      }
     }
    }
   },
   "themes": {
    "default": "75daa297-5cd3-473b-a166-43f1ac864956",
    "theme": {
     "75daa297-5cd3-473b-a166-43f1ac864956": {
      "id": "75daa297-5cd3-473b-a166-43f1ac864956",
      "palette": {
       "19cc588f-0593-49c9-9f4b-e4d7cc113b1c": {
        "id": "19cc588f-0593-49c9-9f4b-e4d7cc113b1c",
        "rgb": [
         252,
         252,
         252
        ]
       },
       "31af15d2-7e15-44c5-ab5e-e04b16a89eff": {
        "id": "31af15d2-7e15-44c5-ab5e-e04b16a89eff",
        "rgb": [
         68,
         68,
         68
        ]
       },
       "50f92c45-a630-455b-aec3-788680ec7410": {
        "id": "50f92c45-a630-455b-aec3-788680ec7410",
        "rgb": [
         155,
         177,
         192
        ]
       },
       "c5cc3653-2ee1-402a-aba2-7caae1da4f6c": {
        "id": "c5cc3653-2ee1-402a-aba2-7caae1da4f6c",
        "rgb": [
         43,
         126,
         184
        ]
       },
       "efa7f048-9acb-414c-8b04-a26811511a21": {
        "id": "efa7f048-9acb-414c-8b04-a26811511a21",
        "rgb": [
         25.118061674008803,
         73.60176211453744,
         107.4819383259912
        ]
       }
      },
      "rules": {
       "blockquote": {
        "color": "50f92c45-a630-455b-aec3-788680ec7410"
       },
       "code": {
        "font-family": "Anonymous Pro"
       },
       "h1": {
        "color": "c5cc3653-2ee1-402a-aba2-7caae1da4f6c",
        "font-family": "Lato",
        "font-size": 8
       },
       "h2": {
        "color": "c5cc3653-2ee1-402a-aba2-7caae1da4f6c",
        "font-family": "Lato",
        "font-size": 6
       },
       "h3": {
        "color": "50f92c45-a630-455b-aec3-788680ec7410",
        "font-family": "Lato",
        "font-size": 5.5
       },
       "h4": {
        "color": "c5cc3653-2ee1-402a-aba2-7caae1da4f6c",
        "font-family": "Lato",
        "font-size": 5
       },
       "h5": {
        "font-family": "Lato"
       },
       "h6": {
        "font-family": "Lato"
       },
       "h7": {
        "font-family": "Lato"
       },
       "pre": {
        "font-family": "Anonymous Pro",
        "font-size": 4
       }
      },
      "text-base": {
       "font-family": "Merriweather",
       "font-size": 4
      }
     },
     "d307f93a-9047-4d98-889d-39af4e4707a4": {
      "backgrounds": {
       "dc7afa04-bf90-40b1-82a5-726e3cff5267": {
        "background-color": "31af15d2-7e15-44c5-ab5e-e04b16a89eff",
        "id": "dc7afa04-bf90-40b1-82a5-726e3cff5267"
       }
      },
      "id": "d307f93a-9047-4d98-889d-39af4e4707a4",
      "palette": {
       "19cc588f-0593-49c9-9f4b-e4d7cc113b1c": {
        "id": "19cc588f-0593-49c9-9f4b-e4d7cc113b1c",
        "rgb": [
         252,
         252,
         252
        ]
       },
       "31af15d2-7e15-44c5-ab5e-e04b16a89eff": {
        "id": "31af15d2-7e15-44c5-ab5e-e04b16a89eff",
        "rgb": [
         68,
         68,
         68
        ]
       },
       "50f92c45-a630-455b-aec3-788680ec7410": {
        "id": "50f92c45-a630-455b-aec3-788680ec7410",
        "rgb": [
         197,
         226,
         245
        ]
       },
       "c5cc3653-2ee1-402a-aba2-7caae1da4f6c": {
        "id": "c5cc3653-2ee1-402a-aba2-7caae1da4f6c",
        "rgb": [
         43,
         126,
         184
        ]
       },
       "efa7f048-9acb-414c-8b04-a26811511a21": {
        "id": "efa7f048-9acb-414c-8b04-a26811511a21",
        "rgb": [
         25.118061674008803,
         73.60176211453744,
         107.4819383259912
        ]
       }
      },
      "rules": {
       "a": {
        "color": "19cc588f-0593-49c9-9f4b-e4d7cc113b1c"
       },
       "blockquote": {
        "color": "50f92c45-a630-455b-aec3-788680ec7410",
        "font-size": 3
       },
       "code": {
        "font-family": "Anonymous Pro"
       },
       "h1": {
        "color": "19cc588f-0593-49c9-9f4b-e4d7cc113b1c",
        "font-family": "Merriweather",
        "font-size": 8
       },
       "h2": {
        "color": "19cc588f-0593-49c9-9f4b-e4d7cc113b1c",
        "font-family": "Merriweather",
        "font-size": 6
       },
       "h3": {
        "color": "50f92c45-a630-455b-aec3-788680ec7410",
        "font-family": "Lato",
        "font-size": 5.5
       },
       "h4": {
        "color": "c5cc3653-2ee1-402a-aba2-7caae1da4f6c",
        "font-family": "Lato",
        "font-size": 5
       },
       "h5": {
        "font-family": "Lato"
       },
       "h6": {
        "font-family": "Lato"
       },
       "h7": {
        "font-family": "Lato"
       },
       "li": {
        "color": "50f92c45-a630-455b-aec3-788680ec7410",
        "font-size": 3.25
       },
       "pre": {
        "font-family": "Anonymous Pro",
        "font-size": 4
       }
      },
      "text-base": {
       "color": "19cc588f-0593-49c9-9f4b-e4d7cc113b1c",
       "font-family": "Lato",
       "font-size": 4
      }
     }
    }
   }
  }
 },
 "nbformat": 4,
 "nbformat_minor": 2
}

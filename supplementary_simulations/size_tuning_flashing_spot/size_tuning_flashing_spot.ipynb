{
 "cells": [
  {
   "cell_type": "markdown",
   "metadata": {},
   "source": [
    "## Area summation curves with flashing spot stimulus\n",
    "\n",
    "A flashing spot stimulus (duration=500 ms) is used to calculate the area summation curves. We consider the following scenarios:\n",
    "\n",
    "* Inhibitory feedback with different weights (solid lines: $\\Delta^{in}_{RCR}=5 ms$, dashed lines: $\\Delta^{in}_{RCR}=30 ms$ )\n",
    "\n",
    "* Excitatory feedback with different weights (solid lines:  $\\Delta^{ex}_{RCR}=5 ms$, dashed lines:  $\\Delta^{ex}_{RCR}=30 ms$ )\n",
    "\n",
    "* Mixed feedback with different weights (solid lines: delayed inhibition ($\\Delta^{ex}_{RCR}=5 ms, \\Delta^{in}_{RCR}=30 ms$), dashed lines: delayed excitation ($\\Delta^{ex}_{RCR}=30 ms, \\Delta^{in}_{RCR}=5 ms$))\n",
    "\n",
    "\n"
   ]
  },
  {
   "cell_type": "code",
   "execution_count": 1,
   "metadata": {
    "slideshow": {
     "slide_type": "slide"
    }
   },
   "outputs": [],
   "source": [
    "%load_ext autoreload\n",
    "%autoreload 2\n",
    "%matplotlib inline\n",
    "\n",
    "from IPython.display import set_matplotlib_formats\n",
    "set_matplotlib_formats('png', 'pdf')\n",
    "\n",
    "import numpy as np\n",
    "import matplotlib.pyplot as plt\n",
    "import quantities as pq\n",
    "from operator import itemgetter\n",
    "from edog.tools import*\n",
    "from edog.plot import*\n",
    "plt.style.use('seaborn')\n",
    "plt.rcParams.update(edog.plot.params)\n",
    "\n",
    "filename = \"params.yaml\"\n",
    "params = parse_parameters(filename)\n",
    "\n",
    "nt, nr, dt, dr = itemgetter(\"nt\", \"nr\", \"dt\", \"dr\")(params[\"grid\"])\n",
    "stim_delay, duration, patch_diameter = itemgetter(\"delay\", \"duration\", \"patch_diameter\")(params[\"stimulus\"])\n",
    "\n",
    "A_g, a_g, B_g, b_g = itemgetter(\"A\", \"a\", \"B\", \"b\")(params[\"ganglion\"])\n",
    "phase, damping, delay_g = itemgetter(\"phase\", \"damping\", \"delay\")(params[\"ganglion\"])\n",
    "\n",
    "w_rg, A_rg, a_rg = itemgetter(\"w\", \"A\", \"a\")(params[\"relay\"][\"Krg\"])\n",
    "tau_rg, delay_rg = itemgetter(\"tau\", \"delay\")(params[\"relay\"][\"Krg\"])\n",
    "\n",
    "w_rig, A_rig, a_rig = itemgetter(\"w\", \"A\", \"a\")(params[\"relay\"][\"Krig\"])\n",
    "tau_rig, delay_rig = itemgetter(\"tau\", \"delay\")(params[\"relay\"][\"Krig\"])\n",
    "\n",
    "w_rc_ex, A_rc_ex, a_rc_ex = itemgetter(\"w\", \"A\", \"a\")(params[\"relay\"][\"Krc_ex\"])\n",
    "tau_rc_ex, delay_rc_ex = itemgetter(\"tau\", \"delay\")(params[\"relay\"][\"Krc_ex\"])\n",
    "\n",
    "w_rc_in, A_rc_in, a_rc_in = itemgetter(\"w\", \"A\", \"a\")(params[\"relay\"][\"Krc_in\"])\n",
    "tau_rc_in, delay_rc_in = itemgetter(\"tau\", \"delay\")(params[\"relay\"][\"Krc_in\"])\n",
    "\n",
    "w_rc_mix = itemgetter(\"w\")(params[\"relay\"][\"Krc_mix\"])\n",
    "A_rc_mix_in, a_rc_mix_in = itemgetter(\"A\", \"a\")(params[\"relay\"][\"Krc_mix\"][\"Krc_in\"])\n",
    "tau_rc_mix_in = itemgetter(\"tau\")(params[\"relay\"][\"Krc_mix\"][\"Krc_in\"])\n",
    "A_rc_mix_ex, a_rc_mix_ex = itemgetter(\"A\", \"a\")(params[\"relay\"][\"Krc_mix\"][\"Krc_ex\"])\n",
    "tau_rc_mix_ex = itemgetter(\"tau\")(params[\"relay\"][\"Krc_mix\"][\"Krc_ex\"])\n",
    "\n",
    "delayed_in, delayed_ex = itemgetter(\"delayed_in\", \"delayed_ex\")(params[\"relay\"][\"Krc_mix\"])\n",
    "stim_off_index = int(round(duration / dt))\n",
    "\n",
    "size_tuning = {\"fb_ex\": {}, \"fb_in\": {}, \"fb_mix\": {}}"
   ]
  },
  {
   "cell_type": "markdown",
   "metadata": {
    "nbpresent": {
     "id": "4717121a-ec21-4560-a366-49a411d9a737"
    }
   },
   "source": [
    "## Feedback excitation"
   ]
  },
  {
   "cell_type": "code",
   "execution_count": 2,
   "metadata": {
    "nbpresent": {
     "id": "382b46f7-25d4-4eaf-b3a9-647de01d8348"
    }
   },
   "outputs": [
    {
     "name": "stdout",
     "output_type": "stream",
     "text": [
      "temporal delay: 5.0 ms\n",
      "temporal delay: 30.0 ms\n"
     ]
    }
   ],
   "source": [
    "for k, delay in enumerate(delay_rc_ex):\n",
    "    print(\"temporal delay:\", delay)\n",
    "    size_tuning[\"fb_ex\"][k] = {}\n",
    "    tuning_curve = np.zeros([len(w_rc_ex), len(patch_diameter)])\n",
    "    cen_size = np.zeros(len(w_rc_ex))\n",
    "    supp_index = np.zeros(len(w_rc_ex))\n",
    "    \n",
    "    for i, w in enumerate(w_rc_ex):\n",
    "        network = create_spatiotemporal_network(nt=nt, nr=nr, dt=dt, dr=dr,\n",
    "                                                A_g=A_g, a_g=a_g, B_g=B_g, b_g=b_g,\n",
    "                                                phase=phase, damping=damping, delay_g=delay_g,\n",
    "                                                w_rg=w_rg, A_rg=A_rg, a_rg=a_rg,\n",
    "                                                tau_rg=tau_rg, delay_rg=delay_rg,\n",
    "                                                w_rig=w_rig, A_rig=A_rig, a_rig=a_rig,\n",
    "                                                tau_rig=tau_rig, delay_rig=delay_rig,\n",
    "                                                w_rc_ex=w, A_rc_ex=A_rc_ex, a_rc_ex=a_rc_ex,\n",
    "                                                tau_rc_ex=tau_rc_ex, delay_rc_ex=delay)\n",
    "\n",
    "        spatiotemporal_tuning = spatiotemporal_size_tuning_flash(network=network, \n",
    "                                                                 patch_diameter=patch_diameter,\n",
    "                                                                 delay=stim_delay,\n",
    "                                                                 duration=duration)\n",
    "\n",
    "        tuning_curve[i, :] = np.mean(spatiotemporal_tuning[:stim_off_index, :], axis=0)\n",
    "\n",
    "        cen_size[i] = rf_center_size(tuning_curve[i, :], patch_diameter)\n",
    "        supp_index[i] = compute_suppression_index(tuning_curve[i, :])\n",
    "\n",
    "    size_tuning[\"fb_ex\"][k] = {\"tuning_curve\": tuning_curve, \n",
    "                               \"cen_size\": cen_size, \n",
    "                               \"supp_index\": supp_index}"
   ]
  },
  {
   "cell_type": "markdown",
   "metadata": {
    "nbpresent": {
     "id": "4717121a-ec21-4560-a366-49a411d9a737"
    }
   },
   "source": [
    "## Feedback inhibition"
   ]
  },
  {
   "cell_type": "code",
   "execution_count": 3,
   "metadata": {
    "nbpresent": {
     "id": "382b46f7-25d4-4eaf-b3a9-647de01d8348"
    }
   },
   "outputs": [
    {
     "name": "stdout",
     "output_type": "stream",
     "text": [
      "temporal delay: 5.0 ms\n",
      "temporal delay: 30.0 ms\n"
     ]
    }
   ],
   "source": [
    "for k, delay in enumerate(delay_rc_in):\n",
    "    print(\"temporal delay:\", delay)\n",
    "    size_tuning[\"fb_in\"][k] = {}\n",
    "    tuning_curve = np.zeros([len(w_rc_in), len(patch_diameter)])\n",
    "    cen_size = np.zeros(len(w_rc_in))\n",
    "    supp_index = np.zeros(len(w_rc_in))\n",
    "    \n",
    "    for i, w in enumerate(w_rc_in):\n",
    "        network = create_spatiotemporal_network(nt=nt, nr=nr, dt=dt, dr=dr,\n",
    "                                                A_g=A_g, a_g=a_g, B_g=B_g, b_g=b_g,\n",
    "                                                phase=phase, damping=damping, delay_g=delay_g,\n",
    "                                                w_rg=w_rg, A_rg=A_rg, a_rg=a_rg,\n",
    "                                                tau_rg=tau_rg, delay_rg=delay_rg,\n",
    "                                                w_rig=w_rig, A_rig=A_rig, a_rig=a_rig,\n",
    "                                                tau_rig=tau_rig, delay_rig=delay_rig,\n",
    "                                                w_rc_in=w, A_rc_in=A_rc_in, a_rc_in=a_rc_in,\n",
    "                                                tau_rc_in=tau_rc_in, delay_rc_in=delay)\n",
    "\n",
    "        spatiotemporal_tuning = spatiotemporal_size_tuning_flash(network=network, \n",
    "                                                                 patch_diameter=patch_diameter,\n",
    "                                                                 delay=stim_delay,\n",
    "                                                                 duration=duration)\n",
    "\n",
    "        tuning_curve[i, :] = np.mean(spatiotemporal_tuning[:stim_off_index,:], axis=0)\n",
    "\n",
    "        cen_size[i] = rf_center_size(tuning_curve[i, :], patch_diameter)\n",
    "        supp_index[i] = compute_suppression_index(tuning_curve[i, :])\n",
    "\n",
    "    size_tuning[\"fb_in\"][k] = {\"tuning_curve\": tuning_curve, \n",
    "                               \"cen_size\": cen_size, \n",
    "                               \"supp_index\": supp_index}"
   ]
  },
  {
   "cell_type": "markdown",
   "metadata": {},
   "source": [
    "## Mixed excitatory and inhibitory feedback"
   ]
  },
  {
   "cell_type": "code",
   "execution_count": 4,
   "metadata": {
    "nbpresent": {
     "id": "382b46f7-25d4-4eaf-b3a9-647de01d8348"
    }
   },
   "outputs": [
    {
     "name": "stdout",
     "output_type": "stream",
     "text": [
      "temporal delay: {'delay_in': array(30) * ms, 'delay_ex': array(5) * ms}\n",
      "temporal delay: {'delay_in': array(5) * ms, 'delay_ex': array(30) * ms}\n"
     ]
    }
   ],
   "source": [
    "for k, params in enumerate([delayed_in, delayed_ex]):\n",
    "    print(\"temporal delay:\", params)\n",
    "    size_tuning[\"fb_mix\"][k] = {}\n",
    "    tuning_curve = np.zeros([len(w_rc_mix), len(patch_diameter)])\n",
    "    cen_size = np.zeros(len(w_rc_mix))\n",
    "    supp_index = np.zeros(len(w_rc_mix))\n",
    "    \n",
    "    for i, w in enumerate(w_rc_mix):\n",
    "        network = create_spatiotemporal_network(nt=nt, nr=nr, dt=dt, dr=dr,\n",
    "                                                A_g=A_g, a_g=a_g, B_g=B_g, b_g=b_g,\n",
    "                                                phase=phase, damping=damping, delay_g=delay_g,\n",
    "                                                w_rg=w_rg, A_rg=A_rg, a_rg=a_rg,\n",
    "                                                tau_rg=tau_rg, delay_rg=delay_rg,\n",
    "                                                w_rig=w_rig, A_rig=A_rig, a_rig=a_rig,\n",
    "                                                tau_rig=tau_rig, delay_rig=delay_rig,\n",
    "                                                w_rc_ex=w, A_rc_ex=A_rc_mix_ex, a_rc_ex=a_rc_mix_ex,\n",
    "                                                tau_rc_ex=tau_rc_mix_ex, delay_rc_ex=params[\"delay_ex\"],\n",
    "                                                w_rc_in=w, A_rc_in=A_rc_mix_in, a_rc_in=a_rc_mix_in,\n",
    "                                                tau_rc_in=tau_rc_mix_in, delay_rc_in=params[\"delay_in\"])\n",
    "\n",
    "        spatiotemporal_tuning = spatiotemporal_size_tuning_flash(network=network, \n",
    "                                                                 patch_diameter=patch_diameter,\n",
    "                                                                 delay=stim_delay,\n",
    "                                                                 duration=duration)\n",
    "\n",
    "        tuning_curve[i, :] = np.mean(spatiotemporal_tuning[:stim_off_index,:], axis=0)\n",
    "\n",
    "        cen_size[i] = rf_center_size(tuning_curve[i, :], patch_diameter)\n",
    "        supp_index[i] = compute_suppression_index(tuning_curve[i, :])\n",
    "\n",
    "\n",
    "    size_tuning[\"fb_mix\"][k] = {\"tuning_curve\": tuning_curve, \n",
    "                                \"cen_size\": cen_size, \n",
    "                                \"supp_index\": supp_index}"
   ]
  },
  {
   "cell_type": "markdown",
   "metadata": {
    "collapsed": true,
    "nbpresent": {
     "id": "de161638-3993-460b-bfe5-5f6e7782b40d"
    }
   },
   "source": [
    "-------------\n",
    "## Plotting"
   ]
  },
  {
   "cell_type": "code",
   "execution_count": 9,
   "metadata": {
    "scrolled": false
   },
   "outputs": [
    {
     "data": {
      "application/javascript": [
       "/* Put everything inside the global mpl namespace */\n",
       "window.mpl = {};\n",
       "\n",
       "\n",
       "mpl.get_websocket_type = function() {\n",
       "    if (typeof(WebSocket) !== 'undefined') {\n",
       "        return WebSocket;\n",
       "    } else if (typeof(MozWebSocket) !== 'undefined') {\n",
       "        return MozWebSocket;\n",
       "    } else {\n",
       "        alert('Your browser does not have WebSocket support.' +\n",
       "              'Please try Chrome, Safari or Firefox ≥ 6. ' +\n",
       "              'Firefox 4 and 5 are also supported but you ' +\n",
       "              'have to enable WebSockets in about:config.');\n",
       "    };\n",
       "}\n",
       "\n",
       "mpl.figure = function(figure_id, websocket, ondownload, parent_element) {\n",
       "    this.id = figure_id;\n",
       "\n",
       "    this.ws = websocket;\n",
       "\n",
       "    this.supports_binary = (this.ws.binaryType != undefined);\n",
       "\n",
       "    if (!this.supports_binary) {\n",
       "        var warnings = document.getElementById(\"mpl-warnings\");\n",
       "        if (warnings) {\n",
       "            warnings.style.display = 'block';\n",
       "            warnings.textContent = (\n",
       "                \"This browser does not support binary websocket messages. \" +\n",
       "                    \"Performance may be slow.\");\n",
       "        }\n",
       "    }\n",
       "\n",
       "    this.imageObj = new Image();\n",
       "\n",
       "    this.context = undefined;\n",
       "    this.message = undefined;\n",
       "    this.canvas = undefined;\n",
       "    this.rubberband_canvas = undefined;\n",
       "    this.rubberband_context = undefined;\n",
       "    this.format_dropdown = undefined;\n",
       "\n",
       "    this.image_mode = 'full';\n",
       "\n",
       "    this.root = $('<div/>');\n",
       "    this._root_extra_style(this.root)\n",
       "    this.root.attr('style', 'display: inline-block');\n",
       "\n",
       "    $(parent_element).append(this.root);\n",
       "\n",
       "    this._init_header(this);\n",
       "    this._init_canvas(this);\n",
       "    this._init_toolbar(this);\n",
       "\n",
       "    var fig = this;\n",
       "\n",
       "    this.waiting = false;\n",
       "\n",
       "    this.ws.onopen =  function () {\n",
       "            fig.send_message(\"supports_binary\", {value: fig.supports_binary});\n",
       "            fig.send_message(\"send_image_mode\", {});\n",
       "            if (mpl.ratio != 1) {\n",
       "                fig.send_message(\"set_dpi_ratio\", {'dpi_ratio': mpl.ratio});\n",
       "            }\n",
       "            fig.send_message(\"refresh\", {});\n",
       "        }\n",
       "\n",
       "    this.imageObj.onload = function() {\n",
       "            if (fig.image_mode == 'full') {\n",
       "                // Full images could contain transparency (where diff images\n",
       "                // almost always do), so we need to clear the canvas so that\n",
       "                // there is no ghosting.\n",
       "                fig.context.clearRect(0, 0, fig.canvas.width, fig.canvas.height);\n",
       "            }\n",
       "            fig.context.drawImage(fig.imageObj, 0, 0);\n",
       "        };\n",
       "\n",
       "    this.imageObj.onunload = function() {\n",
       "        this.ws.close();\n",
       "    }\n",
       "\n",
       "    this.ws.onmessage = this._make_on_message_function(this);\n",
       "\n",
       "    this.ondownload = ondownload;\n",
       "}\n",
       "\n",
       "mpl.figure.prototype._init_header = function() {\n",
       "    var titlebar = $(\n",
       "        '<div class=\"ui-dialog-titlebar ui-widget-header ui-corner-all ' +\n",
       "        'ui-helper-clearfix\"/>');\n",
       "    var titletext = $(\n",
       "        '<div class=\"ui-dialog-title\" style=\"width: 100%; ' +\n",
       "        'text-align: center; padding: 3px;\"/>');\n",
       "    titlebar.append(titletext)\n",
       "    this.root.append(titlebar);\n",
       "    this.header = titletext[0];\n",
       "}\n",
       "\n",
       "\n",
       "\n",
       "mpl.figure.prototype._canvas_extra_style = function(canvas_div) {\n",
       "\n",
       "}\n",
       "\n",
       "\n",
       "mpl.figure.prototype._root_extra_style = function(canvas_div) {\n",
       "\n",
       "}\n",
       "\n",
       "mpl.figure.prototype._init_canvas = function() {\n",
       "    var fig = this;\n",
       "\n",
       "    var canvas_div = $('<div/>');\n",
       "\n",
       "    canvas_div.attr('style', 'position: relative; clear: both; outline: 0');\n",
       "\n",
       "    function canvas_keyboard_event(event) {\n",
       "        return fig.key_event(event, event['data']);\n",
       "    }\n",
       "\n",
       "    canvas_div.keydown('key_press', canvas_keyboard_event);\n",
       "    canvas_div.keyup('key_release', canvas_keyboard_event);\n",
       "    this.canvas_div = canvas_div\n",
       "    this._canvas_extra_style(canvas_div)\n",
       "    this.root.append(canvas_div);\n",
       "\n",
       "    var canvas = $('<canvas/>');\n",
       "    canvas.addClass('mpl-canvas');\n",
       "    canvas.attr('style', \"left: 0; top: 0; z-index: 0; outline: 0\")\n",
       "\n",
       "    this.canvas = canvas[0];\n",
       "    this.context = canvas[0].getContext(\"2d\");\n",
       "\n",
       "    var backingStore = this.context.backingStorePixelRatio ||\n",
       "\tthis.context.webkitBackingStorePixelRatio ||\n",
       "\tthis.context.mozBackingStorePixelRatio ||\n",
       "\tthis.context.msBackingStorePixelRatio ||\n",
       "\tthis.context.oBackingStorePixelRatio ||\n",
       "\tthis.context.backingStorePixelRatio || 1;\n",
       "\n",
       "    mpl.ratio = (window.devicePixelRatio || 1) / backingStore;\n",
       "\n",
       "    var rubberband = $('<canvas/>');\n",
       "    rubberband.attr('style', \"position: absolute; left: 0; top: 0; z-index: 1;\")\n",
       "\n",
       "    var pass_mouse_events = true;\n",
       "\n",
       "    canvas_div.resizable({\n",
       "        start: function(event, ui) {\n",
       "            pass_mouse_events = false;\n",
       "        },\n",
       "        resize: function(event, ui) {\n",
       "            fig.request_resize(ui.size.width, ui.size.height);\n",
       "        },\n",
       "        stop: function(event, ui) {\n",
       "            pass_mouse_events = true;\n",
       "            fig.request_resize(ui.size.width, ui.size.height);\n",
       "        },\n",
       "    });\n",
       "\n",
       "    function mouse_event_fn(event) {\n",
       "        if (pass_mouse_events)\n",
       "            return fig.mouse_event(event, event['data']);\n",
       "    }\n",
       "\n",
       "    rubberband.mousedown('button_press', mouse_event_fn);\n",
       "    rubberband.mouseup('button_release', mouse_event_fn);\n",
       "    // Throttle sequential mouse events to 1 every 20ms.\n",
       "    rubberband.mousemove('motion_notify', mouse_event_fn);\n",
       "\n",
       "    rubberband.mouseenter('figure_enter', mouse_event_fn);\n",
       "    rubberband.mouseleave('figure_leave', mouse_event_fn);\n",
       "\n",
       "    canvas_div.on(\"wheel\", function (event) {\n",
       "        event = event.originalEvent;\n",
       "        event['data'] = 'scroll'\n",
       "        if (event.deltaY < 0) {\n",
       "            event.step = 1;\n",
       "        } else {\n",
       "            event.step = -1;\n",
       "        }\n",
       "        mouse_event_fn(event);\n",
       "    });\n",
       "\n",
       "    canvas_div.append(canvas);\n",
       "    canvas_div.append(rubberband);\n",
       "\n",
       "    this.rubberband = rubberband;\n",
       "    this.rubberband_canvas = rubberband[0];\n",
       "    this.rubberband_context = rubberband[0].getContext(\"2d\");\n",
       "    this.rubberband_context.strokeStyle = \"#000000\";\n",
       "\n",
       "    this._resize_canvas = function(width, height) {\n",
       "        // Keep the size of the canvas, canvas container, and rubber band\n",
       "        // canvas in synch.\n",
       "        canvas_div.css('width', width)\n",
       "        canvas_div.css('height', height)\n",
       "\n",
       "        canvas.attr('width', width * mpl.ratio);\n",
       "        canvas.attr('height', height * mpl.ratio);\n",
       "        canvas.attr('style', 'width: ' + width + 'px; height: ' + height + 'px;');\n",
       "\n",
       "        rubberband.attr('width', width);\n",
       "        rubberband.attr('height', height);\n",
       "    }\n",
       "\n",
       "    // Set the figure to an initial 600x600px, this will subsequently be updated\n",
       "    // upon first draw.\n",
       "    this._resize_canvas(600, 600);\n",
       "\n",
       "    // Disable right mouse context menu.\n",
       "    $(this.rubberband_canvas).bind(\"contextmenu\",function(e){\n",
       "        return false;\n",
       "    });\n",
       "\n",
       "    function set_focus () {\n",
       "        canvas.focus();\n",
       "        canvas_div.focus();\n",
       "    }\n",
       "\n",
       "    window.setTimeout(set_focus, 100);\n",
       "}\n",
       "\n",
       "mpl.figure.prototype._init_toolbar = function() {\n",
       "    var fig = this;\n",
       "\n",
       "    var nav_element = $('<div/>')\n",
       "    nav_element.attr('style', 'width: 100%');\n",
       "    this.root.append(nav_element);\n",
       "\n",
       "    // Define a callback function for later on.\n",
       "    function toolbar_event(event) {\n",
       "        return fig.toolbar_button_onclick(event['data']);\n",
       "    }\n",
       "    function toolbar_mouse_event(event) {\n",
       "        return fig.toolbar_button_onmouseover(event['data']);\n",
       "    }\n",
       "\n",
       "    for(var toolbar_ind in mpl.toolbar_items) {\n",
       "        var name = mpl.toolbar_items[toolbar_ind][0];\n",
       "        var tooltip = mpl.toolbar_items[toolbar_ind][1];\n",
       "        var image = mpl.toolbar_items[toolbar_ind][2];\n",
       "        var method_name = mpl.toolbar_items[toolbar_ind][3];\n",
       "\n",
       "        if (!name) {\n",
       "            // put a spacer in here.\n",
       "            continue;\n",
       "        }\n",
       "        var button = $('<button/>');\n",
       "        button.addClass('ui-button ui-widget ui-state-default ui-corner-all ' +\n",
       "                        'ui-button-icon-only');\n",
       "        button.attr('role', 'button');\n",
       "        button.attr('aria-disabled', 'false');\n",
       "        button.click(method_name, toolbar_event);\n",
       "        button.mouseover(tooltip, toolbar_mouse_event);\n",
       "\n",
       "        var icon_img = $('<span/>');\n",
       "        icon_img.addClass('ui-button-icon-primary ui-icon');\n",
       "        icon_img.addClass(image);\n",
       "        icon_img.addClass('ui-corner-all');\n",
       "\n",
       "        var tooltip_span = $('<span/>');\n",
       "        tooltip_span.addClass('ui-button-text');\n",
       "        tooltip_span.html(tooltip);\n",
       "\n",
       "        button.append(icon_img);\n",
       "        button.append(tooltip_span);\n",
       "\n",
       "        nav_element.append(button);\n",
       "    }\n",
       "\n",
       "    var fmt_picker_span = $('<span/>');\n",
       "\n",
       "    var fmt_picker = $('<select/>');\n",
       "    fmt_picker.addClass('mpl-toolbar-option ui-widget ui-widget-content');\n",
       "    fmt_picker_span.append(fmt_picker);\n",
       "    nav_element.append(fmt_picker_span);\n",
       "    this.format_dropdown = fmt_picker[0];\n",
       "\n",
       "    for (var ind in mpl.extensions) {\n",
       "        var fmt = mpl.extensions[ind];\n",
       "        var option = $(\n",
       "            '<option/>', {selected: fmt === mpl.default_extension}).html(fmt);\n",
       "        fmt_picker.append(option)\n",
       "    }\n",
       "\n",
       "    // Add hover states to the ui-buttons\n",
       "    $( \".ui-button\" ).hover(\n",
       "        function() { $(this).addClass(\"ui-state-hover\");},\n",
       "        function() { $(this).removeClass(\"ui-state-hover\");}\n",
       "    );\n",
       "\n",
       "    var status_bar = $('<span class=\"mpl-message\"/>');\n",
       "    nav_element.append(status_bar);\n",
       "    this.message = status_bar[0];\n",
       "}\n",
       "\n",
       "mpl.figure.prototype.request_resize = function(x_pixels, y_pixels) {\n",
       "    // Request matplotlib to resize the figure. Matplotlib will then trigger a resize in the client,\n",
       "    // which will in turn request a refresh of the image.\n",
       "    this.send_message('resize', {'width': x_pixels, 'height': y_pixels});\n",
       "}\n",
       "\n",
       "mpl.figure.prototype.send_message = function(type, properties) {\n",
       "    properties['type'] = type;\n",
       "    properties['figure_id'] = this.id;\n",
       "    this.ws.send(JSON.stringify(properties));\n",
       "}\n",
       "\n",
       "mpl.figure.prototype.send_draw_message = function() {\n",
       "    if (!this.waiting) {\n",
       "        this.waiting = true;\n",
       "        this.ws.send(JSON.stringify({type: \"draw\", figure_id: this.id}));\n",
       "    }\n",
       "}\n",
       "\n",
       "\n",
       "mpl.figure.prototype.handle_save = function(fig, msg) {\n",
       "    var format_dropdown = fig.format_dropdown;\n",
       "    var format = format_dropdown.options[format_dropdown.selectedIndex].value;\n",
       "    fig.ondownload(fig, format);\n",
       "}\n",
       "\n",
       "\n",
       "mpl.figure.prototype.handle_resize = function(fig, msg) {\n",
       "    var size = msg['size'];\n",
       "    if (size[0] != fig.canvas.width || size[1] != fig.canvas.height) {\n",
       "        fig._resize_canvas(size[0], size[1]);\n",
       "        fig.send_message(\"refresh\", {});\n",
       "    };\n",
       "}\n",
       "\n",
       "mpl.figure.prototype.handle_rubberband = function(fig, msg) {\n",
       "    var x0 = msg['x0'] / mpl.ratio;\n",
       "    var y0 = (fig.canvas.height - msg['y0']) / mpl.ratio;\n",
       "    var x1 = msg['x1'] / mpl.ratio;\n",
       "    var y1 = (fig.canvas.height - msg['y1']) / mpl.ratio;\n",
       "    x0 = Math.floor(x0) + 0.5;\n",
       "    y0 = Math.floor(y0) + 0.5;\n",
       "    x1 = Math.floor(x1) + 0.5;\n",
       "    y1 = Math.floor(y1) + 0.5;\n",
       "    var min_x = Math.min(x0, x1);\n",
       "    var min_y = Math.min(y0, y1);\n",
       "    var width = Math.abs(x1 - x0);\n",
       "    var height = Math.abs(y1 - y0);\n",
       "\n",
       "    fig.rubberband_context.clearRect(\n",
       "        0, 0, fig.canvas.width, fig.canvas.height);\n",
       "\n",
       "    fig.rubberband_context.strokeRect(min_x, min_y, width, height);\n",
       "}\n",
       "\n",
       "mpl.figure.prototype.handle_figure_label = function(fig, msg) {\n",
       "    // Updates the figure title.\n",
       "    fig.header.textContent = msg['label'];\n",
       "}\n",
       "\n",
       "mpl.figure.prototype.handle_cursor = function(fig, msg) {\n",
       "    var cursor = msg['cursor'];\n",
       "    switch(cursor)\n",
       "    {\n",
       "    case 0:\n",
       "        cursor = 'pointer';\n",
       "        break;\n",
       "    case 1:\n",
       "        cursor = 'default';\n",
       "        break;\n",
       "    case 2:\n",
       "        cursor = 'crosshair';\n",
       "        break;\n",
       "    case 3:\n",
       "        cursor = 'move';\n",
       "        break;\n",
       "    }\n",
       "    fig.rubberband_canvas.style.cursor = cursor;\n",
       "}\n",
       "\n",
       "mpl.figure.prototype.handle_message = function(fig, msg) {\n",
       "    fig.message.textContent = msg['message'];\n",
       "}\n",
       "\n",
       "mpl.figure.prototype.handle_draw = function(fig, msg) {\n",
       "    // Request the server to send over a new figure.\n",
       "    fig.send_draw_message();\n",
       "}\n",
       "\n",
       "mpl.figure.prototype.handle_image_mode = function(fig, msg) {\n",
       "    fig.image_mode = msg['mode'];\n",
       "}\n",
       "\n",
       "mpl.figure.prototype.updated_canvas_event = function() {\n",
       "    // Called whenever the canvas gets updated.\n",
       "    this.send_message(\"ack\", {});\n",
       "}\n",
       "\n",
       "// A function to construct a web socket function for onmessage handling.\n",
       "// Called in the figure constructor.\n",
       "mpl.figure.prototype._make_on_message_function = function(fig) {\n",
       "    return function socket_on_message(evt) {\n",
       "        if (evt.data instanceof Blob) {\n",
       "            /* FIXME: We get \"Resource interpreted as Image but\n",
       "             * transferred with MIME type text/plain:\" errors on\n",
       "             * Chrome.  But how to set the MIME type?  It doesn't seem\n",
       "             * to be part of the websocket stream */\n",
       "            evt.data.type = \"image/png\";\n",
       "\n",
       "            /* Free the memory for the previous frames */\n",
       "            if (fig.imageObj.src) {\n",
       "                (window.URL || window.webkitURL).revokeObjectURL(\n",
       "                    fig.imageObj.src);\n",
       "            }\n",
       "\n",
       "            fig.imageObj.src = (window.URL || window.webkitURL).createObjectURL(\n",
       "                evt.data);\n",
       "            fig.updated_canvas_event();\n",
       "            fig.waiting = false;\n",
       "            return;\n",
       "        }\n",
       "        else if (typeof evt.data === 'string' && evt.data.slice(0, 21) == \"data:image/png;base64\") {\n",
       "            fig.imageObj.src = evt.data;\n",
       "            fig.updated_canvas_event();\n",
       "            fig.waiting = false;\n",
       "            return;\n",
       "        }\n",
       "\n",
       "        var msg = JSON.parse(evt.data);\n",
       "        var msg_type = msg['type'];\n",
       "\n",
       "        // Call the  \"handle_{type}\" callback, which takes\n",
       "        // the figure and JSON message as its only arguments.\n",
       "        try {\n",
       "            var callback = fig[\"handle_\" + msg_type];\n",
       "        } catch (e) {\n",
       "            console.log(\"No handler for the '\" + msg_type + \"' message type: \", msg);\n",
       "            return;\n",
       "        }\n",
       "\n",
       "        if (callback) {\n",
       "            try {\n",
       "                // console.log(\"Handling '\" + msg_type + \"' message: \", msg);\n",
       "                callback(fig, msg);\n",
       "            } catch (e) {\n",
       "                console.log(\"Exception inside the 'handler_\" + msg_type + \"' callback:\", e, e.stack, msg);\n",
       "            }\n",
       "        }\n",
       "    };\n",
       "}\n",
       "\n",
       "// from http://stackoverflow.com/questions/1114465/getting-mouse-location-in-canvas\n",
       "mpl.findpos = function(e) {\n",
       "    //this section is from http://www.quirksmode.org/js/events_properties.html\n",
       "    var targ;\n",
       "    if (!e)\n",
       "        e = window.event;\n",
       "    if (e.target)\n",
       "        targ = e.target;\n",
       "    else if (e.srcElement)\n",
       "        targ = e.srcElement;\n",
       "    if (targ.nodeType == 3) // defeat Safari bug\n",
       "        targ = targ.parentNode;\n",
       "\n",
       "    // jQuery normalizes the pageX and pageY\n",
       "    // pageX,Y are the mouse positions relative to the document\n",
       "    // offset() returns the position of the element relative to the document\n",
       "    var x = e.pageX - $(targ).offset().left;\n",
       "    var y = e.pageY - $(targ).offset().top;\n",
       "\n",
       "    return {\"x\": x, \"y\": y};\n",
       "};\n",
       "\n",
       "/*\n",
       " * return a copy of an object with only non-object keys\n",
       " * we need this to avoid circular references\n",
       " * http://stackoverflow.com/a/24161582/3208463\n",
       " */\n",
       "function simpleKeys (original) {\n",
       "  return Object.keys(original).reduce(function (obj, key) {\n",
       "    if (typeof original[key] !== 'object')\n",
       "        obj[key] = original[key]\n",
       "    return obj;\n",
       "  }, {});\n",
       "}\n",
       "\n",
       "mpl.figure.prototype.mouse_event = function(event, name) {\n",
       "    var canvas_pos = mpl.findpos(event)\n",
       "\n",
       "    if (name === 'button_press')\n",
       "    {\n",
       "        this.canvas.focus();\n",
       "        this.canvas_div.focus();\n",
       "    }\n",
       "\n",
       "    var x = canvas_pos.x * mpl.ratio;\n",
       "    var y = canvas_pos.y * mpl.ratio;\n",
       "\n",
       "    this.send_message(name, {x: x, y: y, button: event.button,\n",
       "                             step: event.step,\n",
       "                             guiEvent: simpleKeys(event)});\n",
       "\n",
       "    /* This prevents the web browser from automatically changing to\n",
       "     * the text insertion cursor when the button is pressed.  We want\n",
       "     * to control all of the cursor setting manually through the\n",
       "     * 'cursor' event from matplotlib */\n",
       "    event.preventDefault();\n",
       "    return false;\n",
       "}\n",
       "\n",
       "mpl.figure.prototype._key_event_extra = function(event, name) {\n",
       "    // Handle any extra behaviour associated with a key event\n",
       "}\n",
       "\n",
       "mpl.figure.prototype.key_event = function(event, name) {\n",
       "\n",
       "    // Prevent repeat events\n",
       "    if (name == 'key_press')\n",
       "    {\n",
       "        if (event.which === this._key)\n",
       "            return;\n",
       "        else\n",
       "            this._key = event.which;\n",
       "    }\n",
       "    if (name == 'key_release')\n",
       "        this._key = null;\n",
       "\n",
       "    var value = '';\n",
       "    if (event.ctrlKey && event.which != 17)\n",
       "        value += \"ctrl+\";\n",
       "    if (event.altKey && event.which != 18)\n",
       "        value += \"alt+\";\n",
       "    if (event.shiftKey && event.which != 16)\n",
       "        value += \"shift+\";\n",
       "\n",
       "    value += 'k';\n",
       "    value += event.which.toString();\n",
       "\n",
       "    this._key_event_extra(event, name);\n",
       "\n",
       "    this.send_message(name, {key: value,\n",
       "                             guiEvent: simpleKeys(event)});\n",
       "    return false;\n",
       "}\n",
       "\n",
       "mpl.figure.prototype.toolbar_button_onclick = function(name) {\n",
       "    if (name == 'download') {\n",
       "        this.handle_save(this, null);\n",
       "    } else {\n",
       "        this.send_message(\"toolbar_button\", {name: name});\n",
       "    }\n",
       "};\n",
       "\n",
       "mpl.figure.prototype.toolbar_button_onmouseover = function(tooltip) {\n",
       "    this.message.textContent = tooltip;\n",
       "};\n",
       "mpl.toolbar_items = [[\"Home\", \"Reset original view\", \"fa fa-home icon-home\", \"home\"], [\"Back\", \"Back to  previous view\", \"fa fa-arrow-left icon-arrow-left\", \"back\"], [\"Forward\", \"Forward to next view\", \"fa fa-arrow-right icon-arrow-right\", \"forward\"], [\"\", \"\", \"\", \"\"], [\"Pan\", \"Pan axes with left mouse, zoom with right\", \"fa fa-arrows icon-move\", \"pan\"], [\"Zoom\", \"Zoom to rectangle\", \"fa fa-square-o icon-check-empty\", \"zoom\"], [\"\", \"\", \"\", \"\"], [\"Download\", \"Download plot\", \"fa fa-floppy-o icon-save\", \"download\"]];\n",
       "\n",
       "mpl.extensions = [\"eps\", \"jpeg\", \"pdf\", \"png\", \"ps\", \"raw\", \"svg\", \"tif\"];\n",
       "\n",
       "mpl.default_extension = \"png\";var comm_websocket_adapter = function(comm) {\n",
       "    // Create a \"websocket\"-like object which calls the given IPython comm\n",
       "    // object with the appropriate methods. Currently this is a non binary\n",
       "    // socket, so there is still some room for performance tuning.\n",
       "    var ws = {};\n",
       "\n",
       "    ws.close = function() {\n",
       "        comm.close()\n",
       "    };\n",
       "    ws.send = function(m) {\n",
       "        //console.log('sending', m);\n",
       "        comm.send(m);\n",
       "    };\n",
       "    // Register the callback with on_msg.\n",
       "    comm.on_msg(function(msg) {\n",
       "        //console.log('receiving', msg['content']['data'], msg);\n",
       "        // Pass the mpl event to the overriden (by mpl) onmessage function.\n",
       "        ws.onmessage(msg['content']['data'])\n",
       "    });\n",
       "    return ws;\n",
       "}\n",
       "\n",
       "mpl.mpl_figure_comm = function(comm, msg) {\n",
       "    // This is the function which gets called when the mpl process\n",
       "    // starts-up an IPython Comm through the \"matplotlib\" channel.\n",
       "\n",
       "    var id = msg.content.data.id;\n",
       "    // Get hold of the div created by the display call when the Comm\n",
       "    // socket was opened in Python.\n",
       "    var element = $(\"#\" + id);\n",
       "    var ws_proxy = comm_websocket_adapter(comm)\n",
       "\n",
       "    function ondownload(figure, format) {\n",
       "        window.open(figure.imageObj.src);\n",
       "    }\n",
       "\n",
       "    var fig = new mpl.figure(id, ws_proxy,\n",
       "                           ondownload,\n",
       "                           element.get(0));\n",
       "\n",
       "    // Call onopen now - mpl needs it, as it is assuming we've passed it a real\n",
       "    // web socket which is closed, not our websocket->open comm proxy.\n",
       "    ws_proxy.onopen();\n",
       "\n",
       "    fig.parent_element = element.get(0);\n",
       "    fig.cell_info = mpl.find_output_cell(\"<div id='\" + id + \"'></div>\");\n",
       "    if (!fig.cell_info) {\n",
       "        console.error(\"Failed to find cell for figure\", id, fig);\n",
       "        return;\n",
       "    }\n",
       "\n",
       "    var output_index = fig.cell_info[2]\n",
       "    var cell = fig.cell_info[0];\n",
       "\n",
       "};\n",
       "\n",
       "mpl.figure.prototype.handle_close = function(fig, msg) {\n",
       "    var width = fig.canvas.width/mpl.ratio\n",
       "    fig.root.unbind('remove')\n",
       "\n",
       "    // Update the output cell to use the data from the current canvas.\n",
       "    fig.push_to_output();\n",
       "    var dataURL = fig.canvas.toDataURL();\n",
       "    // Re-enable the keyboard manager in IPython - without this line, in FF,\n",
       "    // the notebook keyboard shortcuts fail.\n",
       "    IPython.keyboard_manager.enable()\n",
       "    $(fig.parent_element).html('<img src=\"' + dataURL + '\" width=\"' + width + '\">');\n",
       "    fig.close_ws(fig, msg);\n",
       "}\n",
       "\n",
       "mpl.figure.prototype.close_ws = function(fig, msg){\n",
       "    fig.send_message('closing', msg);\n",
       "    // fig.ws.close()\n",
       "}\n",
       "\n",
       "mpl.figure.prototype.push_to_output = function(remove_interactive) {\n",
       "    // Turn the data on the canvas into data in the output cell.\n",
       "    var width = this.canvas.width/mpl.ratio\n",
       "    var dataURL = this.canvas.toDataURL();\n",
       "    this.cell_info[1]['text/html'] = '<img src=\"' + dataURL + '\" width=\"' + width + '\">';\n",
       "}\n",
       "\n",
       "mpl.figure.prototype.updated_canvas_event = function() {\n",
       "    // Tell IPython that the notebook contents must change.\n",
       "    IPython.notebook.set_dirty(true);\n",
       "    this.send_message(\"ack\", {});\n",
       "    var fig = this;\n",
       "    // Wait a second, then push the new image to the DOM so\n",
       "    // that it is saved nicely (might be nice to debounce this).\n",
       "    setTimeout(function () { fig.push_to_output() }, 1000);\n",
       "}\n",
       "\n",
       "mpl.figure.prototype._init_toolbar = function() {\n",
       "    var fig = this;\n",
       "\n",
       "    var nav_element = $('<div/>')\n",
       "    nav_element.attr('style', 'width: 100%');\n",
       "    this.root.append(nav_element);\n",
       "\n",
       "    // Define a callback function for later on.\n",
       "    function toolbar_event(event) {\n",
       "        return fig.toolbar_button_onclick(event['data']);\n",
       "    }\n",
       "    function toolbar_mouse_event(event) {\n",
       "        return fig.toolbar_button_onmouseover(event['data']);\n",
       "    }\n",
       "\n",
       "    for(var toolbar_ind in mpl.toolbar_items){\n",
       "        var name = mpl.toolbar_items[toolbar_ind][0];\n",
       "        var tooltip = mpl.toolbar_items[toolbar_ind][1];\n",
       "        var image = mpl.toolbar_items[toolbar_ind][2];\n",
       "        var method_name = mpl.toolbar_items[toolbar_ind][3];\n",
       "\n",
       "        if (!name) { continue; };\n",
       "\n",
       "        var button = $('<button class=\"btn btn-default\" href=\"#\" title=\"' + name + '\"><i class=\"fa ' + image + ' fa-lg\"></i></button>');\n",
       "        button.click(method_name, toolbar_event);\n",
       "        button.mouseover(tooltip, toolbar_mouse_event);\n",
       "        nav_element.append(button);\n",
       "    }\n",
       "\n",
       "    // Add the status bar.\n",
       "    var status_bar = $('<span class=\"mpl-message\" style=\"text-align:right; float: right;\"/>');\n",
       "    nav_element.append(status_bar);\n",
       "    this.message = status_bar[0];\n",
       "\n",
       "    // Add the close button to the window.\n",
       "    var buttongrp = $('<div class=\"btn-group inline pull-right\"></div>');\n",
       "    var button = $('<button class=\"btn btn-mini btn-primary\" href=\"#\" title=\"Stop Interaction\"><i class=\"fa fa-power-off icon-remove icon-large\"></i></button>');\n",
       "    button.click(function (evt) { fig.handle_close(fig, {}); } );\n",
       "    button.mouseover('Stop Interaction', toolbar_mouse_event);\n",
       "    buttongrp.append(button);\n",
       "    var titlebar = this.root.find($('.ui-dialog-titlebar'));\n",
       "    titlebar.prepend(buttongrp);\n",
       "}\n",
       "\n",
       "mpl.figure.prototype._root_extra_style = function(el){\n",
       "    var fig = this\n",
       "    el.on(\"remove\", function(){\n",
       "\tfig.close_ws(fig, {});\n",
       "    });\n",
       "}\n",
       "\n",
       "mpl.figure.prototype._canvas_extra_style = function(el){\n",
       "    // this is important to make the div 'focusable\n",
       "    el.attr('tabindex', 0)\n",
       "    // reach out to IPython and tell the keyboard manager to turn it's self\n",
       "    // off when our div gets focus\n",
       "\n",
       "    // location in version 3\n",
       "    if (IPython.notebook.keyboard_manager) {\n",
       "        IPython.notebook.keyboard_manager.register_events(el);\n",
       "    }\n",
       "    else {\n",
       "        // location in version 2\n",
       "        IPython.keyboard_manager.register_events(el);\n",
       "    }\n",
       "\n",
       "}\n",
       "\n",
       "mpl.figure.prototype._key_event_extra = function(event, name) {\n",
       "    var manager = IPython.notebook.keyboard_manager;\n",
       "    if (!manager)\n",
       "        manager = IPython.keyboard_manager;\n",
       "\n",
       "    // Check for shift+enter\n",
       "    if (event.shiftKey && event.which == 13) {\n",
       "        this.canvas_div.blur();\n",
       "        // select the cell after this one\n",
       "        var index = IPython.notebook.find_cell_index(this.cell_info[0]);\n",
       "        IPython.notebook.select(index + 1);\n",
       "    }\n",
       "}\n",
       "\n",
       "mpl.figure.prototype.handle_save = function(fig, msg) {\n",
       "    fig.ondownload(fig, null);\n",
       "}\n",
       "\n",
       "\n",
       "mpl.find_output_cell = function(html_output) {\n",
       "    // Return the cell and output element which can be found *uniquely* in the notebook.\n",
       "    // Note - this is a bit hacky, but it is done because the \"notebook_saving.Notebook\"\n",
       "    // IPython event is triggered only after the cells have been serialised, which for\n",
       "    // our purposes (turning an active figure into a static one), is too late.\n",
       "    var cells = IPython.notebook.get_cells();\n",
       "    var ncells = cells.length;\n",
       "    for (var i=0; i<ncells; i++) {\n",
       "        var cell = cells[i];\n",
       "        if (cell.cell_type === 'code'){\n",
       "            for (var j=0; j<cell.output_area.outputs.length; j++) {\n",
       "                var data = cell.output_area.outputs[j];\n",
       "                if (data.data) {\n",
       "                    // IPython >= 3 moved mimebundle to data attribute of output\n",
       "                    data = data.data;\n",
       "                }\n",
       "                if (data['text/html'] == html_output) {\n",
       "                    return [cell, data, j];\n",
       "                }\n",
       "            }\n",
       "        }\n",
       "    }\n",
       "}\n",
       "\n",
       "// Register the function which deals with the matplotlib target/channel.\n",
       "// The kernel may be null if the page has been refreshed.\n",
       "if (IPython.notebook.kernel != null) {\n",
       "    IPython.notebook.kernel.comm_manager.register_target('matplotlib', mpl.mpl_figure_comm);\n",
       "}\n"
      ],
      "text/plain": [
       "<IPython.core.display.Javascript object>"
      ]
     },
     "metadata": {},
     "output_type": "display_data"
    },
    {
     "data": {
      "text/html": [
       "<img src=\"data:image/png;base64,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\" width=\"1000\">"
      ],
      "text/plain": [
       "<IPython.core.display.HTML object>"
      ]
     },
     "metadata": {},
     "output_type": "display_data"
    }
   ],
   "source": [
    "titles = [\"Excitatory feedback\", \n",
    "          \"Inhibitory feedback\", \n",
    "          \"Mixed feedback\"]\n",
    "labels = [r\"$w^\\mathrm{ex}_{\\mathrm{RCR}}$\", \n",
    "          r\"$w^\\mathrm{in}_{\\mathrm{RCR}}$\", \n",
    "          r\"$w^\\mathrm{ex/in}_{\\mathrm{RCR}}$\"]\n",
    "\n",
    "short_labels = [\"ex-fb\", \"in-fb\", \"mix-fb\"]\n",
    "\n",
    "fig, ((ax1, ax2, ax3), (ax4, ax5, ax6)) = plt.subplots(2, 3, figsize=(10, 7.5))\n",
    "\n",
    "# Size tuning curves:\n",
    "for k, linestyle in enumerate([\"-\", \"--\"]):\n",
    "    for ax, w_rc, curves, title, label in zip([ax1, ax2, ax3],\n",
    "                                               [w_rc_ex, w_rc_in, w_rc_mix], \n",
    "                                               [size_tuning[\"fb_ex\"][k][\"tuning_curve\"], \n",
    "                                                size_tuning[\"fb_in\"][k][\"tuning_curve\"], \n",
    "                                                size_tuning[\"fb_mix\"][k][\"tuning_curve\"]],\n",
    "                                               titles, labels):\n",
    "\n",
    "        for w, curve, color in zip(w_rc[:-1], curves[:-1], [\"C0\", \"C1\", \"C2\"]):\n",
    "            if k == 0:\n",
    "                label_=r\"${} \\times $\".format(round(w, 1))+label\n",
    "                lw = 1.2 \n",
    "            else:\n",
    "                label_=\"\"\n",
    "                lw = 2.2\n",
    "            ax.plot(patch_diameter, curve, linestyle, color=color, lw=lw, label=label_)\n",
    "\n",
    "        ax.set_xlim([0, 10])\n",
    "        ax.set_ylim([0, 8])\n",
    "        ax.legend(fontsize=15, handlelength=0.5, labelspacing=0.4, borderpad=0.0)\n",
    "        ax.set_title(title)\n",
    "\n",
    "\n",
    "    ax1.set_ylabel(\"Response\")\n",
    "    ax1.set_xlabel(\"Spot diameter (deg)\")\n",
    "    ax2.set_yticklabels([])\n",
    "    ax3.set_yticklabels([])\n",
    "\n",
    "\n",
    "    if k == 0:\n",
    "        label_= short_labels\n",
    "    else:\n",
    "        label_=[\"\", \"\", \"\"]\n",
    "    \n",
    "    # optimal size\n",
    "    ax5.plot(w_rc_ex, size_tuning[\"fb_ex\"][k][\"cen_size\"], linestyle, color=\"C0\", lw=lw, label=label_[0])\n",
    "    ax5.plot(w_rc_in, size_tuning[\"fb_in\"][k][\"cen_size\"], linestyle, color=\"C1\", lw=lw, label=label_[1])\n",
    "    ax5.plot(w_rc_mix, size_tuning[\"fb_mix\"][k][\"cen_size\"], linestyle, color=\"C2\", lw=lw, label=label_[2])\n",
    "\n",
    "    # suppression index\n",
    "    ax6.plot(w_rc_ex, size_tuning[\"fb_ex\"][k][\"supp_index\"], linestyle, color=\"C0\", lw=lw, label=label_[0])\n",
    "    ax6.plot(w_rc_in, size_tuning[\"fb_in\"][k][\"supp_index\"], linestyle, color=\"C1\", lw=lw, label=label_[1])\n",
    "    ax6.plot(w_rc_mix, size_tuning[\"fb_mix\"][k][\"supp_index\"], linestyle, color=\"C2\", lw=lw, label=label_[2])\n",
    "\n",
    "\n",
    "ax5.legend(fontsize=15, handlelength=0.5, labelspacing=0.4, borderpad=0.0)\n",
    "ax5.set_title(\"Optimal size\", fontsize=18)\n",
    "ax5.set_ylabel(\"Size (deg)\", fontsize=16)\n",
    "ax5.set_xlabel(\"Feedback strength\", fontsize=16)\n",
    "ax5.set_xlim([0, 1.5])\n",
    "\n",
    "ax6.set_title(r\"Suppression index\", fontsize=18)\n",
    "ax6.set_ylabel(r\"$\\boldsymbol{\\alpha_\\mathrm{s\\;(\\%)}}$\", fontsize=18)\n",
    "ax6.set_xlabel(\"Feedback strength\", fontsize=16)\n",
    "ax6.set_xlim([0, 1.5])\n",
    "\n",
    "# illustrative figure\n",
    "curve = size_tuning[\"fb_ex\"][0][\"tuning_curve\"][0,:]\n",
    "norm_curve = (curve - curve.min()) / (curve - curve.min()).max()\n",
    "\n",
    "ax4.plot(patch_diameter, norm_curve)\n",
    "ax4.set_xlim([0, 10])\n",
    "ax4.set_ylabel(\"Normalized response\", fontsize=16)\n",
    "ax4.set_xlabel(\"Patch diameter (deg)\", labelpad=20, fontsize=16)\n",
    "ax4.set_title(\"Size tuning curve\", y=1.05, fontsize=18)\n",
    "\n",
    "ax4.spines['left'].set_position(('data', 0))\n",
    "ax4.spines['right'].set_color('none')\n",
    "ax4.spines['top'].set_color('none')\n",
    "ax4.spines['bottom'].set_position(('data', 0))\n",
    "\n",
    "ax4.xaxis.set_ticks_position('none')\n",
    "ax4.yaxis.set_ticks_position('none')\n",
    "\n",
    "ax4.set_yticks([])\n",
    "ax4.set_xticks([])\n",
    "\n",
    "ax4.grid(False)\n",
    "\n",
    "ax4.set_facecolor(\"w\")\n",
    "ax4.axhline(y=0, color='k', linewidth=1.)\n",
    "ax4.axvline(x=0, color='k', linewidth=1.)\n",
    "\n",
    "\n",
    "max_id = np.where(norm_curve == norm_curve.max())\n",
    "xmax = patch_diameter[max_id].magnitude\n",
    "ymax = norm_curve.max()\n",
    "xsteady = patch_diameter[-20].magnitude\n",
    "ysteady = norm_curve[-20]\n",
    "\n",
    "ax4.plot([0.5, patch_diameter[-20]], [ymax, ymax], color='k', linewidth=1, linestyle=\":\")\n",
    "\n",
    "ax4.annotate(\"Optimal size\", xy=(xmax-1., ymax+ymax*0.05), xycoords='data', xytext=(-1, +1), \n",
    "             textcoords='offset points', fontsize=14)\n",
    "ax4.annotate(\"\", xy=(xmax, 0), xycoords='data', xytext=(xmax, ymax), textcoords='data',\n",
    "             arrowprops={'arrowstyle': '<|-|>', 'linestyle': '-', 'linewidth': 1, 'color': 'k'})\n",
    "\n",
    "ax4.annotate(r\"Suppression, $\\boldsymbol{\\alpha_\\mathrm{s}}$\", xy=(xsteady-0.7, (ymax-ysteady)*1.15), \n",
    "             xycoords='data', xytext=(-1, +1), textcoords='offset points', rotation=90, fontsize=15)\n",
    "ax4.annotate(\"\", xy=(xsteady, ysteady), xycoords='data', xytext=(xsteady, ymax), textcoords='data',\n",
    "             arrowprops={'arrowstyle': '<|-|>', 'linestyle': '-', 'linewidth': 1, 'color': 'k'})\n",
    "\n",
    "fig.tight_layout()"
   ]
  },
  {
   "cell_type": "code",
   "execution_count": null,
   "metadata": {},
   "outputs": [],
   "source": []
  }
 ],
 "metadata": {
  "anaconda-cloud": {},
  "kernelspec": {
   "display_name": "Python 3",
   "language": "python",
   "name": "python3"
  },
  "language_info": {
   "codemirror_mode": {
    "name": "ipython",
    "version": 3
   },
   "file_extension": ".py",
   "mimetype": "text/x-python",
   "name": "python",
   "nbconvert_exporter": "python",
   "pygments_lexer": "ipython3",
   "version": "3.5.4"
  },
  "nbpresent": {
   "slides": {
    "0c512947-22b0-4620-957c-acb049a64df1": {
     "id": "0c512947-22b0-4620-957c-acb049a64df1",
     "prev": "fb0a318a-a23a-4d41-886a-dd6cea238b53",
     "regions": {
      "4f50cc9d-7580-428e-a900-06d87cdfe71a": {
       "attrs": {
        "height": 0.8,
        "width": 0.8,
        "x": 0.1,
        "y": 0.1
       },
       "content": {
        "cell": "0329e4f2-14b2-4162-9265-b79666a7f713",
        "part": "whole"
       },
       "id": "4f50cc9d-7580-428e-a900-06d87cdfe71a"
      }
     },
     "theme": null
    },
    "30d1a1d6-85e5-4a38-b09c-822be9414bd4": {
     "id": "30d1a1d6-85e5-4a38-b09c-822be9414bd4",
     "prev": "d6db61c1-604e-4121-8c01-f3d22416de15",
     "regions": {
      "2f6d32e5-a952-4294-9cc4-f99945d45603": {
       "attrs": {
        "height": 0.8,
        "width": 0.8,
        "x": 0.1,
        "y": 0.1
       },
       "content": {
        "cell": "382b46f7-25d4-4eaf-b3a9-647de01d8348",
        "part": "whole"
       },
       "id": "2f6d32e5-a952-4294-9cc4-f99945d45603"
      }
     }
    },
    "52a12f95-282a-48f3-ad0c-35b4502ef810": {
     "id": "52a12f95-282a-48f3-ad0c-35b4502ef810",
     "prev": null,
     "regions": {
      "f682cb8c-f3ed-466a-b367-d9ee4b3696af": {
       "attrs": {
        "height": 0.8,
        "width": 0.8,
        "x": 0.1,
        "y": 0.1
       },
       "content": {
        "cell": "43262e84-0cf5-4f65-84c5-9efe58e654cd",
        "part": "whole"
       },
       "id": "f682cb8c-f3ed-466a-b367-d9ee4b3696af"
      }
     }
    },
    "641d5b5a-6aa1-40f6-bd32-585fc0e31382": {
     "id": "641d5b5a-6aa1-40f6-bd32-585fc0e31382",
     "prev": "95e6a885-2625-4579-b8b1-086d1fdb95f2",
     "regions": {
      "e4d018eb-5924-4c4b-9fdb-c8bbb2a9518e": {
       "attrs": {
        "height": 0.8,
        "width": 0.8,
        "x": 0.1,
        "y": 0.1
       },
       "content": {
        "cell": "bddec95f-d01d-45ad-aefb-bf3949f29c57",
        "part": "whole"
       },
       "id": "e4d018eb-5924-4c4b-9fdb-c8bbb2a9518e"
      }
     }
    },
    "8e9695f4-d725-4cf1-a771-dd22895bb5fc": {
     "id": "8e9695f4-d725-4cf1-a771-dd22895bb5fc",
     "prev": "641d5b5a-6aa1-40f6-bd32-585fc0e31382",
     "regions": {
      "dc7c7f91-9001-4633-a354-4f5389771235": {
       "attrs": {
        "height": 0.8,
        "width": 0.8,
        "x": 0.1,
        "y": 0.1
       },
       "content": {
        "cell": "dbdb971a-6087-405a-9c5d-9cd2920fbfd0",
        "part": "whole"
       },
       "id": "dc7c7f91-9001-4633-a354-4f5389771235"
      }
     }
    },
    "95e6a885-2625-4579-b8b1-086d1fdb95f2": {
     "id": "95e6a885-2625-4579-b8b1-086d1fdb95f2",
     "prev": "b5581607-c17f-4f66-96cc-1a2c36dc5ca3",
     "regions": {
      "2612b9d1-8f75-4832-b18d-bc756004d96b": {
       "attrs": {
        "height": 0.8,
        "width": 0.8,
        "x": 0.1,
        "y": 0.1
       },
       "content": {
        "cell": "04113409-bf22-490e-929c-902239ddee2f",
        "part": "whole"
       },
       "id": "2612b9d1-8f75-4832-b18d-bc756004d96b"
      }
     }
    },
    "9ba4c26f-cf11-4b3e-aaa9-14b470d809a4": {
     "id": "9ba4c26f-cf11-4b3e-aaa9-14b470d809a4",
     "prev": "df83e99b-f0c7-4f83-82c2-66db3a61d655",
     "regions": {
      "7705d5e8-c66c-4ac6-9f67-af901d3f062f": {
       "attrs": {
        "height": 0.8,
        "width": 0.8,
        "x": 0.1,
        "y": 0.1
       },
       "content": {
        "cell": "382b46f7-25d4-4eaf-b3a9-647de01d8348",
        "part": "whole"
       },
       "id": "7705d5e8-c66c-4ac6-9f67-af901d3f062f"
      }
     }
    },
    "9d0e3a49-f3d0-418f-b9d7-38e403f65770": {
     "id": "9d0e3a49-f3d0-418f-b9d7-38e403f65770",
     "prev": "0c512947-22b0-4620-957c-acb049a64df1",
     "regions": {
      "7668ddf4-59a7-47d0-88ac-987690baaa79": {
       "attrs": {
        "height": 0.8,
        "width": 0.8,
        "x": 0.1,
        "y": 0.1
       },
       "content": {
        "cell": "70350ee6-6295-4d0e-94c3-58e42c451918",
        "part": "whole"
       },
       "id": "7668ddf4-59a7-47d0-88ac-987690baaa79"
      }
     }
    },
    "b5581607-c17f-4f66-96cc-1a2c36dc5ca3": {
     "id": "b5581607-c17f-4f66-96cc-1a2c36dc5ca3",
     "prev": "9ba4c26f-cf11-4b3e-aaa9-14b470d809a4",
     "regions": {
      "eb078aeb-4c73-42f9-b303-62e78c80f9d1": {
       "attrs": {
        "height": 0.8,
        "width": 0.8,
        "x": 0.1,
        "y": 0.1
       },
       "content": {
        "cell": "de161638-3993-460b-bfe5-5f6e7782b40d",
        "part": "whole"
       },
       "id": "eb078aeb-4c73-42f9-b303-62e78c80f9d1"
      }
     }
    },
    "d6db61c1-604e-4121-8c01-f3d22416de15": {
     "id": "d6db61c1-604e-4121-8c01-f3d22416de15",
     "prev": "9d0e3a49-f3d0-418f-b9d7-38e403f65770",
     "regions": {
      "e233c42f-3857-443b-88d3-a3ca810237e8": {
       "attrs": {
        "height": 0.8,
        "width": 0.8,
        "x": 0.1,
        "y": 0.1
       },
       "content": {
        "cell": "4717121a-ec21-4560-a366-49a411d9a737",
        "part": "whole"
       },
       "id": "e233c42f-3857-443b-88d3-a3ca810237e8"
      }
     }
    },
    "df83e99b-f0c7-4f83-82c2-66db3a61d655": {
     "id": "df83e99b-f0c7-4f83-82c2-66db3a61d655",
     "prev": "30d1a1d6-85e5-4a38-b09c-822be9414bd4",
     "regions": {
      "170d6c07-f7ae-4c44-ac52-9ea5fdae038a": {
       "attrs": {
        "height": 0.8,
        "width": 0.8,
        "x": 0.1,
        "y": 0.1
       },
       "content": {
        "cell": "4717121a-ec21-4560-a366-49a411d9a737",
        "part": "whole"
       },
       "id": "170d6c07-f7ae-4c44-ac52-9ea5fdae038a"
      }
     }
    },
    "fb0a318a-a23a-4d41-886a-dd6cea238b53": {
     "id": "fb0a318a-a23a-4d41-886a-dd6cea238b53",
     "prev": "fda6540a-8662-495f-ba36-808ad292157d",
     "regions": {
      "3d312848-0567-498a-bd11-883ee4b6d357": {
       "attrs": {
        "height": 0.8,
        "width": 0.8,
        "x": 0.1,
        "y": 0.1
       },
       "content": {
        "cell": "03a51aa3-95e0-430b-9f4c-9604e8e01fdf",
        "part": "whole"
       },
       "id": "3d312848-0567-498a-bd11-883ee4b6d357"
      }
     }
    },
    "fda6540a-8662-495f-ba36-808ad292157d": {
     "id": "fda6540a-8662-495f-ba36-808ad292157d",
     "prev": "52a12f95-282a-48f3-ad0c-35b4502ef810",
     "regions": {
      "e7a689ab-12c6-4d3e-9619-e6b4c4fa6d3f": {
       "attrs": {
        "height": 0.8,
        "width": 0.8,
        "x": 0.1,
        "y": 0.1
       },
       "content": {
        "cell": "95a143d6-6f5f-4049-945a-a013649da004",
        "part": "whole"
       },
       "id": "e7a689ab-12c6-4d3e-9619-e6b4c4fa6d3f"
      }
     }
    }
   },
   "themes": {
    "default": "75daa297-5cd3-473b-a166-43f1ac864956",
    "theme": {
     "75daa297-5cd3-473b-a166-43f1ac864956": {
      "id": "75daa297-5cd3-473b-a166-43f1ac864956",
      "palette": {
       "19cc588f-0593-49c9-9f4b-e4d7cc113b1c": {
        "id": "19cc588f-0593-49c9-9f4b-e4d7cc113b1c",
        "rgb": [
         252,
         252,
         252
        ]
       },
       "31af15d2-7e15-44c5-ab5e-e04b16a89eff": {
        "id": "31af15d2-7e15-44c5-ab5e-e04b16a89eff",
        "rgb": [
         68,
         68,
         68
        ]
       },
       "50f92c45-a630-455b-aec3-788680ec7410": {
        "id": "50f92c45-a630-455b-aec3-788680ec7410",
        "rgb": [
         155,
         177,
         192
        ]
       },
       "c5cc3653-2ee1-402a-aba2-7caae1da4f6c": {
        "id": "c5cc3653-2ee1-402a-aba2-7caae1da4f6c",
        "rgb": [
         43,
         126,
         184
        ]
       },
       "efa7f048-9acb-414c-8b04-a26811511a21": {
        "id": "efa7f048-9acb-414c-8b04-a26811511a21",
        "rgb": [
         25.118061674008803,
         73.60176211453744,
         107.4819383259912
        ]
       }
      },
      "rules": {
       "blockquote": {
        "color": "50f92c45-a630-455b-aec3-788680ec7410"
       },
       "code": {
        "font-family": "Anonymous Pro"
       },
       "h1": {
        "color": "c5cc3653-2ee1-402a-aba2-7caae1da4f6c",
        "font-family": "Lato",
        "font-size": 8
       },
       "h2": {
        "color": "c5cc3653-2ee1-402a-aba2-7caae1da4f6c",
        "font-family": "Lato",
        "font-size": 6
       },
       "h3": {
        "color": "50f92c45-a630-455b-aec3-788680ec7410",
        "font-family": "Lato",
        "font-size": 5.5
       },
       "h4": {
        "color": "c5cc3653-2ee1-402a-aba2-7caae1da4f6c",
        "font-family": "Lato",
        "font-size": 5
       },
       "h5": {
        "font-family": "Lato"
       },
       "h6": {
        "font-family": "Lato"
       },
       "h7": {
        "font-family": "Lato"
       },
       "pre": {
        "font-family": "Anonymous Pro",
        "font-size": 4
       }
      },
      "text-base": {
       "font-family": "Merriweather",
       "font-size": 4
      }
     },
     "d307f93a-9047-4d98-889d-39af4e4707a4": {
      "backgrounds": {
       "dc7afa04-bf90-40b1-82a5-726e3cff5267": {
        "background-color": "31af15d2-7e15-44c5-ab5e-e04b16a89eff",
        "id": "dc7afa04-bf90-40b1-82a5-726e3cff5267"
       }
      },
      "id": "d307f93a-9047-4d98-889d-39af4e4707a4",
      "palette": {
       "19cc588f-0593-49c9-9f4b-e4d7cc113b1c": {
        "id": "19cc588f-0593-49c9-9f4b-e4d7cc113b1c",
        "rgb": [
         252,
         252,
         252
        ]
       },
       "31af15d2-7e15-44c5-ab5e-e04b16a89eff": {
        "id": "31af15d2-7e15-44c5-ab5e-e04b16a89eff",
        "rgb": [
         68,
         68,
         68
        ]
       },
       "50f92c45-a630-455b-aec3-788680ec7410": {
        "id": "50f92c45-a630-455b-aec3-788680ec7410",
        "rgb": [
         197,
         226,
         245
        ]
       },
       "c5cc3653-2ee1-402a-aba2-7caae1da4f6c": {
        "id": "c5cc3653-2ee1-402a-aba2-7caae1da4f6c",
        "rgb": [
         43,
         126,
         184
        ]
       },
       "efa7f048-9acb-414c-8b04-a26811511a21": {
        "id": "efa7f048-9acb-414c-8b04-a26811511a21",
        "rgb": [
         25.118061674008803,
         73.60176211453744,
         107.4819383259912
        ]
       }
      },
      "rules": {
       "a": {
        "color": "19cc588f-0593-49c9-9f4b-e4d7cc113b1c"
       },
       "blockquote": {
        "color": "50f92c45-a630-455b-aec3-788680ec7410",
        "font-size": 3
       },
       "code": {
        "font-family": "Anonymous Pro"
       },
       "h1": {
        "color": "19cc588f-0593-49c9-9f4b-e4d7cc113b1c",
        "font-family": "Merriweather",
        "font-size": 8
       },
       "h2": {
        "color": "19cc588f-0593-49c9-9f4b-e4d7cc113b1c",
        "font-family": "Merriweather",
        "font-size": 6
       },
       "h3": {
        "color": "50f92c45-a630-455b-aec3-788680ec7410",
        "font-family": "Lato",
        "font-size": 5.5
       },
       "h4": {
        "color": "c5cc3653-2ee1-402a-aba2-7caae1da4f6c",
        "font-family": "Lato",
        "font-size": 5
       },
       "h5": {
        "font-family": "Lato"
       },
       "h6": {
        "font-family": "Lato"
       },
       "h7": {
        "font-family": "Lato"
       },
       "li": {
        "color": "50f92c45-a630-455b-aec3-788680ec7410",
        "font-size": 3.25
       },
       "pre": {
        "font-family": "Anonymous Pro",
        "font-size": 4
       }
      },
      "text-base": {
       "color": "19cc588f-0593-49c9-9f4b-e4d7cc113b1c",
       "font-family": "Lato",
       "font-size": 4
      }
     }
    }
   }
  }
 },
 "nbformat": 4,
 "nbformat_minor": 2
}

{
 "cells": [
  {
   "cell_type": "markdown",
   "metadata": {},
   "source": [
    "## Area summation curves with flashing spot stimulus\n",
    "\n",
    "A flashing spot stimulus (duration=500 ms) is used to calculate the area summation curves. We consider the following scenarios:\n",
    "\n",
    "* Inhibitory feedback with different weights (solid lines: $\\Delta^{in}_{RCR}=5 ms$, dashed lines: $\\Delta^{in}_{RCR}=30 ms$ )\n",
    "\n",
    "* Excitatory feedback with different weights (solid lines:  $\\Delta^{ex}_{RCR}=5 ms$, dashed lines:  $\\Delta^{ex}_{RCR}=30 ms$ )\n",
    "\n",
    "* Mixed feedback with different weights (solid lines: delayed inhibition ($\\Delta^{ex}_{RCR}=5 ms, \\Delta^{in}_{RCR}=30 ms$), dashed lines: delayed excitation ($\\Delta^{ex}_{RCR}=30 ms, \\Delta^{in}_{RCR}=5 ms$))\n",
    "\n",
    "\n"
   ]
  },
  {
   "cell_type": "code",
   "execution_count": 2,
   "metadata": {
    "slideshow": {
     "slide_type": "slide"
    }
   },
   "outputs": [],
   "source": [
    "%load_ext autoreload\n",
    "%autoreload 2\n",
    "%matplotlib notebook\n",
    "\n",
    "from IPython.display import set_matplotlib_formats\n",
    "set_matplotlib_formats('png', 'pdf')\n",
    "\n",
    "import numpy as np\n",
    "import matplotlib.pyplot as plt\n",
    "import quantities as pq\n",
    "from operator import itemgetter\n",
    "from edog.tools import*\n",
    "from edog.plot import*\n",
    "plt.style.use('seaborn')\n",
    "plt.rcParams.update(edog.plot.params)\n",
    "\n",
    "filename = \"params.yaml\"\n",
    "params = parse_parameters(filename)\n",
    "\n",
    "nt, nr, dt, dr = itemgetter(\"nt\", \"nr\", \"dt\", \"dr\")(params[\"grid\"])\n",
    "stim_delay, duration, patch_diameter = itemgetter(\"delay\", \"duration\", \"patch_diameter\")(params[\"stimulus\"])\n",
    "\n",
    "A_g, a_g, B_g, b_g = itemgetter(\"A\", \"a\", \"B\", \"b\")(params[\"ganglion\"])\n",
    "phase, damping, delay_g = itemgetter(\"phase\", \"damping\", \"delay\")(params[\"ganglion\"])\n",
    "\n",
    "w_rg, A_rg, a_rg = itemgetter(\"w\", \"A\", \"a\")(params[\"relay\"][\"Krg\"])\n",
    "tau_rg, delay_rg = itemgetter(\"tau\", \"delay\")(params[\"relay\"][\"Krg\"])\n",
    "\n",
    "w_rig, A_rig, a_rig = itemgetter(\"w\", \"A\", \"a\")(params[\"relay\"][\"Krig\"])\n",
    "tau_rig, delay_rig = itemgetter(\"tau\", \"delay\")(params[\"relay\"][\"Krig\"])\n",
    "\n",
    "w_rc_ex, A_rc_ex, a_rc_ex = itemgetter(\"w\", \"A\", \"a\")(params[\"relay\"][\"Krc_ex\"])\n",
    "tau_rc_ex, delay_rc_ex = itemgetter(\"tau\", \"delay\")(params[\"relay\"][\"Krc_ex\"])\n",
    "\n",
    "w_rc_in, A_rc_in, a_rc_in = itemgetter(\"w\", \"A\", \"a\")(params[\"relay\"][\"Krc_in\"])\n",
    "tau_rc_in, delay_rc_in = itemgetter(\"tau\", \"delay\")(params[\"relay\"][\"Krc_in\"])\n",
    "\n",
    "w_rc_mix = itemgetter(\"w\")(params[\"relay\"][\"Krc_mix\"])\n",
    "A_rc_mix_in, a_rc_mix_in = itemgetter(\"A\", \"a\")(params[\"relay\"][\"Krc_mix\"][\"Krc_in\"])\n",
    "tau_rc_mix_in = itemgetter(\"tau\")(params[\"relay\"][\"Krc_mix\"][\"Krc_in\"])\n",
    "A_rc_mix_ex, a_rc_mix_ex = itemgetter(\"A\", \"a\")(params[\"relay\"][\"Krc_mix\"][\"Krc_ex\"])\n",
    "tau_rc_mix_ex = itemgetter(\"tau\")(params[\"relay\"][\"Krc_mix\"][\"Krc_ex\"])\n",
    "\n",
    "delayed_in, delayed_ex = itemgetter(\"delayed_in\", \"delayed_ex\")(params[\"relay\"][\"Krc_mix\"])\n",
    "stim_off_index = int(round(duration / dt))\n",
    "\n",
    "size_tuning = {\"fb_ex\": {}, \"fb_in\": {}, \"fb_mix\": {}}"
   ]
  },
  {
   "cell_type": "markdown",
   "metadata": {
    "nbpresent": {
     "id": "4717121a-ec21-4560-a366-49a411d9a737"
    }
   },
   "source": [
    "## Feedback excitation"
   ]
  },
  {
   "cell_type": "code",
   "execution_count": 3,
   "metadata": {
    "nbpresent": {
     "id": "382b46f7-25d4-4eaf-b3a9-647de01d8348"
    }
   },
   "outputs": [
    {
     "name": "stdout",
     "output_type": "stream",
     "text": [
      "temporal delay: 5.0 ms\n",
      "temporal delay: 30.0 ms\n"
     ]
    }
   ],
   "source": [
    "for k, delay in enumerate(delay_rc_ex):\n",
    "    print(\"temporal delay:\", delay)\n",
    "    size_tuning[\"fb_ex\"][k] = {}\n",
    "    tuning_curve = np.zeros([len(w_rc_ex), len(patch_diameter)])\n",
    "    cen_size = np.zeros(len(w_rc_ex))\n",
    "    supp_index = np.zeros(len(w_rc_ex))\n",
    "    \n",
    "    for i, w in enumerate(w_rc_ex):\n",
    "        network = create_spatiotemporal_network(nt=nt, nr=nr, dt=dt, dr=dr,\n",
    "                                                A_g=A_g, a_g=a_g, B_g=B_g, b_g=b_g,\n",
    "                                                phase=phase, damping=damping, delay_g=delay_g,\n",
    "                                                w_rg=w_rg, A_rg=A_rg, a_rg=a_rg,\n",
    "                                                tau_rg=tau_rg, delay_rg=delay_rg,\n",
    "                                                w_rig=w_rig, A_rig=A_rig, a_rig=a_rig,\n",
    "                                                tau_rig=tau_rig, delay_rig=delay_rig,\n",
    "                                                w_rc_ex=w, A_rc_ex=A_rc_ex, a_rc_ex=a_rc_ex,\n",
    "                                                tau_rc_ex=tau_rc_ex, delay_rc_ex=delay)\n",
    "\n",
    "        spatiotemporal_tuning = spatiotemporal_size_tuning_flash(network=network, \n",
    "                                                                 patch_diameter=patch_diameter,\n",
    "                                                                 delay=stim_delay,\n",
    "                                                                 duration=duration)\n",
    "\n",
    "        tuning_curve[i, :] = np.mean(spatiotemporal_tuning[:stim_off_index, :], axis=0)\n",
    "\n",
    "        cen_size[i] = rf_center_size(tuning_curve[i, :], patch_diameter)\n",
    "        supp_index[i] = compute_suppression_index(tuning_curve[i, :])\n",
    "\n",
    "    size_tuning[\"fb_ex\"][k] = {\"tuning_curve\": tuning_curve, \n",
    "                               \"cen_size\": cen_size, \n",
    "                               \"supp_index\": supp_index}"
   ]
  },
  {
   "cell_type": "markdown",
   "metadata": {
    "nbpresent": {
     "id": "4717121a-ec21-4560-a366-49a411d9a737"
    }
   },
   "source": [
    "## Feedback inhibition"
   ]
  },
  {
   "cell_type": "code",
   "execution_count": 4,
   "metadata": {
    "nbpresent": {
     "id": "382b46f7-25d4-4eaf-b3a9-647de01d8348"
    }
   },
   "outputs": [
    {
     "name": "stdout",
     "output_type": "stream",
     "text": [
      "temporal delay: 5.0 ms\n",
      "temporal delay: 30.0 ms\n"
     ]
    }
   ],
   "source": [
    "for k, delay in enumerate(delay_rc_in):\n",
    "    print(\"temporal delay:\", delay)\n",
    "    size_tuning[\"fb_in\"][k] = {}\n",
    "    tuning_curve = np.zeros([len(w_rc_in), len(patch_diameter)])\n",
    "    cen_size = np.zeros(len(w_rc_in))\n",
    "    supp_index = np.zeros(len(w_rc_in))\n",
    "    \n",
    "    for i, w in enumerate(w_rc_in):\n",
    "        network = create_spatiotemporal_network(nt=nt, nr=nr, dt=dt, dr=dr,\n",
    "                                                A_g=A_g, a_g=a_g, B_g=B_g, b_g=b_g,\n",
    "                                                phase=phase, damping=damping, delay_g=delay_g,\n",
    "                                                w_rg=w_rg, A_rg=A_rg, a_rg=a_rg,\n",
    "                                                tau_rg=tau_rg, delay_rg=delay_rg,\n",
    "                                                w_rig=w_rig, A_rig=A_rig, a_rig=a_rig,\n",
    "                                                tau_rig=tau_rig, delay_rig=delay_rig,\n",
    "                                                w_rc_in=w, A_rc_in=A_rc_in, a_rc_in=a_rc_in,\n",
    "                                                tau_rc_in=tau_rc_in, delay_rc_in=delay)\n",
    "\n",
    "        spatiotemporal_tuning = spatiotemporal_size_tuning_flash(network=network, \n",
    "                                                                 patch_diameter=patch_diameter,\n",
    "                                                                 delay=stim_delay,\n",
    "                                                                 duration=duration)\n",
    "\n",
    "        tuning_curve[i, :] = np.mean(spatiotemporal_tuning[:stim_off_index,:], axis=0)\n",
    "\n",
    "        cen_size[i] = rf_center_size(tuning_curve[i, :], patch_diameter)\n",
    "        supp_index[i] = compute_suppression_index(tuning_curve[i, :])\n",
    "\n",
    "    size_tuning[\"fb_in\"][k] = {\"tuning_curve\": tuning_curve, \n",
    "                               \"cen_size\": cen_size, \n",
    "                               \"supp_index\": supp_index}"
   ]
  },
  {
   "cell_type": "markdown",
   "metadata": {},
   "source": [
    "## Mixed excitatory and inhibitory feedback"
   ]
  },
  {
   "cell_type": "code",
   "execution_count": 5,
   "metadata": {
    "nbpresent": {
     "id": "382b46f7-25d4-4eaf-b3a9-647de01d8348"
    }
   },
   "outputs": [
    {
     "name": "stdout",
     "output_type": "stream",
     "text": [
      "temporal delay: {'delay_ex': array(5) * ms, 'delay_in': array(30) * ms}\n",
      "temporal delay: {'delay_ex': array(30) * ms, 'delay_in': array(5) * ms}\n"
     ]
    }
   ],
   "source": [
    "for k, params in enumerate([delayed_in, delayed_ex]):\n",
    "    print(\"temporal delay:\", params)\n",
    "    size_tuning[\"fb_mix\"][k] = {}\n",
    "    tuning_curve = np.zeros([len(w_rc_mix), len(patch_diameter)])\n",
    "    cen_size = np.zeros(len(w_rc_mix))\n",
    "    supp_index = np.zeros(len(w_rc_mix))\n",
    "    \n",
    "    for i, w in enumerate(w_rc_mix):\n",
    "        network = create_spatiotemporal_network(nt=nt, nr=nr, dt=dt, dr=dr,\n",
    "                                                A_g=A_g, a_g=a_g, B_g=B_g, b_g=b_g,\n",
    "                                                phase=phase, damping=damping, delay_g=delay_g,\n",
    "                                                w_rg=w_rg, A_rg=A_rg, a_rg=a_rg,\n",
    "                                                tau_rg=tau_rg, delay_rg=delay_rg,\n",
    "                                                w_rig=w_rig, A_rig=A_rig, a_rig=a_rig,\n",
    "                                                tau_rig=tau_rig, delay_rig=delay_rig,\n",
    "                                                w_rc_ex=w, A_rc_ex=A_rc_mix_ex, a_rc_ex=a_rc_mix_ex,\n",
    "                                                tau_rc_ex=tau_rc_mix_ex, delay_rc_ex=params[\"delay_ex\"],\n",
    "                                                w_rc_in=w, A_rc_in=A_rc_mix_in, a_rc_in=a_rc_mix_in,\n",
    "                                                tau_rc_in=tau_rc_mix_in, delay_rc_in=params[\"delay_in\"])\n",
    "\n",
    "        spatiotemporal_tuning = spatiotemporal_size_tuning_flash(network=network, \n",
    "                                                                 patch_diameter=patch_diameter,\n",
    "                                                                 delay=stim_delay,\n",
    "                                                                 duration=duration)\n",
    "\n",
    "        tuning_curve[i, :] = np.mean(spatiotemporal_tuning[:stim_off_index,:], axis=0)\n",
    "\n",
    "        cen_size[i] = rf_center_size(tuning_curve[i, :], patch_diameter)\n",
    "        supp_index[i] = compute_suppression_index(tuning_curve[i, :])\n",
    "\n",
    "\n",
    "    size_tuning[\"fb_mix\"][k] = {\"tuning_curve\": tuning_curve, \n",
    "                                \"cen_size\": cen_size, \n",
    "                                \"supp_index\": supp_index}"
   ]
  },
  {
   "cell_type": "markdown",
   "metadata": {
    "collapsed": true,
    "nbpresent": {
     "id": "de161638-3993-460b-bfe5-5f6e7782b40d"
    }
   },
   "source": [
    "-------------\n",
    "## Plotting"
   ]
  },
  {
   "cell_type": "code",
   "execution_count": 52,
   "metadata": {
    "scrolled": false
   },
   "outputs": [
    {
     "data": {
      "application/javascript": [
       "/* Put everything inside the global mpl namespace */\n",
       "window.mpl = {};\n",
       "\n",
       "\n",
       "mpl.get_websocket_type = function() {\n",
       "    if (typeof(WebSocket) !== 'undefined') {\n",
       "        return WebSocket;\n",
       "    } else if (typeof(MozWebSocket) !== 'undefined') {\n",
       "        return MozWebSocket;\n",
       "    } else {\n",
       "        alert('Your browser does not have WebSocket support.' +\n",
       "              'Please try Chrome, Safari or Firefox ≥ 6. ' +\n",
       "              'Firefox 4 and 5 are also supported but you ' +\n",
       "              'have to enable WebSockets in about:config.');\n",
       "    };\n",
       "}\n",
       "\n",
       "mpl.figure = function(figure_id, websocket, ondownload, parent_element) {\n",
       "    this.id = figure_id;\n",
       "\n",
       "    this.ws = websocket;\n",
       "\n",
       "    this.supports_binary = (this.ws.binaryType != undefined);\n",
       "\n",
       "    if (!this.supports_binary) {\n",
       "        var warnings = document.getElementById(\"mpl-warnings\");\n",
       "        if (warnings) {\n",
       "            warnings.style.display = 'block';\n",
       "            warnings.textContent = (\n",
       "                \"This browser does not support binary websocket messages. \" +\n",
       "                    \"Performance may be slow.\");\n",
       "        }\n",
       "    }\n",
       "\n",
       "    this.imageObj = new Image();\n",
       "\n",
       "    this.context = undefined;\n",
       "    this.message = undefined;\n",
       "    this.canvas = undefined;\n",
       "    this.rubberband_canvas = undefined;\n",
       "    this.rubberband_context = undefined;\n",
       "    this.format_dropdown = undefined;\n",
       "\n",
       "    this.image_mode = 'full';\n",
       "\n",
       "    this.root = $('<div/>');\n",
       "    this._root_extra_style(this.root)\n",
       "    this.root.attr('style', 'display: inline-block');\n",
       "\n",
       "    $(parent_element).append(this.root);\n",
       "\n",
       "    this._init_header(this);\n",
       "    this._init_canvas(this);\n",
       "    this._init_toolbar(this);\n",
       "\n",
       "    var fig = this;\n",
       "\n",
       "    this.waiting = false;\n",
       "\n",
       "    this.ws.onopen =  function () {\n",
       "            fig.send_message(\"supports_binary\", {value: fig.supports_binary});\n",
       "            fig.send_message(\"send_image_mode\", {});\n",
       "            if (mpl.ratio != 1) {\n",
       "                fig.send_message(\"set_dpi_ratio\", {'dpi_ratio': mpl.ratio});\n",
       "            }\n",
       "            fig.send_message(\"refresh\", {});\n",
       "        }\n",
       "\n",
       "    this.imageObj.onload = function() {\n",
       "            if (fig.image_mode == 'full') {\n",
       "                // Full images could contain transparency (where diff images\n",
       "                // almost always do), so we need to clear the canvas so that\n",
       "                // there is no ghosting.\n",
       "                fig.context.clearRect(0, 0, fig.canvas.width, fig.canvas.height);\n",
       "            }\n",
       "            fig.context.drawImage(fig.imageObj, 0, 0);\n",
       "        };\n",
       "\n",
       "    this.imageObj.onunload = function() {\n",
       "        this.ws.close();\n",
       "    }\n",
       "\n",
       "    this.ws.onmessage = this._make_on_message_function(this);\n",
       "\n",
       "    this.ondownload = ondownload;\n",
       "}\n",
       "\n",
       "mpl.figure.prototype._init_header = function() {\n",
       "    var titlebar = $(\n",
       "        '<div class=\"ui-dialog-titlebar ui-widget-header ui-corner-all ' +\n",
       "        'ui-helper-clearfix\"/>');\n",
       "    var titletext = $(\n",
       "        '<div class=\"ui-dialog-title\" style=\"width: 100%; ' +\n",
       "        'text-align: center; padding: 3px;\"/>');\n",
       "    titlebar.append(titletext)\n",
       "    this.root.append(titlebar);\n",
       "    this.header = titletext[0];\n",
       "}\n",
       "\n",
       "\n",
       "\n",
       "mpl.figure.prototype._canvas_extra_style = function(canvas_div) {\n",
       "\n",
       "}\n",
       "\n",
       "\n",
       "mpl.figure.prototype._root_extra_style = function(canvas_div) {\n",
       "\n",
       "}\n",
       "\n",
       "mpl.figure.prototype._init_canvas = function() {\n",
       "    var fig = this;\n",
       "\n",
       "    var canvas_div = $('<div/>');\n",
       "\n",
       "    canvas_div.attr('style', 'position: relative; clear: both; outline: 0');\n",
       "\n",
       "    function canvas_keyboard_event(event) {\n",
       "        return fig.key_event(event, event['data']);\n",
       "    }\n",
       "\n",
       "    canvas_div.keydown('key_press', canvas_keyboard_event);\n",
       "    canvas_div.keyup('key_release', canvas_keyboard_event);\n",
       "    this.canvas_div = canvas_div\n",
       "    this._canvas_extra_style(canvas_div)\n",
       "    this.root.append(canvas_div);\n",
       "\n",
       "    var canvas = $('<canvas/>');\n",
       "    canvas.addClass('mpl-canvas');\n",
       "    canvas.attr('style', \"left: 0; top: 0; z-index: 0; outline: 0\")\n",
       "\n",
       "    this.canvas = canvas[0];\n",
       "    this.context = canvas[0].getContext(\"2d\");\n",
       "\n",
       "    var backingStore = this.context.backingStorePixelRatio ||\n",
       "\tthis.context.webkitBackingStorePixelRatio ||\n",
       "\tthis.context.mozBackingStorePixelRatio ||\n",
       "\tthis.context.msBackingStorePixelRatio ||\n",
       "\tthis.context.oBackingStorePixelRatio ||\n",
       "\tthis.context.backingStorePixelRatio || 1;\n",
       "\n",
       "    mpl.ratio = (window.devicePixelRatio || 1) / backingStore;\n",
       "\n",
       "    var rubberband = $('<canvas/>');\n",
       "    rubberband.attr('style', \"position: absolute; left: 0; top: 0; z-index: 1;\")\n",
       "\n",
       "    var pass_mouse_events = true;\n",
       "\n",
       "    canvas_div.resizable({\n",
       "        start: function(event, ui) {\n",
       "            pass_mouse_events = false;\n",
       "        },\n",
       "        resize: function(event, ui) {\n",
       "            fig.request_resize(ui.size.width, ui.size.height);\n",
       "        },\n",
       "        stop: function(event, ui) {\n",
       "            pass_mouse_events = true;\n",
       "            fig.request_resize(ui.size.width, ui.size.height);\n",
       "        },\n",
       "    });\n",
       "\n",
       "    function mouse_event_fn(event) {\n",
       "        if (pass_mouse_events)\n",
       "            return fig.mouse_event(event, event['data']);\n",
       "    }\n",
       "\n",
       "    rubberband.mousedown('button_press', mouse_event_fn);\n",
       "    rubberband.mouseup('button_release', mouse_event_fn);\n",
       "    // Throttle sequential mouse events to 1 every 20ms.\n",
       "    rubberband.mousemove('motion_notify', mouse_event_fn);\n",
       "\n",
       "    rubberband.mouseenter('figure_enter', mouse_event_fn);\n",
       "    rubberband.mouseleave('figure_leave', mouse_event_fn);\n",
       "\n",
       "    canvas_div.on(\"wheel\", function (event) {\n",
       "        event = event.originalEvent;\n",
       "        event['data'] = 'scroll'\n",
       "        if (event.deltaY < 0) {\n",
       "            event.step = 1;\n",
       "        } else {\n",
       "            event.step = -1;\n",
       "        }\n",
       "        mouse_event_fn(event);\n",
       "    });\n",
       "\n",
       "    canvas_div.append(canvas);\n",
       "    canvas_div.append(rubberband);\n",
       "\n",
       "    this.rubberband = rubberband;\n",
       "    this.rubberband_canvas = rubberband[0];\n",
       "    this.rubberband_context = rubberband[0].getContext(\"2d\");\n",
       "    this.rubberband_context.strokeStyle = \"#000000\";\n",
       "\n",
       "    this._resize_canvas = function(width, height) {\n",
       "        // Keep the size of the canvas, canvas container, and rubber band\n",
       "        // canvas in synch.\n",
       "        canvas_div.css('width', width)\n",
       "        canvas_div.css('height', height)\n",
       "\n",
       "        canvas.attr('width', width * mpl.ratio);\n",
       "        canvas.attr('height', height * mpl.ratio);\n",
       "        canvas.attr('style', 'width: ' + width + 'px; height: ' + height + 'px;');\n",
       "\n",
       "        rubberband.attr('width', width);\n",
       "        rubberband.attr('height', height);\n",
       "    }\n",
       "\n",
       "    // Set the figure to an initial 600x600px, this will subsequently be updated\n",
       "    // upon first draw.\n",
       "    this._resize_canvas(600, 600);\n",
       "\n",
       "    // Disable right mouse context menu.\n",
       "    $(this.rubberband_canvas).bind(\"contextmenu\",function(e){\n",
       "        return false;\n",
       "    });\n",
       "\n",
       "    function set_focus () {\n",
       "        canvas.focus();\n",
       "        canvas_div.focus();\n",
       "    }\n",
       "\n",
       "    window.setTimeout(set_focus, 100);\n",
       "}\n",
       "\n",
       "mpl.figure.prototype._init_toolbar = function() {\n",
       "    var fig = this;\n",
       "\n",
       "    var nav_element = $('<div/>')\n",
       "    nav_element.attr('style', 'width: 100%');\n",
       "    this.root.append(nav_element);\n",
       "\n",
       "    // Define a callback function for later on.\n",
       "    function toolbar_event(event) {\n",
       "        return fig.toolbar_button_onclick(event['data']);\n",
       "    }\n",
       "    function toolbar_mouse_event(event) {\n",
       "        return fig.toolbar_button_onmouseover(event['data']);\n",
       "    }\n",
       "\n",
       "    for(var toolbar_ind in mpl.toolbar_items) {\n",
       "        var name = mpl.toolbar_items[toolbar_ind][0];\n",
       "        var tooltip = mpl.toolbar_items[toolbar_ind][1];\n",
       "        var image = mpl.toolbar_items[toolbar_ind][2];\n",
       "        var method_name = mpl.toolbar_items[toolbar_ind][3];\n",
       "\n",
       "        if (!name) {\n",
       "            // put a spacer in here.\n",
       "            continue;\n",
       "        }\n",
       "        var button = $('<button/>');\n",
       "        button.addClass('ui-button ui-widget ui-state-default ui-corner-all ' +\n",
       "                        'ui-button-icon-only');\n",
       "        button.attr('role', 'button');\n",
       "        button.attr('aria-disabled', 'false');\n",
       "        button.click(method_name, toolbar_event);\n",
       "        button.mouseover(tooltip, toolbar_mouse_event);\n",
       "\n",
       "        var icon_img = $('<span/>');\n",
       "        icon_img.addClass('ui-button-icon-primary ui-icon');\n",
       "        icon_img.addClass(image);\n",
       "        icon_img.addClass('ui-corner-all');\n",
       "\n",
       "        var tooltip_span = $('<span/>');\n",
       "        tooltip_span.addClass('ui-button-text');\n",
       "        tooltip_span.html(tooltip);\n",
       "\n",
       "        button.append(icon_img);\n",
       "        button.append(tooltip_span);\n",
       "\n",
       "        nav_element.append(button);\n",
       "    }\n",
       "\n",
       "    var fmt_picker_span = $('<span/>');\n",
       "\n",
       "    var fmt_picker = $('<select/>');\n",
       "    fmt_picker.addClass('mpl-toolbar-option ui-widget ui-widget-content');\n",
       "    fmt_picker_span.append(fmt_picker);\n",
       "    nav_element.append(fmt_picker_span);\n",
       "    this.format_dropdown = fmt_picker[0];\n",
       "\n",
       "    for (var ind in mpl.extensions) {\n",
       "        var fmt = mpl.extensions[ind];\n",
       "        var option = $(\n",
       "            '<option/>', {selected: fmt === mpl.default_extension}).html(fmt);\n",
       "        fmt_picker.append(option)\n",
       "    }\n",
       "\n",
       "    // Add hover states to the ui-buttons\n",
       "    $( \".ui-button\" ).hover(\n",
       "        function() { $(this).addClass(\"ui-state-hover\");},\n",
       "        function() { $(this).removeClass(\"ui-state-hover\");}\n",
       "    );\n",
       "\n",
       "    var status_bar = $('<span class=\"mpl-message\"/>');\n",
       "    nav_element.append(status_bar);\n",
       "    this.message = status_bar[0];\n",
       "}\n",
       "\n",
       "mpl.figure.prototype.request_resize = function(x_pixels, y_pixels) {\n",
       "    // Request matplotlib to resize the figure. Matplotlib will then trigger a resize in the client,\n",
       "    // which will in turn request a refresh of the image.\n",
       "    this.send_message('resize', {'width': x_pixels, 'height': y_pixels});\n",
       "}\n",
       "\n",
       "mpl.figure.prototype.send_message = function(type, properties) {\n",
       "    properties['type'] = type;\n",
       "    properties['figure_id'] = this.id;\n",
       "    this.ws.send(JSON.stringify(properties));\n",
       "}\n",
       "\n",
       "mpl.figure.prototype.send_draw_message = function() {\n",
       "    if (!this.waiting) {\n",
       "        this.waiting = true;\n",
       "        this.ws.send(JSON.stringify({type: \"draw\", figure_id: this.id}));\n",
       "    }\n",
       "}\n",
       "\n",
       "\n",
       "mpl.figure.prototype.handle_save = function(fig, msg) {\n",
       "    var format_dropdown = fig.format_dropdown;\n",
       "    var format = format_dropdown.options[format_dropdown.selectedIndex].value;\n",
       "    fig.ondownload(fig, format);\n",
       "}\n",
       "\n",
       "\n",
       "mpl.figure.prototype.handle_resize = function(fig, msg) {\n",
       "    var size = msg['size'];\n",
       "    if (size[0] != fig.canvas.width || size[1] != fig.canvas.height) {\n",
       "        fig._resize_canvas(size[0], size[1]);\n",
       "        fig.send_message(\"refresh\", {});\n",
       "    };\n",
       "}\n",
       "\n",
       "mpl.figure.prototype.handle_rubberband = function(fig, msg) {\n",
       "    var x0 = msg['x0'] / mpl.ratio;\n",
       "    var y0 = (fig.canvas.height - msg['y0']) / mpl.ratio;\n",
       "    var x1 = msg['x1'] / mpl.ratio;\n",
       "    var y1 = (fig.canvas.height - msg['y1']) / mpl.ratio;\n",
       "    x0 = Math.floor(x0) + 0.5;\n",
       "    y0 = Math.floor(y0) + 0.5;\n",
       "    x1 = Math.floor(x1) + 0.5;\n",
       "    y1 = Math.floor(y1) + 0.5;\n",
       "    var min_x = Math.min(x0, x1);\n",
       "    var min_y = Math.min(y0, y1);\n",
       "    var width = Math.abs(x1 - x0);\n",
       "    var height = Math.abs(y1 - y0);\n",
       "\n",
       "    fig.rubberband_context.clearRect(\n",
       "        0, 0, fig.canvas.width, fig.canvas.height);\n",
       "\n",
       "    fig.rubberband_context.strokeRect(min_x, min_y, width, height);\n",
       "}\n",
       "\n",
       "mpl.figure.prototype.handle_figure_label = function(fig, msg) {\n",
       "    // Updates the figure title.\n",
       "    fig.header.textContent = msg['label'];\n",
       "}\n",
       "\n",
       "mpl.figure.prototype.handle_cursor = function(fig, msg) {\n",
       "    var cursor = msg['cursor'];\n",
       "    switch(cursor)\n",
       "    {\n",
       "    case 0:\n",
       "        cursor = 'pointer';\n",
       "        break;\n",
       "    case 1:\n",
       "        cursor = 'default';\n",
       "        break;\n",
       "    case 2:\n",
       "        cursor = 'crosshair';\n",
       "        break;\n",
       "    case 3:\n",
       "        cursor = 'move';\n",
       "        break;\n",
       "    }\n",
       "    fig.rubberband_canvas.style.cursor = cursor;\n",
       "}\n",
       "\n",
       "mpl.figure.prototype.handle_message = function(fig, msg) {\n",
       "    fig.message.textContent = msg['message'];\n",
       "}\n",
       "\n",
       "mpl.figure.prototype.handle_draw = function(fig, msg) {\n",
       "    // Request the server to send over a new figure.\n",
       "    fig.send_draw_message();\n",
       "}\n",
       "\n",
       "mpl.figure.prototype.handle_image_mode = function(fig, msg) {\n",
       "    fig.image_mode = msg['mode'];\n",
       "}\n",
       "\n",
       "mpl.figure.prototype.updated_canvas_event = function() {\n",
       "    // Called whenever the canvas gets updated.\n",
       "    this.send_message(\"ack\", {});\n",
       "}\n",
       "\n",
       "// A function to construct a web socket function for onmessage handling.\n",
       "// Called in the figure constructor.\n",
       "mpl.figure.prototype._make_on_message_function = function(fig) {\n",
       "    return function socket_on_message(evt) {\n",
       "        if (evt.data instanceof Blob) {\n",
       "            /* FIXME: We get \"Resource interpreted as Image but\n",
       "             * transferred with MIME type text/plain:\" errors on\n",
       "             * Chrome.  But how to set the MIME type?  It doesn't seem\n",
       "             * to be part of the websocket stream */\n",
       "            evt.data.type = \"image/png\";\n",
       "\n",
       "            /* Free the memory for the previous frames */\n",
       "            if (fig.imageObj.src) {\n",
       "                (window.URL || window.webkitURL).revokeObjectURL(\n",
       "                    fig.imageObj.src);\n",
       "            }\n",
       "\n",
       "            fig.imageObj.src = (window.URL || window.webkitURL).createObjectURL(\n",
       "                evt.data);\n",
       "            fig.updated_canvas_event();\n",
       "            fig.waiting = false;\n",
       "            return;\n",
       "        }\n",
       "        else if (typeof evt.data === 'string' && evt.data.slice(0, 21) == \"data:image/png;base64\") {\n",
       "            fig.imageObj.src = evt.data;\n",
       "            fig.updated_canvas_event();\n",
       "            fig.waiting = false;\n",
       "            return;\n",
       "        }\n",
       "\n",
       "        var msg = JSON.parse(evt.data);\n",
       "        var msg_type = msg['type'];\n",
       "\n",
       "        // Call the  \"handle_{type}\" callback, which takes\n",
       "        // the figure and JSON message as its only arguments.\n",
       "        try {\n",
       "            var callback = fig[\"handle_\" + msg_type];\n",
       "        } catch (e) {\n",
       "            console.log(\"No handler for the '\" + msg_type + \"' message type: \", msg);\n",
       "            return;\n",
       "        }\n",
       "\n",
       "        if (callback) {\n",
       "            try {\n",
       "                // console.log(\"Handling '\" + msg_type + \"' message: \", msg);\n",
       "                callback(fig, msg);\n",
       "            } catch (e) {\n",
       "                console.log(\"Exception inside the 'handler_\" + msg_type + \"' callback:\", e, e.stack, msg);\n",
       "            }\n",
       "        }\n",
       "    };\n",
       "}\n",
       "\n",
       "// from http://stackoverflow.com/questions/1114465/getting-mouse-location-in-canvas\n",
       "mpl.findpos = function(e) {\n",
       "    //this section is from http://www.quirksmode.org/js/events_properties.html\n",
       "    var targ;\n",
       "    if (!e)\n",
       "        e = window.event;\n",
       "    if (e.target)\n",
       "        targ = e.target;\n",
       "    else if (e.srcElement)\n",
       "        targ = e.srcElement;\n",
       "    if (targ.nodeType == 3) // defeat Safari bug\n",
       "        targ = targ.parentNode;\n",
       "\n",
       "    // jQuery normalizes the pageX and pageY\n",
       "    // pageX,Y are the mouse positions relative to the document\n",
       "    // offset() returns the position of the element relative to the document\n",
       "    var x = e.pageX - $(targ).offset().left;\n",
       "    var y = e.pageY - $(targ).offset().top;\n",
       "\n",
       "    return {\"x\": x, \"y\": y};\n",
       "};\n",
       "\n",
       "/*\n",
       " * return a copy of an object with only non-object keys\n",
       " * we need this to avoid circular references\n",
       " * http://stackoverflow.com/a/24161582/3208463\n",
       " */\n",
       "function simpleKeys (original) {\n",
       "  return Object.keys(original).reduce(function (obj, key) {\n",
       "    if (typeof original[key] !== 'object')\n",
       "        obj[key] = original[key]\n",
       "    return obj;\n",
       "  }, {});\n",
       "}\n",
       "\n",
       "mpl.figure.prototype.mouse_event = function(event, name) {\n",
       "    var canvas_pos = mpl.findpos(event)\n",
       "\n",
       "    if (name === 'button_press')\n",
       "    {\n",
       "        this.canvas.focus();\n",
       "        this.canvas_div.focus();\n",
       "    }\n",
       "\n",
       "    var x = canvas_pos.x * mpl.ratio;\n",
       "    var y = canvas_pos.y * mpl.ratio;\n",
       "\n",
       "    this.send_message(name, {x: x, y: y, button: event.button,\n",
       "                             step: event.step,\n",
       "                             guiEvent: simpleKeys(event)});\n",
       "\n",
       "    /* This prevents the web browser from automatically changing to\n",
       "     * the text insertion cursor when the button is pressed.  We want\n",
       "     * to control all of the cursor setting manually through the\n",
       "     * 'cursor' event from matplotlib */\n",
       "    event.preventDefault();\n",
       "    return false;\n",
       "}\n",
       "\n",
       "mpl.figure.prototype._key_event_extra = function(event, name) {\n",
       "    // Handle any extra behaviour associated with a key event\n",
       "}\n",
       "\n",
       "mpl.figure.prototype.key_event = function(event, name) {\n",
       "\n",
       "    // Prevent repeat events\n",
       "    if (name == 'key_press')\n",
       "    {\n",
       "        if (event.which === this._key)\n",
       "            return;\n",
       "        else\n",
       "            this._key = event.which;\n",
       "    }\n",
       "    if (name == 'key_release')\n",
       "        this._key = null;\n",
       "\n",
       "    var value = '';\n",
       "    if (event.ctrlKey && event.which != 17)\n",
       "        value += \"ctrl+\";\n",
       "    if (event.altKey && event.which != 18)\n",
       "        value += \"alt+\";\n",
       "    if (event.shiftKey && event.which != 16)\n",
       "        value += \"shift+\";\n",
       "\n",
       "    value += 'k';\n",
       "    value += event.which.toString();\n",
       "\n",
       "    this._key_event_extra(event, name);\n",
       "\n",
       "    this.send_message(name, {key: value,\n",
       "                             guiEvent: simpleKeys(event)});\n",
       "    return false;\n",
       "}\n",
       "\n",
       "mpl.figure.prototype.toolbar_button_onclick = function(name) {\n",
       "    if (name == 'download') {\n",
       "        this.handle_save(this, null);\n",
       "    } else {\n",
       "        this.send_message(\"toolbar_button\", {name: name});\n",
       "    }\n",
       "};\n",
       "\n",
       "mpl.figure.prototype.toolbar_button_onmouseover = function(tooltip) {\n",
       "    this.message.textContent = tooltip;\n",
       "};\n",
       "mpl.toolbar_items = [[\"Home\", \"Reset original view\", \"fa fa-home icon-home\", \"home\"], [\"Back\", \"Back to  previous view\", \"fa fa-arrow-left icon-arrow-left\", \"back\"], [\"Forward\", \"Forward to next view\", \"fa fa-arrow-right icon-arrow-right\", \"forward\"], [\"\", \"\", \"\", \"\"], [\"Pan\", \"Pan axes with left mouse, zoom with right\", \"fa fa-arrows icon-move\", \"pan\"], [\"Zoom\", \"Zoom to rectangle\", \"fa fa-square-o icon-check-empty\", \"zoom\"], [\"\", \"\", \"\", \"\"], [\"Download\", \"Download plot\", \"fa fa-floppy-o icon-save\", \"download\"]];\n",
       "\n",
       "mpl.extensions = [\"eps\", \"jpeg\", \"pdf\", \"png\", \"ps\", \"raw\", \"svg\", \"tif\"];\n",
       "\n",
       "mpl.default_extension = \"png\";var comm_websocket_adapter = function(comm) {\n",
       "    // Create a \"websocket\"-like object which calls the given IPython comm\n",
       "    // object with the appropriate methods. Currently this is a non binary\n",
       "    // socket, so there is still some room for performance tuning.\n",
       "    var ws = {};\n",
       "\n",
       "    ws.close = function() {\n",
       "        comm.close()\n",
       "    };\n",
       "    ws.send = function(m) {\n",
       "        //console.log('sending', m);\n",
       "        comm.send(m);\n",
       "    };\n",
       "    // Register the callback with on_msg.\n",
       "    comm.on_msg(function(msg) {\n",
       "        //console.log('receiving', msg['content']['data'], msg);\n",
       "        // Pass the mpl event to the overriden (by mpl) onmessage function.\n",
       "        ws.onmessage(msg['content']['data'])\n",
       "    });\n",
       "    return ws;\n",
       "}\n",
       "\n",
       "mpl.mpl_figure_comm = function(comm, msg) {\n",
       "    // This is the function which gets called when the mpl process\n",
       "    // starts-up an IPython Comm through the \"matplotlib\" channel.\n",
       "\n",
       "    var id = msg.content.data.id;\n",
       "    // Get hold of the div created by the display call when the Comm\n",
       "    // socket was opened in Python.\n",
       "    var element = $(\"#\" + id);\n",
       "    var ws_proxy = comm_websocket_adapter(comm)\n",
       "\n",
       "    function ondownload(figure, format) {\n",
       "        window.open(figure.imageObj.src);\n",
       "    }\n",
       "\n",
       "    var fig = new mpl.figure(id, ws_proxy,\n",
       "                           ondownload,\n",
       "                           element.get(0));\n",
       "\n",
       "    // Call onopen now - mpl needs it, as it is assuming we've passed it a real\n",
       "    // web socket which is closed, not our websocket->open comm proxy.\n",
       "    ws_proxy.onopen();\n",
       "\n",
       "    fig.parent_element = element.get(0);\n",
       "    fig.cell_info = mpl.find_output_cell(\"<div id='\" + id + \"'></div>\");\n",
       "    if (!fig.cell_info) {\n",
       "        console.error(\"Failed to find cell for figure\", id, fig);\n",
       "        return;\n",
       "    }\n",
       "\n",
       "    var output_index = fig.cell_info[2]\n",
       "    var cell = fig.cell_info[0];\n",
       "\n",
       "};\n",
       "\n",
       "mpl.figure.prototype.handle_close = function(fig, msg) {\n",
       "    var width = fig.canvas.width/mpl.ratio\n",
       "    fig.root.unbind('remove')\n",
       "\n",
       "    // Update the output cell to use the data from the current canvas.\n",
       "    fig.push_to_output();\n",
       "    var dataURL = fig.canvas.toDataURL();\n",
       "    // Re-enable the keyboard manager in IPython - without this line, in FF,\n",
       "    // the notebook keyboard shortcuts fail.\n",
       "    IPython.keyboard_manager.enable()\n",
       "    $(fig.parent_element).html('<img src=\"' + dataURL + '\" width=\"' + width + '\">');\n",
       "    fig.close_ws(fig, msg);\n",
       "}\n",
       "\n",
       "mpl.figure.prototype.close_ws = function(fig, msg){\n",
       "    fig.send_message('closing', msg);\n",
       "    // fig.ws.close()\n",
       "}\n",
       "\n",
       "mpl.figure.prototype.push_to_output = function(remove_interactive) {\n",
       "    // Turn the data on the canvas into data in the output cell.\n",
       "    var width = this.canvas.width/mpl.ratio\n",
       "    var dataURL = this.canvas.toDataURL();\n",
       "    this.cell_info[1]['text/html'] = '<img src=\"' + dataURL + '\" width=\"' + width + '\">';\n",
       "}\n",
       "\n",
       "mpl.figure.prototype.updated_canvas_event = function() {\n",
       "    // Tell IPython that the notebook contents must change.\n",
       "    IPython.notebook.set_dirty(true);\n",
       "    this.send_message(\"ack\", {});\n",
       "    var fig = this;\n",
       "    // Wait a second, then push the new image to the DOM so\n",
       "    // that it is saved nicely (might be nice to debounce this).\n",
       "    setTimeout(function () { fig.push_to_output() }, 1000);\n",
       "}\n",
       "\n",
       "mpl.figure.prototype._init_toolbar = function() {\n",
       "    var fig = this;\n",
       "\n",
       "    var nav_element = $('<div/>')\n",
       "    nav_element.attr('style', 'width: 100%');\n",
       "    this.root.append(nav_element);\n",
       "\n",
       "    // Define a callback function for later on.\n",
       "    function toolbar_event(event) {\n",
       "        return fig.toolbar_button_onclick(event['data']);\n",
       "    }\n",
       "    function toolbar_mouse_event(event) {\n",
       "        return fig.toolbar_button_onmouseover(event['data']);\n",
       "    }\n",
       "\n",
       "    for(var toolbar_ind in mpl.toolbar_items){\n",
       "        var name = mpl.toolbar_items[toolbar_ind][0];\n",
       "        var tooltip = mpl.toolbar_items[toolbar_ind][1];\n",
       "        var image = mpl.toolbar_items[toolbar_ind][2];\n",
       "        var method_name = mpl.toolbar_items[toolbar_ind][3];\n",
       "\n",
       "        if (!name) { continue; };\n",
       "\n",
       "        var button = $('<button class=\"btn btn-default\" href=\"#\" title=\"' + name + '\"><i class=\"fa ' + image + ' fa-lg\"></i></button>');\n",
       "        button.click(method_name, toolbar_event);\n",
       "        button.mouseover(tooltip, toolbar_mouse_event);\n",
       "        nav_element.append(button);\n",
       "    }\n",
       "\n",
       "    // Add the status bar.\n",
       "    var status_bar = $('<span class=\"mpl-message\" style=\"text-align:right; float: right;\"/>');\n",
       "    nav_element.append(status_bar);\n",
       "    this.message = status_bar[0];\n",
       "\n",
       "    // Add the close button to the window.\n",
       "    var buttongrp = $('<div class=\"btn-group inline pull-right\"></div>');\n",
       "    var button = $('<button class=\"btn btn-mini btn-primary\" href=\"#\" title=\"Stop Interaction\"><i class=\"fa fa-power-off icon-remove icon-large\"></i></button>');\n",
       "    button.click(function (evt) { fig.handle_close(fig, {}); } );\n",
       "    button.mouseover('Stop Interaction', toolbar_mouse_event);\n",
       "    buttongrp.append(button);\n",
       "    var titlebar = this.root.find($('.ui-dialog-titlebar'));\n",
       "    titlebar.prepend(buttongrp);\n",
       "}\n",
       "\n",
       "mpl.figure.prototype._root_extra_style = function(el){\n",
       "    var fig = this\n",
       "    el.on(\"remove\", function(){\n",
       "\tfig.close_ws(fig, {});\n",
       "    });\n",
       "}\n",
       "\n",
       "mpl.figure.prototype._canvas_extra_style = function(el){\n",
       "    // this is important to make the div 'focusable\n",
       "    el.attr('tabindex', 0)\n",
       "    // reach out to IPython and tell the keyboard manager to turn it's self\n",
       "    // off when our div gets focus\n",
       "\n",
       "    // location in version 3\n",
       "    if (IPython.notebook.keyboard_manager) {\n",
       "        IPython.notebook.keyboard_manager.register_events(el);\n",
       "    }\n",
       "    else {\n",
       "        // location in version 2\n",
       "        IPython.keyboard_manager.register_events(el);\n",
       "    }\n",
       "\n",
       "}\n",
       "\n",
       "mpl.figure.prototype._key_event_extra = function(event, name) {\n",
       "    var manager = IPython.notebook.keyboard_manager;\n",
       "    if (!manager)\n",
       "        manager = IPython.keyboard_manager;\n",
       "\n",
       "    // Check for shift+enter\n",
       "    if (event.shiftKey && event.which == 13) {\n",
       "        this.canvas_div.blur();\n",
       "        // select the cell after this one\n",
       "        var index = IPython.notebook.find_cell_index(this.cell_info[0]);\n",
       "        IPython.notebook.select(index + 1);\n",
       "    }\n",
       "}\n",
       "\n",
       "mpl.figure.prototype.handle_save = function(fig, msg) {\n",
       "    fig.ondownload(fig, null);\n",
       "}\n",
       "\n",
       "\n",
       "mpl.find_output_cell = function(html_output) {\n",
       "    // Return the cell and output element which can be found *uniquely* in the notebook.\n",
       "    // Note - this is a bit hacky, but it is done because the \"notebook_saving.Notebook\"\n",
       "    // IPython event is triggered only after the cells have been serialised, which for\n",
       "    // our purposes (turning an active figure into a static one), is too late.\n",
       "    var cells = IPython.notebook.get_cells();\n",
       "    var ncells = cells.length;\n",
       "    for (var i=0; i<ncells; i++) {\n",
       "        var cell = cells[i];\n",
       "        if (cell.cell_type === 'code'){\n",
       "            for (var j=0; j<cell.output_area.outputs.length; j++) {\n",
       "                var data = cell.output_area.outputs[j];\n",
       "                if (data.data) {\n",
       "                    // IPython >= 3 moved mimebundle to data attribute of output\n",
       "                    data = data.data;\n",
       "                }\n",
       "                if (data['text/html'] == html_output) {\n",
       "                    return [cell, data, j];\n",
       "                }\n",
       "            }\n",
       "        }\n",
       "    }\n",
       "}\n",
       "\n",
       "// Register the function which deals with the matplotlib target/channel.\n",
       "// The kernel may be null if the page has been refreshed.\n",
       "if (IPython.notebook.kernel != null) {\n",
       "    IPython.notebook.kernel.comm_manager.register_target('matplotlib', mpl.mpl_figure_comm);\n",
       "}\n"
      ],
      "text/plain": [
       "<IPython.core.display.Javascript object>"
      ]
     },
     "metadata": {},
     "output_type": "display_data"
    },
    {
     "data": {
      "text/html": [
       "<img src=\"data:image/png;base64,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\" width=\"1000\">"
      ],
      "text/plain": [
       "<IPython.core.display.HTML object>"
      ]
     },
     "metadata": {},
     "output_type": "display_data"
    }
   ],
   "source": [
    "titles = [\"Excitatory feedback\", \n",
    "          \"Inhibitory feedback\", \n",
    "          \"Mixed feedback\"]\n",
    "labels = [r\"$w^\\mathrm{ex}_{\\mathrm{RCR}}$\", \n",
    "          r\"$w^\\mathrm{in}_{\\mathrm{RCR}}$\", \n",
    "          r\"$w^\\mathrm{ex/in}_{\\mathrm{RCR}}$\"]\n",
    "\n",
    "short_labels = [\"ex-fb\", \"in-fb\", \"mix-fb\"]\n",
    "\n",
    "fig, ((ax1, ax2, ax3), (ax4, ax5, ax6)) = plt.subplots(2, 3, figsize=(10, 7.5))\n",
    "\n",
    "# Size tuning curves:\n",
    "for k, linestyle in enumerate([\"-\", \"--\"]):\n",
    "    for ax, w_rc, curves, title, label in zip([ax1, ax2, ax3],\n",
    "                                               [w_rc_ex, w_rc_in, w_rc_mix], \n",
    "                                               [size_tuning[\"fb_ex\"][k][\"tuning_curve\"], \n",
    "                                                size_tuning[\"fb_in\"][k][\"tuning_curve\"], \n",
    "                                                size_tuning[\"fb_mix\"][k][\"tuning_curve\"]],\n",
    "                                               titles, labels):\n",
    "\n",
    "        for w, curve, color in zip(w_rc[:-1], curves[:-1], [\"C0\", \"C1\", \"C2\"]):\n",
    "            if k == 0:\n",
    "                label_=r\"${} \\times $\".format(round(w, 1))+label\n",
    "                lw = 1.2 \n",
    "            else:\n",
    "                label_=\"\"\n",
    "                lw = 2.2\n",
    "            ax.plot(patch_diameter, curve, linestyle, color=color, lw=lw, label=label_)\n",
    "\n",
    "        ax.set_xlim([0, 10])\n",
    "        ax.set_ylim([0, 8])\n",
    "        ax.legend(fontsize=15, handlelength=0.5, labelspacing=0.4, borderpad=0.0)\n",
    "        ax.set_title(title)\n",
    "\n",
    "\n",
    "    ax1.set_ylabel(\"Response\")\n",
    "    ax1.set_xlabel(\"Spot diameter (deg)\")\n",
    "    ax2.set_yticklabels([])\n",
    "    ax3.set_yticklabels([])\n",
    "\n",
    "\n",
    "    if k == 0:\n",
    "        label_= short_labels\n",
    "    else:\n",
    "        label_=[\"\", \"\", \"\"]\n",
    "    \n",
    "    # optimal size\n",
    "    ax5.plot(w_rc_ex, size_tuning[\"fb_ex\"][k][\"cen_size\"], linestyle, color=\"C0\", lw=lw, label=label_[0])\n",
    "    ax5.plot(w_rc_in, size_tuning[\"fb_in\"][k][\"cen_size\"], linestyle, color=\"C1\", lw=lw, label=label_[1])\n",
    "    ax5.plot(w_rc_mix, size_tuning[\"fb_mix\"][k][\"cen_size\"], linestyle, color=\"C2\", lw=lw, label=label_[2])\n",
    "\n",
    "    # suppression index\n",
    "    ax6.plot(w_rc_ex, size_tuning[\"fb_ex\"][k][\"supp_index\"], linestyle, color=\"C0\", lw=lw, label=label_[0])\n",
    "    ax6.plot(w_rc_in, size_tuning[\"fb_in\"][k][\"supp_index\"], linestyle, color=\"C1\", lw=lw, label=label_[1])\n",
    "    ax6.plot(w_rc_mix, size_tuning[\"fb_mix\"][k][\"supp_index\"], linestyle, color=\"C2\", lw=lw, label=label_[2])\n",
    "\n",
    "\n",
    "ax5.legend(fontsize=15, handlelength=0.5, labelspacing=0.4, borderpad=0.0)\n",
    "ax5.set_title(\"Optimal size\", fontsize=18)\n",
    "ax5.set_ylabel(\"Size (deg)\", fontsize=16)\n",
    "ax5.set_xlabel(\"Feedback strength\", fontsize=16)\n",
    "ax5.set_xlim([0, 1.5])\n",
    "\n",
    "ax6.set_title(r\"Suppression index\", fontsize=18)\n",
    "ax6.set_ylabel(r\"$\\boldsymbol{\\alpha_\\mathrm{s\\;(\\%)}}$\", fontsize=18)\n",
    "ax6.set_xlabel(\"Feedback strength\", fontsize=16)\n",
    "ax6.set_xlim([0, 1.5])\n",
    "\n",
    "# illustrative figure\n",
    "curve = size_tuning[\"fb_ex\"][0][\"tuning_curve\"][0,:]\n",
    "norm_curve = (curve - curve.min()) / (curve - curve.min()).max()\n",
    "\n",
    "ax4.plot(patch_diameter, norm_curve)\n",
    "ax4.set_xlim([0, 10])\n",
    "ax4.set_ylabel(\"Normalized response\", fontsize=16)\n",
    "ax4.set_xlabel(\"Patch diameter (deg)\", labelpad=20, fontsize=16)\n",
    "ax4.set_title(\"Size tuning curve\", y=1.05, fontsize=18)\n",
    "\n",
    "ax4.spines['left'].set_position(('data', 0))\n",
    "ax4.spines['right'].set_color('none')\n",
    "ax4.spines['top'].set_color('none')\n",
    "ax4.spines['bottom'].set_position(('data', 0))\n",
    "\n",
    "ax4.xaxis.set_ticks_position('none')\n",
    "ax4.yaxis.set_ticks_position('none')\n",
    "\n",
    "ax4.set_yticks([])\n",
    "ax4.set_xticks([])\n",
    "\n",
    "ax4.grid(False)\n",
    "\n",
    "ax4.set_facecolor(\"w\")\n",
    "ax4.axhline(y=0, color='k', linewidth=1.)\n",
    "ax4.axvline(x=0, color='k', linewidth=1.)\n",
    "\n",
    "\n",
    "max_id = np.where(norm_curve == norm_curve.max())\n",
    "xmax = patch_diameter[max_id].magnitude\n",
    "ymax = norm_curve.max()\n",
    "xsteady = patch_diameter[-20].magnitude\n",
    "ysteady = norm_curve[-20]\n",
    "\n",
    "ax4.plot([0.5, patch_diameter[-20]], [ymax, ymax], color='k', linewidth=1, linestyle=\":\")\n",
    "\n",
    "ax4.annotate(\"Optimal size\", xy=(xmax-1., ymax+ymax*0.05), xycoords='data', xytext=(-1, +1), \n",
    "             textcoords='offset points', fontsize=14)\n",
    "ax4.annotate(\"\", xy=(xmax, 0), xycoords='data', xytext=(xmax, ymax), textcoords='data',\n",
    "             arrowprops={'arrowstyle': '<|-|>', 'linestyle': '-', 'linewidth': 1, 'color': 'k'})\n",
    "\n",
    "ax4.annotate(r\"Suppression, $\\boldsymbol{\\alpha_\\mathrm{s}}$\", xy=(xsteady-0.7, (ymax-ysteady)*1.15), \n",
    "             xycoords='data', xytext=(-1, +1), textcoords='offset points', rotation=90, fontsize=15)\n",
    "ax4.annotate(\"\", xy=(xsteady, ysteady), xycoords='data', xytext=(xsteady, ymax), textcoords='data',\n",
    "             arrowprops={'arrowstyle': '<|-|>', 'linestyle': '-', 'linewidth': 1, 'color': 'k'})\n",
    "\n",
    "fig.tight_layout()"
   ]
  },
  {
   "cell_type": "code",
   "execution_count": null,
   "metadata": {},
   "outputs": [],
   "source": []
  }
 ],
 "metadata": {
  "anaconda-cloud": {},
  "kernelspec": {
   "display_name": "Python 3",
   "language": "python",
   "name": "python3"
  },
  "language_info": {
   "codemirror_mode": {
    "name": "ipython",
    "version": 3
   },
   "file_extension": ".py",
   "mimetype": "text/x-python",
   "name": "python",
   "nbconvert_exporter": "python",
   "pygments_lexer": "ipython3",
   "version": "3.5.4"
  },
  "nbpresent": {
   "slides": {
    "0c512947-22b0-4620-957c-acb049a64df1": {
     "id": "0c512947-22b0-4620-957c-acb049a64df1",
     "prev": "fb0a318a-a23a-4d41-886a-dd6cea238b53",
     "regions": {
      "4f50cc9d-7580-428e-a900-06d87cdfe71a": {
       "attrs": {
        "height": 0.8,
        "width": 0.8,
        "x": 0.1,
        "y": 0.1
       },
       "content": {
        "cell": "0329e4f2-14b2-4162-9265-b79666a7f713",
        "part": "whole"
       },
       "id": "4f50cc9d-7580-428e-a900-06d87cdfe71a"
      }
     },
     "theme": null
    },
    "30d1a1d6-85e5-4a38-b09c-822be9414bd4": {
     "id": "30d1a1d6-85e5-4a38-b09c-822be9414bd4",
     "prev": "d6db61c1-604e-4121-8c01-f3d22416de15",
     "regions": {
      "2f6d32e5-a952-4294-9cc4-f99945d45603": {
       "attrs": {
        "height": 0.8,
        "width": 0.8,
        "x": 0.1,
        "y": 0.1
       },
       "content": {
        "cell": "382b46f7-25d4-4eaf-b3a9-647de01d8348",
        "part": "whole"
       },
       "id": "2f6d32e5-a952-4294-9cc4-f99945d45603"
      }
     }
    },
    "52a12f95-282a-48f3-ad0c-35b4502ef810": {
     "id": "52a12f95-282a-48f3-ad0c-35b4502ef810",
     "prev": null,
     "regions": {
      "f682cb8c-f3ed-466a-b367-d9ee4b3696af": {
       "attrs": {
        "height": 0.8,
        "width": 0.8,
        "x": 0.1,
        "y": 0.1
       },
       "content": {
        "cell": "43262e84-0cf5-4f65-84c5-9efe58e654cd",
        "part": "whole"
       },
       "id": "f682cb8c-f3ed-466a-b367-d9ee4b3696af"
      }
     }
    },
    "641d5b5a-6aa1-40f6-bd32-585fc0e31382": {
     "id": "641d5b5a-6aa1-40f6-bd32-585fc0e31382",
     "prev": "95e6a885-2625-4579-b8b1-086d1fdb95f2",
     "regions": {
      "e4d018eb-5924-4c4b-9fdb-c8bbb2a9518e": {
       "attrs": {
        "height": 0.8,
        "width": 0.8,
        "x": 0.1,
        "y": 0.1
       },
       "content": {
        "cell": "bddec95f-d01d-45ad-aefb-bf3949f29c57",
        "part": "whole"
       },
       "id": "e4d018eb-5924-4c4b-9fdb-c8bbb2a9518e"
      }
     }
    },
    "8e9695f4-d725-4cf1-a771-dd22895bb5fc": {
     "id": "8e9695f4-d725-4cf1-a771-dd22895bb5fc",
     "prev": "641d5b5a-6aa1-40f6-bd32-585fc0e31382",
     "regions": {
      "dc7c7f91-9001-4633-a354-4f5389771235": {
       "attrs": {
        "height": 0.8,
        "width": 0.8,
        "x": 0.1,
        "y": 0.1
       },
       "content": {
        "cell": "dbdb971a-6087-405a-9c5d-9cd2920fbfd0",
        "part": "whole"
       },
       "id": "dc7c7f91-9001-4633-a354-4f5389771235"
      }
     }
    },
    "95e6a885-2625-4579-b8b1-086d1fdb95f2": {
     "id": "95e6a885-2625-4579-b8b1-086d1fdb95f2",
     "prev": "b5581607-c17f-4f66-96cc-1a2c36dc5ca3",
     "regions": {
      "2612b9d1-8f75-4832-b18d-bc756004d96b": {
       "attrs": {
        "height": 0.8,
        "width": 0.8,
        "x": 0.1,
        "y": 0.1
       },
       "content": {
        "cell": "04113409-bf22-490e-929c-902239ddee2f",
        "part": "whole"
       },
       "id": "2612b9d1-8f75-4832-b18d-bc756004d96b"
      }
     }
    },
    "9ba4c26f-cf11-4b3e-aaa9-14b470d809a4": {
     "id": "9ba4c26f-cf11-4b3e-aaa9-14b470d809a4",
     "prev": "df83e99b-f0c7-4f83-82c2-66db3a61d655",
     "regions": {
      "7705d5e8-c66c-4ac6-9f67-af901d3f062f": {
       "attrs": {
        "height": 0.8,
        "width": 0.8,
        "x": 0.1,
        "y": 0.1
       },
       "content": {
        "cell": "382b46f7-25d4-4eaf-b3a9-647de01d8348",
        "part": "whole"
       },
       "id": "7705d5e8-c66c-4ac6-9f67-af901d3f062f"
      }
     }
    },
    "9d0e3a49-f3d0-418f-b9d7-38e403f65770": {
     "id": "9d0e3a49-f3d0-418f-b9d7-38e403f65770",
     "prev": "0c512947-22b0-4620-957c-acb049a64df1",
     "regions": {
      "7668ddf4-59a7-47d0-88ac-987690baaa79": {
       "attrs": {
        "height": 0.8,
        "width": 0.8,
        "x": 0.1,
        "y": 0.1
       },
       "content": {
        "cell": "70350ee6-6295-4d0e-94c3-58e42c451918",
        "part": "whole"
       },
       "id": "7668ddf4-59a7-47d0-88ac-987690baaa79"
      }
     }
    },
    "b5581607-c17f-4f66-96cc-1a2c36dc5ca3": {
     "id": "b5581607-c17f-4f66-96cc-1a2c36dc5ca3",
     "prev": "9ba4c26f-cf11-4b3e-aaa9-14b470d809a4",
     "regions": {
      "eb078aeb-4c73-42f9-b303-62e78c80f9d1": {
       "attrs": {
        "height": 0.8,
        "width": 0.8,
        "x": 0.1,
        "y": 0.1
       },
       "content": {
        "cell": "de161638-3993-460b-bfe5-5f6e7782b40d",
        "part": "whole"
       },
       "id": "eb078aeb-4c73-42f9-b303-62e78c80f9d1"
      }
     }
    },
    "d6db61c1-604e-4121-8c01-f3d22416de15": {
     "id": "d6db61c1-604e-4121-8c01-f3d22416de15",
     "prev": "9d0e3a49-f3d0-418f-b9d7-38e403f65770",
     "regions": {
      "e233c42f-3857-443b-88d3-a3ca810237e8": {
       "attrs": {
        "height": 0.8,
        "width": 0.8,
        "x": 0.1,
        "y": 0.1
       },
       "content": {
        "cell": "4717121a-ec21-4560-a366-49a411d9a737",
        "part": "whole"
       },
       "id": "e233c42f-3857-443b-88d3-a3ca810237e8"
      }
     }
    },
    "df83e99b-f0c7-4f83-82c2-66db3a61d655": {
     "id": "df83e99b-f0c7-4f83-82c2-66db3a61d655",
     "prev": "30d1a1d6-85e5-4a38-b09c-822be9414bd4",
     "regions": {
      "170d6c07-f7ae-4c44-ac52-9ea5fdae038a": {
       "attrs": {
        "height": 0.8,
        "width": 0.8,
        "x": 0.1,
        "y": 0.1
       },
       "content": {
        "cell": "4717121a-ec21-4560-a366-49a411d9a737",
        "part": "whole"
       },
       "id": "170d6c07-f7ae-4c44-ac52-9ea5fdae038a"
      }
     }
    },
    "fb0a318a-a23a-4d41-886a-dd6cea238b53": {
     "id": "fb0a318a-a23a-4d41-886a-dd6cea238b53",
     "prev": "fda6540a-8662-495f-ba36-808ad292157d",
     "regions": {
      "3d312848-0567-498a-bd11-883ee4b6d357": {
       "attrs": {
        "height": 0.8,
        "width": 0.8,
        "x": 0.1,
        "y": 0.1
       },
       "content": {
        "cell": "03a51aa3-95e0-430b-9f4c-9604e8e01fdf",
        "part": "whole"
       },
       "id": "3d312848-0567-498a-bd11-883ee4b6d357"
      }
     }
    },
    "fda6540a-8662-495f-ba36-808ad292157d": {
     "id": "fda6540a-8662-495f-ba36-808ad292157d",
     "prev": "52a12f95-282a-48f3-ad0c-35b4502ef810",
     "regions": {
      "e7a689ab-12c6-4d3e-9619-e6b4c4fa6d3f": {
       "attrs": {
        "height": 0.8,
        "width": 0.8,
        "x": 0.1,
        "y": 0.1
       },
       "content": {
        "cell": "95a143d6-6f5f-4049-945a-a013649da004",
        "part": "whole"
       },
       "id": "e7a689ab-12c6-4d3e-9619-e6b4c4fa6d3f"
      }
     }
    }
   },
   "themes": {
    "default": "75daa297-5cd3-473b-a166-43f1ac864956",
    "theme": {
     "75daa297-5cd3-473b-a166-43f1ac864956": {
      "id": "75daa297-5cd3-473b-a166-43f1ac864956",
      "palette": {
       "19cc588f-0593-49c9-9f4b-e4d7cc113b1c": {
        "id": "19cc588f-0593-49c9-9f4b-e4d7cc113b1c",
        "rgb": [
         252,
         252,
         252
        ]
       },
       "31af15d2-7e15-44c5-ab5e-e04b16a89eff": {
        "id": "31af15d2-7e15-44c5-ab5e-e04b16a89eff",
        "rgb": [
         68,
         68,
         68
        ]
       },
       "50f92c45-a630-455b-aec3-788680ec7410": {
        "id": "50f92c45-a630-455b-aec3-788680ec7410",
        "rgb": [
         155,
         177,
         192
        ]
       },
       "c5cc3653-2ee1-402a-aba2-7caae1da4f6c": {
        "id": "c5cc3653-2ee1-402a-aba2-7caae1da4f6c",
        "rgb": [
         43,
         126,
         184
        ]
       },
       "efa7f048-9acb-414c-8b04-a26811511a21": {
        "id": "efa7f048-9acb-414c-8b04-a26811511a21",
        "rgb": [
         25.118061674008803,
         73.60176211453744,
         107.4819383259912
        ]
       }
      },
      "rules": {
       "blockquote": {
        "color": "50f92c45-a630-455b-aec3-788680ec7410"
       },
       "code": {
        "font-family": "Anonymous Pro"
       },
       "h1": {
        "color": "c5cc3653-2ee1-402a-aba2-7caae1da4f6c",
        "font-family": "Lato",
        "font-size": 8
       },
       "h2": {
        "color": "c5cc3653-2ee1-402a-aba2-7caae1da4f6c",
        "font-family": "Lato",
        "font-size": 6
       },
       "h3": {
        "color": "50f92c45-a630-455b-aec3-788680ec7410",
        "font-family": "Lato",
        "font-size": 5.5
       },
       "h4": {
        "color": "c5cc3653-2ee1-402a-aba2-7caae1da4f6c",
        "font-family": "Lato",
        "font-size": 5
       },
       "h5": {
        "font-family": "Lato"
       },
       "h6": {
        "font-family": "Lato"
       },
       "h7": {
        "font-family": "Lato"
       },
       "pre": {
        "font-family": "Anonymous Pro",
        "font-size": 4
       }
      },
      "text-base": {
       "font-family": "Merriweather",
       "font-size": 4
      }
     },
     "d307f93a-9047-4d98-889d-39af4e4707a4": {
      "backgrounds": {
       "dc7afa04-bf90-40b1-82a5-726e3cff5267": {
        "background-color": "31af15d2-7e15-44c5-ab5e-e04b16a89eff",
        "id": "dc7afa04-bf90-40b1-82a5-726e3cff5267"
       }
      },
      "id": "d307f93a-9047-4d98-889d-39af4e4707a4",
      "palette": {
       "19cc588f-0593-49c9-9f4b-e4d7cc113b1c": {
        "id": "19cc588f-0593-49c9-9f4b-e4d7cc113b1c",
        "rgb": [
         252,
         252,
         252
        ]
       },
       "31af15d2-7e15-44c5-ab5e-e04b16a89eff": {
        "id": "31af15d2-7e15-44c5-ab5e-e04b16a89eff",
        "rgb": [
         68,
         68,
         68
        ]
       },
       "50f92c45-a630-455b-aec3-788680ec7410": {
        "id": "50f92c45-a630-455b-aec3-788680ec7410",
        "rgb": [
         197,
         226,
         245
        ]
       },
       "c5cc3653-2ee1-402a-aba2-7caae1da4f6c": {
        "id": "c5cc3653-2ee1-402a-aba2-7caae1da4f6c",
        "rgb": [
         43,
         126,
         184
        ]
       },
       "efa7f048-9acb-414c-8b04-a26811511a21": {
        "id": "efa7f048-9acb-414c-8b04-a26811511a21",
        "rgb": [
         25.118061674008803,
         73.60176211453744,
         107.4819383259912
        ]
       }
      },
      "rules": {
       "a": {
        "color": "19cc588f-0593-49c9-9f4b-e4d7cc113b1c"
       },
       "blockquote": {
        "color": "50f92c45-a630-455b-aec3-788680ec7410",
        "font-size": 3
       },
       "code": {
        "font-family": "Anonymous Pro"
       },
       "h1": {
        "color": "19cc588f-0593-49c9-9f4b-e4d7cc113b1c",
        "font-family": "Merriweather",
        "font-size": 8
       },
       "h2": {
        "color": "19cc588f-0593-49c9-9f4b-e4d7cc113b1c",
        "font-family": "Merriweather",
        "font-size": 6
       },
       "h3": {
        "color": "50f92c45-a630-455b-aec3-788680ec7410",
        "font-family": "Lato",
        "font-size": 5.5
       },
       "h4": {
        "color": "c5cc3653-2ee1-402a-aba2-7caae1da4f6c",
        "font-family": "Lato",
        "font-size": 5
       },
       "h5": {
        "font-family": "Lato"
       },
       "h6": {
        "font-family": "Lato"
       },
       "h7": {
        "font-family": "Lato"
       },
       "li": {
        "color": "50f92c45-a630-455b-aec3-788680ec7410",
        "font-size": 3.25
       },
       "pre": {
        "font-family": "Anonymous Pro",
        "font-size": 4
       }
      },
      "text-base": {
       "color": "19cc588f-0593-49c9-9f4b-e4d7cc113b1c",
       "font-family": "Lato",
       "font-size": 4
      }
     }
    }
   }
  }
 },
 "nbformat": 4,
 "nbformat_minor": 2
}

{
 "cells": [
  {
   "cell_type": "markdown",
   "metadata": {},
   "source": [
    "## Area summation curves with flashing spot stimulus\n",
    "\n",
    "A flashing spot stimulus (duration=500 ms) is used to calculate the area summation curves. We consider the following scenarios:\n",
    "\n",
    "* Inhibitory feedback with different weights (solid lines: $\\Delta^{in}_{RCR}=5 ms$, dashed lines: $\\Delta^{in}_{RCR}=30 ms$ )\n",
    "\n",
    "* Excitatory feedback with different weights (solid lines:  $\\Delta^{ex}_{RCR}=5 ms$, dashed lines:  $\\Delta^{ex}_{RCR}=30 ms$ )\n",
    "\n",
    "* Mixed feedback with different weights (solid lines: delayed inhibition ($\\Delta^{ex}_{RCR}=5 ms, \\Delta^{in}_{RCR}=30 ms$), dashed lines: delayed excitation ($\\Delta^{ex}_{RCR}=30 ms, \\Delta^{in}_{RCR}=5 ms$))\n",
    "\n",
    "\n"
   ]
  },
  {
   "cell_type": "code",
   "execution_count": 1,
   "metadata": {
    "slideshow": {
     "slide_type": "slide"
    }
   },
   "outputs": [],
   "source": [
    "%load_ext autoreload\n",
    "%autoreload 2\n",
    "%matplotlib inline\n",
    "\n",
    "from IPython.display import set_matplotlib_formats\n",
    "set_matplotlib_formats('png', 'pdf')\n",
    "\n",
    "import numpy as np\n",
    "import matplotlib.pyplot as plt\n",
    "import quantities as pq\n",
    "from operator import itemgetter\n",
    "from edog.tools import*\n",
    "from edog.plot import*\n",
    "plt.style.use('seaborn')\n",
    "plt.rcParams.update(edog.plot.params)\n",
    "\n",
    "filename = \"params.yaml\"\n",
    "params = parse_parameters(filename)\n",
    "\n",
    "nt, nr, dt, dr = itemgetter(\"nt\", \"nr\", \"dt\", \"dr\")(params[\"grid\"])\n",
    "stim_delay, duration, patch_diameter = itemgetter(\"delay\", \"duration\", \"patch_diameter\")(params[\"stimulus\"])\n",
    "\n",
    "A_g, a_g, B_g, b_g = itemgetter(\"A\", \"a\", \"B\", \"b\")(params[\"ganglion\"])\n",
    "phase, damping, delay_g = itemgetter(\"phase\", \"damping\", \"delay\")(params[\"ganglion\"])\n",
    "\n",
    "w_rg, A_rg, a_rg = itemgetter(\"w\", \"A\", \"a\")(params[\"relay\"][\"Krg\"])\n",
    "tau_rg, delay_rg = itemgetter(\"tau\", \"delay\")(params[\"relay\"][\"Krg\"])\n",
    "\n",
    "w_rig, A_rig, a_rig = itemgetter(\"w\", \"A\", \"a\")(params[\"relay\"][\"Krig\"])\n",
    "tau_rig, delay_rig = itemgetter(\"tau\", \"delay\")(params[\"relay\"][\"Krig\"])\n",
    "\n",
    "w_rc_ex, A_rc_ex, a_rc_ex = itemgetter(\"w\", \"A\", \"a\")(params[\"relay\"][\"Krc_ex\"])\n",
    "tau_rc_ex, delay_rc_ex = itemgetter(\"tau\", \"delay\")(params[\"relay\"][\"Krc_ex\"])\n",
    "\n",
    "w_rc_in, A_rc_in, a_rc_in = itemgetter(\"w\", \"A\", \"a\")(params[\"relay\"][\"Krc_in\"])\n",
    "tau_rc_in, delay_rc_in = itemgetter(\"tau\", \"delay\")(params[\"relay\"][\"Krc_in\"])\n",
    "\n",
    "w_rc_mix = itemgetter(\"w\")(params[\"relay\"][\"Krc_mix\"])\n",
    "A_rc_mix_in, a_rc_mix_in = itemgetter(\"A\", \"a\")(params[\"relay\"][\"Krc_mix\"][\"Krc_in\"])\n",
    "tau_rc_mix_in = itemgetter(\"tau\")(params[\"relay\"][\"Krc_mix\"][\"Krc_in\"])\n",
    "A_rc_mix_ex, a_rc_mix_ex = itemgetter(\"A\", \"a\")(params[\"relay\"][\"Krc_mix\"][\"Krc_ex\"])\n",
    "tau_rc_mix_ex = itemgetter(\"tau\")(params[\"relay\"][\"Krc_mix\"][\"Krc_ex\"])\n",
    "\n",
    "delayed_in, delayed_ex = itemgetter(\"delayed_in\", \"delayed_ex\")(params[\"relay\"][\"Krc_mix\"])\n",
    "stim_off_index = int(round(duration / dt))\n",
    "\n",
    "size_tuning = {\"fb_ex\": {}, \"fb_in\": {}, \"fb_mix\": {}}"
   ]
  },
  {
   "cell_type": "markdown",
   "metadata": {
    "nbpresent": {
     "id": "4717121a-ec21-4560-a366-49a411d9a737"
    }
   },
   "source": [
    "## Feedback excitation"
   ]
  },
  {
   "cell_type": "code",
   "execution_count": 2,
   "metadata": {
    "nbpresent": {
     "id": "382b46f7-25d4-4eaf-b3a9-647de01d8348"
    }
   },
   "outputs": [
    {
     "name": "stdout",
     "output_type": "stream",
     "text": [
      "temporal delay: 5.0 ms\n",
      "temporal delay: 30.0 ms\n"
     ]
    }
   ],
   "source": [
    "for k, delay in enumerate(delay_rc_ex):\n",
    "    print(\"temporal delay:\", delay)\n",
    "    size_tuning[\"fb_ex\"][k] = {}\n",
    "    tuning_curve = np.zeros([len(w_rc_ex), len(patch_diameter)])\n",
    "    cen_size = np.zeros(len(w_rc_ex))\n",
    "    supp_index = np.zeros(len(w_rc_ex))\n",
    "    \n",
    "    for i, w in enumerate(w_rc_ex):\n",
    "        network = create_spatiotemporal_network(nt=nt, nr=nr, dt=dt, dr=dr,\n",
    "                                                A_g=A_g, a_g=a_g, B_g=B_g, b_g=b_g,\n",
    "                                                phase=phase, damping=damping, delay_g=delay_g,\n",
    "                                                w_rg=w_rg, A_rg=A_rg, a_rg=a_rg,\n",
    "                                                tau_rg=tau_rg, delay_rg=delay_rg,\n",
    "                                                w_rig=w_rig, A_rig=A_rig, a_rig=a_rig,\n",
    "                                                tau_rig=tau_rig, delay_rig=delay_rig,\n",
    "                                                w_rc_ex=w, A_rc_ex=A_rc_ex, a_rc_ex=a_rc_ex,\n",
    "                                                tau_rc_ex=tau_rc_ex, delay_rc_ex=delay)\n",
    "\n",
    "        spatiotemporal_tuning = spatiotemporal_size_tuning_flash(network=network, \n",
    "                                                                 patch_diameter=patch_diameter,\n",
    "                                                                 delay=stim_delay,\n",
    "                                                                 duration=duration)\n",
    "\n",
    "        tuning_curve[i, :] = np.mean(spatiotemporal_tuning[:stim_off_index, :], axis=0)\n",
    "\n",
    "        cen_size[i] = rf_center_size(tuning_curve[i, :], patch_diameter)\n",
    "        supp_index[i] = compute_suppression_index(tuning_curve[i, :])\n",
    "\n",
    "    size_tuning[\"fb_ex\"][k] = {\"tuning_curve\": tuning_curve, \n",
    "                               \"cen_size\": cen_size, \n",
    "                               \"supp_index\": supp_index}"
   ]
  },
  {
   "cell_type": "markdown",
   "metadata": {
    "nbpresent": {
     "id": "4717121a-ec21-4560-a366-49a411d9a737"
    }
   },
   "source": [
    "## Feedback inhibition"
   ]
  },
  {
   "cell_type": "code",
   "execution_count": 3,
   "metadata": {
    "nbpresent": {
     "id": "382b46f7-25d4-4eaf-b3a9-647de01d8348"
    }
   },
   "outputs": [
    {
     "name": "stdout",
     "output_type": "stream",
     "text": [
      "temporal delay: 5.0 ms\n",
      "temporal delay: 30.0 ms\n"
     ]
    }
   ],
   "source": [
    "for k, delay in enumerate(delay_rc_in):\n",
    "    print(\"temporal delay:\", delay)\n",
    "    size_tuning[\"fb_in\"][k] = {}\n",
    "    tuning_curve = np.zeros([len(w_rc_in), len(patch_diameter)])\n",
    "    cen_size = np.zeros(len(w_rc_in))\n",
    "    supp_index = np.zeros(len(w_rc_in))\n",
    "    \n",
    "    for i, w in enumerate(w_rc_in):\n",
    "        network = create_spatiotemporal_network(nt=nt, nr=nr, dt=dt, dr=dr,\n",
    "                                                A_g=A_g, a_g=a_g, B_g=B_g, b_g=b_g,\n",
    "                                                phase=phase, damping=damping, delay_g=delay_g,\n",
    "                                                w_rg=w_rg, A_rg=A_rg, a_rg=a_rg,\n",
    "                                                tau_rg=tau_rg, delay_rg=delay_rg,\n",
    "                                                w_rig=w_rig, A_rig=A_rig, a_rig=a_rig,\n",
    "                                                tau_rig=tau_rig, delay_rig=delay_rig,\n",
    "                                                w_rc_in=w, A_rc_in=A_rc_in, a_rc_in=a_rc_in,\n",
    "                                                tau_rc_in=tau_rc_in, delay_rc_in=delay)\n",
    "\n",
    "        spatiotemporal_tuning = spatiotemporal_size_tuning_flash(network=network, \n",
    "                                                                 patch_diameter=patch_diameter,\n",
    "                                                                 delay=stim_delay,\n",
    "                                                                 duration=duration)\n",
    "\n",
    "        tuning_curve[i, :] = np.mean(spatiotemporal_tuning[:stim_off_index,:], axis=0)\n",
    "\n",
    "        cen_size[i] = rf_center_size(tuning_curve[i, :], patch_diameter)\n",
    "        supp_index[i] = compute_suppression_index(tuning_curve[i, :])\n",
    "\n",
    "    size_tuning[\"fb_in\"][k] = {\"tuning_curve\": tuning_curve, \n",
    "                               \"cen_size\": cen_size, \n",
    "                               \"supp_index\": supp_index}"
   ]
  },
  {
   "cell_type": "markdown",
   "metadata": {},
   "source": [
    "## Mixed excitatory and inhibitory feedback"
   ]
  },
  {
   "cell_type": "code",
   "execution_count": 4,
   "metadata": {
    "nbpresent": {
     "id": "382b46f7-25d4-4eaf-b3a9-647de01d8348"
    }
   },
   "outputs": [
    {
     "name": "stdout",
     "output_type": "stream",
     "text": [
      "temporal delay: {'delay_in': array(30) * ms, 'delay_ex': array(5) * ms}\n",
      "temporal delay: {'delay_in': array(5) * ms, 'delay_ex': array(30) * ms}\n"
     ]
    }
   ],
   "source": [
    "for k, params in enumerate([delayed_in, delayed_ex]):\n",
    "    print(\"temporal delay:\", params)\n",
    "    size_tuning[\"fb_mix\"][k] = {}\n",
    "    tuning_curve = np.zeros([len(w_rc_mix), len(patch_diameter)])\n",
    "    cen_size = np.zeros(len(w_rc_mix))\n",
    "    supp_index = np.zeros(len(w_rc_mix))\n",
    "    \n",
    "    for i, w in enumerate(w_rc_mix):\n",
    "        network = create_spatiotemporal_network(nt=nt, nr=nr, dt=dt, dr=dr,\n",
    "                                                A_g=A_g, a_g=a_g, B_g=B_g, b_g=b_g,\n",
    "                                                phase=phase, damping=damping, delay_g=delay_g,\n",
    "                                                w_rg=w_rg, A_rg=A_rg, a_rg=a_rg,\n",
    "                                                tau_rg=tau_rg, delay_rg=delay_rg,\n",
    "                                                w_rig=w_rig, A_rig=A_rig, a_rig=a_rig,\n",
    "                                                tau_rig=tau_rig, delay_rig=delay_rig,\n",
    "                                                w_rc_ex=w, A_rc_ex=A_rc_mix_ex, a_rc_ex=a_rc_mix_ex,\n",
    "                                                tau_rc_ex=tau_rc_mix_ex, delay_rc_ex=params[\"delay_ex\"],\n",
    "                                                w_rc_in=w, A_rc_in=A_rc_mix_in, a_rc_in=a_rc_mix_in,\n",
    "                                                tau_rc_in=tau_rc_mix_in, delay_rc_in=params[\"delay_in\"])\n",
    "\n",
    "        spatiotemporal_tuning = spatiotemporal_size_tuning_flash(network=network, \n",
    "                                                                 patch_diameter=patch_diameter,\n",
    "                                                                 delay=stim_delay,\n",
    "                                                                 duration=duration)\n",
    "\n",
    "        tuning_curve[i, :] = np.mean(spatiotemporal_tuning[:stim_off_index,:], axis=0)\n",
    "\n",
    "        cen_size[i] = rf_center_size(tuning_curve[i, :], patch_diameter)\n",
    "        supp_index[i] = compute_suppression_index(tuning_curve[i, :])\n",
    "\n",
    "\n",
    "    size_tuning[\"fb_mix\"][k] = {\"tuning_curve\": tuning_curve, \n",
    "                                \"cen_size\": cen_size, \n",
    "                                \"supp_index\": supp_index}"
   ]
  },
  {
   "cell_type": "markdown",
   "metadata": {
    "collapsed": true,
    "nbpresent": {
     "id": "de161638-3993-460b-bfe5-5f6e7782b40d"
    }
   },
   "source": [
    "-------------\n",
    "## Plotting"
   ]
  },
  {
   "cell_type": "code",
   "execution_count": 5,
   "metadata": {
    "scrolled": false
   },
   "outputs": [
    {
     "data": {
      "application/javascript": [
       "/* Put everything inside the global mpl namespace */\n",
       "window.mpl = {};\n",
       "\n",
       "\n",
       "mpl.get_websocket_type = function() {\n",
       "    if (typeof(WebSocket) !== 'undefined') {\n",
       "        return WebSocket;\n",
       "    } else if (typeof(MozWebSocket) !== 'undefined') {\n",
       "        return MozWebSocket;\n",
       "    } else {\n",
       "        alert('Your browser does not have WebSocket support.' +\n",
       "              'Please try Chrome, Safari or Firefox ≥ 6. ' +\n",
       "              'Firefox 4 and 5 are also supported but you ' +\n",
       "              'have to enable WebSockets in about:config.');\n",
       "    };\n",
       "}\n",
       "\n",
       "mpl.figure = function(figure_id, websocket, ondownload, parent_element) {\n",
       "    this.id = figure_id;\n",
       "\n",
       "    this.ws = websocket;\n",
       "\n",
       "    this.supports_binary = (this.ws.binaryType != undefined);\n",
       "\n",
       "    if (!this.supports_binary) {\n",
       "        var warnings = document.getElementById(\"mpl-warnings\");\n",
       "        if (warnings) {\n",
       "            warnings.style.display = 'block';\n",
       "            warnings.textContent = (\n",
       "                \"This browser does not support binary websocket messages. \" +\n",
       "                    \"Performance may be slow.\");\n",
       "        }\n",
       "    }\n",
       "\n",
       "    this.imageObj = new Image();\n",
       "\n",
       "    this.context = undefined;\n",
       "    this.message = undefined;\n",
       "    this.canvas = undefined;\n",
       "    this.rubberband_canvas = undefined;\n",
       "    this.rubberband_context = undefined;\n",
       "    this.format_dropdown = undefined;\n",
       "\n",
       "    this.image_mode = 'full';\n",
       "\n",
       "    this.root = $('<div/>');\n",
       "    this._root_extra_style(this.root)\n",
       "    this.root.attr('style', 'display: inline-block');\n",
       "\n",
       "    $(parent_element).append(this.root);\n",
       "\n",
       "    this._init_header(this);\n",
       "    this._init_canvas(this);\n",
       "    this._init_toolbar(this);\n",
       "\n",
       "    var fig = this;\n",
       "\n",
       "    this.waiting = false;\n",
       "\n",
       "    this.ws.onopen =  function () {\n",
       "            fig.send_message(\"supports_binary\", {value: fig.supports_binary});\n",
       "            fig.send_message(\"send_image_mode\", {});\n",
       "            if (mpl.ratio != 1) {\n",
       "                fig.send_message(\"set_dpi_ratio\", {'dpi_ratio': mpl.ratio});\n",
       "            }\n",
       "            fig.send_message(\"refresh\", {});\n",
       "        }\n",
       "\n",
       "    this.imageObj.onload = function() {\n",
       "            if (fig.image_mode == 'full') {\n",
       "                // Full images could contain transparency (where diff images\n",
       "                // almost always do), so we need to clear the canvas so that\n",
       "                // there is no ghosting.\n",
       "                fig.context.clearRect(0, 0, fig.canvas.width, fig.canvas.height);\n",
       "            }\n",
       "            fig.context.drawImage(fig.imageObj, 0, 0);\n",
       "        };\n",
       "\n",
       "    this.imageObj.onunload = function() {\n",
       "        this.ws.close();\n",
       "    }\n",
       "\n",
       "    this.ws.onmessage = this._make_on_message_function(this);\n",
       "\n",
       "    this.ondownload = ondownload;\n",
       "}\n",
       "\n",
       "mpl.figure.prototype._init_header = function() {\n",
       "    var titlebar = $(\n",
       "        '<div class=\"ui-dialog-titlebar ui-widget-header ui-corner-all ' +\n",
       "        'ui-helper-clearfix\"/>');\n",
       "    var titletext = $(\n",
       "        '<div class=\"ui-dialog-title\" style=\"width: 100%; ' +\n",
       "        'text-align: center; padding: 3px;\"/>');\n",
       "    titlebar.append(titletext)\n",
       "    this.root.append(titlebar);\n",
       "    this.header = titletext[0];\n",
       "}\n",
       "\n",
       "\n",
       "\n",
       "mpl.figure.prototype._canvas_extra_style = function(canvas_div) {\n",
       "\n",
       "}\n",
       "\n",
       "\n",
       "mpl.figure.prototype._root_extra_style = function(canvas_div) {\n",
       "\n",
       "}\n",
       "\n",
       "mpl.figure.prototype._init_canvas = function() {\n",
       "    var fig = this;\n",
       "\n",
       "    var canvas_div = $('<div/>');\n",
       "\n",
       "    canvas_div.attr('style', 'position: relative; clear: both; outline: 0');\n",
       "\n",
       "    function canvas_keyboard_event(event) {\n",
       "        return fig.key_event(event, event['data']);\n",
       "    }\n",
       "\n",
       "    canvas_div.keydown('key_press', canvas_keyboard_event);\n",
       "    canvas_div.keyup('key_release', canvas_keyboard_event);\n",
       "    this.canvas_div = canvas_div\n",
       "    this._canvas_extra_style(canvas_div)\n",
       "    this.root.append(canvas_div);\n",
       "\n",
       "    var canvas = $('<canvas/>');\n",
       "    canvas.addClass('mpl-canvas');\n",
       "    canvas.attr('style', \"left: 0; top: 0; z-index: 0; outline: 0\")\n",
       "\n",
       "    this.canvas = canvas[0];\n",
       "    this.context = canvas[0].getContext(\"2d\");\n",
       "\n",
       "    var backingStore = this.context.backingStorePixelRatio ||\n",
       "\tthis.context.webkitBackingStorePixelRatio ||\n",
       "\tthis.context.mozBackingStorePixelRatio ||\n",
       "\tthis.context.msBackingStorePixelRatio ||\n",
       "\tthis.context.oBackingStorePixelRatio ||\n",
       "\tthis.context.backingStorePixelRatio || 1;\n",
       "\n",
       "    mpl.ratio = (window.devicePixelRatio || 1) / backingStore;\n",
       "\n",
       "    var rubberband = $('<canvas/>');\n",
       "    rubberband.attr('style', \"position: absolute; left: 0; top: 0; z-index: 1;\")\n",
       "\n",
       "    var pass_mouse_events = true;\n",
       "\n",
       "    canvas_div.resizable({\n",
       "        start: function(event, ui) {\n",
       "            pass_mouse_events = false;\n",
       "        },\n",
       "        resize: function(event, ui) {\n",
       "            fig.request_resize(ui.size.width, ui.size.height);\n",
       "        },\n",
       "        stop: function(event, ui) {\n",
       "            pass_mouse_events = true;\n",
       "            fig.request_resize(ui.size.width, ui.size.height);\n",
       "        },\n",
       "    });\n",
       "\n",
       "    function mouse_event_fn(event) {\n",
       "        if (pass_mouse_events)\n",
       "            return fig.mouse_event(event, event['data']);\n",
       "    }\n",
       "\n",
       "    rubberband.mousedown('button_press', mouse_event_fn);\n",
       "    rubberband.mouseup('button_release', mouse_event_fn);\n",
       "    // Throttle sequential mouse events to 1 every 20ms.\n",
       "    rubberband.mousemove('motion_notify', mouse_event_fn);\n",
       "\n",
       "    rubberband.mouseenter('figure_enter', mouse_event_fn);\n",
       "    rubberband.mouseleave('figure_leave', mouse_event_fn);\n",
       "\n",
       "    canvas_div.on(\"wheel\", function (event) {\n",
       "        event = event.originalEvent;\n",
       "        event['data'] = 'scroll'\n",
       "        if (event.deltaY < 0) {\n",
       "            event.step = 1;\n",
       "        } else {\n",
       "            event.step = -1;\n",
       "        }\n",
       "        mouse_event_fn(event);\n",
       "    });\n",
       "\n",
       "    canvas_div.append(canvas);\n",
       "    canvas_div.append(rubberband);\n",
       "\n",
       "    this.rubberband = rubberband;\n",
       "    this.rubberband_canvas = rubberband[0];\n",
       "    this.rubberband_context = rubberband[0].getContext(\"2d\");\n",
       "    this.rubberband_context.strokeStyle = \"#000000\";\n",
       "\n",
       "    this._resize_canvas = function(width, height) {\n",
       "        // Keep the size of the canvas, canvas container, and rubber band\n",
       "        // canvas in synch.\n",
       "        canvas_div.css('width', width)\n",
       "        canvas_div.css('height', height)\n",
       "\n",
       "        canvas.attr('width', width * mpl.ratio);\n",
       "        canvas.attr('height', height * mpl.ratio);\n",
       "        canvas.attr('style', 'width: ' + width + 'px; height: ' + height + 'px;');\n",
       "\n",
       "        rubberband.attr('width', width);\n",
       "        rubberband.attr('height', height);\n",
       "    }\n",
       "\n",
       "    // Set the figure to an initial 600x600px, this will subsequently be updated\n",
       "    // upon first draw.\n",
       "    this._resize_canvas(600, 600);\n",
       "\n",
       "    // Disable right mouse context menu.\n",
       "    $(this.rubberband_canvas).bind(\"contextmenu\",function(e){\n",
       "        return false;\n",
       "    });\n",
       "\n",
       "    function set_focus () {\n",
       "        canvas.focus();\n",
       "        canvas_div.focus();\n",
       "    }\n",
       "\n",
       "    window.setTimeout(set_focus, 100);\n",
       "}\n",
       "\n",
       "mpl.figure.prototype._init_toolbar = function() {\n",
       "    var fig = this;\n",
       "\n",
       "    var nav_element = $('<div/>')\n",
       "    nav_element.attr('style', 'width: 100%');\n",
       "    this.root.append(nav_element);\n",
       "\n",
       "    // Define a callback function for later on.\n",
       "    function toolbar_event(event) {\n",
       "        return fig.toolbar_button_onclick(event['data']);\n",
       "    }\n",
       "    function toolbar_mouse_event(event) {\n",
       "        return fig.toolbar_button_onmouseover(event['data']);\n",
       "    }\n",
       "\n",
       "    for(var toolbar_ind in mpl.toolbar_items) {\n",
       "        var name = mpl.toolbar_items[toolbar_ind][0];\n",
       "        var tooltip = mpl.toolbar_items[toolbar_ind][1];\n",
       "        var image = mpl.toolbar_items[toolbar_ind][2];\n",
       "        var method_name = mpl.toolbar_items[toolbar_ind][3];\n",
       "\n",
       "        if (!name) {\n",
       "            // put a spacer in here.\n",
       "            continue;\n",
       "        }\n",
       "        var button = $('<button/>');\n",
       "        button.addClass('ui-button ui-widget ui-state-default ui-corner-all ' +\n",
       "                        'ui-button-icon-only');\n",
       "        button.attr('role', 'button');\n",
       "        button.attr('aria-disabled', 'false');\n",
       "        button.click(method_name, toolbar_event);\n",
       "        button.mouseover(tooltip, toolbar_mouse_event);\n",
       "\n",
       "        var icon_img = $('<span/>');\n",
       "        icon_img.addClass('ui-button-icon-primary ui-icon');\n",
       "        icon_img.addClass(image);\n",
       "        icon_img.addClass('ui-corner-all');\n",
       "\n",
       "        var tooltip_span = $('<span/>');\n",
       "        tooltip_span.addClass('ui-button-text');\n",
       "        tooltip_span.html(tooltip);\n",
       "\n",
       "        button.append(icon_img);\n",
       "        button.append(tooltip_span);\n",
       "\n",
       "        nav_element.append(button);\n",
       "    }\n",
       "\n",
       "    var fmt_picker_span = $('<span/>');\n",
       "\n",
       "    var fmt_picker = $('<select/>');\n",
       "    fmt_picker.addClass('mpl-toolbar-option ui-widget ui-widget-content');\n",
       "    fmt_picker_span.append(fmt_picker);\n",
       "    nav_element.append(fmt_picker_span);\n",
       "    this.format_dropdown = fmt_picker[0];\n",
       "\n",
       "    for (var ind in mpl.extensions) {\n",
       "        var fmt = mpl.extensions[ind];\n",
       "        var option = $(\n",
       "            '<option/>', {selected: fmt === mpl.default_extension}).html(fmt);\n",
       "        fmt_picker.append(option)\n",
       "    }\n",
       "\n",
       "    // Add hover states to the ui-buttons\n",
       "    $( \".ui-button\" ).hover(\n",
       "        function() { $(this).addClass(\"ui-state-hover\");},\n",
       "        function() { $(this).removeClass(\"ui-state-hover\");}\n",
       "    );\n",
       "\n",
       "    var status_bar = $('<span class=\"mpl-message\"/>');\n",
       "    nav_element.append(status_bar);\n",
       "    this.message = status_bar[0];\n",
       "}\n",
       "\n",
       "mpl.figure.prototype.request_resize = function(x_pixels, y_pixels) {\n",
       "    // Request matplotlib to resize the figure. Matplotlib will then trigger a resize in the client,\n",
       "    // which will in turn request a refresh of the image.\n",
       "    this.send_message('resize', {'width': x_pixels, 'height': y_pixels});\n",
       "}\n",
       "\n",
       "mpl.figure.prototype.send_message = function(type, properties) {\n",
       "    properties['type'] = type;\n",
       "    properties['figure_id'] = this.id;\n",
       "    this.ws.send(JSON.stringify(properties));\n",
       "}\n",
       "\n",
       "mpl.figure.prototype.send_draw_message = function() {\n",
       "    if (!this.waiting) {\n",
       "        this.waiting = true;\n",
       "        this.ws.send(JSON.stringify({type: \"draw\", figure_id: this.id}));\n",
       "    }\n",
       "}\n",
       "\n",
       "\n",
       "mpl.figure.prototype.handle_save = function(fig, msg) {\n",
       "    var format_dropdown = fig.format_dropdown;\n",
       "    var format = format_dropdown.options[format_dropdown.selectedIndex].value;\n",
       "    fig.ondownload(fig, format);\n",
       "}\n",
       "\n",
       "\n",
       "mpl.figure.prototype.handle_resize = function(fig, msg) {\n",
       "    var size = msg['size'];\n",
       "    if (size[0] != fig.canvas.width || size[1] != fig.canvas.height) {\n",
       "        fig._resize_canvas(size[0], size[1]);\n",
       "        fig.send_message(\"refresh\", {});\n",
       "    };\n",
       "}\n",
       "\n",
       "mpl.figure.prototype.handle_rubberband = function(fig, msg) {\n",
       "    var x0 = msg['x0'] / mpl.ratio;\n",
       "    var y0 = (fig.canvas.height - msg['y0']) / mpl.ratio;\n",
       "    var x1 = msg['x1'] / mpl.ratio;\n",
       "    var y1 = (fig.canvas.height - msg['y1']) / mpl.ratio;\n",
       "    x0 = Math.floor(x0) + 0.5;\n",
       "    y0 = Math.floor(y0) + 0.5;\n",
       "    x1 = Math.floor(x1) + 0.5;\n",
       "    y1 = Math.floor(y1) + 0.5;\n",
       "    var min_x = Math.min(x0, x1);\n",
       "    var min_y = Math.min(y0, y1);\n",
       "    var width = Math.abs(x1 - x0);\n",
       "    var height = Math.abs(y1 - y0);\n",
       "\n",
       "    fig.rubberband_context.clearRect(\n",
       "        0, 0, fig.canvas.width, fig.canvas.height);\n",
       "\n",
       "    fig.rubberband_context.strokeRect(min_x, min_y, width, height);\n",
       "}\n",
       "\n",
       "mpl.figure.prototype.handle_figure_label = function(fig, msg) {\n",
       "    // Updates the figure title.\n",
       "    fig.header.textContent = msg['label'];\n",
       "}\n",
       "\n",
       "mpl.figure.prototype.handle_cursor = function(fig, msg) {\n",
       "    var cursor = msg['cursor'];\n",
       "    switch(cursor)\n",
       "    {\n",
       "    case 0:\n",
       "        cursor = 'pointer';\n",
       "        break;\n",
       "    case 1:\n",
       "        cursor = 'default';\n",
       "        break;\n",
       "    case 2:\n",
       "        cursor = 'crosshair';\n",
       "        break;\n",
       "    case 3:\n",
       "        cursor = 'move';\n",
       "        break;\n",
       "    }\n",
       "    fig.rubberband_canvas.style.cursor = cursor;\n",
       "}\n",
       "\n",
       "mpl.figure.prototype.handle_message = function(fig, msg) {\n",
       "    fig.message.textContent = msg['message'];\n",
       "}\n",
       "\n",
       "mpl.figure.prototype.handle_draw = function(fig, msg) {\n",
       "    // Request the server to send over a new figure.\n",
       "    fig.send_draw_message();\n",
       "}\n",
       "\n",
       "mpl.figure.prototype.handle_image_mode = function(fig, msg) {\n",
       "    fig.image_mode = msg['mode'];\n",
       "}\n",
       "\n",
       "mpl.figure.prototype.updated_canvas_event = function() {\n",
       "    // Called whenever the canvas gets updated.\n",
       "    this.send_message(\"ack\", {});\n",
       "}\n",
       "\n",
       "// A function to construct a web socket function for onmessage handling.\n",
       "// Called in the figure constructor.\n",
       "mpl.figure.prototype._make_on_message_function = function(fig) {\n",
       "    return function socket_on_message(evt) {\n",
       "        if (evt.data instanceof Blob) {\n",
       "            /* FIXME: We get \"Resource interpreted as Image but\n",
       "             * transferred with MIME type text/plain:\" errors on\n",
       "             * Chrome.  But how to set the MIME type?  It doesn't seem\n",
       "             * to be part of the websocket stream */\n",
       "            evt.data.type = \"image/png\";\n",
       "\n",
       "            /* Free the memory for the previous frames */\n",
       "            if (fig.imageObj.src) {\n",
       "                (window.URL || window.webkitURL).revokeObjectURL(\n",
       "                    fig.imageObj.src);\n",
       "            }\n",
       "\n",
       "            fig.imageObj.src = (window.URL || window.webkitURL).createObjectURL(\n",
       "                evt.data);\n",
       "            fig.updated_canvas_event();\n",
       "            fig.waiting = false;\n",
       "            return;\n",
       "        }\n",
       "        else if (typeof evt.data === 'string' && evt.data.slice(0, 21) == \"data:image/png;base64\") {\n",
       "            fig.imageObj.src = evt.data;\n",
       "            fig.updated_canvas_event();\n",
       "            fig.waiting = false;\n",
       "            return;\n",
       "        }\n",
       "\n",
       "        var msg = JSON.parse(evt.data);\n",
       "        var msg_type = msg['type'];\n",
       "\n",
       "        // Call the  \"handle_{type}\" callback, which takes\n",
       "        // the figure and JSON message as its only arguments.\n",
       "        try {\n",
       "            var callback = fig[\"handle_\" + msg_type];\n",
       "        } catch (e) {\n",
       "            console.log(\"No handler for the '\" + msg_type + \"' message type: \", msg);\n",
       "            return;\n",
       "        }\n",
       "\n",
       "        if (callback) {\n",
       "            try {\n",
       "                // console.log(\"Handling '\" + msg_type + \"' message: \", msg);\n",
       "                callback(fig, msg);\n",
       "            } catch (e) {\n",
       "                console.log(\"Exception inside the 'handler_\" + msg_type + \"' callback:\", e, e.stack, msg);\n",
       "            }\n",
       "        }\n",
       "    };\n",
       "}\n",
       "\n",
       "// from http://stackoverflow.com/questions/1114465/getting-mouse-location-in-canvas\n",
       "mpl.findpos = function(e) {\n",
       "    //this section is from http://www.quirksmode.org/js/events_properties.html\n",
       "    var targ;\n",
       "    if (!e)\n",
       "        e = window.event;\n",
       "    if (e.target)\n",
       "        targ = e.target;\n",
       "    else if (e.srcElement)\n",
       "        targ = e.srcElement;\n",
       "    if (targ.nodeType == 3) // defeat Safari bug\n",
       "        targ = targ.parentNode;\n",
       "\n",
       "    // jQuery normalizes the pageX and pageY\n",
       "    // pageX,Y are the mouse positions relative to the document\n",
       "    // offset() returns the position of the element relative to the document\n",
       "    var x = e.pageX - $(targ).offset().left;\n",
       "    var y = e.pageY - $(targ).offset().top;\n",
       "\n",
       "    return {\"x\": x, \"y\": y};\n",
       "};\n",
       "\n",
       "/*\n",
       " * return a copy of an object with only non-object keys\n",
       " * we need this to avoid circular references\n",
       " * http://stackoverflow.com/a/24161582/3208463\n",
       " */\n",
       "function simpleKeys (original) {\n",
       "  return Object.keys(original).reduce(function (obj, key) {\n",
       "    if (typeof original[key] !== 'object')\n",
       "        obj[key] = original[key]\n",
       "    return obj;\n",
       "  }, {});\n",
       "}\n",
       "\n",
       "mpl.figure.prototype.mouse_event = function(event, name) {\n",
       "    var canvas_pos = mpl.findpos(event)\n",
       "\n",
       "    if (name === 'button_press')\n",
       "    {\n",
       "        this.canvas.focus();\n",
       "        this.canvas_div.focus();\n",
       "    }\n",
       "\n",
       "    var x = canvas_pos.x * mpl.ratio;\n",
       "    var y = canvas_pos.y * mpl.ratio;\n",
       "\n",
       "    this.send_message(name, {x: x, y: y, button: event.button,\n",
       "                             step: event.step,\n",
       "                             guiEvent: simpleKeys(event)});\n",
       "\n",
       "    /* This prevents the web browser from automatically changing to\n",
       "     * the text insertion cursor when the button is pressed.  We want\n",
       "     * to control all of the cursor setting manually through the\n",
       "     * 'cursor' event from matplotlib */\n",
       "    event.preventDefault();\n",
       "    return false;\n",
       "}\n",
       "\n",
       "mpl.figure.prototype._key_event_extra = function(event, name) {\n",
       "    // Handle any extra behaviour associated with a key event\n",
       "}\n",
       "\n",
       "mpl.figure.prototype.key_event = function(event, name) {\n",
       "\n",
       "    // Prevent repeat events\n",
       "    if (name == 'key_press')\n",
       "    {\n",
       "        if (event.which === this._key)\n",
       "            return;\n",
       "        else\n",
       "            this._key = event.which;\n",
       "    }\n",
       "    if (name == 'key_release')\n",
       "        this._key = null;\n",
       "\n",
       "    var value = '';\n",
       "    if (event.ctrlKey && event.which != 17)\n",
       "        value += \"ctrl+\";\n",
       "    if (event.altKey && event.which != 18)\n",
       "        value += \"alt+\";\n",
       "    if (event.shiftKey && event.which != 16)\n",
       "        value += \"shift+\";\n",
       "\n",
       "    value += 'k';\n",
       "    value += event.which.toString();\n",
       "\n",
       "    this._key_event_extra(event, name);\n",
       "\n",
       "    this.send_message(name, {key: value,\n",
       "                             guiEvent: simpleKeys(event)});\n",
       "    return false;\n",
       "}\n",
       "\n",
       "mpl.figure.prototype.toolbar_button_onclick = function(name) {\n",
       "    if (name == 'download') {\n",
       "        this.handle_save(this, null);\n",
       "    } else {\n",
       "        this.send_message(\"toolbar_button\", {name: name});\n",
       "    }\n",
       "};\n",
       "\n",
       "mpl.figure.prototype.toolbar_button_onmouseover = function(tooltip) {\n",
       "    this.message.textContent = tooltip;\n",
       "};\n",
       "mpl.toolbar_items = [[\"Home\", \"Reset original view\", \"fa fa-home icon-home\", \"home\"], [\"Back\", \"Back to  previous view\", \"fa fa-arrow-left icon-arrow-left\", \"back\"], [\"Forward\", \"Forward to next view\", \"fa fa-arrow-right icon-arrow-right\", \"forward\"], [\"\", \"\", \"\", \"\"], [\"Pan\", \"Pan axes with left mouse, zoom with right\", \"fa fa-arrows icon-move\", \"pan\"], [\"Zoom\", \"Zoom to rectangle\", \"fa fa-square-o icon-check-empty\", \"zoom\"], [\"\", \"\", \"\", \"\"], [\"Download\", \"Download plot\", \"fa fa-floppy-o icon-save\", \"download\"]];\n",
       "\n",
       "mpl.extensions = [\"eps\", \"jpeg\", \"pdf\", \"png\", \"ps\", \"raw\", \"svg\", \"tif\"];\n",
       "\n",
       "mpl.default_extension = \"png\";var comm_websocket_adapter = function(comm) {\n",
       "    // Create a \"websocket\"-like object which calls the given IPython comm\n",
       "    // object with the appropriate methods. Currently this is a non binary\n",
       "    // socket, so there is still some room for performance tuning.\n",
       "    var ws = {};\n",
       "\n",
       "    ws.close = function() {\n",
       "        comm.close()\n",
       "    };\n",
       "    ws.send = function(m) {\n",
       "        //console.log('sending', m);\n",
       "        comm.send(m);\n",
       "    };\n",
       "    // Register the callback with on_msg.\n",
       "    comm.on_msg(function(msg) {\n",
       "        //console.log('receiving', msg['content']['data'], msg);\n",
       "        // Pass the mpl event to the overriden (by mpl) onmessage function.\n",
       "        ws.onmessage(msg['content']['data'])\n",
       "    });\n",
       "    return ws;\n",
       "}\n",
       "\n",
       "mpl.mpl_figure_comm = function(comm, msg) {\n",
       "    // This is the function which gets called when the mpl process\n",
       "    // starts-up an IPython Comm through the \"matplotlib\" channel.\n",
       "\n",
       "    var id = msg.content.data.id;\n",
       "    // Get hold of the div created by the display call when the Comm\n",
       "    // socket was opened in Python.\n",
       "    var element = $(\"#\" + id);\n",
       "    var ws_proxy = comm_websocket_adapter(comm)\n",
       "\n",
       "    function ondownload(figure, format) {\n",
       "        window.open(figure.imageObj.src);\n",
       "    }\n",
       "\n",
       "    var fig = new mpl.figure(id, ws_proxy,\n",
       "                           ondownload,\n",
       "                           element.get(0));\n",
       "\n",
       "    // Call onopen now - mpl needs it, as it is assuming we've passed it a real\n",
       "    // web socket which is closed, not our websocket->open comm proxy.\n",
       "    ws_proxy.onopen();\n",
       "\n",
       "    fig.parent_element = element.get(0);\n",
       "    fig.cell_info = mpl.find_output_cell(\"<div id='\" + id + \"'></div>\");\n",
       "    if (!fig.cell_info) {\n",
       "        console.error(\"Failed to find cell for figure\", id, fig);\n",
       "        return;\n",
       "    }\n",
       "\n",
       "    var output_index = fig.cell_info[2]\n",
       "    var cell = fig.cell_info[0];\n",
       "\n",
       "};\n",
       "\n",
       "mpl.figure.prototype.handle_close = function(fig, msg) {\n",
       "    var width = fig.canvas.width/mpl.ratio\n",
       "    fig.root.unbind('remove')\n",
       "\n",
       "    // Update the output cell to use the data from the current canvas.\n",
       "    fig.push_to_output();\n",
       "    var dataURL = fig.canvas.toDataURL();\n",
       "    // Re-enable the keyboard manager in IPython - without this line, in FF,\n",
       "    // the notebook keyboard shortcuts fail.\n",
       "    IPython.keyboard_manager.enable()\n",
       "    $(fig.parent_element).html('<img src=\"' + dataURL + '\" width=\"' + width + '\">');\n",
       "    fig.close_ws(fig, msg);\n",
       "}\n",
       "\n",
       "mpl.figure.prototype.close_ws = function(fig, msg){\n",
       "    fig.send_message('closing', msg);\n",
       "    // fig.ws.close()\n",
       "}\n",
       "\n",
       "mpl.figure.prototype.push_to_output = function(remove_interactive) {\n",
       "    // Turn the data on the canvas into data in the output cell.\n",
       "    var width = this.canvas.width/mpl.ratio\n",
       "    var dataURL = this.canvas.toDataURL();\n",
       "    this.cell_info[1]['text/html'] = '<img src=\"' + dataURL + '\" width=\"' + width + '\">';\n",
       "}\n",
       "\n",
       "mpl.figure.prototype.updated_canvas_event = function() {\n",
       "    // Tell IPython that the notebook contents must change.\n",
       "    IPython.notebook.set_dirty(true);\n",
       "    this.send_message(\"ack\", {});\n",
       "    var fig = this;\n",
       "    // Wait a second, then push the new image to the DOM so\n",
       "    // that it is saved nicely (might be nice to debounce this).\n",
       "    setTimeout(function () { fig.push_to_output() }, 1000);\n",
       "}\n",
       "\n",
       "mpl.figure.prototype._init_toolbar = function() {\n",
       "    var fig = this;\n",
       "\n",
       "    var nav_element = $('<div/>')\n",
       "    nav_element.attr('style', 'width: 100%');\n",
       "    this.root.append(nav_element);\n",
       "\n",
       "    // Define a callback function for later on.\n",
       "    function toolbar_event(event) {\n",
       "        return fig.toolbar_button_onclick(event['data']);\n",
       "    }\n",
       "    function toolbar_mouse_event(event) {\n",
       "        return fig.toolbar_button_onmouseover(event['data']);\n",
       "    }\n",
       "\n",
       "    for(var toolbar_ind in mpl.toolbar_items){\n",
       "        var name = mpl.toolbar_items[toolbar_ind][0];\n",
       "        var tooltip = mpl.toolbar_items[toolbar_ind][1];\n",
       "        var image = mpl.toolbar_items[toolbar_ind][2];\n",
       "        var method_name = mpl.toolbar_items[toolbar_ind][3];\n",
       "\n",
       "        if (!name) { continue; };\n",
       "\n",
       "        var button = $('<button class=\"btn btn-default\" href=\"#\" title=\"' + name + '\"><i class=\"fa ' + image + ' fa-lg\"></i></button>');\n",
       "        button.click(method_name, toolbar_event);\n",
       "        button.mouseover(tooltip, toolbar_mouse_event);\n",
       "        nav_element.append(button);\n",
       "    }\n",
       "\n",
       "    // Add the status bar.\n",
       "    var status_bar = $('<span class=\"mpl-message\" style=\"text-align:right; float: right;\"/>');\n",
       "    nav_element.append(status_bar);\n",
       "    this.message = status_bar[0];\n",
       "\n",
       "    // Add the close button to the window.\n",
       "    var buttongrp = $('<div class=\"btn-group inline pull-right\"></div>');\n",
       "    var button = $('<button class=\"btn btn-mini btn-primary\" href=\"#\" title=\"Stop Interaction\"><i class=\"fa fa-power-off icon-remove icon-large\"></i></button>');\n",
       "    button.click(function (evt) { fig.handle_close(fig, {}); } );\n",
       "    button.mouseover('Stop Interaction', toolbar_mouse_event);\n",
       "    buttongrp.append(button);\n",
       "    var titlebar = this.root.find($('.ui-dialog-titlebar'));\n",
       "    titlebar.prepend(buttongrp);\n",
       "}\n",
       "\n",
       "mpl.figure.prototype._root_extra_style = function(el){\n",
       "    var fig = this\n",
       "    el.on(\"remove\", function(){\n",
       "\tfig.close_ws(fig, {});\n",
       "    });\n",
       "}\n",
       "\n",
       "mpl.figure.prototype._canvas_extra_style = function(el){\n",
       "    // this is important to make the div 'focusable\n",
       "    el.attr('tabindex', 0)\n",
       "    // reach out to IPython and tell the keyboard manager to turn it's self\n",
       "    // off when our div gets focus\n",
       "\n",
       "    // location in version 3\n",
       "    if (IPython.notebook.keyboard_manager) {\n",
       "        IPython.notebook.keyboard_manager.register_events(el);\n",
       "    }\n",
       "    else {\n",
       "        // location in version 2\n",
       "        IPython.keyboard_manager.register_events(el);\n",
       "    }\n",
       "\n",
       "}\n",
       "\n",
       "mpl.figure.prototype._key_event_extra = function(event, name) {\n",
       "    var manager = IPython.notebook.keyboard_manager;\n",
       "    if (!manager)\n",
       "        manager = IPython.keyboard_manager;\n",
       "\n",
       "    // Check for shift+enter\n",
       "    if (event.shiftKey && event.which == 13) {\n",
       "        this.canvas_div.blur();\n",
       "        // select the cell after this one\n",
       "        var index = IPython.notebook.find_cell_index(this.cell_info[0]);\n",
       "        IPython.notebook.select(index + 1);\n",
       "    }\n",
       "}\n",
       "\n",
       "mpl.figure.prototype.handle_save = function(fig, msg) {\n",
       "    fig.ondownload(fig, null);\n",
       "}\n",
       "\n",
       "\n",
       "mpl.find_output_cell = function(html_output) {\n",
       "    // Return the cell and output element which can be found *uniquely* in the notebook.\n",
       "    // Note - this is a bit hacky, but it is done because the \"notebook_saving.Notebook\"\n",
       "    // IPython event is triggered only after the cells have been serialised, which for\n",
       "    // our purposes (turning an active figure into a static one), is too late.\n",
       "    var cells = IPython.notebook.get_cells();\n",
       "    var ncells = cells.length;\n",
       "    for (var i=0; i<ncells; i++) {\n",
       "        var cell = cells[i];\n",
       "        if (cell.cell_type === 'code'){\n",
       "            for (var j=0; j<cell.output_area.outputs.length; j++) {\n",
       "                var data = cell.output_area.outputs[j];\n",
       "                if (data.data) {\n",
       "                    // IPython >= 3 moved mimebundle to data attribute of output\n",
       "                    data = data.data;\n",
       "                }\n",
       "                if (data['text/html'] == html_output) {\n",
       "                    return [cell, data, j];\n",
       "                }\n",
       "            }\n",
       "        }\n",
       "    }\n",
       "}\n",
       "\n",
       "// Register the function which deals with the matplotlib target/channel.\n",
       "// The kernel may be null if the page has been refreshed.\n",
       "if (IPython.notebook.kernel != null) {\n",
       "    IPython.notebook.kernel.comm_manager.register_target('matplotlib', mpl.mpl_figure_comm);\n",
       "}\n"
      ],
      "text/plain": [
       "<IPython.core.display.Javascript object>"
      ]
     },
     "metadata": {},
     "output_type": "display_data"
    },
    {
     "data": {
      "text/html": [
       "<img src=\"data:image/png;base64,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\" width=\"1250\">"
      ],
      "text/plain": [
       "<IPython.core.display.HTML object>"
      ]
     },
     "metadata": {},
     "output_type": "display_data"
    }
   ],
   "source": [
    "titles = [\"Excitatory feedback\", \n",
    "          \"Inhibitory feedback\", \n",
    "          \"Mixed feedback\"]\n",
    "labels = [r\"$w^\\mathrm{ex}_{\\mathrm{RCR}}$\", \n",
    "          r\"$w^\\mathrm{in}_{\\mathrm{RCR}}$\", \n",
    "          r\"$w^\\mathrm{ex/in}_{\\mathrm{RCR}}$\"]\n",
    "\n",
    "short_labels = [\"ex-fb\", \"in-fb\", \"mix-fb\"]\n",
    "\n",
    "fig, ((ax1, ax2, ax3), (ax4, ax5, ax6)) = plt.subplots(2, 3, figsize=(10, 7.5))\n",
    "\n",
    "# Size tuning curves:\n",
    "for k, linestyle in enumerate([\"-\", \"--\"]):\n",
    "    for ax, w_rc, curves, title, label in zip([ax1, ax2, ax3],\n",
    "                                               [w_rc_ex, w_rc_in, w_rc_mix], \n",
    "                                               [size_tuning[\"fb_ex\"][k][\"tuning_curve\"], \n",
    "                                                size_tuning[\"fb_in\"][k][\"tuning_curve\"], \n",
    "                                                size_tuning[\"fb_mix\"][k][\"tuning_curve\"]],\n",
    "                                               titles, labels):\n",
    "\n",
    "        for w, curve, color in zip(w_rc[:-1], curves[:-1], [\"C0\", \"C1\", \"C2\"]):\n",
    "            if k == 0:\n",
    "                label_=r\"${} \\times $\".format(round(w, 1))+label\n",
    "                lw = 1.2 \n",
    "            else:\n",
    "                label_=\"\"\n",
    "                lw = 2.2\n",
    "            ax.plot(patch_diameter, curve, linestyle, color=color, lw=lw, label=label_)\n",
    "\n",
    "        ax.set_xlim([0, 10])\n",
    "        ax.set_ylim([0, 8])\n",
    "        ax.legend(fontsize=15, handlelength=0.5, labelspacing=0.4, borderpad=0.0)\n",
    "        ax.set_title(title)\n",
    "\n",
    "\n",
    "    ax1.set_ylabel(\"Response\")\n",
    "    ax1.set_xlabel(\"Spot diameter (deg)\")\n",
    "    ax2.set_yticklabels([])\n",
    "    ax3.set_yticklabels([])\n",
    "\n",
    "\n",
    "    if k == 0:\n",
    "        label_= short_labels\n",
    "    else:\n",
    "        label_=[\"\", \"\", \"\"]\n",
    "    \n",
    "    # optimal size\n",
    "    ax5.plot(w_rc_ex, size_tuning[\"fb_ex\"][k][\"cen_size\"], linestyle, color=\"C0\", lw=lw, label=label_[0])\n",
    "    ax5.plot(w_rc_in, size_tuning[\"fb_in\"][k][\"cen_size\"], linestyle, color=\"C1\", lw=lw, label=label_[1])\n",
    "    ax5.plot(w_rc_mix, size_tuning[\"fb_mix\"][k][\"cen_size\"], linestyle, color=\"C2\", lw=lw, label=label_[2])\n",
    "\n",
    "    # suppression index\n",
    "    ax6.plot(w_rc_ex, size_tuning[\"fb_ex\"][k][\"supp_index\"], linestyle, color=\"C0\", lw=lw, label=label_[0])\n",
    "    ax6.plot(w_rc_in, size_tuning[\"fb_in\"][k][\"supp_index\"], linestyle, color=\"C1\", lw=lw, label=label_[1])\n",
    "    ax6.plot(w_rc_mix, size_tuning[\"fb_mix\"][k][\"supp_index\"], linestyle, color=\"C2\", lw=lw, label=label_[2])\n",
    "\n",
    "\n",
    "ax5.legend(fontsize=15, handlelength=0.5, labelspacing=0.4, borderpad=0.0)\n",
    "ax5.set_title(\"Optimal size\", fontsize=18)\n",
    "ax5.set_ylabel(\"Size (deg)\", fontsize=16)\n",
    "ax5.set_xlabel(\"Feedback strength\", fontsize=16)\n",
    "ax5.set_xlim([0, 1.5])\n",
    "\n",
    "ax6.set_title(r\"Suppression index\", fontsize=18)\n",
    "ax6.set_ylabel(r\"$\\boldsymbol{\\alpha_\\mathrm{s\\;(\\%)}}$\", fontsize=18)\n",
    "ax6.set_xlabel(\"Feedback strength\", fontsize=16)\n",
    "ax6.set_xlim([0, 1.5])\n",
    "\n",
    "# illustrative figure\n",
    "curve = size_tuning[\"fb_ex\"][0][\"tuning_curve\"][0,:]\n",
    "norm_curve = (curve - curve.min()) / (curve - curve.min()).max()\n",
    "\n",
    "ax4.plot(patch_diameter, norm_curve)\n",
    "ax4.set_xlim([0, 10])\n",
    "ax4.set_ylabel(\"Normalized response\", fontsize=16)\n",
    "ax4.set_xlabel(\"Patch diameter (deg)\", labelpad=20, fontsize=16)\n",
    "ax4.set_title(\"Size tuning curve\", y=1.05, fontsize=18)\n",
    "\n",
    "ax4.spines['left'].set_position(('data', 0))\n",
    "ax4.spines['right'].set_color('none')\n",
    "ax4.spines['top'].set_color('none')\n",
    "ax4.spines['bottom'].set_position(('data', 0))\n",
    "\n",
    "ax4.xaxis.set_ticks_position('none')\n",
    "ax4.yaxis.set_ticks_position('none')\n",
    "\n",
    "ax4.set_yticks([])\n",
    "ax4.set_xticks([])\n",
    "\n",
    "ax4.grid(False)\n",
    "\n",
    "ax4.set_facecolor(\"w\")\n",
    "ax4.axhline(y=0, color='k', linewidth=1.)\n",
    "ax4.axvline(x=0, color='k', linewidth=1.)\n",
    "\n",
    "\n",
    "max_id = np.where(norm_curve == norm_curve.max())\n",
    "xmax = patch_diameter[max_id].magnitude\n",
    "ymax = norm_curve.max()\n",
    "xsteady = patch_diameter[-20].magnitude\n",
    "ysteady = norm_curve[-20]\n",
    "\n",
    "ax4.plot([0.5, patch_diameter[-20]], [ymax, ymax], color='k', linewidth=1, linestyle=\":\")\n",
    "\n",
    "ax4.annotate(\"Optimal size\", xy=(xmax-1., ymax+ymax*0.05), xycoords='data', xytext=(-1, +1), \n",
    "             textcoords='offset points', fontsize=14)\n",
    "ax4.annotate(\"\", xy=(xmax, 0), xycoords='data', xytext=(xmax, ymax), textcoords='data',\n",
    "             arrowprops={'arrowstyle': '<|-|>', 'linestyle': '-', 'linewidth': 1, 'color': 'k'})\n",
    "\n",
    "ax4.annotate(r\"Suppression, $\\boldsymbol{\\alpha_\\mathrm{s}}$\", xy=(xsteady-0.7, (ymax-ysteady)*1.15), \n",
    "             xycoords='data', xytext=(-1, +1), textcoords='offset points', rotation=90, fontsize=15)\n",
    "ax4.annotate(\"\", xy=(xsteady, ysteady), xycoords='data', xytext=(xsteady, ymax), textcoords='data',\n",
    "             arrowprops={'arrowstyle': '<|-|>', 'linestyle': '-', 'linewidth': 1, 'color': 'k'})\n",
    "\n",
    "fig.tight_layout()"
   ]
  },
  {
   "cell_type": "code",
   "execution_count": null,
   "metadata": {},
   "outputs": [],
   "source": []
  }
 ],
 "metadata": {
  "anaconda-cloud": {},
  "kernelspec": {
   "display_name": "Python 3",
   "language": "python",
   "name": "python3"
  },
  "language_info": {
   "codemirror_mode": {
    "name": "ipython",
    "version": 3
   },
   "file_extension": ".py",
   "mimetype": "text/x-python",
   "name": "python",
   "nbconvert_exporter": "python",
   "pygments_lexer": "ipython3",
   "version": "3.5.4"
  },
  "nbpresent": {
   "slides": {
    "0c512947-22b0-4620-957c-acb049a64df1": {
     "id": "0c512947-22b0-4620-957c-acb049a64df1",
     "prev": "fb0a318a-a23a-4d41-886a-dd6cea238b53",
     "regions": {
      "4f50cc9d-7580-428e-a900-06d87cdfe71a": {
       "attrs": {
        "height": 0.8,
        "width": 0.8,
        "x": 0.1,
        "y": 0.1
       },
       "content": {
        "cell": "0329e4f2-14b2-4162-9265-b79666a7f713",
        "part": "whole"
       },
       "id": "4f50cc9d-7580-428e-a900-06d87cdfe71a"
      }
     },
     "theme": null
    },
    "30d1a1d6-85e5-4a38-b09c-822be9414bd4": {
     "id": "30d1a1d6-85e5-4a38-b09c-822be9414bd4",
     "prev": "d6db61c1-604e-4121-8c01-f3d22416de15",
     "regions": {
      "2f6d32e5-a952-4294-9cc4-f99945d45603": {
       "attrs": {
        "height": 0.8,
        "width": 0.8,
        "x": 0.1,
        "y": 0.1
       },
       "content": {
        "cell": "382b46f7-25d4-4eaf-b3a9-647de01d8348",
        "part": "whole"
       },
       "id": "2f6d32e5-a952-4294-9cc4-f99945d45603"
      }
     }
    },
    "52a12f95-282a-48f3-ad0c-35b4502ef810": {
     "id": "52a12f95-282a-48f3-ad0c-35b4502ef810",
     "prev": null,
     "regions": {
      "f682cb8c-f3ed-466a-b367-d9ee4b3696af": {
       "attrs": {
        "height": 0.8,
        "width": 0.8,
        "x": 0.1,
        "y": 0.1
       },
       "content": {
        "cell": "43262e84-0cf5-4f65-84c5-9efe58e654cd",
        "part": "whole"
       },
       "id": "f682cb8c-f3ed-466a-b367-d9ee4b3696af"
      }
     }
    },
    "641d5b5a-6aa1-40f6-bd32-585fc0e31382": {
     "id": "641d5b5a-6aa1-40f6-bd32-585fc0e31382",
     "prev": "95e6a885-2625-4579-b8b1-086d1fdb95f2",
     "regions": {
      "e4d018eb-5924-4c4b-9fdb-c8bbb2a9518e": {
       "attrs": {
        "height": 0.8,
        "width": 0.8,
        "x": 0.1,
        "y": 0.1
       },
       "content": {
        "cell": "bddec95f-d01d-45ad-aefb-bf3949f29c57",
        "part": "whole"
       },
       "id": "e4d018eb-5924-4c4b-9fdb-c8bbb2a9518e"
      }
     }
    },
    "8e9695f4-d725-4cf1-a771-dd22895bb5fc": {
     "id": "8e9695f4-d725-4cf1-a771-dd22895bb5fc",
     "prev": "641d5b5a-6aa1-40f6-bd32-585fc0e31382",
     "regions": {
      "dc7c7f91-9001-4633-a354-4f5389771235": {
       "attrs": {
        "height": 0.8,
        "width": 0.8,
        "x": 0.1,
        "y": 0.1
       },
       "content": {
        "cell": "dbdb971a-6087-405a-9c5d-9cd2920fbfd0",
        "part": "whole"
       },
       "id": "dc7c7f91-9001-4633-a354-4f5389771235"
      }
     }
    },
    "95e6a885-2625-4579-b8b1-086d1fdb95f2": {
     "id": "95e6a885-2625-4579-b8b1-086d1fdb95f2",
     "prev": "b5581607-c17f-4f66-96cc-1a2c36dc5ca3",
     "regions": {
      "2612b9d1-8f75-4832-b18d-bc756004d96b": {
       "attrs": {
        "height": 0.8,
        "width": 0.8,
        "x": 0.1,
        "y": 0.1
       },
       "content": {
        "cell": "04113409-bf22-490e-929c-902239ddee2f",
        "part": "whole"
       },
       "id": "2612b9d1-8f75-4832-b18d-bc756004d96b"
      }
     }
    },
    "9ba4c26f-cf11-4b3e-aaa9-14b470d809a4": {
     "id": "9ba4c26f-cf11-4b3e-aaa9-14b470d809a4",
     "prev": "df83e99b-f0c7-4f83-82c2-66db3a61d655",
     "regions": {
      "7705d5e8-c66c-4ac6-9f67-af901d3f062f": {
       "attrs": {
        "height": 0.8,
        "width": 0.8,
        "x": 0.1,
        "y": 0.1
       },
       "content": {
        "cell": "382b46f7-25d4-4eaf-b3a9-647de01d8348",
        "part": "whole"
       },
       "id": "7705d5e8-c66c-4ac6-9f67-af901d3f062f"
      }
     }
    },
    "9d0e3a49-f3d0-418f-b9d7-38e403f65770": {
     "id": "9d0e3a49-f3d0-418f-b9d7-38e403f65770",
     "prev": "0c512947-22b0-4620-957c-acb049a64df1",
     "regions": {
      "7668ddf4-59a7-47d0-88ac-987690baaa79": {
       "attrs": {
        "height": 0.8,
        "width": 0.8,
        "x": 0.1,
        "y": 0.1
       },
       "content": {
        "cell": "70350ee6-6295-4d0e-94c3-58e42c451918",
        "part": "whole"
       },
       "id": "7668ddf4-59a7-47d0-88ac-987690baaa79"
      }
     }
    },
    "b5581607-c17f-4f66-96cc-1a2c36dc5ca3": {
     "id": "b5581607-c17f-4f66-96cc-1a2c36dc5ca3",
     "prev": "9ba4c26f-cf11-4b3e-aaa9-14b470d809a4",
     "regions": {
      "eb078aeb-4c73-42f9-b303-62e78c80f9d1": {
       "attrs": {
        "height": 0.8,
        "width": 0.8,
        "x": 0.1,
        "y": 0.1
       },
       "content": {
        "cell": "de161638-3993-460b-bfe5-5f6e7782b40d",
        "part": "whole"
       },
       "id": "eb078aeb-4c73-42f9-b303-62e78c80f9d1"
      }
     }
    },
    "d6db61c1-604e-4121-8c01-f3d22416de15": {
     "id": "d6db61c1-604e-4121-8c01-f3d22416de15",
     "prev": "9d0e3a49-f3d0-418f-b9d7-38e403f65770",
     "regions": {
      "e233c42f-3857-443b-88d3-a3ca810237e8": {
       "attrs": {
        "height": 0.8,
        "width": 0.8,
        "x": 0.1,
        "y": 0.1
       },
       "content": {
        "cell": "4717121a-ec21-4560-a366-49a411d9a737",
        "part": "whole"
       },
       "id": "e233c42f-3857-443b-88d3-a3ca810237e8"
      }
     }
    },
    "df83e99b-f0c7-4f83-82c2-66db3a61d655": {
     "id": "df83e99b-f0c7-4f83-82c2-66db3a61d655",
     "prev": "30d1a1d6-85e5-4a38-b09c-822be9414bd4",
     "regions": {
      "170d6c07-f7ae-4c44-ac52-9ea5fdae038a": {
       "attrs": {
        "height": 0.8,
        "width": 0.8,
        "x": 0.1,
        "y": 0.1
       },
       "content": {
        "cell": "4717121a-ec21-4560-a366-49a411d9a737",
        "part": "whole"
       },
       "id": "170d6c07-f7ae-4c44-ac52-9ea5fdae038a"
      }
     }
    },
    "fb0a318a-a23a-4d41-886a-dd6cea238b53": {
     "id": "fb0a318a-a23a-4d41-886a-dd6cea238b53",
     "prev": "fda6540a-8662-495f-ba36-808ad292157d",
     "regions": {
      "3d312848-0567-498a-bd11-883ee4b6d357": {
       "attrs": {
        "height": 0.8,
        "width": 0.8,
        "x": 0.1,
        "y": 0.1
       },
       "content": {
        "cell": "03a51aa3-95e0-430b-9f4c-9604e8e01fdf",
        "part": "whole"
       },
       "id": "3d312848-0567-498a-bd11-883ee4b6d357"
      }
     }
    },
    "fda6540a-8662-495f-ba36-808ad292157d": {
     "id": "fda6540a-8662-495f-ba36-808ad292157d",
     "prev": "52a12f95-282a-48f3-ad0c-35b4502ef810",
     "regions": {
      "e7a689ab-12c6-4d3e-9619-e6b4c4fa6d3f": {
       "attrs": {
        "height": 0.8,
        "width": 0.8,
        "x": 0.1,
        "y": 0.1
       },
       "content": {
        "cell": "95a143d6-6f5f-4049-945a-a013649da004",
        "part": "whole"
       },
       "id": "e7a689ab-12c6-4d3e-9619-e6b4c4fa6d3f"
      }
     }
    }
   },
   "themes": {
    "default": "75daa297-5cd3-473b-a166-43f1ac864956",
    "theme": {
     "75daa297-5cd3-473b-a166-43f1ac864956": {
      "id": "75daa297-5cd3-473b-a166-43f1ac864956",
      "palette": {
       "19cc588f-0593-49c9-9f4b-e4d7cc113b1c": {
        "id": "19cc588f-0593-49c9-9f4b-e4d7cc113b1c",
        "rgb": [
         252,
         252,
         252
        ]
       },
       "31af15d2-7e15-44c5-ab5e-e04b16a89eff": {
        "id": "31af15d2-7e15-44c5-ab5e-e04b16a89eff",
        "rgb": [
         68,
         68,
         68
        ]
       },
       "50f92c45-a630-455b-aec3-788680ec7410": {
        "id": "50f92c45-a630-455b-aec3-788680ec7410",
        "rgb": [
         155,
         177,
         192
        ]
       },
       "c5cc3653-2ee1-402a-aba2-7caae1da4f6c": {
        "id": "c5cc3653-2ee1-402a-aba2-7caae1da4f6c",
        "rgb": [
         43,
         126,
         184
        ]
       },
       "efa7f048-9acb-414c-8b04-a26811511a21": {
        "id": "efa7f048-9acb-414c-8b04-a26811511a21",
        "rgb": [
         25.118061674008803,
         73.60176211453744,
         107.4819383259912
        ]
       }
      },
      "rules": {
       "blockquote": {
        "color": "50f92c45-a630-455b-aec3-788680ec7410"
       },
       "code": {
        "font-family": "Anonymous Pro"
       },
       "h1": {
        "color": "c5cc3653-2ee1-402a-aba2-7caae1da4f6c",
        "font-family": "Lato",
        "font-size": 8
       },
       "h2": {
        "color": "c5cc3653-2ee1-402a-aba2-7caae1da4f6c",
        "font-family": "Lato",
        "font-size": 6
       },
       "h3": {
        "color": "50f92c45-a630-455b-aec3-788680ec7410",
        "font-family": "Lato",
        "font-size": 5.5
       },
       "h4": {
        "color": "c5cc3653-2ee1-402a-aba2-7caae1da4f6c",
        "font-family": "Lato",
        "font-size": 5
       },
       "h5": {
        "font-family": "Lato"
       },
       "h6": {
        "font-family": "Lato"
       },
       "h7": {
        "font-family": "Lato"
       },
       "pre": {
        "font-family": "Anonymous Pro",
        "font-size": 4
       }
      },
      "text-base": {
       "font-family": "Merriweather",
       "font-size": 4
      }
     },
     "d307f93a-9047-4d98-889d-39af4e4707a4": {
      "backgrounds": {
       "dc7afa04-bf90-40b1-82a5-726e3cff5267": {
        "background-color": "31af15d2-7e15-44c5-ab5e-e04b16a89eff",
        "id": "dc7afa04-bf90-40b1-82a5-726e3cff5267"
       }
      },
      "id": "d307f93a-9047-4d98-889d-39af4e4707a4",
      "palette": {
       "19cc588f-0593-49c9-9f4b-e4d7cc113b1c": {
        "id": "19cc588f-0593-49c9-9f4b-e4d7cc113b1c",
        "rgb": [
         252,
         252,
         252
        ]
       },
       "31af15d2-7e15-44c5-ab5e-e04b16a89eff": {
        "id": "31af15d2-7e15-44c5-ab5e-e04b16a89eff",
        "rgb": [
         68,
         68,
         68
        ]
       },
       "50f92c45-a630-455b-aec3-788680ec7410": {
        "id": "50f92c45-a630-455b-aec3-788680ec7410",
        "rgb": [
         197,
         226,
         245
        ]
       },
       "c5cc3653-2ee1-402a-aba2-7caae1da4f6c": {
        "id": "c5cc3653-2ee1-402a-aba2-7caae1da4f6c",
        "rgb": [
         43,
         126,
         184
        ]
       },
       "efa7f048-9acb-414c-8b04-a26811511a21": {
        "id": "efa7f048-9acb-414c-8b04-a26811511a21",
        "rgb": [
         25.118061674008803,
         73.60176211453744,
         107.4819383259912
        ]
       }
      },
      "rules": {
       "a": {
        "color": "19cc588f-0593-49c9-9f4b-e4d7cc113b1c"
       },
       "blockquote": {
        "color": "50f92c45-a630-455b-aec3-788680ec7410",
        "font-size": 3
       },
       "code": {
        "font-family": "Anonymous Pro"
       },
       "h1": {
        "color": "19cc588f-0593-49c9-9f4b-e4d7cc113b1c",
        "font-family": "Merriweather",
        "font-size": 8
       },
       "h2": {
        "color": "19cc588f-0593-49c9-9f4b-e4d7cc113b1c",
        "font-family": "Merriweather",
        "font-size": 6
       },
       "h3": {
        "color": "50f92c45-a630-455b-aec3-788680ec7410",
        "font-family": "Lato",
        "font-size": 5.5
       },
       "h4": {
        "color": "c5cc3653-2ee1-402a-aba2-7caae1da4f6c",
        "font-family": "Lato",
        "font-size": 5
       },
       "h5": {
        "font-family": "Lato"
       },
       "h6": {
        "font-family": "Lato"
       },
       "h7": {
        "font-family": "Lato"
       },
       "li": {
        "color": "50f92c45-a630-455b-aec3-788680ec7410",
        "font-size": 3.25
       },
       "pre": {
        "font-family": "Anonymous Pro",
        "font-size": 4
       }
      },
      "text-base": {
       "color": "19cc588f-0593-49c9-9f4b-e4d7cc113b1c",
       "font-family": "Lato",
       "font-size": 4
      }
     }
    }
   }
  }
 },
 "nbformat": 4,
 "nbformat_minor": 2
}

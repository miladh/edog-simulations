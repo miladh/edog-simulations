{
 "cells": [
  {
   "cell_type": "code",
   "execution_count": 1,
   "metadata": {
    "collapsed": true,
    "slideshow": {
     "slide_type": "slide"
    }
   },
   "outputs": [],
   "source": [
    "%load_ext autoreload\n",
    "%autoreload 2\n",
    "%matplotlib notebook\n",
    "\n",
    "from IPython.display import set_matplotlib_formats\n",
    "set_matplotlib_formats('png', 'pdf')\n",
    "\n",
    "import numpy as np\n",
    "import matplotlib.pyplot as plt\n",
    "import quantities as pq\n",
    "from operator import itemgetter\n",
    "from edog.tools import*\n",
    "from edog.plot import*\n",
    "\n",
    "filename = \"params_Nr.yaml\"\n",
    "params = parse_parameters(filename)\n",
    "\n",
    "nt, nr, dt, dr = itemgetter(\"nt\", \"nr\", \"dt\", \"dr\")(params[\"grid\"])\n",
    "k_id, w_id, patch_diameter = itemgetter(\"k_id\", \"w_id\", \"patch_diameter\")(params[\"stimulus\"])\n",
    "A_g, a_g, B_g, b_g = itemgetter(\"A\", \"a\", \"B\", \"b\")(params[\"ganglion\"])\n",
    "w_rg, A_rg, a_rg = itemgetter(\"w\", \"A\", \"a\")(params[\"relay\"][\"Krg\"])\n",
    "w_rig, A_rig, a_rig = itemgetter(\"w\", \"A\", \"a\")(params[\"relay\"][\"Krig\"])\n",
    "w_rc_ex, A_rc_ex, a_rc_ex = itemgetter(\"w\", \"A\", \"a\")(params[\"relay\"][\"Krc_ex\"])\n",
    "w_rc_in, A_rc_in, a_rc_in = itemgetter(\"w\", \"A\", \"a\")(params[\"relay\"][\"Krc_in\"])\n",
    "\n",
    "w_rc_mix = itemgetter(\"w\")(params[\"relay\"][\"Krc_mix\"])\n",
    "A_rc_mix_in, a_rc_mix_in = itemgetter(\"A\", \"a\")(params[\"relay\"][\"Krc_mix\"][\"Krc_in\"])\n",
    "A_rc_mix_ex, a_rc_mix_ex = itemgetter(\"A\", \"a\")(params[\"relay\"][\"Krc_mix\"][\"Krc_ex\"])\n",
    "\n",
    "wavenumber_tuning = {\"fb_ex\": {}, \"fb_in\": {}, \"fb_mix\": {}}"
   ]
  },
  {
   "cell_type": "markdown",
   "metadata": {
    "nbpresent": {
     "id": "4717121a-ec21-4560-a366-49a411d9a737"
    }
   },
   "source": [
    "## Feedback excitation"
   ]
  },
  {
   "cell_type": "code",
   "execution_count": 2,
   "metadata": {
    "nbpresent": {
     "id": "382b46f7-25d4-4eaf-b3a9-647de01d8348"
    }
   },
   "outputs": [
    {
     "name": "stderr",
     "output_type": "stream",
     "text": [
      "/media/milad/ssd-scratch/apps/anaconda3/envs/edog/lib/python3.5/site-packages/pylgn-1.0-py3.5.egg/pylgn/stimulus.py:37: UserWarning: Warning: wavenumber sign is ignored. Use orientation to specify desired direction.\n"
     ]
    }
   ],
   "source": [
    "for d in patch_diameter:\n",
    "    tuning_curve = np.zeros([len(nr), len(w_rc_ex), len(k_id)])\n",
    "    \n",
    "    for j, n in enumerate(nr):\n",
    "        for i, w in enumerate(w_rc_ex):\n",
    "            network = create_spatial_network(nt=nt, nr=n, dt=dt, dr=dr,\n",
    "                                     A_g=A_g, a_g=a_g, B_g=B_g, b_g=b_g,\n",
    "                                     w_rg=w_rg, A_rg=A_rg, a_rg=a_rg,\n",
    "                                     w_rig=w_rig, A_rig=A_rig, a_rig=a_rig,\n",
    "                                     w_rc_ex=w, A_rc_ex=A_rc_ex, a_rc_ex=a_rc_ex)\n",
    "\n",
    "            angular_freq = network.integrator.temporal_angular_freqs[int(w_id)]\n",
    "            wavenumber = network.integrator.spatial_angular_freqs[k_id.astype(int)]\n",
    "            spatiotemporal_tuning = spatiotemporal_wavenumber_tuning(network=network,\n",
    "                                                                     angular_freq=angular_freq,\n",
    "                                                                     wavenumber=wavenumber,\n",
    "                                                                     patch_diameter=d)\n",
    "\n",
    "            tuning_curve[j, i, :] = spatiotemporal_tuning[0, :]\n",
    "\n",
    "    wavenumber_tuning[\"fb_ex\"][float(d.magnitude)] = tuning_curve"
   ]
  },
  {
   "cell_type": "markdown",
   "metadata": {
    "nbpresent": {
     "id": "4717121a-ec21-4560-a366-49a411d9a737"
    }
   },
   "source": [
    "## Feedback inhibition"
   ]
  },
  {
   "cell_type": "code",
   "execution_count": 3,
   "metadata": {
    "nbpresent": {
     "id": "382b46f7-25d4-4eaf-b3a9-647de01d8348"
    }
   },
   "outputs": [
    {
     "name": "stderr",
     "output_type": "stream",
     "text": [
      "/media/milad/ssd-scratch/apps/anaconda3/envs/edog/lib/python3.5/site-packages/pylgn-1.0-py3.5.egg/pylgn/stimulus.py:37: UserWarning: Warning: wavenumber sign is ignored. Use orientation to specify desired direction.\n"
     ]
    }
   ],
   "source": [
    "for d in patch_diameter:\n",
    "    tuning_curve = np.zeros([len(nr), len(w_rc_in), len(k_id)])   \n",
    "    \n",
    "    for j, n in enumerate(nr):\n",
    "        for i, w in enumerate(w_rc_in):\n",
    "            network = create_spatial_network(nt=nt, nr=n, dt=dt, dr=dr,\n",
    "                                     A_g=A_g, a_g=a_g, B_g=B_g, b_g=b_g,\n",
    "                                     w_rg=w_rg, A_rg=A_rg, a_rg=a_rg,\n",
    "                                     w_rig=w_rig, A_rig=A_rig, a_rig=a_rig,\n",
    "                                     w_rc_in=w, A_rc_in=A_rc_in, a_rc_in=a_rc_in)\n",
    "\n",
    "            angular_freq = network.integrator.temporal_angular_freqs[int(w_id)]\n",
    "            wavenumber = network.integrator.spatial_angular_freqs[k_id.astype(int)]\n",
    "            spatiotemporal_tuning = spatiotemporal_wavenumber_tuning(network=network,\n",
    "                                                                     angular_freq=angular_freq,\n",
    "                                                                     wavenumber=wavenumber,\n",
    "                                                                     patch_diameter=d)\n",
    "\n",
    "            tuning_curve[j, i, :] = spatiotemporal_tuning[0, :]\n",
    "        \n",
    "    wavenumber_tuning[\"fb_in\"][float(d.magnitude)] = tuning_curve"
   ]
  },
  {
   "cell_type": "markdown",
   "metadata": {},
   "source": [
    "## Mixed excitatory and inhibitory feedback"
   ]
  },
  {
   "cell_type": "code",
   "execution_count": 4,
   "metadata": {
    "nbpresent": {
     "id": "382b46f7-25d4-4eaf-b3a9-647de01d8348"
    }
   },
   "outputs": [
    {
     "name": "stderr",
     "output_type": "stream",
     "text": [
      "/media/milad/ssd-scratch/apps/anaconda3/envs/edog/lib/python3.5/site-packages/pylgn-1.0-py3.5.egg/pylgn/stimulus.py:37: UserWarning: Warning: wavenumber sign is ignored. Use orientation to specify desired direction.\n"
     ]
    }
   ],
   "source": [
    "for d in patch_diameter:\n",
    "    tuning_curve = np.zeros([len(nr), len(w_rc_mix), len(k_id)])\n",
    "    \n",
    "    for j, n in enumerate(nr):\n",
    "        for i, w in enumerate(w_rc_mix):\n",
    "            network = create_spatial_network(nt=nt, nr=n, dt=dt, dr=dr,\n",
    "                                     A_g=A_g, a_g=a_g, B_g=B_g, b_g=b_g,\n",
    "                                     w_rg=w_rg, A_rg=A_rg, a_rg=a_rg,\n",
    "                                     w_rig=w_rig, A_rig=A_rig, a_rig=a_rig,\n",
    "                                     w_rc_in=w, A_rc_in=A_rc_mix_in, a_rc_in=a_rc_mix_in,\n",
    "                                     w_rc_ex=w, A_rc_ex=A_rc_mix_ex, a_rc_ex=a_rc_mix_ex)\n",
    "\n",
    "            angular_freq = network.integrator.temporal_angular_freqs[int(w_id)]\n",
    "            wavenumber = network.integrator.spatial_angular_freqs[k_id.astype(int)]\n",
    "            spatiotemporal_tuning = spatiotemporal_wavenumber_tuning(network=network,\n",
    "                                                                     angular_freq=angular_freq,\n",
    "                                                                     wavenumber=wavenumber,\n",
    "                                                                     patch_diameter=d)\n",
    "\n",
    "            tuning_curve[j, i, :] = spatiotemporal_tuning[0, :]\n",
    "\n",
    "\n",
    "    wavenumber_tuning[\"fb_mix\"][float(d.magnitude)] = tuning_curve"
   ]
  },
  {
   "cell_type": "markdown",
   "metadata": {
    "collapsed": true,
    "nbpresent": {
     "id": "de161638-3993-460b-bfe5-5f6e7782b40d"
    }
   },
   "source": [
    "-------------\n",
    "## Convergence plots"
   ]
  },
  {
   "cell_type": "code",
   "execution_count": 5,
   "metadata": {
    "scrolled": false
   },
   "outputs": [
    {
     "data": {
      "application/javascript": [
       "/* Put everything inside the global mpl namespace */\n",
       "window.mpl = {};\n",
       "\n",
       "\n",
       "mpl.get_websocket_type = function() {\n",
       "    if (typeof(WebSocket) !== 'undefined') {\n",
       "        return WebSocket;\n",
       "    } else if (typeof(MozWebSocket) !== 'undefined') {\n",
       "        return MozWebSocket;\n",
       "    } else {\n",
       "        alert('Your browser does not have WebSocket support.' +\n",
       "              'Please try Chrome, Safari or Firefox ≥ 6. ' +\n",
       "              'Firefox 4 and 5 are also supported but you ' +\n",
       "              'have to enable WebSockets in about:config.');\n",
       "    };\n",
       "}\n",
       "\n",
       "mpl.figure = function(figure_id, websocket, ondownload, parent_element) {\n",
       "    this.id = figure_id;\n",
       "\n",
       "    this.ws = websocket;\n",
       "\n",
       "    this.supports_binary = (this.ws.binaryType != undefined);\n",
       "\n",
       "    if (!this.supports_binary) {\n",
       "        var warnings = document.getElementById(\"mpl-warnings\");\n",
       "        if (warnings) {\n",
       "            warnings.style.display = 'block';\n",
       "            warnings.textContent = (\n",
       "                \"This browser does not support binary websocket messages. \" +\n",
       "                    \"Performance may be slow.\");\n",
       "        }\n",
       "    }\n",
       "\n",
       "    this.imageObj = new Image();\n",
       "\n",
       "    this.context = undefined;\n",
       "    this.message = undefined;\n",
       "    this.canvas = undefined;\n",
       "    this.rubberband_canvas = undefined;\n",
       "    this.rubberband_context = undefined;\n",
       "    this.format_dropdown = undefined;\n",
       "\n",
       "    this.image_mode = 'full';\n",
       "\n",
       "    this.root = $('<div/>');\n",
       "    this._root_extra_style(this.root)\n",
       "    this.root.attr('style', 'display: inline-block');\n",
       "\n",
       "    $(parent_element).append(this.root);\n",
       "\n",
       "    this._init_header(this);\n",
       "    this._init_canvas(this);\n",
       "    this._init_toolbar(this);\n",
       "\n",
       "    var fig = this;\n",
       "\n",
       "    this.waiting = false;\n",
       "\n",
       "    this.ws.onopen =  function () {\n",
       "            fig.send_message(\"supports_binary\", {value: fig.supports_binary});\n",
       "            fig.send_message(\"send_image_mode\", {});\n",
       "            if (mpl.ratio != 1) {\n",
       "                fig.send_message(\"set_dpi_ratio\", {'dpi_ratio': mpl.ratio});\n",
       "            }\n",
       "            fig.send_message(\"refresh\", {});\n",
       "        }\n",
       "\n",
       "    this.imageObj.onload = function() {\n",
       "            if (fig.image_mode == 'full') {\n",
       "                // Full images could contain transparency (where diff images\n",
       "                // almost always do), so we need to clear the canvas so that\n",
       "                // there is no ghosting.\n",
       "                fig.context.clearRect(0, 0, fig.canvas.width, fig.canvas.height);\n",
       "            }\n",
       "            fig.context.drawImage(fig.imageObj, 0, 0);\n",
       "        };\n",
       "\n",
       "    this.imageObj.onunload = function() {\n",
       "        this.ws.close();\n",
       "    }\n",
       "\n",
       "    this.ws.onmessage = this._make_on_message_function(this);\n",
       "\n",
       "    this.ondownload = ondownload;\n",
       "}\n",
       "\n",
       "mpl.figure.prototype._init_header = function() {\n",
       "    var titlebar = $(\n",
       "        '<div class=\"ui-dialog-titlebar ui-widget-header ui-corner-all ' +\n",
       "        'ui-helper-clearfix\"/>');\n",
       "    var titletext = $(\n",
       "        '<div class=\"ui-dialog-title\" style=\"width: 100%; ' +\n",
       "        'text-align: center; padding: 3px;\"/>');\n",
       "    titlebar.append(titletext)\n",
       "    this.root.append(titlebar);\n",
       "    this.header = titletext[0];\n",
       "}\n",
       "\n",
       "\n",
       "\n",
       "mpl.figure.prototype._canvas_extra_style = function(canvas_div) {\n",
       "\n",
       "}\n",
       "\n",
       "\n",
       "mpl.figure.prototype._root_extra_style = function(canvas_div) {\n",
       "\n",
       "}\n",
       "\n",
       "mpl.figure.prototype._init_canvas = function() {\n",
       "    var fig = this;\n",
       "\n",
       "    var canvas_div = $('<div/>');\n",
       "\n",
       "    canvas_div.attr('style', 'position: relative; clear: both; outline: 0');\n",
       "\n",
       "    function canvas_keyboard_event(event) {\n",
       "        return fig.key_event(event, event['data']);\n",
       "    }\n",
       "\n",
       "    canvas_div.keydown('key_press', canvas_keyboard_event);\n",
       "    canvas_div.keyup('key_release', canvas_keyboard_event);\n",
       "    this.canvas_div = canvas_div\n",
       "    this._canvas_extra_style(canvas_div)\n",
       "    this.root.append(canvas_div);\n",
       "\n",
       "    var canvas = $('<canvas/>');\n",
       "    canvas.addClass('mpl-canvas');\n",
       "    canvas.attr('style', \"left: 0; top: 0; z-index: 0; outline: 0\")\n",
       "\n",
       "    this.canvas = canvas[0];\n",
       "    this.context = canvas[0].getContext(\"2d\");\n",
       "\n",
       "    var backingStore = this.context.backingStorePixelRatio ||\n",
       "\tthis.context.webkitBackingStorePixelRatio ||\n",
       "\tthis.context.mozBackingStorePixelRatio ||\n",
       "\tthis.context.msBackingStorePixelRatio ||\n",
       "\tthis.context.oBackingStorePixelRatio ||\n",
       "\tthis.context.backingStorePixelRatio || 1;\n",
       "\n",
       "    mpl.ratio = (window.devicePixelRatio || 1) / backingStore;\n",
       "\n",
       "    var rubberband = $('<canvas/>');\n",
       "    rubberband.attr('style', \"position: absolute; left: 0; top: 0; z-index: 1;\")\n",
       "\n",
       "    var pass_mouse_events = true;\n",
       "\n",
       "    canvas_div.resizable({\n",
       "        start: function(event, ui) {\n",
       "            pass_mouse_events = false;\n",
       "        },\n",
       "        resize: function(event, ui) {\n",
       "            fig.request_resize(ui.size.width, ui.size.height);\n",
       "        },\n",
       "        stop: function(event, ui) {\n",
       "            pass_mouse_events = true;\n",
       "            fig.request_resize(ui.size.width, ui.size.height);\n",
       "        },\n",
       "    });\n",
       "\n",
       "    function mouse_event_fn(event) {\n",
       "        if (pass_mouse_events)\n",
       "            return fig.mouse_event(event, event['data']);\n",
       "    }\n",
       "\n",
       "    rubberband.mousedown('button_press', mouse_event_fn);\n",
       "    rubberband.mouseup('button_release', mouse_event_fn);\n",
       "    // Throttle sequential mouse events to 1 every 20ms.\n",
       "    rubberband.mousemove('motion_notify', mouse_event_fn);\n",
       "\n",
       "    rubberband.mouseenter('figure_enter', mouse_event_fn);\n",
       "    rubberband.mouseleave('figure_leave', mouse_event_fn);\n",
       "\n",
       "    canvas_div.on(\"wheel\", function (event) {\n",
       "        event = event.originalEvent;\n",
       "        event['data'] = 'scroll'\n",
       "        if (event.deltaY < 0) {\n",
       "            event.step = 1;\n",
       "        } else {\n",
       "            event.step = -1;\n",
       "        }\n",
       "        mouse_event_fn(event);\n",
       "    });\n",
       "\n",
       "    canvas_div.append(canvas);\n",
       "    canvas_div.append(rubberband);\n",
       "\n",
       "    this.rubberband = rubberband;\n",
       "    this.rubberband_canvas = rubberband[0];\n",
       "    this.rubberband_context = rubberband[0].getContext(\"2d\");\n",
       "    this.rubberband_context.strokeStyle = \"#000000\";\n",
       "\n",
       "    this._resize_canvas = function(width, height) {\n",
       "        // Keep the size of the canvas, canvas container, and rubber band\n",
       "        // canvas in synch.\n",
       "        canvas_div.css('width', width)\n",
       "        canvas_div.css('height', height)\n",
       "\n",
       "        canvas.attr('width', width * mpl.ratio);\n",
       "        canvas.attr('height', height * mpl.ratio);\n",
       "        canvas.attr('style', 'width: ' + width + 'px; height: ' + height + 'px;');\n",
       "\n",
       "        rubberband.attr('width', width);\n",
       "        rubberband.attr('height', height);\n",
       "    }\n",
       "\n",
       "    // Set the figure to an initial 600x600px, this will subsequently be updated\n",
       "    // upon first draw.\n",
       "    this._resize_canvas(600, 600);\n",
       "\n",
       "    // Disable right mouse context menu.\n",
       "    $(this.rubberband_canvas).bind(\"contextmenu\",function(e){\n",
       "        return false;\n",
       "    });\n",
       "\n",
       "    function set_focus () {\n",
       "        canvas.focus();\n",
       "        canvas_div.focus();\n",
       "    }\n",
       "\n",
       "    window.setTimeout(set_focus, 100);\n",
       "}\n",
       "\n",
       "mpl.figure.prototype._init_toolbar = function() {\n",
       "    var fig = this;\n",
       "\n",
       "    var nav_element = $('<div/>')\n",
       "    nav_element.attr('style', 'width: 100%');\n",
       "    this.root.append(nav_element);\n",
       "\n",
       "    // Define a callback function for later on.\n",
       "    function toolbar_event(event) {\n",
       "        return fig.toolbar_button_onclick(event['data']);\n",
       "    }\n",
       "    function toolbar_mouse_event(event) {\n",
       "        return fig.toolbar_button_onmouseover(event['data']);\n",
       "    }\n",
       "\n",
       "    for(var toolbar_ind in mpl.toolbar_items) {\n",
       "        var name = mpl.toolbar_items[toolbar_ind][0];\n",
       "        var tooltip = mpl.toolbar_items[toolbar_ind][1];\n",
       "        var image = mpl.toolbar_items[toolbar_ind][2];\n",
       "        var method_name = mpl.toolbar_items[toolbar_ind][3];\n",
       "\n",
       "        if (!name) {\n",
       "            // put a spacer in here.\n",
       "            continue;\n",
       "        }\n",
       "        var button = $('<button/>');\n",
       "        button.addClass('ui-button ui-widget ui-state-default ui-corner-all ' +\n",
       "                        'ui-button-icon-only');\n",
       "        button.attr('role', 'button');\n",
       "        button.attr('aria-disabled', 'false');\n",
       "        button.click(method_name, toolbar_event);\n",
       "        button.mouseover(tooltip, toolbar_mouse_event);\n",
       "\n",
       "        var icon_img = $('<span/>');\n",
       "        icon_img.addClass('ui-button-icon-primary ui-icon');\n",
       "        icon_img.addClass(image);\n",
       "        icon_img.addClass('ui-corner-all');\n",
       "\n",
       "        var tooltip_span = $('<span/>');\n",
       "        tooltip_span.addClass('ui-button-text');\n",
       "        tooltip_span.html(tooltip);\n",
       "\n",
       "        button.append(icon_img);\n",
       "        button.append(tooltip_span);\n",
       "\n",
       "        nav_element.append(button);\n",
       "    }\n",
       "\n",
       "    var fmt_picker_span = $('<span/>');\n",
       "\n",
       "    var fmt_picker = $('<select/>');\n",
       "    fmt_picker.addClass('mpl-toolbar-option ui-widget ui-widget-content');\n",
       "    fmt_picker_span.append(fmt_picker);\n",
       "    nav_element.append(fmt_picker_span);\n",
       "    this.format_dropdown = fmt_picker[0];\n",
       "\n",
       "    for (var ind in mpl.extensions) {\n",
       "        var fmt = mpl.extensions[ind];\n",
       "        var option = $(\n",
       "            '<option/>', {selected: fmt === mpl.default_extension}).html(fmt);\n",
       "        fmt_picker.append(option)\n",
       "    }\n",
       "\n",
       "    // Add hover states to the ui-buttons\n",
       "    $( \".ui-button\" ).hover(\n",
       "        function() { $(this).addClass(\"ui-state-hover\");},\n",
       "        function() { $(this).removeClass(\"ui-state-hover\");}\n",
       "    );\n",
       "\n",
       "    var status_bar = $('<span class=\"mpl-message\"/>');\n",
       "    nav_element.append(status_bar);\n",
       "    this.message = status_bar[0];\n",
       "}\n",
       "\n",
       "mpl.figure.prototype.request_resize = function(x_pixels, y_pixels) {\n",
       "    // Request matplotlib to resize the figure. Matplotlib will then trigger a resize in the client,\n",
       "    // which will in turn request a refresh of the image.\n",
       "    this.send_message('resize', {'width': x_pixels, 'height': y_pixels});\n",
       "}\n",
       "\n",
       "mpl.figure.prototype.send_message = function(type, properties) {\n",
       "    properties['type'] = type;\n",
       "    properties['figure_id'] = this.id;\n",
       "    this.ws.send(JSON.stringify(properties));\n",
       "}\n",
       "\n",
       "mpl.figure.prototype.send_draw_message = function() {\n",
       "    if (!this.waiting) {\n",
       "        this.waiting = true;\n",
       "        this.ws.send(JSON.stringify({type: \"draw\", figure_id: this.id}));\n",
       "    }\n",
       "}\n",
       "\n",
       "\n",
       "mpl.figure.prototype.handle_save = function(fig, msg) {\n",
       "    var format_dropdown = fig.format_dropdown;\n",
       "    var format = format_dropdown.options[format_dropdown.selectedIndex].value;\n",
       "    fig.ondownload(fig, format);\n",
       "}\n",
       "\n",
       "\n",
       "mpl.figure.prototype.handle_resize = function(fig, msg) {\n",
       "    var size = msg['size'];\n",
       "    if (size[0] != fig.canvas.width || size[1] != fig.canvas.height) {\n",
       "        fig._resize_canvas(size[0], size[1]);\n",
       "        fig.send_message(\"refresh\", {});\n",
       "    };\n",
       "}\n",
       "\n",
       "mpl.figure.prototype.handle_rubberband = function(fig, msg) {\n",
       "    var x0 = msg['x0'] / mpl.ratio;\n",
       "    var y0 = (fig.canvas.height - msg['y0']) / mpl.ratio;\n",
       "    var x1 = msg['x1'] / mpl.ratio;\n",
       "    var y1 = (fig.canvas.height - msg['y1']) / mpl.ratio;\n",
       "    x0 = Math.floor(x0) + 0.5;\n",
       "    y0 = Math.floor(y0) + 0.5;\n",
       "    x1 = Math.floor(x1) + 0.5;\n",
       "    y1 = Math.floor(y1) + 0.5;\n",
       "    var min_x = Math.min(x0, x1);\n",
       "    var min_y = Math.min(y0, y1);\n",
       "    var width = Math.abs(x1 - x0);\n",
       "    var height = Math.abs(y1 - y0);\n",
       "\n",
       "    fig.rubberband_context.clearRect(\n",
       "        0, 0, fig.canvas.width, fig.canvas.height);\n",
       "\n",
       "    fig.rubberband_context.strokeRect(min_x, min_y, width, height);\n",
       "}\n",
       "\n",
       "mpl.figure.prototype.handle_figure_label = function(fig, msg) {\n",
       "    // Updates the figure title.\n",
       "    fig.header.textContent = msg['label'];\n",
       "}\n",
       "\n",
       "mpl.figure.prototype.handle_cursor = function(fig, msg) {\n",
       "    var cursor = msg['cursor'];\n",
       "    switch(cursor)\n",
       "    {\n",
       "    case 0:\n",
       "        cursor = 'pointer';\n",
       "        break;\n",
       "    case 1:\n",
       "        cursor = 'default';\n",
       "        break;\n",
       "    case 2:\n",
       "        cursor = 'crosshair';\n",
       "        break;\n",
       "    case 3:\n",
       "        cursor = 'move';\n",
       "        break;\n",
       "    }\n",
       "    fig.rubberband_canvas.style.cursor = cursor;\n",
       "}\n",
       "\n",
       "mpl.figure.prototype.handle_message = function(fig, msg) {\n",
       "    fig.message.textContent = msg['message'];\n",
       "}\n",
       "\n",
       "mpl.figure.prototype.handle_draw = function(fig, msg) {\n",
       "    // Request the server to send over a new figure.\n",
       "    fig.send_draw_message();\n",
       "}\n",
       "\n",
       "mpl.figure.prototype.handle_image_mode = function(fig, msg) {\n",
       "    fig.image_mode = msg['mode'];\n",
       "}\n",
       "\n",
       "mpl.figure.prototype.updated_canvas_event = function() {\n",
       "    // Called whenever the canvas gets updated.\n",
       "    this.send_message(\"ack\", {});\n",
       "}\n",
       "\n",
       "// A function to construct a web socket function for onmessage handling.\n",
       "// Called in the figure constructor.\n",
       "mpl.figure.prototype._make_on_message_function = function(fig) {\n",
       "    return function socket_on_message(evt) {\n",
       "        if (evt.data instanceof Blob) {\n",
       "            /* FIXME: We get \"Resource interpreted as Image but\n",
       "             * transferred with MIME type text/plain:\" errors on\n",
       "             * Chrome.  But how to set the MIME type?  It doesn't seem\n",
       "             * to be part of the websocket stream */\n",
       "            evt.data.type = \"image/png\";\n",
       "\n",
       "            /* Free the memory for the previous frames */\n",
       "            if (fig.imageObj.src) {\n",
       "                (window.URL || window.webkitURL).revokeObjectURL(\n",
       "                    fig.imageObj.src);\n",
       "            }\n",
       "\n",
       "            fig.imageObj.src = (window.URL || window.webkitURL).createObjectURL(\n",
       "                evt.data);\n",
       "            fig.updated_canvas_event();\n",
       "            fig.waiting = false;\n",
       "            return;\n",
       "        }\n",
       "        else if (typeof evt.data === 'string' && evt.data.slice(0, 21) == \"data:image/png;base64\") {\n",
       "            fig.imageObj.src = evt.data;\n",
       "            fig.updated_canvas_event();\n",
       "            fig.waiting = false;\n",
       "            return;\n",
       "        }\n",
       "\n",
       "        var msg = JSON.parse(evt.data);\n",
       "        var msg_type = msg['type'];\n",
       "\n",
       "        // Call the  \"handle_{type}\" callback, which takes\n",
       "        // the figure and JSON message as its only arguments.\n",
       "        try {\n",
       "            var callback = fig[\"handle_\" + msg_type];\n",
       "        } catch (e) {\n",
       "            console.log(\"No handler for the '\" + msg_type + \"' message type: \", msg);\n",
       "            return;\n",
       "        }\n",
       "\n",
       "        if (callback) {\n",
       "            try {\n",
       "                // console.log(\"Handling '\" + msg_type + \"' message: \", msg);\n",
       "                callback(fig, msg);\n",
       "            } catch (e) {\n",
       "                console.log(\"Exception inside the 'handler_\" + msg_type + \"' callback:\", e, e.stack, msg);\n",
       "            }\n",
       "        }\n",
       "    };\n",
       "}\n",
       "\n",
       "// from http://stackoverflow.com/questions/1114465/getting-mouse-location-in-canvas\n",
       "mpl.findpos = function(e) {\n",
       "    //this section is from http://www.quirksmode.org/js/events_properties.html\n",
       "    var targ;\n",
       "    if (!e)\n",
       "        e = window.event;\n",
       "    if (e.target)\n",
       "        targ = e.target;\n",
       "    else if (e.srcElement)\n",
       "        targ = e.srcElement;\n",
       "    if (targ.nodeType == 3) // defeat Safari bug\n",
       "        targ = targ.parentNode;\n",
       "\n",
       "    // jQuery normalizes the pageX and pageY\n",
       "    // pageX,Y are the mouse positions relative to the document\n",
       "    // offset() returns the position of the element relative to the document\n",
       "    var x = e.pageX - $(targ).offset().left;\n",
       "    var y = e.pageY - $(targ).offset().top;\n",
       "\n",
       "    return {\"x\": x, \"y\": y};\n",
       "};\n",
       "\n",
       "/*\n",
       " * return a copy of an object with only non-object keys\n",
       " * we need this to avoid circular references\n",
       " * http://stackoverflow.com/a/24161582/3208463\n",
       " */\n",
       "function simpleKeys (original) {\n",
       "  return Object.keys(original).reduce(function (obj, key) {\n",
       "    if (typeof original[key] !== 'object')\n",
       "        obj[key] = original[key]\n",
       "    return obj;\n",
       "  }, {});\n",
       "}\n",
       "\n",
       "mpl.figure.prototype.mouse_event = function(event, name) {\n",
       "    var canvas_pos = mpl.findpos(event)\n",
       "\n",
       "    if (name === 'button_press')\n",
       "    {\n",
       "        this.canvas.focus();\n",
       "        this.canvas_div.focus();\n",
       "    }\n",
       "\n",
       "    var x = canvas_pos.x * mpl.ratio;\n",
       "    var y = canvas_pos.y * mpl.ratio;\n",
       "\n",
       "    this.send_message(name, {x: x, y: y, button: event.button,\n",
       "                             step: event.step,\n",
       "                             guiEvent: simpleKeys(event)});\n",
       "\n",
       "    /* This prevents the web browser from automatically changing to\n",
       "     * the text insertion cursor when the button is pressed.  We want\n",
       "     * to control all of the cursor setting manually through the\n",
       "     * 'cursor' event from matplotlib */\n",
       "    event.preventDefault();\n",
       "    return false;\n",
       "}\n",
       "\n",
       "mpl.figure.prototype._key_event_extra = function(event, name) {\n",
       "    // Handle any extra behaviour associated with a key event\n",
       "}\n",
       "\n",
       "mpl.figure.prototype.key_event = function(event, name) {\n",
       "\n",
       "    // Prevent repeat events\n",
       "    if (name == 'key_press')\n",
       "    {\n",
       "        if (event.which === this._key)\n",
       "            return;\n",
       "        else\n",
       "            this._key = event.which;\n",
       "    }\n",
       "    if (name == 'key_release')\n",
       "        this._key = null;\n",
       "\n",
       "    var value = '';\n",
       "    if (event.ctrlKey && event.which != 17)\n",
       "        value += \"ctrl+\";\n",
       "    if (event.altKey && event.which != 18)\n",
       "        value += \"alt+\";\n",
       "    if (event.shiftKey && event.which != 16)\n",
       "        value += \"shift+\";\n",
       "\n",
       "    value += 'k';\n",
       "    value += event.which.toString();\n",
       "\n",
       "    this._key_event_extra(event, name);\n",
       "\n",
       "    this.send_message(name, {key: value,\n",
       "                             guiEvent: simpleKeys(event)});\n",
       "    return false;\n",
       "}\n",
       "\n",
       "mpl.figure.prototype.toolbar_button_onclick = function(name) {\n",
       "    if (name == 'download') {\n",
       "        this.handle_save(this, null);\n",
       "    } else {\n",
       "        this.send_message(\"toolbar_button\", {name: name});\n",
       "    }\n",
       "};\n",
       "\n",
       "mpl.figure.prototype.toolbar_button_onmouseover = function(tooltip) {\n",
       "    this.message.textContent = tooltip;\n",
       "};\n",
       "mpl.toolbar_items = [[\"Home\", \"Reset original view\", \"fa fa-home icon-home\", \"home\"], [\"Back\", \"Back to  previous view\", \"fa fa-arrow-left icon-arrow-left\", \"back\"], [\"Forward\", \"Forward to next view\", \"fa fa-arrow-right icon-arrow-right\", \"forward\"], [\"\", \"\", \"\", \"\"], [\"Pan\", \"Pan axes with left mouse, zoom with right\", \"fa fa-arrows icon-move\", \"pan\"], [\"Zoom\", \"Zoom to rectangle\", \"fa fa-square-o icon-check-empty\", \"zoom\"], [\"\", \"\", \"\", \"\"], [\"Download\", \"Download plot\", \"fa fa-floppy-o icon-save\", \"download\"]];\n",
       "\n",
       "mpl.extensions = [\"eps\", \"jpeg\", \"pdf\", \"png\", \"ps\", \"raw\", \"svg\", \"tif\"];\n",
       "\n",
       "mpl.default_extension = \"png\";var comm_websocket_adapter = function(comm) {\n",
       "    // Create a \"websocket\"-like object which calls the given IPython comm\n",
       "    // object with the appropriate methods. Currently this is a non binary\n",
       "    // socket, so there is still some room for performance tuning.\n",
       "    var ws = {};\n",
       "\n",
       "    ws.close = function() {\n",
       "        comm.close()\n",
       "    };\n",
       "    ws.send = function(m) {\n",
       "        //console.log('sending', m);\n",
       "        comm.send(m);\n",
       "    };\n",
       "    // Register the callback with on_msg.\n",
       "    comm.on_msg(function(msg) {\n",
       "        //console.log('receiving', msg['content']['data'], msg);\n",
       "        // Pass the mpl event to the overriden (by mpl) onmessage function.\n",
       "        ws.onmessage(msg['content']['data'])\n",
       "    });\n",
       "    return ws;\n",
       "}\n",
       "\n",
       "mpl.mpl_figure_comm = function(comm, msg) {\n",
       "    // This is the function which gets called when the mpl process\n",
       "    // starts-up an IPython Comm through the \"matplotlib\" channel.\n",
       "\n",
       "    var id = msg.content.data.id;\n",
       "    // Get hold of the div created by the display call when the Comm\n",
       "    // socket was opened in Python.\n",
       "    var element = $(\"#\" + id);\n",
       "    var ws_proxy = comm_websocket_adapter(comm)\n",
       "\n",
       "    function ondownload(figure, format) {\n",
       "        window.open(figure.imageObj.src);\n",
       "    }\n",
       "\n",
       "    var fig = new mpl.figure(id, ws_proxy,\n",
       "                           ondownload,\n",
       "                           element.get(0));\n",
       "\n",
       "    // Call onopen now - mpl needs it, as it is assuming we've passed it a real\n",
       "    // web socket which is closed, not our websocket->open comm proxy.\n",
       "    ws_proxy.onopen();\n",
       "\n",
       "    fig.parent_element = element.get(0);\n",
       "    fig.cell_info = mpl.find_output_cell(\"<div id='\" + id + \"'></div>\");\n",
       "    if (!fig.cell_info) {\n",
       "        console.error(\"Failed to find cell for figure\", id, fig);\n",
       "        return;\n",
       "    }\n",
       "\n",
       "    var output_index = fig.cell_info[2]\n",
       "    var cell = fig.cell_info[0];\n",
       "\n",
       "};\n",
       "\n",
       "mpl.figure.prototype.handle_close = function(fig, msg) {\n",
       "    var width = fig.canvas.width/mpl.ratio\n",
       "    fig.root.unbind('remove')\n",
       "\n",
       "    // Update the output cell to use the data from the current canvas.\n",
       "    fig.push_to_output();\n",
       "    var dataURL = fig.canvas.toDataURL();\n",
       "    // Re-enable the keyboard manager in IPython - without this line, in FF,\n",
       "    // the notebook keyboard shortcuts fail.\n",
       "    IPython.keyboard_manager.enable()\n",
       "    $(fig.parent_element).html('<img src=\"' + dataURL + '\" width=\"' + width + '\">');\n",
       "    fig.close_ws(fig, msg);\n",
       "}\n",
       "\n",
       "mpl.figure.prototype.close_ws = function(fig, msg){\n",
       "    fig.send_message('closing', msg);\n",
       "    // fig.ws.close()\n",
       "}\n",
       "\n",
       "mpl.figure.prototype.push_to_output = function(remove_interactive) {\n",
       "    // Turn the data on the canvas into data in the output cell.\n",
       "    var width = this.canvas.width/mpl.ratio\n",
       "    var dataURL = this.canvas.toDataURL();\n",
       "    this.cell_info[1]['text/html'] = '<img src=\"' + dataURL + '\" width=\"' + width + '\">';\n",
       "}\n",
       "\n",
       "mpl.figure.prototype.updated_canvas_event = function() {\n",
       "    // Tell IPython that the notebook contents must change.\n",
       "    IPython.notebook.set_dirty(true);\n",
       "    this.send_message(\"ack\", {});\n",
       "    var fig = this;\n",
       "    // Wait a second, then push the new image to the DOM so\n",
       "    // that it is saved nicely (might be nice to debounce this).\n",
       "    setTimeout(function () { fig.push_to_output() }, 1000);\n",
       "}\n",
       "\n",
       "mpl.figure.prototype._init_toolbar = function() {\n",
       "    var fig = this;\n",
       "\n",
       "    var nav_element = $('<div/>')\n",
       "    nav_element.attr('style', 'width: 100%');\n",
       "    this.root.append(nav_element);\n",
       "\n",
       "    // Define a callback function for later on.\n",
       "    function toolbar_event(event) {\n",
       "        return fig.toolbar_button_onclick(event['data']);\n",
       "    }\n",
       "    function toolbar_mouse_event(event) {\n",
       "        return fig.toolbar_button_onmouseover(event['data']);\n",
       "    }\n",
       "\n",
       "    for(var toolbar_ind in mpl.toolbar_items){\n",
       "        var name = mpl.toolbar_items[toolbar_ind][0];\n",
       "        var tooltip = mpl.toolbar_items[toolbar_ind][1];\n",
       "        var image = mpl.toolbar_items[toolbar_ind][2];\n",
       "        var method_name = mpl.toolbar_items[toolbar_ind][3];\n",
       "\n",
       "        if (!name) { continue; };\n",
       "\n",
       "        var button = $('<button class=\"btn btn-default\" href=\"#\" title=\"' + name + '\"><i class=\"fa ' + image + ' fa-lg\"></i></button>');\n",
       "        button.click(method_name, toolbar_event);\n",
       "        button.mouseover(tooltip, toolbar_mouse_event);\n",
       "        nav_element.append(button);\n",
       "    }\n",
       "\n",
       "    // Add the status bar.\n",
       "    var status_bar = $('<span class=\"mpl-message\" style=\"text-align:right; float: right;\"/>');\n",
       "    nav_element.append(status_bar);\n",
       "    this.message = status_bar[0];\n",
       "\n",
       "    // Add the close button to the window.\n",
       "    var buttongrp = $('<div class=\"btn-group inline pull-right\"></div>');\n",
       "    var button = $('<button class=\"btn btn-mini btn-primary\" href=\"#\" title=\"Stop Interaction\"><i class=\"fa fa-power-off icon-remove icon-large\"></i></button>');\n",
       "    button.click(function (evt) { fig.handle_close(fig, {}); } );\n",
       "    button.mouseover('Stop Interaction', toolbar_mouse_event);\n",
       "    buttongrp.append(button);\n",
       "    var titlebar = this.root.find($('.ui-dialog-titlebar'));\n",
       "    titlebar.prepend(buttongrp);\n",
       "}\n",
       "\n",
       "mpl.figure.prototype._root_extra_style = function(el){\n",
       "    var fig = this\n",
       "    el.on(\"remove\", function(){\n",
       "\tfig.close_ws(fig, {});\n",
       "    });\n",
       "}\n",
       "\n",
       "mpl.figure.prototype._canvas_extra_style = function(el){\n",
       "    // this is important to make the div 'focusable\n",
       "    el.attr('tabindex', 0)\n",
       "    // reach out to IPython and tell the keyboard manager to turn it's self\n",
       "    // off when our div gets focus\n",
       "\n",
       "    // location in version 3\n",
       "    if (IPython.notebook.keyboard_manager) {\n",
       "        IPython.notebook.keyboard_manager.register_events(el);\n",
       "    }\n",
       "    else {\n",
       "        // location in version 2\n",
       "        IPython.keyboard_manager.register_events(el);\n",
       "    }\n",
       "\n",
       "}\n",
       "\n",
       "mpl.figure.prototype._key_event_extra = function(event, name) {\n",
       "    var manager = IPython.notebook.keyboard_manager;\n",
       "    if (!manager)\n",
       "        manager = IPython.keyboard_manager;\n",
       "\n",
       "    // Check for shift+enter\n",
       "    if (event.shiftKey && event.which == 13) {\n",
       "        this.canvas_div.blur();\n",
       "        // select the cell after this one\n",
       "        var index = IPython.notebook.find_cell_index(this.cell_info[0]);\n",
       "        IPython.notebook.select(index + 1);\n",
       "    }\n",
       "}\n",
       "\n",
       "mpl.figure.prototype.handle_save = function(fig, msg) {\n",
       "    fig.ondownload(fig, null);\n",
       "}\n",
       "\n",
       "\n",
       "mpl.find_output_cell = function(html_output) {\n",
       "    // Return the cell and output element which can be found *uniquely* in the notebook.\n",
       "    // Note - this is a bit hacky, but it is done because the \"notebook_saving.Notebook\"\n",
       "    // IPython event is triggered only after the cells have been serialised, which for\n",
       "    // our purposes (turning an active figure into a static one), is too late.\n",
       "    var cells = IPython.notebook.get_cells();\n",
       "    var ncells = cells.length;\n",
       "    for (var i=0; i<ncells; i++) {\n",
       "        var cell = cells[i];\n",
       "        if (cell.cell_type === 'code'){\n",
       "            for (var j=0; j<cell.output_area.outputs.length; j++) {\n",
       "                var data = cell.output_area.outputs[j];\n",
       "                if (data.data) {\n",
       "                    // IPython >= 3 moved mimebundle to data attribute of output\n",
       "                    data = data.data;\n",
       "                }\n",
       "                if (data['text/html'] == html_output) {\n",
       "                    return [cell, data, j];\n",
       "                }\n",
       "            }\n",
       "        }\n",
       "    }\n",
       "}\n",
       "\n",
       "// Register the function which deals with the matplotlib target/channel.\n",
       "// The kernel may be null if the page has been refreshed.\n",
       "if (IPython.notebook.kernel != null) {\n",
       "    IPython.notebook.kernel.comm_manager.register_target('matplotlib', mpl.mpl_figure_comm);\n",
       "}\n"
      ],
      "text/plain": [
       "<IPython.core.display.Javascript object>"
      ]
     },
     "metadata": {},
     "output_type": "display_data"
    },
    {
     "data": {
      "text/html": [
       "<img src=\"data:image/png;base64,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\" width=\"900\">"
      ],
      "text/plain": [
       "<IPython.core.display.HTML object>"
      ]
     },
     "metadata": {},
     "output_type": "display_data"
    }
   ],
   "source": [
    "def map_wavenumber(tuning, j, nr):\n",
    "    k_id = 4\n",
    "    map_factors = (k_id * 2**(nr - nr.min())).astype(int)\n",
    "    res = np.zeros(len(nr))\n",
    "    \n",
    "    for i, k in enumerate(map_factors):\n",
    "        res[i] = tuning[i, j, k]\n",
    "        \n",
    "    return res\n",
    "\n",
    "\n",
    "titles = [\"Excitatory feedback\", \"Inhibitory feedback\", \"Mixed feedback\"]\n",
    "labels = [r\"$w^\\mathrm{ex}_{\\mathrm{RCR}}$\", r\"$|w^\\mathrm{in}_{\\mathrm{RCR}}|$\", \n",
    "          r\"$w^\\mathrm{mix}_{\\mathrm{RCR}}$\"]\n",
    "\n",
    "fig, axarr = plt.subplots(3, 3, figsize=(9, 6), sharex=\"all\")\n",
    "plt.figtext(0.5, 0.99, titles[0], ha='center', va='center', fontsize=16)\n",
    "plt.figtext(0.5, 0.68, titles[1], ha='center', va='center', fontsize=16)\n",
    "plt.figtext(0.5, 0.36, titles[2], ha='center', va='center', fontsize=16)\n",
    "plt.subplots_adjust(hspace=2)\n",
    "\n",
    "\n",
    "for i, (key, w_rc) in enumerate(zip(wavenumber_tuning.keys(), [w_rc_ex, w_rc_in, w_rc_mix])):\n",
    "    ax = axarr[i, :]\n",
    "    \n",
    "    for j, w in enumerate(w_rc):\n",
    "        tuning = map_wavenumber(wavenumber_tuning[key][1.5], j, nr)\n",
    "        ax[j].set_title(labels[i]+\"={}\".format(w))\n",
    "        ax[j].plot(2**nr, tuning, \"-o\")\n",
    "        ax[j].set_ylabel(\"d=1.5 deg\", color=\"C0\")\n",
    "        ax[j].set_xscale('log', basex=2)\n",
    "        \n",
    "        \n",
    "        tuning = map_wavenumber(wavenumber_tuning[key][10], j,  nr)\n",
    "        ax_twin = ax[j].twinx()\n",
    "        ax_twin.plot(2**nr, tuning, \"-oC1\")\n",
    "        ax_twin.set_ylabel(\"d=10 deg\", color=\"C1\")\n",
    "        ax_twin.set_xscale('log', basex=2)\n",
    "        #ax_twin.ticklabel_format(useOffset=False)\n",
    "        \n",
    "\n",
    "    \n",
    "for ax in axarr.flat[-3:]:\n",
    "    ax.set_xlabel(r\"Number of spatial points, $N$\")\n",
    "    ax.set_xticks(2**nr)\n",
    "\n",
    "fig.tight_layout()"
   ]
  },
  {
   "cell_type": "code",
   "execution_count": null,
   "metadata": {
    "collapsed": true
   },
   "outputs": [],
   "source": []
  }
 ],
 "metadata": {
  "anaconda-cloud": {},
  "kernelspec": {
   "display_name": "Python 3",
   "language": "python",
   "name": "python3"
  },
  "language_info": {
   "codemirror_mode": {
    "name": "ipython",
    "version": 3
   },
   "file_extension": ".py",
   "mimetype": "text/x-python",
   "name": "python",
   "nbconvert_exporter": "python",
   "pygments_lexer": "ipython3",
   "version": "3.5.4"
  },
  "nbpresent": {
   "slides": {
    "0c512947-22b0-4620-957c-acb049a64df1": {
     "id": "0c512947-22b0-4620-957c-acb049a64df1",
     "prev": "fb0a318a-a23a-4d41-886a-dd6cea238b53",
     "regions": {
      "4f50cc9d-7580-428e-a900-06d87cdfe71a": {
       "attrs": {
        "height": 0.8,
        "width": 0.8,
        "x": 0.1,
        "y": 0.1
       },
       "content": {
        "cell": "0329e4f2-14b2-4162-9265-b79666a7f713",
        "part": "whole"
       },
       "id": "4f50cc9d-7580-428e-a900-06d87cdfe71a"
      }
     },
     "theme": null
    },
    "30d1a1d6-85e5-4a38-b09c-822be9414bd4": {
     "id": "30d1a1d6-85e5-4a38-b09c-822be9414bd4",
     "prev": "d6db61c1-604e-4121-8c01-f3d22416de15",
     "regions": {
      "2f6d32e5-a952-4294-9cc4-f99945d45603": {
       "attrs": {
        "height": 0.8,
        "width": 0.8,
        "x": 0.1,
        "y": 0.1
       },
       "content": {
        "cell": "382b46f7-25d4-4eaf-b3a9-647de01d8348",
        "part": "whole"
       },
       "id": "2f6d32e5-a952-4294-9cc4-f99945d45603"
      }
     }
    },
    "52a12f95-282a-48f3-ad0c-35b4502ef810": {
     "id": "52a12f95-282a-48f3-ad0c-35b4502ef810",
     "prev": null,
     "regions": {
      "f682cb8c-f3ed-466a-b367-d9ee4b3696af": {
       "attrs": {
        "height": 0.8,
        "width": 0.8,
        "x": 0.1,
        "y": 0.1
       },
       "content": {
        "cell": "43262e84-0cf5-4f65-84c5-9efe58e654cd",
        "part": "whole"
       },
       "id": "f682cb8c-f3ed-466a-b367-d9ee4b3696af"
      }
     }
    },
    "641d5b5a-6aa1-40f6-bd32-585fc0e31382": {
     "id": "641d5b5a-6aa1-40f6-bd32-585fc0e31382",
     "prev": "95e6a885-2625-4579-b8b1-086d1fdb95f2",
     "regions": {
      "e4d018eb-5924-4c4b-9fdb-c8bbb2a9518e": {
       "attrs": {
        "height": 0.8,
        "width": 0.8,
        "x": 0.1,
        "y": 0.1
       },
       "content": {
        "cell": "bddec95f-d01d-45ad-aefb-bf3949f29c57",
        "part": "whole"
       },
       "id": "e4d018eb-5924-4c4b-9fdb-c8bbb2a9518e"
      }
     }
    },
    "8e9695f4-d725-4cf1-a771-dd22895bb5fc": {
     "id": "8e9695f4-d725-4cf1-a771-dd22895bb5fc",
     "prev": "641d5b5a-6aa1-40f6-bd32-585fc0e31382",
     "regions": {
      "dc7c7f91-9001-4633-a354-4f5389771235": {
       "attrs": {
        "height": 0.8,
        "width": 0.8,
        "x": 0.1,
        "y": 0.1
       },
       "content": {
        "cell": "dbdb971a-6087-405a-9c5d-9cd2920fbfd0",
        "part": "whole"
       },
       "id": "dc7c7f91-9001-4633-a354-4f5389771235"
      }
     }
    },
    "95e6a885-2625-4579-b8b1-086d1fdb95f2": {
     "id": "95e6a885-2625-4579-b8b1-086d1fdb95f2",
     "prev": "b5581607-c17f-4f66-96cc-1a2c36dc5ca3",
     "regions": {
      "2612b9d1-8f75-4832-b18d-bc756004d96b": {
       "attrs": {
        "height": 0.8,
        "width": 0.8,
        "x": 0.1,
        "y": 0.1
       },
       "content": {
        "cell": "04113409-bf22-490e-929c-902239ddee2f",
        "part": "whole"
       },
       "id": "2612b9d1-8f75-4832-b18d-bc756004d96b"
      }
     }
    },
    "9ba4c26f-cf11-4b3e-aaa9-14b470d809a4": {
     "id": "9ba4c26f-cf11-4b3e-aaa9-14b470d809a4",
     "prev": "df83e99b-f0c7-4f83-82c2-66db3a61d655",
     "regions": {
      "7705d5e8-c66c-4ac6-9f67-af901d3f062f": {
       "attrs": {
        "height": 0.8,
        "width": 0.8,
        "x": 0.1,
        "y": 0.1
       },
       "content": {
        "cell": "382b46f7-25d4-4eaf-b3a9-647de01d8348",
        "part": "whole"
       },
       "id": "7705d5e8-c66c-4ac6-9f67-af901d3f062f"
      }
     }
    },
    "9d0e3a49-f3d0-418f-b9d7-38e403f65770": {
     "id": "9d0e3a49-f3d0-418f-b9d7-38e403f65770",
     "prev": "0c512947-22b0-4620-957c-acb049a64df1",
     "regions": {
      "7668ddf4-59a7-47d0-88ac-987690baaa79": {
       "attrs": {
        "height": 0.8,
        "width": 0.8,
        "x": 0.1,
        "y": 0.1
       },
       "content": {
        "cell": "70350ee6-6295-4d0e-94c3-58e42c451918",
        "part": "whole"
       },
       "id": "7668ddf4-59a7-47d0-88ac-987690baaa79"
      }
     }
    },
    "b5581607-c17f-4f66-96cc-1a2c36dc5ca3": {
     "id": "b5581607-c17f-4f66-96cc-1a2c36dc5ca3",
     "prev": "9ba4c26f-cf11-4b3e-aaa9-14b470d809a4",
     "regions": {
      "eb078aeb-4c73-42f9-b303-62e78c80f9d1": {
       "attrs": {
        "height": 0.8,
        "width": 0.8,
        "x": 0.1,
        "y": 0.1
       },
       "content": {
        "cell": "de161638-3993-460b-bfe5-5f6e7782b40d",
        "part": "whole"
       },
       "id": "eb078aeb-4c73-42f9-b303-62e78c80f9d1"
      }
     }
    },
    "d6db61c1-604e-4121-8c01-f3d22416de15": {
     "id": "d6db61c1-604e-4121-8c01-f3d22416de15",
     "prev": "9d0e3a49-f3d0-418f-b9d7-38e403f65770",
     "regions": {
      "e233c42f-3857-443b-88d3-a3ca810237e8": {
       "attrs": {
        "height": 0.8,
        "width": 0.8,
        "x": 0.1,
        "y": 0.1
       },
       "content": {
        "cell": "4717121a-ec21-4560-a366-49a411d9a737",
        "part": "whole"
       },
       "id": "e233c42f-3857-443b-88d3-a3ca810237e8"
      }
     }
    },
    "df83e99b-f0c7-4f83-82c2-66db3a61d655": {
     "id": "df83e99b-f0c7-4f83-82c2-66db3a61d655",
     "prev": "30d1a1d6-85e5-4a38-b09c-822be9414bd4",
     "regions": {
      "170d6c07-f7ae-4c44-ac52-9ea5fdae038a": {
       "attrs": {
        "height": 0.8,
        "width": 0.8,
        "x": 0.1,
        "y": 0.1
       },
       "content": {
        "cell": "4717121a-ec21-4560-a366-49a411d9a737",
        "part": "whole"
       },
       "id": "170d6c07-f7ae-4c44-ac52-9ea5fdae038a"
      }
     }
    },
    "fb0a318a-a23a-4d41-886a-dd6cea238b53": {
     "id": "fb0a318a-a23a-4d41-886a-dd6cea238b53",
     "prev": "fda6540a-8662-495f-ba36-808ad292157d",
     "regions": {
      "3d312848-0567-498a-bd11-883ee4b6d357": {
       "attrs": {
        "height": 0.8,
        "width": 0.8,
        "x": 0.1,
        "y": 0.1
       },
       "content": {
        "cell": "03a51aa3-95e0-430b-9f4c-9604e8e01fdf",
        "part": "whole"
       },
       "id": "3d312848-0567-498a-bd11-883ee4b6d357"
      }
     }
    },
    "fda6540a-8662-495f-ba36-808ad292157d": {
     "id": "fda6540a-8662-495f-ba36-808ad292157d",
     "prev": "52a12f95-282a-48f3-ad0c-35b4502ef810",
     "regions": {
      "e7a689ab-12c6-4d3e-9619-e6b4c4fa6d3f": {
       "attrs": {
        "height": 0.8,
        "width": 0.8,
        "x": 0.1,
        "y": 0.1
       },
       "content": {
        "cell": "95a143d6-6f5f-4049-945a-a013649da004",
        "part": "whole"
       },
       "id": "e7a689ab-12c6-4d3e-9619-e6b4c4fa6d3f"
      }
     }
    }
   },
   "themes": {
    "default": "75daa297-5cd3-473b-a166-43f1ac864956",
    "theme": {
     "75daa297-5cd3-473b-a166-43f1ac864956": {
      "id": "75daa297-5cd3-473b-a166-43f1ac864956",
      "palette": {
       "19cc588f-0593-49c9-9f4b-e4d7cc113b1c": {
        "id": "19cc588f-0593-49c9-9f4b-e4d7cc113b1c",
        "rgb": [
         252,
         252,
         252
        ]
       },
       "31af15d2-7e15-44c5-ab5e-e04b16a89eff": {
        "id": "31af15d2-7e15-44c5-ab5e-e04b16a89eff",
        "rgb": [
         68,
         68,
         68
        ]
       },
       "50f92c45-a630-455b-aec3-788680ec7410": {
        "id": "50f92c45-a630-455b-aec3-788680ec7410",
        "rgb": [
         155,
         177,
         192
        ]
       },
       "c5cc3653-2ee1-402a-aba2-7caae1da4f6c": {
        "id": "c5cc3653-2ee1-402a-aba2-7caae1da4f6c",
        "rgb": [
         43,
         126,
         184
        ]
       },
       "efa7f048-9acb-414c-8b04-a26811511a21": {
        "id": "efa7f048-9acb-414c-8b04-a26811511a21",
        "rgb": [
         25.118061674008803,
         73.60176211453744,
         107.4819383259912
        ]
       }
      },
      "rules": {
       "blockquote": {
        "color": "50f92c45-a630-455b-aec3-788680ec7410"
       },
       "code": {
        "font-family": "Anonymous Pro"
       },
       "h1": {
        "color": "c5cc3653-2ee1-402a-aba2-7caae1da4f6c",
        "font-family": "Lato",
        "font-size": 8
       },
       "h2": {
        "color": "c5cc3653-2ee1-402a-aba2-7caae1da4f6c",
        "font-family": "Lato",
        "font-size": 6
       },
       "h3": {
        "color": "50f92c45-a630-455b-aec3-788680ec7410",
        "font-family": "Lato",
        "font-size": 5.5
       },
       "h4": {
        "color": "c5cc3653-2ee1-402a-aba2-7caae1da4f6c",
        "font-family": "Lato",
        "font-size": 5
       },
       "h5": {
        "font-family": "Lato"
       },
       "h6": {
        "font-family": "Lato"
       },
       "h7": {
        "font-family": "Lato"
       },
       "pre": {
        "font-family": "Anonymous Pro",
        "font-size": 4
       }
      },
      "text-base": {
       "font-family": "Merriweather",
       "font-size": 4
      }
     },
     "d307f93a-9047-4d98-889d-39af4e4707a4": {
      "backgrounds": {
       "dc7afa04-bf90-40b1-82a5-726e3cff5267": {
        "background-color": "31af15d2-7e15-44c5-ab5e-e04b16a89eff",
        "id": "dc7afa04-bf90-40b1-82a5-726e3cff5267"
       }
      },
      "id": "d307f93a-9047-4d98-889d-39af4e4707a4",
      "palette": {
       "19cc588f-0593-49c9-9f4b-e4d7cc113b1c": {
        "id": "19cc588f-0593-49c9-9f4b-e4d7cc113b1c",
        "rgb": [
         252,
         252,
         252
        ]
       },
       "31af15d2-7e15-44c5-ab5e-e04b16a89eff": {
        "id": "31af15d2-7e15-44c5-ab5e-e04b16a89eff",
        "rgb": [
         68,
         68,
         68
        ]
       },
       "50f92c45-a630-455b-aec3-788680ec7410": {
        "id": "50f92c45-a630-455b-aec3-788680ec7410",
        "rgb": [
         197,
         226,
         245
        ]
       },
       "c5cc3653-2ee1-402a-aba2-7caae1da4f6c": {
        "id": "c5cc3653-2ee1-402a-aba2-7caae1da4f6c",
        "rgb": [
         43,
         126,
         184
        ]
       },
       "efa7f048-9acb-414c-8b04-a26811511a21": {
        "id": "efa7f048-9acb-414c-8b04-a26811511a21",
        "rgb": [
         25.118061674008803,
         73.60176211453744,
         107.4819383259912
        ]
       }
      },
      "rules": {
       "a": {
        "color": "19cc588f-0593-49c9-9f4b-e4d7cc113b1c"
       },
       "blockquote": {
        "color": "50f92c45-a630-455b-aec3-788680ec7410",
        "font-size": 3
       },
       "code": {
        "font-family": "Anonymous Pro"
       },
       "h1": {
        "color": "19cc588f-0593-49c9-9f4b-e4d7cc113b1c",
        "font-family": "Merriweather",
        "font-size": 8
       },
       "h2": {
        "color": "19cc588f-0593-49c9-9f4b-e4d7cc113b1c",
        "font-family": "Merriweather",
        "font-size": 6
       },
       "h3": {
        "color": "50f92c45-a630-455b-aec3-788680ec7410",
        "font-family": "Lato",
        "font-size": 5.5
       },
       "h4": {
        "color": "c5cc3653-2ee1-402a-aba2-7caae1da4f6c",
        "font-family": "Lato",
        "font-size": 5
       },
       "h5": {
        "font-family": "Lato"
       },
       "h6": {
        "font-family": "Lato"
       },
       "h7": {
        "font-family": "Lato"
       },
       "li": {
        "color": "50f92c45-a630-455b-aec3-788680ec7410",
        "font-size": 3.25
       },
       "pre": {
        "font-family": "Anonymous Pro",
        "font-size": 4
       }
      },
      "text-base": {
       "color": "19cc588f-0593-49c9-9f4b-e4d7cc113b1c",
       "font-family": "Lato",
       "font-size": 4
      }
     }
    }
   }
  }
 },
 "nbformat": 4,
 "nbformat_minor": 2
}

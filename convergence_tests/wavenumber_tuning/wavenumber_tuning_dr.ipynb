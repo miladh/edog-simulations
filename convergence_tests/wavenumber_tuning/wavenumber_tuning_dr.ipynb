{
 "cells": [
  {
   "cell_type": "code",
   "execution_count": null,
   "metadata": {
    "slideshow": {
     "slide_type": "slide"
    }
   },
   "outputs": [],
   "source": [
    "%load_ext autoreload\n",
    "%autoreload 2\n",
    "%matplotlib notebook\n",
    "\n",
    "from IPython.display import set_matplotlib_formats\n",
    "set_matplotlib_formats('png', 'pdf')\n",
    "\n",
    "import numpy as np\n",
    "import matplotlib.pyplot as plt\n",
    "import quantities as pq\n",
    "from operator import itemgetter\n",
    "from edog.tools import*\n",
    "from edog.plot import*\n",
    "\n",
    "filename = \"params_dr.yaml\"\n",
    "params = parse_parameters(filename)\n",
    "\n",
    "nt, nr, dt, dr = itemgetter(\"nt\", \"nr\", \"dt\", \"dr\")(params[\"grid\"])\n",
    "k_id, w_id, patch_diameter = itemgetter(\"k_id\", \"w_id\", \"patch_diameter\")(params[\"stimulus\"])\n",
    "A_g, a_g, B_g, b_g = itemgetter(\"A\", \"a\", \"B\", \"b\")(params[\"ganglion\"])\n",
    "w_rg, A_rg, a_rg = itemgetter(\"w\", \"A\", \"a\")(params[\"relay\"][\"Krg\"])\n",
    "w_rig, A_rig, a_rig = itemgetter(\"w\", \"A\", \"a\")(params[\"relay\"][\"Krig\"])\n",
    "w_rc_ex, A_rc_ex, a_rc_ex = itemgetter(\"w\", \"A\", \"a\")(params[\"relay\"][\"Krc_ex\"])\n",
    "w_rc_in, A_rc_in, a_rc_in = itemgetter(\"w\", \"A\", \"a\")(params[\"relay\"][\"Krc_in\"])\n",
    "\n",
    "w_rc_mix = itemgetter(\"w\")(params[\"relay\"][\"Krc_mix\"])\n",
    "A_rc_mix_in, a_rc_mix_in = itemgetter(\"A\", \"a\")(params[\"relay\"][\"Krc_mix\"][\"Krc_in\"])\n",
    "A_rc_mix_ex, a_rc_mix_ex = itemgetter(\"A\", \"a\")(params[\"relay\"][\"Krc_mix\"][\"Krc_ex\"])\n",
    "\n",
    "wavenumber_tuning = {\"fb_ex\": {}, \"fb_in\": {}, \"fb_mix\": {}}"
   ]
  },
  {
   "cell_type": "markdown",
   "metadata": {
    "nbpresent": {
     "id": "4717121a-ec21-4560-a366-49a411d9a737"
    }
   },
   "source": [
    "## Feedback excitation"
   ]
  },
  {
   "cell_type": "code",
   "execution_count": null,
   "metadata": {
    "nbpresent": {
     "id": "382b46f7-25d4-4eaf-b3a9-647de01d8348"
    }
   },
   "outputs": [],
   "source": [
    "for d in patch_diameter:\n",
    "    tuning_curve = np.zeros([len(dr), len(w_rc_ex), len(k_id)])\n",
    "    \n",
    "    for j, dx in enumerate(dr):\n",
    "        for i, w in enumerate(w_rc_ex):\n",
    "            network = create_spatial_network(nt=nt, nr=nr, dt=dt, dr=dx,\n",
    "                                     A_g=A_g, a_g=a_g, B_g=B_g, b_g=b_g,\n",
    "                                     w_rg=w_rg, A_rg=A_rg, a_rg=a_rg,\n",
    "                                     w_rig=w_rig, A_rig=A_rig, a_rig=a_rig,\n",
    "                                     w_rc_ex=w, A_rc_ex=A_rc_ex, a_rc_ex=a_rc_ex)\n",
    "\n",
    "            angular_freq = network.integrator.temporal_angular_freqs[int(w_id)]\n",
    "            wavenumber = network.integrator.spatial_angular_freqs[k_id.astype(int)]\n",
    "            spatiotemporal_tuning = spatiotemporal_wavenumber_tuning(network=network,\n",
    "                                                                     angular_freq=angular_freq,\n",
    "                                                                     wavenumber=wavenumber,\n",
    "                                                                     patch_diameter=d)\n",
    "\n",
    "            tuning_curve[j, i, :] = spatiotemporal_tuning[0, :]\n",
    "\n",
    "    wavenumber_tuning[\"fb_ex\"][float(d.magnitude)] = tuning_curve"
   ]
  },
  {
   "cell_type": "markdown",
   "metadata": {
    "nbpresent": {
     "id": "4717121a-ec21-4560-a366-49a411d9a737"
    }
   },
   "source": [
    "## Feedback inhibition"
   ]
  },
  {
   "cell_type": "code",
   "execution_count": null,
   "metadata": {
    "collapsed": true,
    "nbpresent": {
     "id": "382b46f7-25d4-4eaf-b3a9-647de01d8348"
    }
   },
   "outputs": [],
   "source": [
    "for d in patch_diameter:\n",
    "    tuning_curve = np.zeros([len(dr), len(w_rc_in), len(k_id)])   \n",
    "    \n",
    "    for j, dx in enumerate(dr):\n",
    "        for i, w in enumerate(w_rc_in):\n",
    "            network = create_spatial_network(nt=nt, nr=nr, dt=dt, dr=dx,\n",
    "                                     A_g=A_g, a_g=a_g, B_g=B_g, b_g=b_g,\n",
    "                                     w_rg=w_rg, A_rg=A_rg, a_rg=a_rg,\n",
    "                                     w_rig=w_rig, A_rig=A_rig, a_rig=a_rig,\n",
    "                                     w_rc_in=w, A_rc_in=A_rc_in, a_rc_in=a_rc_in)\n",
    "\n",
    "            angular_freq = network.integrator.temporal_angular_freqs[int(w_id)]\n",
    "            wavenumber = network.integrator.spatial_angular_freqs[k_id.astype(int)]\n",
    "            spatiotemporal_tuning = spatiotemporal_wavenumber_tuning(network=network,\n",
    "                                                                     angular_freq=angular_freq,\n",
    "                                                                     wavenumber=wavenumber,\n",
    "                                                                     patch_diameter=d)\n",
    "\n",
    "            tuning_curve[j, i, :] = spatiotemporal_tuning[0, :]\n",
    "        \n",
    "    wavenumber_tuning[\"fb_in\"][float(d.magnitude)] = tuning_curve"
   ]
  },
  {
   "cell_type": "markdown",
   "metadata": {},
   "source": [
    "## Mixed excitatory and inhibitory feedback"
   ]
  },
  {
   "cell_type": "code",
   "execution_count": null,
   "metadata": {
    "collapsed": true,
    "nbpresent": {
     "id": "382b46f7-25d4-4eaf-b3a9-647de01d8348"
    }
   },
   "outputs": [],
   "source": [
    "for d in patch_diameter:\n",
    "    tuning_curve = np.zeros([len(dr), len(w_rc_mix), len(k_id)])\n",
    "    \n",
    "    for j, dx in enumerate(dr):\n",
    "        for i, w in enumerate(w_rc_mix):\n",
    "            network = create_spatial_network(nt=nt, nr=nr, dt=dt, dr=dx,\n",
    "                                     A_g=A_g, a_g=a_g, B_g=B_g, b_g=b_g,\n",
    "                                     w_rg=w_rg, A_rg=A_rg, a_rg=a_rg,\n",
    "                                     w_rig=w_rig, A_rig=A_rig, a_rig=a_rig,\n",
    "                                     w_rc_in=w, A_rc_in=A_rc_mix_in, a_rc_in=a_rc_mix_in,\n",
    "                                     w_rc_ex=w, A_rc_ex=A_rc_mix_ex, a_rc_ex=a_rc_mix_ex)\n",
    "\n",
    "            angular_freq = network.integrator.temporal_angular_freqs[int(w_id)]\n",
    "            wavenumber = network.integrator.spatial_angular_freqs[k_id.astype(int)]\n",
    "            spatiotemporal_tuning = spatiotemporal_wavenumber_tuning(network=network,\n",
    "                                                                     angular_freq=angular_freq,\n",
    "                                                                     wavenumber=wavenumber,\n",
    "                                                                     patch_diameter=d)\n",
    "\n",
    "            tuning_curve[j, i, :] = spatiotemporal_tuning[0, :]\n",
    "\n",
    "\n",
    "    wavenumber_tuning[\"fb_mix\"][float(d.magnitude)] = tuning_curve"
   ]
  },
  {
   "cell_type": "markdown",
   "metadata": {
    "collapsed": true,
    "nbpresent": {
     "id": "de161638-3993-460b-bfe5-5f6e7782b40d"
    }
   },
   "source": [
    "-------------\n",
    "## Convergence plots"
   ]
  },
  {
   "cell_type": "code",
   "execution_count": 6,
   "metadata": {
    "scrolled": false
   },
   "outputs": [
    {
     "data": {
      "application/javascript": [
       "/* Put everything inside the global mpl namespace */\n",
       "window.mpl = {};\n",
       "\n",
       "\n",
       "mpl.get_websocket_type = function() {\n",
       "    if (typeof(WebSocket) !== 'undefined') {\n",
       "        return WebSocket;\n",
       "    } else if (typeof(MozWebSocket) !== 'undefined') {\n",
       "        return MozWebSocket;\n",
       "    } else {\n",
       "        alert('Your browser does not have WebSocket support.' +\n",
       "              'Please try Chrome, Safari or Firefox ≥ 6. ' +\n",
       "              'Firefox 4 and 5 are also supported but you ' +\n",
       "              'have to enable WebSockets in about:config.');\n",
       "    };\n",
       "}\n",
       "\n",
       "mpl.figure = function(figure_id, websocket, ondownload, parent_element) {\n",
       "    this.id = figure_id;\n",
       "\n",
       "    this.ws = websocket;\n",
       "\n",
       "    this.supports_binary = (this.ws.binaryType != undefined);\n",
       "\n",
       "    if (!this.supports_binary) {\n",
       "        var warnings = document.getElementById(\"mpl-warnings\");\n",
       "        if (warnings) {\n",
       "            warnings.style.display = 'block';\n",
       "            warnings.textContent = (\n",
       "                \"This browser does not support binary websocket messages. \" +\n",
       "                    \"Performance may be slow.\");\n",
       "        }\n",
       "    }\n",
       "\n",
       "    this.imageObj = new Image();\n",
       "\n",
       "    this.context = undefined;\n",
       "    this.message = undefined;\n",
       "    this.canvas = undefined;\n",
       "    this.rubberband_canvas = undefined;\n",
       "    this.rubberband_context = undefined;\n",
       "    this.format_dropdown = undefined;\n",
       "\n",
       "    this.image_mode = 'full';\n",
       "\n",
       "    this.root = $('<div/>');\n",
       "    this._root_extra_style(this.root)\n",
       "    this.root.attr('style', 'display: inline-block');\n",
       "\n",
       "    $(parent_element).append(this.root);\n",
       "\n",
       "    this._init_header(this);\n",
       "    this._init_canvas(this);\n",
       "    this._init_toolbar(this);\n",
       "\n",
       "    var fig = this;\n",
       "\n",
       "    this.waiting = false;\n",
       "\n",
       "    this.ws.onopen =  function () {\n",
       "            fig.send_message(\"supports_binary\", {value: fig.supports_binary});\n",
       "            fig.send_message(\"send_image_mode\", {});\n",
       "            if (mpl.ratio != 1) {\n",
       "                fig.send_message(\"set_dpi_ratio\", {'dpi_ratio': mpl.ratio});\n",
       "            }\n",
       "            fig.send_message(\"refresh\", {});\n",
       "        }\n",
       "\n",
       "    this.imageObj.onload = function() {\n",
       "            if (fig.image_mode == 'full') {\n",
       "                // Full images could contain transparency (where diff images\n",
       "                // almost always do), so we need to clear the canvas so that\n",
       "                // there is no ghosting.\n",
       "                fig.context.clearRect(0, 0, fig.canvas.width, fig.canvas.height);\n",
       "            }\n",
       "            fig.context.drawImage(fig.imageObj, 0, 0);\n",
       "        };\n",
       "\n",
       "    this.imageObj.onunload = function() {\n",
       "        this.ws.close();\n",
       "    }\n",
       "\n",
       "    this.ws.onmessage = this._make_on_message_function(this);\n",
       "\n",
       "    this.ondownload = ondownload;\n",
       "}\n",
       "\n",
       "mpl.figure.prototype._init_header = function() {\n",
       "    var titlebar = $(\n",
       "        '<div class=\"ui-dialog-titlebar ui-widget-header ui-corner-all ' +\n",
       "        'ui-helper-clearfix\"/>');\n",
       "    var titletext = $(\n",
       "        '<div class=\"ui-dialog-title\" style=\"width: 100%; ' +\n",
       "        'text-align: center; padding: 3px;\"/>');\n",
       "    titlebar.append(titletext)\n",
       "    this.root.append(titlebar);\n",
       "    this.header = titletext[0];\n",
       "}\n",
       "\n",
       "\n",
       "\n",
       "mpl.figure.prototype._canvas_extra_style = function(canvas_div) {\n",
       "\n",
       "}\n",
       "\n",
       "\n",
       "mpl.figure.prototype._root_extra_style = function(canvas_div) {\n",
       "\n",
       "}\n",
       "\n",
       "mpl.figure.prototype._init_canvas = function() {\n",
       "    var fig = this;\n",
       "\n",
       "    var canvas_div = $('<div/>');\n",
       "\n",
       "    canvas_div.attr('style', 'position: relative; clear: both; outline: 0');\n",
       "\n",
       "    function canvas_keyboard_event(event) {\n",
       "        return fig.key_event(event, event['data']);\n",
       "    }\n",
       "\n",
       "    canvas_div.keydown('key_press', canvas_keyboard_event);\n",
       "    canvas_div.keyup('key_release', canvas_keyboard_event);\n",
       "    this.canvas_div = canvas_div\n",
       "    this._canvas_extra_style(canvas_div)\n",
       "    this.root.append(canvas_div);\n",
       "\n",
       "    var canvas = $('<canvas/>');\n",
       "    canvas.addClass('mpl-canvas');\n",
       "    canvas.attr('style', \"left: 0; top: 0; z-index: 0; outline: 0\")\n",
       "\n",
       "    this.canvas = canvas[0];\n",
       "    this.context = canvas[0].getContext(\"2d\");\n",
       "\n",
       "    var backingStore = this.context.backingStorePixelRatio ||\n",
       "\tthis.context.webkitBackingStorePixelRatio ||\n",
       "\tthis.context.mozBackingStorePixelRatio ||\n",
       "\tthis.context.msBackingStorePixelRatio ||\n",
       "\tthis.context.oBackingStorePixelRatio ||\n",
       "\tthis.context.backingStorePixelRatio || 1;\n",
       "\n",
       "    mpl.ratio = (window.devicePixelRatio || 1) / backingStore;\n",
       "\n",
       "    var rubberband = $('<canvas/>');\n",
       "    rubberband.attr('style', \"position: absolute; left: 0; top: 0; z-index: 1;\")\n",
       "\n",
       "    var pass_mouse_events = true;\n",
       "\n",
       "    canvas_div.resizable({\n",
       "        start: function(event, ui) {\n",
       "            pass_mouse_events = false;\n",
       "        },\n",
       "        resize: function(event, ui) {\n",
       "            fig.request_resize(ui.size.width, ui.size.height);\n",
       "        },\n",
       "        stop: function(event, ui) {\n",
       "            pass_mouse_events = true;\n",
       "            fig.request_resize(ui.size.width, ui.size.height);\n",
       "        },\n",
       "    });\n",
       "\n",
       "    function mouse_event_fn(event) {\n",
       "        if (pass_mouse_events)\n",
       "            return fig.mouse_event(event, event['data']);\n",
       "    }\n",
       "\n",
       "    rubberband.mousedown('button_press', mouse_event_fn);\n",
       "    rubberband.mouseup('button_release', mouse_event_fn);\n",
       "    // Throttle sequential mouse events to 1 every 20ms.\n",
       "    rubberband.mousemove('motion_notify', mouse_event_fn);\n",
       "\n",
       "    rubberband.mouseenter('figure_enter', mouse_event_fn);\n",
       "    rubberband.mouseleave('figure_leave', mouse_event_fn);\n",
       "\n",
       "    canvas_div.on(\"wheel\", function (event) {\n",
       "        event = event.originalEvent;\n",
       "        event['data'] = 'scroll'\n",
       "        if (event.deltaY < 0) {\n",
       "            event.step = 1;\n",
       "        } else {\n",
       "            event.step = -1;\n",
       "        }\n",
       "        mouse_event_fn(event);\n",
       "    });\n",
       "\n",
       "    canvas_div.append(canvas);\n",
       "    canvas_div.append(rubberband);\n",
       "\n",
       "    this.rubberband = rubberband;\n",
       "    this.rubberband_canvas = rubberband[0];\n",
       "    this.rubberband_context = rubberband[0].getContext(\"2d\");\n",
       "    this.rubberband_context.strokeStyle = \"#000000\";\n",
       "\n",
       "    this._resize_canvas = function(width, height) {\n",
       "        // Keep the size of the canvas, canvas container, and rubber band\n",
       "        // canvas in synch.\n",
       "        canvas_div.css('width', width)\n",
       "        canvas_div.css('height', height)\n",
       "\n",
       "        canvas.attr('width', width * mpl.ratio);\n",
       "        canvas.attr('height', height * mpl.ratio);\n",
       "        canvas.attr('style', 'width: ' + width + 'px; height: ' + height + 'px;');\n",
       "\n",
       "        rubberband.attr('width', width);\n",
       "        rubberband.attr('height', height);\n",
       "    }\n",
       "\n",
       "    // Set the figure to an initial 600x600px, this will subsequently be updated\n",
       "    // upon first draw.\n",
       "    this._resize_canvas(600, 600);\n",
       "\n",
       "    // Disable right mouse context menu.\n",
       "    $(this.rubberband_canvas).bind(\"contextmenu\",function(e){\n",
       "        return false;\n",
       "    });\n",
       "\n",
       "    function set_focus () {\n",
       "        canvas.focus();\n",
       "        canvas_div.focus();\n",
       "    }\n",
       "\n",
       "    window.setTimeout(set_focus, 100);\n",
       "}\n",
       "\n",
       "mpl.figure.prototype._init_toolbar = function() {\n",
       "    var fig = this;\n",
       "\n",
       "    var nav_element = $('<div/>')\n",
       "    nav_element.attr('style', 'width: 100%');\n",
       "    this.root.append(nav_element);\n",
       "\n",
       "    // Define a callback function for later on.\n",
       "    function toolbar_event(event) {\n",
       "        return fig.toolbar_button_onclick(event['data']);\n",
       "    }\n",
       "    function toolbar_mouse_event(event) {\n",
       "        return fig.toolbar_button_onmouseover(event['data']);\n",
       "    }\n",
       "\n",
       "    for(var toolbar_ind in mpl.toolbar_items) {\n",
       "        var name = mpl.toolbar_items[toolbar_ind][0];\n",
       "        var tooltip = mpl.toolbar_items[toolbar_ind][1];\n",
       "        var image = mpl.toolbar_items[toolbar_ind][2];\n",
       "        var method_name = mpl.toolbar_items[toolbar_ind][3];\n",
       "\n",
       "        if (!name) {\n",
       "            // put a spacer in here.\n",
       "            continue;\n",
       "        }\n",
       "        var button = $('<button/>');\n",
       "        button.addClass('ui-button ui-widget ui-state-default ui-corner-all ' +\n",
       "                        'ui-button-icon-only');\n",
       "        button.attr('role', 'button');\n",
       "        button.attr('aria-disabled', 'false');\n",
       "        button.click(method_name, toolbar_event);\n",
       "        button.mouseover(tooltip, toolbar_mouse_event);\n",
       "\n",
       "        var icon_img = $('<span/>');\n",
       "        icon_img.addClass('ui-button-icon-primary ui-icon');\n",
       "        icon_img.addClass(image);\n",
       "        icon_img.addClass('ui-corner-all');\n",
       "\n",
       "        var tooltip_span = $('<span/>');\n",
       "        tooltip_span.addClass('ui-button-text');\n",
       "        tooltip_span.html(tooltip);\n",
       "\n",
       "        button.append(icon_img);\n",
       "        button.append(tooltip_span);\n",
       "\n",
       "        nav_element.append(button);\n",
       "    }\n",
       "\n",
       "    var fmt_picker_span = $('<span/>');\n",
       "\n",
       "    var fmt_picker = $('<select/>');\n",
       "    fmt_picker.addClass('mpl-toolbar-option ui-widget ui-widget-content');\n",
       "    fmt_picker_span.append(fmt_picker);\n",
       "    nav_element.append(fmt_picker_span);\n",
       "    this.format_dropdown = fmt_picker[0];\n",
       "\n",
       "    for (var ind in mpl.extensions) {\n",
       "        var fmt = mpl.extensions[ind];\n",
       "        var option = $(\n",
       "            '<option/>', {selected: fmt === mpl.default_extension}).html(fmt);\n",
       "        fmt_picker.append(option)\n",
       "    }\n",
       "\n",
       "    // Add hover states to the ui-buttons\n",
       "    $( \".ui-button\" ).hover(\n",
       "        function() { $(this).addClass(\"ui-state-hover\");},\n",
       "        function() { $(this).removeClass(\"ui-state-hover\");}\n",
       "    );\n",
       "\n",
       "    var status_bar = $('<span class=\"mpl-message\"/>');\n",
       "    nav_element.append(status_bar);\n",
       "    this.message = status_bar[0];\n",
       "}\n",
       "\n",
       "mpl.figure.prototype.request_resize = function(x_pixels, y_pixels) {\n",
       "    // Request matplotlib to resize the figure. Matplotlib will then trigger a resize in the client,\n",
       "    // which will in turn request a refresh of the image.\n",
       "    this.send_message('resize', {'width': x_pixels, 'height': y_pixels});\n",
       "}\n",
       "\n",
       "mpl.figure.prototype.send_message = function(type, properties) {\n",
       "    properties['type'] = type;\n",
       "    properties['figure_id'] = this.id;\n",
       "    this.ws.send(JSON.stringify(properties));\n",
       "}\n",
       "\n",
       "mpl.figure.prototype.send_draw_message = function() {\n",
       "    if (!this.waiting) {\n",
       "        this.waiting = true;\n",
       "        this.ws.send(JSON.stringify({type: \"draw\", figure_id: this.id}));\n",
       "    }\n",
       "}\n",
       "\n",
       "\n",
       "mpl.figure.prototype.handle_save = function(fig, msg) {\n",
       "    var format_dropdown = fig.format_dropdown;\n",
       "    var format = format_dropdown.options[format_dropdown.selectedIndex].value;\n",
       "    fig.ondownload(fig, format);\n",
       "}\n",
       "\n",
       "\n",
       "mpl.figure.prototype.handle_resize = function(fig, msg) {\n",
       "    var size = msg['size'];\n",
       "    if (size[0] != fig.canvas.width || size[1] != fig.canvas.height) {\n",
       "        fig._resize_canvas(size[0], size[1]);\n",
       "        fig.send_message(\"refresh\", {});\n",
       "    };\n",
       "}\n",
       "\n",
       "mpl.figure.prototype.handle_rubberband = function(fig, msg) {\n",
       "    var x0 = msg['x0'] / mpl.ratio;\n",
       "    var y0 = (fig.canvas.height - msg['y0']) / mpl.ratio;\n",
       "    var x1 = msg['x1'] / mpl.ratio;\n",
       "    var y1 = (fig.canvas.height - msg['y1']) / mpl.ratio;\n",
       "    x0 = Math.floor(x0) + 0.5;\n",
       "    y0 = Math.floor(y0) + 0.5;\n",
       "    x1 = Math.floor(x1) + 0.5;\n",
       "    y1 = Math.floor(y1) + 0.5;\n",
       "    var min_x = Math.min(x0, x1);\n",
       "    var min_y = Math.min(y0, y1);\n",
       "    var width = Math.abs(x1 - x0);\n",
       "    var height = Math.abs(y1 - y0);\n",
       "\n",
       "    fig.rubberband_context.clearRect(\n",
       "        0, 0, fig.canvas.width, fig.canvas.height);\n",
       "\n",
       "    fig.rubberband_context.strokeRect(min_x, min_y, width, height);\n",
       "}\n",
       "\n",
       "mpl.figure.prototype.handle_figure_label = function(fig, msg) {\n",
       "    // Updates the figure title.\n",
       "    fig.header.textContent = msg['label'];\n",
       "}\n",
       "\n",
       "mpl.figure.prototype.handle_cursor = function(fig, msg) {\n",
       "    var cursor = msg['cursor'];\n",
       "    switch(cursor)\n",
       "    {\n",
       "    case 0:\n",
       "        cursor = 'pointer';\n",
       "        break;\n",
       "    case 1:\n",
       "        cursor = 'default';\n",
       "        break;\n",
       "    case 2:\n",
       "        cursor = 'crosshair';\n",
       "        break;\n",
       "    case 3:\n",
       "        cursor = 'move';\n",
       "        break;\n",
       "    }\n",
       "    fig.rubberband_canvas.style.cursor = cursor;\n",
       "}\n",
       "\n",
       "mpl.figure.prototype.handle_message = function(fig, msg) {\n",
       "    fig.message.textContent = msg['message'];\n",
       "}\n",
       "\n",
       "mpl.figure.prototype.handle_draw = function(fig, msg) {\n",
       "    // Request the server to send over a new figure.\n",
       "    fig.send_draw_message();\n",
       "}\n",
       "\n",
       "mpl.figure.prototype.handle_image_mode = function(fig, msg) {\n",
       "    fig.image_mode = msg['mode'];\n",
       "}\n",
       "\n",
       "mpl.figure.prototype.updated_canvas_event = function() {\n",
       "    // Called whenever the canvas gets updated.\n",
       "    this.send_message(\"ack\", {});\n",
       "}\n",
       "\n",
       "// A function to construct a web socket function for onmessage handling.\n",
       "// Called in the figure constructor.\n",
       "mpl.figure.prototype._make_on_message_function = function(fig) {\n",
       "    return function socket_on_message(evt) {\n",
       "        if (evt.data instanceof Blob) {\n",
       "            /* FIXME: We get \"Resource interpreted as Image but\n",
       "             * transferred with MIME type text/plain:\" errors on\n",
       "             * Chrome.  But how to set the MIME type?  It doesn't seem\n",
       "             * to be part of the websocket stream */\n",
       "            evt.data.type = \"image/png\";\n",
       "\n",
       "            /* Free the memory for the previous frames */\n",
       "            if (fig.imageObj.src) {\n",
       "                (window.URL || window.webkitURL).revokeObjectURL(\n",
       "                    fig.imageObj.src);\n",
       "            }\n",
       "\n",
       "            fig.imageObj.src = (window.URL || window.webkitURL).createObjectURL(\n",
       "                evt.data);\n",
       "            fig.updated_canvas_event();\n",
       "            fig.waiting = false;\n",
       "            return;\n",
       "        }\n",
       "        else if (typeof evt.data === 'string' && evt.data.slice(0, 21) == \"data:image/png;base64\") {\n",
       "            fig.imageObj.src = evt.data;\n",
       "            fig.updated_canvas_event();\n",
       "            fig.waiting = false;\n",
       "            return;\n",
       "        }\n",
       "\n",
       "        var msg = JSON.parse(evt.data);\n",
       "        var msg_type = msg['type'];\n",
       "\n",
       "        // Call the  \"handle_{type}\" callback, which takes\n",
       "        // the figure and JSON message as its only arguments.\n",
       "        try {\n",
       "            var callback = fig[\"handle_\" + msg_type];\n",
       "        } catch (e) {\n",
       "            console.log(\"No handler for the '\" + msg_type + \"' message type: \", msg);\n",
       "            return;\n",
       "        }\n",
       "\n",
       "        if (callback) {\n",
       "            try {\n",
       "                // console.log(\"Handling '\" + msg_type + \"' message: \", msg);\n",
       "                callback(fig, msg);\n",
       "            } catch (e) {\n",
       "                console.log(\"Exception inside the 'handler_\" + msg_type + \"' callback:\", e, e.stack, msg);\n",
       "            }\n",
       "        }\n",
       "    };\n",
       "}\n",
       "\n",
       "// from http://stackoverflow.com/questions/1114465/getting-mouse-location-in-canvas\n",
       "mpl.findpos = function(e) {\n",
       "    //this section is from http://www.quirksmode.org/js/events_properties.html\n",
       "    var targ;\n",
       "    if (!e)\n",
       "        e = window.event;\n",
       "    if (e.target)\n",
       "        targ = e.target;\n",
       "    else if (e.srcElement)\n",
       "        targ = e.srcElement;\n",
       "    if (targ.nodeType == 3) // defeat Safari bug\n",
       "        targ = targ.parentNode;\n",
       "\n",
       "    // jQuery normalizes the pageX and pageY\n",
       "    // pageX,Y are the mouse positions relative to the document\n",
       "    // offset() returns the position of the element relative to the document\n",
       "    var x = e.pageX - $(targ).offset().left;\n",
       "    var y = e.pageY - $(targ).offset().top;\n",
       "\n",
       "    return {\"x\": x, \"y\": y};\n",
       "};\n",
       "\n",
       "/*\n",
       " * return a copy of an object with only non-object keys\n",
       " * we need this to avoid circular references\n",
       " * http://stackoverflow.com/a/24161582/3208463\n",
       " */\n",
       "function simpleKeys (original) {\n",
       "  return Object.keys(original).reduce(function (obj, key) {\n",
       "    if (typeof original[key] !== 'object')\n",
       "        obj[key] = original[key]\n",
       "    return obj;\n",
       "  }, {});\n",
       "}\n",
       "\n",
       "mpl.figure.prototype.mouse_event = function(event, name) {\n",
       "    var canvas_pos = mpl.findpos(event)\n",
       "\n",
       "    if (name === 'button_press')\n",
       "    {\n",
       "        this.canvas.focus();\n",
       "        this.canvas_div.focus();\n",
       "    }\n",
       "\n",
       "    var x = canvas_pos.x * mpl.ratio;\n",
       "    var y = canvas_pos.y * mpl.ratio;\n",
       "\n",
       "    this.send_message(name, {x: x, y: y, button: event.button,\n",
       "                             step: event.step,\n",
       "                             guiEvent: simpleKeys(event)});\n",
       "\n",
       "    /* This prevents the web browser from automatically changing to\n",
       "     * the text insertion cursor when the button is pressed.  We want\n",
       "     * to control all of the cursor setting manually through the\n",
       "     * 'cursor' event from matplotlib */\n",
       "    event.preventDefault();\n",
       "    return false;\n",
       "}\n",
       "\n",
       "mpl.figure.prototype._key_event_extra = function(event, name) {\n",
       "    // Handle any extra behaviour associated with a key event\n",
       "}\n",
       "\n",
       "mpl.figure.prototype.key_event = function(event, name) {\n",
       "\n",
       "    // Prevent repeat events\n",
       "    if (name == 'key_press')\n",
       "    {\n",
       "        if (event.which === this._key)\n",
       "            return;\n",
       "        else\n",
       "            this._key = event.which;\n",
       "    }\n",
       "    if (name == 'key_release')\n",
       "        this._key = null;\n",
       "\n",
       "    var value = '';\n",
       "    if (event.ctrlKey && event.which != 17)\n",
       "        value += \"ctrl+\";\n",
       "    if (event.altKey && event.which != 18)\n",
       "        value += \"alt+\";\n",
       "    if (event.shiftKey && event.which != 16)\n",
       "        value += \"shift+\";\n",
       "\n",
       "    value += 'k';\n",
       "    value += event.which.toString();\n",
       "\n",
       "    this._key_event_extra(event, name);\n",
       "\n",
       "    this.send_message(name, {key: value,\n",
       "                             guiEvent: simpleKeys(event)});\n",
       "    return false;\n",
       "}\n",
       "\n",
       "mpl.figure.prototype.toolbar_button_onclick = function(name) {\n",
       "    if (name == 'download') {\n",
       "        this.handle_save(this, null);\n",
       "    } else {\n",
       "        this.send_message(\"toolbar_button\", {name: name});\n",
       "    }\n",
       "};\n",
       "\n",
       "mpl.figure.prototype.toolbar_button_onmouseover = function(tooltip) {\n",
       "    this.message.textContent = tooltip;\n",
       "};\n",
       "mpl.toolbar_items = [[\"Home\", \"Reset original view\", \"fa fa-home icon-home\", \"home\"], [\"Back\", \"Back to  previous view\", \"fa fa-arrow-left icon-arrow-left\", \"back\"], [\"Forward\", \"Forward to next view\", \"fa fa-arrow-right icon-arrow-right\", \"forward\"], [\"\", \"\", \"\", \"\"], [\"Pan\", \"Pan axes with left mouse, zoom with right\", \"fa fa-arrows icon-move\", \"pan\"], [\"Zoom\", \"Zoom to rectangle\", \"fa fa-square-o icon-check-empty\", \"zoom\"], [\"\", \"\", \"\", \"\"], [\"Download\", \"Download plot\", \"fa fa-floppy-o icon-save\", \"download\"]];\n",
       "\n",
       "mpl.extensions = [\"eps\", \"jpeg\", \"pdf\", \"png\", \"ps\", \"raw\", \"svg\", \"tif\"];\n",
       "\n",
       "mpl.default_extension = \"png\";var comm_websocket_adapter = function(comm) {\n",
       "    // Create a \"websocket\"-like object which calls the given IPython comm\n",
       "    // object with the appropriate methods. Currently this is a non binary\n",
       "    // socket, so there is still some room for performance tuning.\n",
       "    var ws = {};\n",
       "\n",
       "    ws.close = function() {\n",
       "        comm.close()\n",
       "    };\n",
       "    ws.send = function(m) {\n",
       "        //console.log('sending', m);\n",
       "        comm.send(m);\n",
       "    };\n",
       "    // Register the callback with on_msg.\n",
       "    comm.on_msg(function(msg) {\n",
       "        //console.log('receiving', msg['content']['data'], msg);\n",
       "        // Pass the mpl event to the overriden (by mpl) onmessage function.\n",
       "        ws.onmessage(msg['content']['data'])\n",
       "    });\n",
       "    return ws;\n",
       "}\n",
       "\n",
       "mpl.mpl_figure_comm = function(comm, msg) {\n",
       "    // This is the function which gets called when the mpl process\n",
       "    // starts-up an IPython Comm through the \"matplotlib\" channel.\n",
       "\n",
       "    var id = msg.content.data.id;\n",
       "    // Get hold of the div created by the display call when the Comm\n",
       "    // socket was opened in Python.\n",
       "    var element = $(\"#\" + id);\n",
       "    var ws_proxy = comm_websocket_adapter(comm)\n",
       "\n",
       "    function ondownload(figure, format) {\n",
       "        window.open(figure.imageObj.src);\n",
       "    }\n",
       "\n",
       "    var fig = new mpl.figure(id, ws_proxy,\n",
       "                           ondownload,\n",
       "                           element.get(0));\n",
       "\n",
       "    // Call onopen now - mpl needs it, as it is assuming we've passed it a real\n",
       "    // web socket which is closed, not our websocket->open comm proxy.\n",
       "    ws_proxy.onopen();\n",
       "\n",
       "    fig.parent_element = element.get(0);\n",
       "    fig.cell_info = mpl.find_output_cell(\"<div id='\" + id + \"'></div>\");\n",
       "    if (!fig.cell_info) {\n",
       "        console.error(\"Failed to find cell for figure\", id, fig);\n",
       "        return;\n",
       "    }\n",
       "\n",
       "    var output_index = fig.cell_info[2]\n",
       "    var cell = fig.cell_info[0];\n",
       "\n",
       "};\n",
       "\n",
       "mpl.figure.prototype.handle_close = function(fig, msg) {\n",
       "    var width = fig.canvas.width/mpl.ratio\n",
       "    fig.root.unbind('remove')\n",
       "\n",
       "    // Update the output cell to use the data from the current canvas.\n",
       "    fig.push_to_output();\n",
       "    var dataURL = fig.canvas.toDataURL();\n",
       "    // Re-enable the keyboard manager in IPython - without this line, in FF,\n",
       "    // the notebook keyboard shortcuts fail.\n",
       "    IPython.keyboard_manager.enable()\n",
       "    $(fig.parent_element).html('<img src=\"' + dataURL + '\" width=\"' + width + '\">');\n",
       "    fig.close_ws(fig, msg);\n",
       "}\n",
       "\n",
       "mpl.figure.prototype.close_ws = function(fig, msg){\n",
       "    fig.send_message('closing', msg);\n",
       "    // fig.ws.close()\n",
       "}\n",
       "\n",
       "mpl.figure.prototype.push_to_output = function(remove_interactive) {\n",
       "    // Turn the data on the canvas into data in the output cell.\n",
       "    var width = this.canvas.width/mpl.ratio\n",
       "    var dataURL = this.canvas.toDataURL();\n",
       "    this.cell_info[1]['text/html'] = '<img src=\"' + dataURL + '\" width=\"' + width + '\">';\n",
       "}\n",
       "\n",
       "mpl.figure.prototype.updated_canvas_event = function() {\n",
       "    // Tell IPython that the notebook contents must change.\n",
       "    IPython.notebook.set_dirty(true);\n",
       "    this.send_message(\"ack\", {});\n",
       "    var fig = this;\n",
       "    // Wait a second, then push the new image to the DOM so\n",
       "    // that it is saved nicely (might be nice to debounce this).\n",
       "    setTimeout(function () { fig.push_to_output() }, 1000);\n",
       "}\n",
       "\n",
       "mpl.figure.prototype._init_toolbar = function() {\n",
       "    var fig = this;\n",
       "\n",
       "    var nav_element = $('<div/>')\n",
       "    nav_element.attr('style', 'width: 100%');\n",
       "    this.root.append(nav_element);\n",
       "\n",
       "    // Define a callback function for later on.\n",
       "    function toolbar_event(event) {\n",
       "        return fig.toolbar_button_onclick(event['data']);\n",
       "    }\n",
       "    function toolbar_mouse_event(event) {\n",
       "        return fig.toolbar_button_onmouseover(event['data']);\n",
       "    }\n",
       "\n",
       "    for(var toolbar_ind in mpl.toolbar_items){\n",
       "        var name = mpl.toolbar_items[toolbar_ind][0];\n",
       "        var tooltip = mpl.toolbar_items[toolbar_ind][1];\n",
       "        var image = mpl.toolbar_items[toolbar_ind][2];\n",
       "        var method_name = mpl.toolbar_items[toolbar_ind][3];\n",
       "\n",
       "        if (!name) { continue; };\n",
       "\n",
       "        var button = $('<button class=\"btn btn-default\" href=\"#\" title=\"' + name + '\"><i class=\"fa ' + image + ' fa-lg\"></i></button>');\n",
       "        button.click(method_name, toolbar_event);\n",
       "        button.mouseover(tooltip, toolbar_mouse_event);\n",
       "        nav_element.append(button);\n",
       "    }\n",
       "\n",
       "    // Add the status bar.\n",
       "    var status_bar = $('<span class=\"mpl-message\" style=\"text-align:right; float: right;\"/>');\n",
       "    nav_element.append(status_bar);\n",
       "    this.message = status_bar[0];\n",
       "\n",
       "    // Add the close button to the window.\n",
       "    var buttongrp = $('<div class=\"btn-group inline pull-right\"></div>');\n",
       "    var button = $('<button class=\"btn btn-mini btn-primary\" href=\"#\" title=\"Stop Interaction\"><i class=\"fa fa-power-off icon-remove icon-large\"></i></button>');\n",
       "    button.click(function (evt) { fig.handle_close(fig, {}); } );\n",
       "    button.mouseover('Stop Interaction', toolbar_mouse_event);\n",
       "    buttongrp.append(button);\n",
       "    var titlebar = this.root.find($('.ui-dialog-titlebar'));\n",
       "    titlebar.prepend(buttongrp);\n",
       "}\n",
       "\n",
       "mpl.figure.prototype._root_extra_style = function(el){\n",
       "    var fig = this\n",
       "    el.on(\"remove\", function(){\n",
       "\tfig.close_ws(fig, {});\n",
       "    });\n",
       "}\n",
       "\n",
       "mpl.figure.prototype._canvas_extra_style = function(el){\n",
       "    // this is important to make the div 'focusable\n",
       "    el.attr('tabindex', 0)\n",
       "    // reach out to IPython and tell the keyboard manager to turn it's self\n",
       "    // off when our div gets focus\n",
       "\n",
       "    // location in version 3\n",
       "    if (IPython.notebook.keyboard_manager) {\n",
       "        IPython.notebook.keyboard_manager.register_events(el);\n",
       "    }\n",
       "    else {\n",
       "        // location in version 2\n",
       "        IPython.keyboard_manager.register_events(el);\n",
       "    }\n",
       "\n",
       "}\n",
       "\n",
       "mpl.figure.prototype._key_event_extra = function(event, name) {\n",
       "    var manager = IPython.notebook.keyboard_manager;\n",
       "    if (!manager)\n",
       "        manager = IPython.keyboard_manager;\n",
       "\n",
       "    // Check for shift+enter\n",
       "    if (event.shiftKey && event.which == 13) {\n",
       "        this.canvas_div.blur();\n",
       "        // select the cell after this one\n",
       "        var index = IPython.notebook.find_cell_index(this.cell_info[0]);\n",
       "        IPython.notebook.select(index + 1);\n",
       "    }\n",
       "}\n",
       "\n",
       "mpl.figure.prototype.handle_save = function(fig, msg) {\n",
       "    fig.ondownload(fig, null);\n",
       "}\n",
       "\n",
       "\n",
       "mpl.find_output_cell = function(html_output) {\n",
       "    // Return the cell and output element which can be found *uniquely* in the notebook.\n",
       "    // Note - this is a bit hacky, but it is done because the \"notebook_saving.Notebook\"\n",
       "    // IPython event is triggered only after the cells have been serialised, which for\n",
       "    // our purposes (turning an active figure into a static one), is too late.\n",
       "    var cells = IPython.notebook.get_cells();\n",
       "    var ncells = cells.length;\n",
       "    for (var i=0; i<ncells; i++) {\n",
       "        var cell = cells[i];\n",
       "        if (cell.cell_type === 'code'){\n",
       "            for (var j=0; j<cell.output_area.outputs.length; j++) {\n",
       "                var data = cell.output_area.outputs[j];\n",
       "                if (data.data) {\n",
       "                    // IPython >= 3 moved mimebundle to data attribute of output\n",
       "                    data = data.data;\n",
       "                }\n",
       "                if (data['text/html'] == html_output) {\n",
       "                    return [cell, data, j];\n",
       "                }\n",
       "            }\n",
       "        }\n",
       "    }\n",
       "}\n",
       "\n",
       "// Register the function which deals with the matplotlib target/channel.\n",
       "// The kernel may be null if the page has been refreshed.\n",
       "if (IPython.notebook.kernel != null) {\n",
       "    IPython.notebook.kernel.comm_manager.register_target('matplotlib', mpl.mpl_figure_comm);\n",
       "}\n"
      ],
      "text/plain": [
       "<IPython.core.display.Javascript object>"
      ]
     },
     "metadata": {},
     "output_type": "display_data"
    },
    {
     "data": {
      "text/html": [
       "<img src=\"data:image/png;base64,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\" width=\"968\">"
      ],
      "text/plain": [
       "<IPython.core.display.HTML object>"
      ]
     },
     "metadata": {},
     "output_type": "display_data"
    }
   ],
   "source": [
    "def map_wavenumber(tuning, j, dr):\n",
    "    k_id = 3\n",
    "    \n",
    "    if k_id == 0:\n",
    "        map_factors = np.zeros(len(dr), dtype=int)\n",
    "    else:\n",
    "        map_factors = (k_id + np.arange(0, 4*k_id, k_id)).astype(int)\n",
    "    res = np.zeros(len(dr))\n",
    "    \n",
    "    for i, k in enumerate(map_factors):\n",
    "        res[i] = tuning[i, j, k]\n",
    "    return res\n",
    "\n",
    "dk = 2*np.pi/2**nr/dr\n",
    "titles = [\"Excitatory feedback\", \"Inhibitory feedback\", \"Mixed feedback\"]\n",
    "labels = [r\"$w^\\mathrm{ex}_{\\mathrm{RCR}}$\", r\"$|w^\\mathrm{in}_{\\mathrm{RCR}}|$\", \n",
    "          r\"$w^\\mathrm{mix}_{\\mathrm{RCR}}$\"]\n",
    "\n",
    "fig, axarr = plt.subplots(3, 3, figsize=(9, 6), sharex=\"all\")\n",
    "plt.figtext(0.5, 0.99, titles[0], ha='center', va='center', fontsize=16)\n",
    "plt.figtext(0.5, 0.68, titles[1], ha='center', va='center', fontsize=16)\n",
    "plt.figtext(0.5, 0.36, titles[2], ha='center', va='center', fontsize=16)\n",
    "plt.subplots_adjust(hspace=2)\n",
    "\n",
    "\n",
    "for i, (key, w_rc) in enumerate(zip(wavenumber_tuning.keys(), [w_rc_ex, w_rc_in, w_rc_mix])):\n",
    "    ax = axarr[i, :]\n",
    "    \n",
    "    for j, w in enumerate(w_rc):\n",
    "        tuning = map_wavenumber(wavenumber_tuning[key][1.5], j, dr)\n",
    "        ax[j].set_title(labels[i]+\"={}\".format(w))\n",
    "        ax[j].plot(dk, tuning, \"-o\")\n",
    "        ax[j].set_ylabel(\"d=1.5 deg\", color=\"C0\")\n",
    "        \n",
    "        \n",
    "        tuning = map_wavenumber(wavenumber_tuning[key][10], j,  dr)\n",
    "        ax_twin = ax[j].twinx()\n",
    "        ax_twin.plot(dk, tuning, \"-oC1\")\n",
    "        ax_twin.set_ylabel(\"d=10 deg\", color=\"C1\")\n",
    "        #ax_twin.ticklabel_format(useOffset=False)\n",
    "        \n",
    "for ax in axarr.flat[-3:]:\n",
    "    ax.set_xlabel(r\"Spatial frequency resolution, $\\Delta k$\")\n",
    "    #ax.set_xticks(dr)\n",
    "\n",
    "fig.tight_layout()"
   ]
  },
  {
   "cell_type": "code",
   "execution_count": null,
   "metadata": {
    "collapsed": true
   },
   "outputs": [],
   "source": []
  }
 ],
 "metadata": {
  "anaconda-cloud": {},
  "kernelspec": {
   "display_name": "Python 3",
   "language": "python",
   "name": "python3"
  },
  "language_info": {
   "codemirror_mode": {
    "name": "ipython",
    "version": 3
   },
   "file_extension": ".py",
   "mimetype": "text/x-python",
   "name": "python",
   "nbconvert_exporter": "python",
   "pygments_lexer": "ipython3",
   "version": "3.5.4"
  },
  "nbpresent": {
   "slides": {
    "0c512947-22b0-4620-957c-acb049a64df1": {
     "id": "0c512947-22b0-4620-957c-acb049a64df1",
     "prev": "fb0a318a-a23a-4d41-886a-dd6cea238b53",
     "regions": {
      "4f50cc9d-7580-428e-a900-06d87cdfe71a": {
       "attrs": {
        "height": 0.8,
        "width": 0.8,
        "x": 0.1,
        "y": 0.1
       },
       "content": {
        "cell": "0329e4f2-14b2-4162-9265-b79666a7f713",
        "part": "whole"
       },
       "id": "4f50cc9d-7580-428e-a900-06d87cdfe71a"
      }
     },
     "theme": null
    },
    "30d1a1d6-85e5-4a38-b09c-822be9414bd4": {
     "id": "30d1a1d6-85e5-4a38-b09c-822be9414bd4",
     "prev": "d6db61c1-604e-4121-8c01-f3d22416de15",
     "regions": {
      "2f6d32e5-a952-4294-9cc4-f99945d45603": {
       "attrs": {
        "height": 0.8,
        "width": 0.8,
        "x": 0.1,
        "y": 0.1
       },
       "content": {
        "cell": "382b46f7-25d4-4eaf-b3a9-647de01d8348",
        "part": "whole"
       },
       "id": "2f6d32e5-a952-4294-9cc4-f99945d45603"
      }
     }
    },
    "52a12f95-282a-48f3-ad0c-35b4502ef810": {
     "id": "52a12f95-282a-48f3-ad0c-35b4502ef810",
     "prev": null,
     "regions": {
      "f682cb8c-f3ed-466a-b367-d9ee4b3696af": {
       "attrs": {
        "height": 0.8,
        "width": 0.8,
        "x": 0.1,
        "y": 0.1
       },
       "content": {
        "cell": "43262e84-0cf5-4f65-84c5-9efe58e654cd",
        "part": "whole"
       },
       "id": "f682cb8c-f3ed-466a-b367-d9ee4b3696af"
      }
     }
    },
    "641d5b5a-6aa1-40f6-bd32-585fc0e31382": {
     "id": "641d5b5a-6aa1-40f6-bd32-585fc0e31382",
     "prev": "95e6a885-2625-4579-b8b1-086d1fdb95f2",
     "regions": {
      "e4d018eb-5924-4c4b-9fdb-c8bbb2a9518e": {
       "attrs": {
        "height": 0.8,
        "width": 0.8,
        "x": 0.1,
        "y": 0.1
       },
       "content": {
        "cell": "bddec95f-d01d-45ad-aefb-bf3949f29c57",
        "part": "whole"
       },
       "id": "e4d018eb-5924-4c4b-9fdb-c8bbb2a9518e"
      }
     }
    },
    "8e9695f4-d725-4cf1-a771-dd22895bb5fc": {
     "id": "8e9695f4-d725-4cf1-a771-dd22895bb5fc",
     "prev": "641d5b5a-6aa1-40f6-bd32-585fc0e31382",
     "regions": {
      "dc7c7f91-9001-4633-a354-4f5389771235": {
       "attrs": {
        "height": 0.8,
        "width": 0.8,
        "x": 0.1,
        "y": 0.1
       },
       "content": {
        "cell": "dbdb971a-6087-405a-9c5d-9cd2920fbfd0",
        "part": "whole"
       },
       "id": "dc7c7f91-9001-4633-a354-4f5389771235"
      }
     }
    },
    "95e6a885-2625-4579-b8b1-086d1fdb95f2": {
     "id": "95e6a885-2625-4579-b8b1-086d1fdb95f2",
     "prev": "b5581607-c17f-4f66-96cc-1a2c36dc5ca3",
     "regions": {
      "2612b9d1-8f75-4832-b18d-bc756004d96b": {
       "attrs": {
        "height": 0.8,
        "width": 0.8,
        "x": 0.1,
        "y": 0.1
       },
       "content": {
        "cell": "04113409-bf22-490e-929c-902239ddee2f",
        "part": "whole"
       },
       "id": "2612b9d1-8f75-4832-b18d-bc756004d96b"
      }
     }
    },
    "9ba4c26f-cf11-4b3e-aaa9-14b470d809a4": {
     "id": "9ba4c26f-cf11-4b3e-aaa9-14b470d809a4",
     "prev": "df83e99b-f0c7-4f83-82c2-66db3a61d655",
     "regions": {
      "7705d5e8-c66c-4ac6-9f67-af901d3f062f": {
       "attrs": {
        "height": 0.8,
        "width": 0.8,
        "x": 0.1,
        "y": 0.1
       },
       "content": {
        "cell": "382b46f7-25d4-4eaf-b3a9-647de01d8348",
        "part": "whole"
       },
       "id": "7705d5e8-c66c-4ac6-9f67-af901d3f062f"
      }
     }
    },
    "9d0e3a49-f3d0-418f-b9d7-38e403f65770": {
     "id": "9d0e3a49-f3d0-418f-b9d7-38e403f65770",
     "prev": "0c512947-22b0-4620-957c-acb049a64df1",
     "regions": {
      "7668ddf4-59a7-47d0-88ac-987690baaa79": {
       "attrs": {
        "height": 0.8,
        "width": 0.8,
        "x": 0.1,
        "y": 0.1
       },
       "content": {
        "cell": "70350ee6-6295-4d0e-94c3-58e42c451918",
        "part": "whole"
       },
       "id": "7668ddf4-59a7-47d0-88ac-987690baaa79"
      }
     }
    },
    "b5581607-c17f-4f66-96cc-1a2c36dc5ca3": {
     "id": "b5581607-c17f-4f66-96cc-1a2c36dc5ca3",
     "prev": "9ba4c26f-cf11-4b3e-aaa9-14b470d809a4",
     "regions": {
      "eb078aeb-4c73-42f9-b303-62e78c80f9d1": {
       "attrs": {
        "height": 0.8,
        "width": 0.8,
        "x": 0.1,
        "y": 0.1
       },
       "content": {
        "cell": "de161638-3993-460b-bfe5-5f6e7782b40d",
        "part": "whole"
       },
       "id": "eb078aeb-4c73-42f9-b303-62e78c80f9d1"
      }
     }
    },
    "d6db61c1-604e-4121-8c01-f3d22416de15": {
     "id": "d6db61c1-604e-4121-8c01-f3d22416de15",
     "prev": "9d0e3a49-f3d0-418f-b9d7-38e403f65770",
     "regions": {
      "e233c42f-3857-443b-88d3-a3ca810237e8": {
       "attrs": {
        "height": 0.8,
        "width": 0.8,
        "x": 0.1,
        "y": 0.1
       },
       "content": {
        "cell": "4717121a-ec21-4560-a366-49a411d9a737",
        "part": "whole"
       },
       "id": "e233c42f-3857-443b-88d3-a3ca810237e8"
      }
     }
    },
    "df83e99b-f0c7-4f83-82c2-66db3a61d655": {
     "id": "df83e99b-f0c7-4f83-82c2-66db3a61d655",
     "prev": "30d1a1d6-85e5-4a38-b09c-822be9414bd4",
     "regions": {
      "170d6c07-f7ae-4c44-ac52-9ea5fdae038a": {
       "attrs": {
        "height": 0.8,
        "width": 0.8,
        "x": 0.1,
        "y": 0.1
       },
       "content": {
        "cell": "4717121a-ec21-4560-a366-49a411d9a737",
        "part": "whole"
       },
       "id": "170d6c07-f7ae-4c44-ac52-9ea5fdae038a"
      }
     }
    },
    "fb0a318a-a23a-4d41-886a-dd6cea238b53": {
     "id": "fb0a318a-a23a-4d41-886a-dd6cea238b53",
     "prev": "fda6540a-8662-495f-ba36-808ad292157d",
     "regions": {
      "3d312848-0567-498a-bd11-883ee4b6d357": {
       "attrs": {
        "height": 0.8,
        "width": 0.8,
        "x": 0.1,
        "y": 0.1
       },
       "content": {
        "cell": "03a51aa3-95e0-430b-9f4c-9604e8e01fdf",
        "part": "whole"
       },
       "id": "3d312848-0567-498a-bd11-883ee4b6d357"
      }
     }
    },
    "fda6540a-8662-495f-ba36-808ad292157d": {
     "id": "fda6540a-8662-495f-ba36-808ad292157d",
     "prev": "52a12f95-282a-48f3-ad0c-35b4502ef810",
     "regions": {
      "e7a689ab-12c6-4d3e-9619-e6b4c4fa6d3f": {
       "attrs": {
        "height": 0.8,
        "width": 0.8,
        "x": 0.1,
        "y": 0.1
       },
       "content": {
        "cell": "95a143d6-6f5f-4049-945a-a013649da004",
        "part": "whole"
       },
       "id": "e7a689ab-12c6-4d3e-9619-e6b4c4fa6d3f"
      }
     }
    }
   },
   "themes": {
    "default": "75daa297-5cd3-473b-a166-43f1ac864956",
    "theme": {
     "75daa297-5cd3-473b-a166-43f1ac864956": {
      "id": "75daa297-5cd3-473b-a166-43f1ac864956",
      "palette": {
       "19cc588f-0593-49c9-9f4b-e4d7cc113b1c": {
        "id": "19cc588f-0593-49c9-9f4b-e4d7cc113b1c",
        "rgb": [
         252,
         252,
         252
        ]
       },
       "31af15d2-7e15-44c5-ab5e-e04b16a89eff": {
        "id": "31af15d2-7e15-44c5-ab5e-e04b16a89eff",
        "rgb": [
         68,
         68,
         68
        ]
       },
       "50f92c45-a630-455b-aec3-788680ec7410": {
        "id": "50f92c45-a630-455b-aec3-788680ec7410",
        "rgb": [
         155,
         177,
         192
        ]
       },
       "c5cc3653-2ee1-402a-aba2-7caae1da4f6c": {
        "id": "c5cc3653-2ee1-402a-aba2-7caae1da4f6c",
        "rgb": [
         43,
         126,
         184
        ]
       },
       "efa7f048-9acb-414c-8b04-a26811511a21": {
        "id": "efa7f048-9acb-414c-8b04-a26811511a21",
        "rgb": [
         25.118061674008803,
         73.60176211453744,
         107.4819383259912
        ]
       }
      },
      "rules": {
       "blockquote": {
        "color": "50f92c45-a630-455b-aec3-788680ec7410"
       },
       "code": {
        "font-family": "Anonymous Pro"
       },
       "h1": {
        "color": "c5cc3653-2ee1-402a-aba2-7caae1da4f6c",
        "font-family": "Lato",
        "font-size": 8
       },
       "h2": {
        "color": "c5cc3653-2ee1-402a-aba2-7caae1da4f6c",
        "font-family": "Lato",
        "font-size": 6
       },
       "h3": {
        "color": "50f92c45-a630-455b-aec3-788680ec7410",
        "font-family": "Lato",
        "font-size": 5.5
       },
       "h4": {
        "color": "c5cc3653-2ee1-402a-aba2-7caae1da4f6c",
        "font-family": "Lato",
        "font-size": 5
       },
       "h5": {
        "font-family": "Lato"
       },
       "h6": {
        "font-family": "Lato"
       },
       "h7": {
        "font-family": "Lato"
       },
       "pre": {
        "font-family": "Anonymous Pro",
        "font-size": 4
       }
      },
      "text-base": {
       "font-family": "Merriweather",
       "font-size": 4
      }
     },
     "d307f93a-9047-4d98-889d-39af4e4707a4": {
      "backgrounds": {
       "dc7afa04-bf90-40b1-82a5-726e3cff5267": {
        "background-color": "31af15d2-7e15-44c5-ab5e-e04b16a89eff",
        "id": "dc7afa04-bf90-40b1-82a5-726e3cff5267"
       }
      },
      "id": "d307f93a-9047-4d98-889d-39af4e4707a4",
      "palette": {
       "19cc588f-0593-49c9-9f4b-e4d7cc113b1c": {
        "id": "19cc588f-0593-49c9-9f4b-e4d7cc113b1c",
        "rgb": [
         252,
         252,
         252
        ]
       },
       "31af15d2-7e15-44c5-ab5e-e04b16a89eff": {
        "id": "31af15d2-7e15-44c5-ab5e-e04b16a89eff",
        "rgb": [
         68,
         68,
         68
        ]
       },
       "50f92c45-a630-455b-aec3-788680ec7410": {
        "id": "50f92c45-a630-455b-aec3-788680ec7410",
        "rgb": [
         197,
         226,
         245
        ]
       },
       "c5cc3653-2ee1-402a-aba2-7caae1da4f6c": {
        "id": "c5cc3653-2ee1-402a-aba2-7caae1da4f6c",
        "rgb": [
         43,
         126,
         184
        ]
       },
       "efa7f048-9acb-414c-8b04-a26811511a21": {
        "id": "efa7f048-9acb-414c-8b04-a26811511a21",
        "rgb": [
         25.118061674008803,
         73.60176211453744,
         107.4819383259912
        ]
       }
      },
      "rules": {
       "a": {
        "color": "19cc588f-0593-49c9-9f4b-e4d7cc113b1c"
       },
       "blockquote": {
        "color": "50f92c45-a630-455b-aec3-788680ec7410",
        "font-size": 3
       },
       "code": {
        "font-family": "Anonymous Pro"
       },
       "h1": {
        "color": "19cc588f-0593-49c9-9f4b-e4d7cc113b1c",
        "font-family": "Merriweather",
        "font-size": 8
       },
       "h2": {
        "color": "19cc588f-0593-49c9-9f4b-e4d7cc113b1c",
        "font-family": "Merriweather",
        "font-size": 6
       },
       "h3": {
        "color": "50f92c45-a630-455b-aec3-788680ec7410",
        "font-family": "Lato",
        "font-size": 5.5
       },
       "h4": {
        "color": "c5cc3653-2ee1-402a-aba2-7caae1da4f6c",
        "font-family": "Lato",
        "font-size": 5
       },
       "h5": {
        "font-family": "Lato"
       },
       "h6": {
        "font-family": "Lato"
       },
       "h7": {
        "font-family": "Lato"
       },
       "li": {
        "color": "50f92c45-a630-455b-aec3-788680ec7410",
        "font-size": 3.25
       },
       "pre": {
        "font-family": "Anonymous Pro",
        "font-size": 4
       }
      },
      "text-base": {
       "color": "19cc588f-0593-49c9-9f4b-e4d7cc113b1c",
       "font-family": "Lato",
       "font-size": 4
      }
     }
    }
   }
  }
 },
 "nbformat": 4,
 "nbformat_minor": 2
}

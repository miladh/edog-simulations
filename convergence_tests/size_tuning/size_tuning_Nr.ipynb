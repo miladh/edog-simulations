{
 "cells": [
  {
   "cell_type": "code",
   "execution_count": 1,
   "metadata": {
    "collapsed": true,
    "slideshow": {
     "slide_type": "slide"
    }
   },
   "outputs": [],
   "source": [
    "%load_ext autoreload\n",
    "%autoreload 2\n",
    "%matplotlib notebook\n",
    "\n",
    "from IPython.display import set_matplotlib_formats\n",
    "set_matplotlib_formats('png', 'pdf')\n",
    "\n",
    "import numpy as np\n",
    "import matplotlib.pyplot as plt\n",
    "import quantities as pq\n",
    "from operator import itemgetter\n",
    "from edog.tools import*\n",
    "from edog.plot import*\n",
    "\n",
    "filename = \"params_Nr.yaml\"\n",
    "params = parse_parameters(filename)\n",
    "\n",
    "nt, nr, dt, dr = itemgetter(\"nt\", \"nr\", \"dt\", \"dr\")(params[\"grid\"])\n",
    "k_id, w_id, patch_diameter = itemgetter(\"k_id\", \"w_id\", \"patch_diameter\")(params[\"stimulus\"])\n",
    "A_g, a_g, B_g, b_g = itemgetter(\"A\", \"a\", \"B\", \"b\")(params[\"ganglion\"])\n",
    "w_rg, A_rg, a_rg = itemgetter(\"w\", \"A\", \"a\")(params[\"relay\"][\"Krg\"])\n",
    "w_rig, A_rig, a_rig = itemgetter(\"w\", \"A\", \"a\")(params[\"relay\"][\"Krig\"])\n",
    "w_rc_ex, A_rc_ex, a_rc_ex = itemgetter(\"w\", \"A\", \"a\")(params[\"relay\"][\"Krc_ex\"])\n",
    "w_rc_in, A_rc_in, a_rc_in = itemgetter(\"w\", \"A\", \"a\")(params[\"relay\"][\"Krc_in\"])\n",
    "\n",
    "w_rc_mix = itemgetter(\"w\")(params[\"relay\"][\"Krc_mix\"])\n",
    "A_rc_mix_in, a_rc_mix_in = itemgetter(\"A\", \"a\")(params[\"relay\"][\"Krc_mix\"][\"Krc_in\"])\n",
    "A_rc_mix_ex, a_rc_mix_ex = itemgetter(\"A\", \"a\")(params[\"relay\"][\"Krc_mix\"][\"Krc_ex\"])\n",
    "\n",
    "\n",
    "size_tuning = {\"fb_ex\": {}, \"fb_in\": {}, \"fb_mix\": {}}"
   ]
  },
  {
   "cell_type": "markdown",
   "metadata": {
    "nbpresent": {
     "id": "4717121a-ec21-4560-a366-49a411d9a737"
    }
   },
   "source": [
    "## Feedback excitation"
   ]
  },
  {
   "cell_type": "code",
   "execution_count": 2,
   "metadata": {
    "collapsed": true,
    "nbpresent": {
     "id": "382b46f7-25d4-4eaf-b3a9-647de01d8348"
    }
   },
   "outputs": [],
   "source": [
    "tuning_curve = np.zeros([len(nr), len(w_rc_ex), len(patch_diameter)])\n",
    "cen_size = np.zeros([len(nr), len(w_rc_ex)])\n",
    "supp_index = np.zeros([len(nr), len(w_rc_ex)])\n",
    "\n",
    "\n",
    "for j, n in enumerate(nr):\n",
    "    for i, w in enumerate(w_rc_ex):\n",
    "        network = create_spatial_network(nt=nt, nr=n, dt=dt, dr=dr,\n",
    "                                 A_g=A_g, a_g=a_g, B_g=B_g, b_g=b_g,\n",
    "                                 w_rg=w_rg, A_rg=A_rg, a_rg=a_rg,\n",
    "                                 w_rig=w_rig, A_rig=A_rig, a_rig=a_rig,\n",
    "                                 w_rc_ex=w, A_rc_ex=A_rc_ex, a_rc_ex=a_rc_ex)\n",
    "\n",
    "        angular_freq = network.integrator.temporal_angular_freqs[int(w_id)]\n",
    "        wavenumber = network.integrator.spatial_angular_freqs[int(k_id)]\n",
    "        spatiotemporal_tuning = spatiotemporal_size_tuning(network=network,\n",
    "                                                           angular_freq=angular_freq,\n",
    "                                                           wavenumber=wavenumber,\n",
    "                                                           patch_diameter=patch_diameter)\n",
    "\n",
    "        tuning_curve[j, i, :] = spatiotemporal_tuning[0, :]\n",
    "\n",
    "        cen_size[j, i] = rf_center_size(tuning_curve[j, i, :], patch_diameter)\n",
    "        supp_index[j, i] = compute_suppression_index(tuning_curve[j, i, :])\n",
    "\n",
    "size_tuning[\"fb_ex\"] = {\"tuning_curve\": tuning_curve, \"cen_size\": cen_size, \"supp_index\": supp_index}"
   ]
  },
  {
   "cell_type": "markdown",
   "metadata": {
    "nbpresent": {
     "id": "4717121a-ec21-4560-a366-49a411d9a737"
    }
   },
   "source": [
    "## Feedback inhibition"
   ]
  },
  {
   "cell_type": "code",
   "execution_count": 3,
   "metadata": {
    "collapsed": true,
    "nbpresent": {
     "id": "382b46f7-25d4-4eaf-b3a9-647de01d8348"
    }
   },
   "outputs": [],
   "source": [
    "tuning_curve = np.zeros([len(nr), len(w_rc_in), len(patch_diameter)])\n",
    "cen_size = np.zeros([len(nr),len(w_rc_in)])\n",
    "supp_index = np.zeros([len(nr),len(w_rc_in)])\n",
    "\n",
    "for j, n in enumerate(nr):\n",
    "    for i, w in enumerate(w_rc_in):\n",
    "        network = create_spatial_network(nt=nt, nr=n, dt=dt, dr=dr,\n",
    "                                 A_g=A_g, a_g=a_g, B_g=B_g, b_g=b_g,\n",
    "                                 w_rg=w_rg, A_rg=A_rg, a_rg=a_rg,\n",
    "                                 w_rig=w_rig, A_rig=A_rig, a_rig=a_rig,\n",
    "                                 w_rc_in=w, A_rc_in=A_rc_in, a_rc_in=a_rc_in)\n",
    "\n",
    "        angular_freq = network.integrator.temporal_angular_freqs[int(w_id)]\n",
    "        wavenumber = network.integrator.spatial_angular_freqs[int(k_id)]\n",
    "        spatiotemporal_tuning = spatiotemporal_size_tuning(network=network,\n",
    "                                                           angular_freq=angular_freq,\n",
    "                                                           wavenumber=wavenumber,\n",
    "                                                           patch_diameter=patch_diameter)\n",
    "\n",
    "        tuning_curve[j, i, :] = spatiotemporal_tuning[0, :]\n",
    "\n",
    "        cen_size[j, i] = rf_center_size(tuning_curve[j, i, :], patch_diameter)\n",
    "        supp_index[j, i] = compute_suppression_index(tuning_curve[j, i, :])\n",
    "\n",
    "size_tuning[\"fb_in\"] = {\"tuning_curve\": tuning_curve, \"cen_size\": cen_size, \"supp_index\": supp_index}"
   ]
  },
  {
   "cell_type": "markdown",
   "metadata": {},
   "source": [
    "## Mixed excitatory and inhibitory feedback"
   ]
  },
  {
   "cell_type": "code",
   "execution_count": 4,
   "metadata": {
    "collapsed": true,
    "nbpresent": {
     "id": "382b46f7-25d4-4eaf-b3a9-647de01d8348"
    }
   },
   "outputs": [],
   "source": [
    "tuning_curve = np.zeros([len(nr), len(w_rc_mix), len(patch_diameter)])\n",
    "cen_size = np.zeros([len(nr),len(w_rc_mix)])\n",
    "supp_index = np.zeros([len(nr),len(w_rc_mix)])\n",
    "\n",
    "for j, n in enumerate(nr):\n",
    "    for i, w in enumerate(w_rc_mix):\n",
    "        network = create_spatial_network(nt=nt, nr=n, dt=dt, dr=dr,\n",
    "                                 A_g=A_g, a_g=a_g, B_g=B_g, b_g=b_g,\n",
    "                                 w_rg=w_rg, A_rg=A_rg, a_rg=a_rg,\n",
    "                                 w_rig=w_rig, A_rig=A_rig, a_rig=a_rig,\n",
    "                                 w_rc_in=w, A_rc_in=A_rc_mix_in, a_rc_in=a_rc_mix_in,\n",
    "                                 w_rc_ex=w, A_rc_ex=A_rc_mix_ex, a_rc_ex=a_rc_mix_ex)\n",
    "\n",
    "        angular_freq = network.integrator.temporal_angular_freqs[int(w_id)]\n",
    "        wavenumber = network.integrator.spatial_angular_freqs[int(k_id)]\n",
    "        spatiotemporal_tuning = spatiotemporal_size_tuning(network=network,\n",
    "                                                           angular_freq=angular_freq,\n",
    "                                                           wavenumber=wavenumber,\n",
    "                                                           patch_diameter=patch_diameter)\n",
    "\n",
    "        tuning_curve[j, i, :] = spatiotemporal_tuning[0, :]\n",
    "\n",
    "        cen_size[j, i] = rf_center_size(tuning_curve[j, i, :], patch_diameter)\n",
    "        supp_index[j, i] = compute_suppression_index(tuning_curve[j, i, :])\n",
    "\n",
    "\n",
    "size_tuning[\"fb_mix\"] = {\"tuning_curve\": tuning_curve, \"cen_size\": cen_size, \"supp_index\": supp_index}"
   ]
  },
  {
   "cell_type": "markdown",
   "metadata": {
    "collapsed": true,
    "nbpresent": {
     "id": "de161638-3993-460b-bfe5-5f6e7782b40d"
    }
   },
   "source": [
    "-------------\n",
    "## Convergence plots"
   ]
  },
  {
   "cell_type": "code",
   "execution_count": 5,
   "metadata": {
    "scrolled": false
   },
   "outputs": [
    {
     "data": {
      "application/javascript": [
       "/* Put everything inside the global mpl namespace */\n",
       "window.mpl = {};\n",
       "\n",
       "\n",
       "mpl.get_websocket_type = function() {\n",
       "    if (typeof(WebSocket) !== 'undefined') {\n",
       "        return WebSocket;\n",
       "    } else if (typeof(MozWebSocket) !== 'undefined') {\n",
       "        return MozWebSocket;\n",
       "    } else {\n",
       "        alert('Your browser does not have WebSocket support.' +\n",
       "              'Please try Chrome, Safari or Firefox ≥ 6. ' +\n",
       "              'Firefox 4 and 5 are also supported but you ' +\n",
       "              'have to enable WebSockets in about:config.');\n",
       "    };\n",
       "}\n",
       "\n",
       "mpl.figure = function(figure_id, websocket, ondownload, parent_element) {\n",
       "    this.id = figure_id;\n",
       "\n",
       "    this.ws = websocket;\n",
       "\n",
       "    this.supports_binary = (this.ws.binaryType != undefined);\n",
       "\n",
       "    if (!this.supports_binary) {\n",
       "        var warnings = document.getElementById(\"mpl-warnings\");\n",
       "        if (warnings) {\n",
       "            warnings.style.display = 'block';\n",
       "            warnings.textContent = (\n",
       "                \"This browser does not support binary websocket messages. \" +\n",
       "                    \"Performance may be slow.\");\n",
       "        }\n",
       "    }\n",
       "\n",
       "    this.imageObj = new Image();\n",
       "\n",
       "    this.context = undefined;\n",
       "    this.message = undefined;\n",
       "    this.canvas = undefined;\n",
       "    this.rubberband_canvas = undefined;\n",
       "    this.rubberband_context = undefined;\n",
       "    this.format_dropdown = undefined;\n",
       "\n",
       "    this.image_mode = 'full';\n",
       "\n",
       "    this.root = $('<div/>');\n",
       "    this._root_extra_style(this.root)\n",
       "    this.root.attr('style', 'display: inline-block');\n",
       "\n",
       "    $(parent_element).append(this.root);\n",
       "\n",
       "    this._init_header(this);\n",
       "    this._init_canvas(this);\n",
       "    this._init_toolbar(this);\n",
       "\n",
       "    var fig = this;\n",
       "\n",
       "    this.waiting = false;\n",
       "\n",
       "    this.ws.onopen =  function () {\n",
       "            fig.send_message(\"supports_binary\", {value: fig.supports_binary});\n",
       "            fig.send_message(\"send_image_mode\", {});\n",
       "            if (mpl.ratio != 1) {\n",
       "                fig.send_message(\"set_dpi_ratio\", {'dpi_ratio': mpl.ratio});\n",
       "            }\n",
       "            fig.send_message(\"refresh\", {});\n",
       "        }\n",
       "\n",
       "    this.imageObj.onload = function() {\n",
       "            if (fig.image_mode == 'full') {\n",
       "                // Full images could contain transparency (where diff images\n",
       "                // almost always do), so we need to clear the canvas so that\n",
       "                // there is no ghosting.\n",
       "                fig.context.clearRect(0, 0, fig.canvas.width, fig.canvas.height);\n",
       "            }\n",
       "            fig.context.drawImage(fig.imageObj, 0, 0);\n",
       "        };\n",
       "\n",
       "    this.imageObj.onunload = function() {\n",
       "        this.ws.close();\n",
       "    }\n",
       "\n",
       "    this.ws.onmessage = this._make_on_message_function(this);\n",
       "\n",
       "    this.ondownload = ondownload;\n",
       "}\n",
       "\n",
       "mpl.figure.prototype._init_header = function() {\n",
       "    var titlebar = $(\n",
       "        '<div class=\"ui-dialog-titlebar ui-widget-header ui-corner-all ' +\n",
       "        'ui-helper-clearfix\"/>');\n",
       "    var titletext = $(\n",
       "        '<div class=\"ui-dialog-title\" style=\"width: 100%; ' +\n",
       "        'text-align: center; padding: 3px;\"/>');\n",
       "    titlebar.append(titletext)\n",
       "    this.root.append(titlebar);\n",
       "    this.header = titletext[0];\n",
       "}\n",
       "\n",
       "\n",
       "\n",
       "mpl.figure.prototype._canvas_extra_style = function(canvas_div) {\n",
       "\n",
       "}\n",
       "\n",
       "\n",
       "mpl.figure.prototype._root_extra_style = function(canvas_div) {\n",
       "\n",
       "}\n",
       "\n",
       "mpl.figure.prototype._init_canvas = function() {\n",
       "    var fig = this;\n",
       "\n",
       "    var canvas_div = $('<div/>');\n",
       "\n",
       "    canvas_div.attr('style', 'position: relative; clear: both; outline: 0');\n",
       "\n",
       "    function canvas_keyboard_event(event) {\n",
       "        return fig.key_event(event, event['data']);\n",
       "    }\n",
       "\n",
       "    canvas_div.keydown('key_press', canvas_keyboard_event);\n",
       "    canvas_div.keyup('key_release', canvas_keyboard_event);\n",
       "    this.canvas_div = canvas_div\n",
       "    this._canvas_extra_style(canvas_div)\n",
       "    this.root.append(canvas_div);\n",
       "\n",
       "    var canvas = $('<canvas/>');\n",
       "    canvas.addClass('mpl-canvas');\n",
       "    canvas.attr('style', \"left: 0; top: 0; z-index: 0; outline: 0\")\n",
       "\n",
       "    this.canvas = canvas[0];\n",
       "    this.context = canvas[0].getContext(\"2d\");\n",
       "\n",
       "    var backingStore = this.context.backingStorePixelRatio ||\n",
       "\tthis.context.webkitBackingStorePixelRatio ||\n",
       "\tthis.context.mozBackingStorePixelRatio ||\n",
       "\tthis.context.msBackingStorePixelRatio ||\n",
       "\tthis.context.oBackingStorePixelRatio ||\n",
       "\tthis.context.backingStorePixelRatio || 1;\n",
       "\n",
       "    mpl.ratio = (window.devicePixelRatio || 1) / backingStore;\n",
       "\n",
       "    var rubberband = $('<canvas/>');\n",
       "    rubberband.attr('style', \"position: absolute; left: 0; top: 0; z-index: 1;\")\n",
       "\n",
       "    var pass_mouse_events = true;\n",
       "\n",
       "    canvas_div.resizable({\n",
       "        start: function(event, ui) {\n",
       "            pass_mouse_events = false;\n",
       "        },\n",
       "        resize: function(event, ui) {\n",
       "            fig.request_resize(ui.size.width, ui.size.height);\n",
       "        },\n",
       "        stop: function(event, ui) {\n",
       "            pass_mouse_events = true;\n",
       "            fig.request_resize(ui.size.width, ui.size.height);\n",
       "        },\n",
       "    });\n",
       "\n",
       "    function mouse_event_fn(event) {\n",
       "        if (pass_mouse_events)\n",
       "            return fig.mouse_event(event, event['data']);\n",
       "    }\n",
       "\n",
       "    rubberband.mousedown('button_press', mouse_event_fn);\n",
       "    rubberband.mouseup('button_release', mouse_event_fn);\n",
       "    // Throttle sequential mouse events to 1 every 20ms.\n",
       "    rubberband.mousemove('motion_notify', mouse_event_fn);\n",
       "\n",
       "    rubberband.mouseenter('figure_enter', mouse_event_fn);\n",
       "    rubberband.mouseleave('figure_leave', mouse_event_fn);\n",
       "\n",
       "    canvas_div.on(\"wheel\", function (event) {\n",
       "        event = event.originalEvent;\n",
       "        event['data'] = 'scroll'\n",
       "        if (event.deltaY < 0) {\n",
       "            event.step = 1;\n",
       "        } else {\n",
       "            event.step = -1;\n",
       "        }\n",
       "        mouse_event_fn(event);\n",
       "    });\n",
       "\n",
       "    canvas_div.append(canvas);\n",
       "    canvas_div.append(rubberband);\n",
       "\n",
       "    this.rubberband = rubberband;\n",
       "    this.rubberband_canvas = rubberband[0];\n",
       "    this.rubberband_context = rubberband[0].getContext(\"2d\");\n",
       "    this.rubberband_context.strokeStyle = \"#000000\";\n",
       "\n",
       "    this._resize_canvas = function(width, height) {\n",
       "        // Keep the size of the canvas, canvas container, and rubber band\n",
       "        // canvas in synch.\n",
       "        canvas_div.css('width', width)\n",
       "        canvas_div.css('height', height)\n",
       "\n",
       "        canvas.attr('width', width * mpl.ratio);\n",
       "        canvas.attr('height', height * mpl.ratio);\n",
       "        canvas.attr('style', 'width: ' + width + 'px; height: ' + height + 'px;');\n",
       "\n",
       "        rubberband.attr('width', width);\n",
       "        rubberband.attr('height', height);\n",
       "    }\n",
       "\n",
       "    // Set the figure to an initial 600x600px, this will subsequently be updated\n",
       "    // upon first draw.\n",
       "    this._resize_canvas(600, 600);\n",
       "\n",
       "    // Disable right mouse context menu.\n",
       "    $(this.rubberband_canvas).bind(\"contextmenu\",function(e){\n",
       "        return false;\n",
       "    });\n",
       "\n",
       "    function set_focus () {\n",
       "        canvas.focus();\n",
       "        canvas_div.focus();\n",
       "    }\n",
       "\n",
       "    window.setTimeout(set_focus, 100);\n",
       "}\n",
       "\n",
       "mpl.figure.prototype._init_toolbar = function() {\n",
       "    var fig = this;\n",
       "\n",
       "    var nav_element = $('<div/>')\n",
       "    nav_element.attr('style', 'width: 100%');\n",
       "    this.root.append(nav_element);\n",
       "\n",
       "    // Define a callback function for later on.\n",
       "    function toolbar_event(event) {\n",
       "        return fig.toolbar_button_onclick(event['data']);\n",
       "    }\n",
       "    function toolbar_mouse_event(event) {\n",
       "        return fig.toolbar_button_onmouseover(event['data']);\n",
       "    }\n",
       "\n",
       "    for(var toolbar_ind in mpl.toolbar_items) {\n",
       "        var name = mpl.toolbar_items[toolbar_ind][0];\n",
       "        var tooltip = mpl.toolbar_items[toolbar_ind][1];\n",
       "        var image = mpl.toolbar_items[toolbar_ind][2];\n",
       "        var method_name = mpl.toolbar_items[toolbar_ind][3];\n",
       "\n",
       "        if (!name) {\n",
       "            // put a spacer in here.\n",
       "            continue;\n",
       "        }\n",
       "        var button = $('<button/>');\n",
       "        button.addClass('ui-button ui-widget ui-state-default ui-corner-all ' +\n",
       "                        'ui-button-icon-only');\n",
       "        button.attr('role', 'button');\n",
       "        button.attr('aria-disabled', 'false');\n",
       "        button.click(method_name, toolbar_event);\n",
       "        button.mouseover(tooltip, toolbar_mouse_event);\n",
       "\n",
       "        var icon_img = $('<span/>');\n",
       "        icon_img.addClass('ui-button-icon-primary ui-icon');\n",
       "        icon_img.addClass(image);\n",
       "        icon_img.addClass('ui-corner-all');\n",
       "\n",
       "        var tooltip_span = $('<span/>');\n",
       "        tooltip_span.addClass('ui-button-text');\n",
       "        tooltip_span.html(tooltip);\n",
       "\n",
       "        button.append(icon_img);\n",
       "        button.append(tooltip_span);\n",
       "\n",
       "        nav_element.append(button);\n",
       "    }\n",
       "\n",
       "    var fmt_picker_span = $('<span/>');\n",
       "\n",
       "    var fmt_picker = $('<select/>');\n",
       "    fmt_picker.addClass('mpl-toolbar-option ui-widget ui-widget-content');\n",
       "    fmt_picker_span.append(fmt_picker);\n",
       "    nav_element.append(fmt_picker_span);\n",
       "    this.format_dropdown = fmt_picker[0];\n",
       "\n",
       "    for (var ind in mpl.extensions) {\n",
       "        var fmt = mpl.extensions[ind];\n",
       "        var option = $(\n",
       "            '<option/>', {selected: fmt === mpl.default_extension}).html(fmt);\n",
       "        fmt_picker.append(option)\n",
       "    }\n",
       "\n",
       "    // Add hover states to the ui-buttons\n",
       "    $( \".ui-button\" ).hover(\n",
       "        function() { $(this).addClass(\"ui-state-hover\");},\n",
       "        function() { $(this).removeClass(\"ui-state-hover\");}\n",
       "    );\n",
       "\n",
       "    var status_bar = $('<span class=\"mpl-message\"/>');\n",
       "    nav_element.append(status_bar);\n",
       "    this.message = status_bar[0];\n",
       "}\n",
       "\n",
       "mpl.figure.prototype.request_resize = function(x_pixels, y_pixels) {\n",
       "    // Request matplotlib to resize the figure. Matplotlib will then trigger a resize in the client,\n",
       "    // which will in turn request a refresh of the image.\n",
       "    this.send_message('resize', {'width': x_pixels, 'height': y_pixels});\n",
       "}\n",
       "\n",
       "mpl.figure.prototype.send_message = function(type, properties) {\n",
       "    properties['type'] = type;\n",
       "    properties['figure_id'] = this.id;\n",
       "    this.ws.send(JSON.stringify(properties));\n",
       "}\n",
       "\n",
       "mpl.figure.prototype.send_draw_message = function() {\n",
       "    if (!this.waiting) {\n",
       "        this.waiting = true;\n",
       "        this.ws.send(JSON.stringify({type: \"draw\", figure_id: this.id}));\n",
       "    }\n",
       "}\n",
       "\n",
       "\n",
       "mpl.figure.prototype.handle_save = function(fig, msg) {\n",
       "    var format_dropdown = fig.format_dropdown;\n",
       "    var format = format_dropdown.options[format_dropdown.selectedIndex].value;\n",
       "    fig.ondownload(fig, format);\n",
       "}\n",
       "\n",
       "\n",
       "mpl.figure.prototype.handle_resize = function(fig, msg) {\n",
       "    var size = msg['size'];\n",
       "    if (size[0] != fig.canvas.width || size[1] != fig.canvas.height) {\n",
       "        fig._resize_canvas(size[0], size[1]);\n",
       "        fig.send_message(\"refresh\", {});\n",
       "    };\n",
       "}\n",
       "\n",
       "mpl.figure.prototype.handle_rubberband = function(fig, msg) {\n",
       "    var x0 = msg['x0'] / mpl.ratio;\n",
       "    var y0 = (fig.canvas.height - msg['y0']) / mpl.ratio;\n",
       "    var x1 = msg['x1'] / mpl.ratio;\n",
       "    var y1 = (fig.canvas.height - msg['y1']) / mpl.ratio;\n",
       "    x0 = Math.floor(x0) + 0.5;\n",
       "    y0 = Math.floor(y0) + 0.5;\n",
       "    x1 = Math.floor(x1) + 0.5;\n",
       "    y1 = Math.floor(y1) + 0.5;\n",
       "    var min_x = Math.min(x0, x1);\n",
       "    var min_y = Math.min(y0, y1);\n",
       "    var width = Math.abs(x1 - x0);\n",
       "    var height = Math.abs(y1 - y0);\n",
       "\n",
       "    fig.rubberband_context.clearRect(\n",
       "        0, 0, fig.canvas.width, fig.canvas.height);\n",
       "\n",
       "    fig.rubberband_context.strokeRect(min_x, min_y, width, height);\n",
       "}\n",
       "\n",
       "mpl.figure.prototype.handle_figure_label = function(fig, msg) {\n",
       "    // Updates the figure title.\n",
       "    fig.header.textContent = msg['label'];\n",
       "}\n",
       "\n",
       "mpl.figure.prototype.handle_cursor = function(fig, msg) {\n",
       "    var cursor = msg['cursor'];\n",
       "    switch(cursor)\n",
       "    {\n",
       "    case 0:\n",
       "        cursor = 'pointer';\n",
       "        break;\n",
       "    case 1:\n",
       "        cursor = 'default';\n",
       "        break;\n",
       "    case 2:\n",
       "        cursor = 'crosshair';\n",
       "        break;\n",
       "    case 3:\n",
       "        cursor = 'move';\n",
       "        break;\n",
       "    }\n",
       "    fig.rubberband_canvas.style.cursor = cursor;\n",
       "}\n",
       "\n",
       "mpl.figure.prototype.handle_message = function(fig, msg) {\n",
       "    fig.message.textContent = msg['message'];\n",
       "}\n",
       "\n",
       "mpl.figure.prototype.handle_draw = function(fig, msg) {\n",
       "    // Request the server to send over a new figure.\n",
       "    fig.send_draw_message();\n",
       "}\n",
       "\n",
       "mpl.figure.prototype.handle_image_mode = function(fig, msg) {\n",
       "    fig.image_mode = msg['mode'];\n",
       "}\n",
       "\n",
       "mpl.figure.prototype.updated_canvas_event = function() {\n",
       "    // Called whenever the canvas gets updated.\n",
       "    this.send_message(\"ack\", {});\n",
       "}\n",
       "\n",
       "// A function to construct a web socket function for onmessage handling.\n",
       "// Called in the figure constructor.\n",
       "mpl.figure.prototype._make_on_message_function = function(fig) {\n",
       "    return function socket_on_message(evt) {\n",
       "        if (evt.data instanceof Blob) {\n",
       "            /* FIXME: We get \"Resource interpreted as Image but\n",
       "             * transferred with MIME type text/plain:\" errors on\n",
       "             * Chrome.  But how to set the MIME type?  It doesn't seem\n",
       "             * to be part of the websocket stream */\n",
       "            evt.data.type = \"image/png\";\n",
       "\n",
       "            /* Free the memory for the previous frames */\n",
       "            if (fig.imageObj.src) {\n",
       "                (window.URL || window.webkitURL).revokeObjectURL(\n",
       "                    fig.imageObj.src);\n",
       "            }\n",
       "\n",
       "            fig.imageObj.src = (window.URL || window.webkitURL).createObjectURL(\n",
       "                evt.data);\n",
       "            fig.updated_canvas_event();\n",
       "            fig.waiting = false;\n",
       "            return;\n",
       "        }\n",
       "        else if (typeof evt.data === 'string' && evt.data.slice(0, 21) == \"data:image/png;base64\") {\n",
       "            fig.imageObj.src = evt.data;\n",
       "            fig.updated_canvas_event();\n",
       "            fig.waiting = false;\n",
       "            return;\n",
       "        }\n",
       "\n",
       "        var msg = JSON.parse(evt.data);\n",
       "        var msg_type = msg['type'];\n",
       "\n",
       "        // Call the  \"handle_{type}\" callback, which takes\n",
       "        // the figure and JSON message as its only arguments.\n",
       "        try {\n",
       "            var callback = fig[\"handle_\" + msg_type];\n",
       "        } catch (e) {\n",
       "            console.log(\"No handler for the '\" + msg_type + \"' message type: \", msg);\n",
       "            return;\n",
       "        }\n",
       "\n",
       "        if (callback) {\n",
       "            try {\n",
       "                // console.log(\"Handling '\" + msg_type + \"' message: \", msg);\n",
       "                callback(fig, msg);\n",
       "            } catch (e) {\n",
       "                console.log(\"Exception inside the 'handler_\" + msg_type + \"' callback:\", e, e.stack, msg);\n",
       "            }\n",
       "        }\n",
       "    };\n",
       "}\n",
       "\n",
       "// from http://stackoverflow.com/questions/1114465/getting-mouse-location-in-canvas\n",
       "mpl.findpos = function(e) {\n",
       "    //this section is from http://www.quirksmode.org/js/events_properties.html\n",
       "    var targ;\n",
       "    if (!e)\n",
       "        e = window.event;\n",
       "    if (e.target)\n",
       "        targ = e.target;\n",
       "    else if (e.srcElement)\n",
       "        targ = e.srcElement;\n",
       "    if (targ.nodeType == 3) // defeat Safari bug\n",
       "        targ = targ.parentNode;\n",
       "\n",
       "    // jQuery normalizes the pageX and pageY\n",
       "    // pageX,Y are the mouse positions relative to the document\n",
       "    // offset() returns the position of the element relative to the document\n",
       "    var x = e.pageX - $(targ).offset().left;\n",
       "    var y = e.pageY - $(targ).offset().top;\n",
       "\n",
       "    return {\"x\": x, \"y\": y};\n",
       "};\n",
       "\n",
       "/*\n",
       " * return a copy of an object with only non-object keys\n",
       " * we need this to avoid circular references\n",
       " * http://stackoverflow.com/a/24161582/3208463\n",
       " */\n",
       "function simpleKeys (original) {\n",
       "  return Object.keys(original).reduce(function (obj, key) {\n",
       "    if (typeof original[key] !== 'object')\n",
       "        obj[key] = original[key]\n",
       "    return obj;\n",
       "  }, {});\n",
       "}\n",
       "\n",
       "mpl.figure.prototype.mouse_event = function(event, name) {\n",
       "    var canvas_pos = mpl.findpos(event)\n",
       "\n",
       "    if (name === 'button_press')\n",
       "    {\n",
       "        this.canvas.focus();\n",
       "        this.canvas_div.focus();\n",
       "    }\n",
       "\n",
       "    var x = canvas_pos.x * mpl.ratio;\n",
       "    var y = canvas_pos.y * mpl.ratio;\n",
       "\n",
       "    this.send_message(name, {x: x, y: y, button: event.button,\n",
       "                             step: event.step,\n",
       "                             guiEvent: simpleKeys(event)});\n",
       "\n",
       "    /* This prevents the web browser from automatically changing to\n",
       "     * the text insertion cursor when the button is pressed.  We want\n",
       "     * to control all of the cursor setting manually through the\n",
       "     * 'cursor' event from matplotlib */\n",
       "    event.preventDefault();\n",
       "    return false;\n",
       "}\n",
       "\n",
       "mpl.figure.prototype._key_event_extra = function(event, name) {\n",
       "    // Handle any extra behaviour associated with a key event\n",
       "}\n",
       "\n",
       "mpl.figure.prototype.key_event = function(event, name) {\n",
       "\n",
       "    // Prevent repeat events\n",
       "    if (name == 'key_press')\n",
       "    {\n",
       "        if (event.which === this._key)\n",
       "            return;\n",
       "        else\n",
       "            this._key = event.which;\n",
       "    }\n",
       "    if (name == 'key_release')\n",
       "        this._key = null;\n",
       "\n",
       "    var value = '';\n",
       "    if (event.ctrlKey && event.which != 17)\n",
       "        value += \"ctrl+\";\n",
       "    if (event.altKey && event.which != 18)\n",
       "        value += \"alt+\";\n",
       "    if (event.shiftKey && event.which != 16)\n",
       "        value += \"shift+\";\n",
       "\n",
       "    value += 'k';\n",
       "    value += event.which.toString();\n",
       "\n",
       "    this._key_event_extra(event, name);\n",
       "\n",
       "    this.send_message(name, {key: value,\n",
       "                             guiEvent: simpleKeys(event)});\n",
       "    return false;\n",
       "}\n",
       "\n",
       "mpl.figure.prototype.toolbar_button_onclick = function(name) {\n",
       "    if (name == 'download') {\n",
       "        this.handle_save(this, null);\n",
       "    } else {\n",
       "        this.send_message(\"toolbar_button\", {name: name});\n",
       "    }\n",
       "};\n",
       "\n",
       "mpl.figure.prototype.toolbar_button_onmouseover = function(tooltip) {\n",
       "    this.message.textContent = tooltip;\n",
       "};\n",
       "mpl.toolbar_items = [[\"Home\", \"Reset original view\", \"fa fa-home icon-home\", \"home\"], [\"Back\", \"Back to  previous view\", \"fa fa-arrow-left icon-arrow-left\", \"back\"], [\"Forward\", \"Forward to next view\", \"fa fa-arrow-right icon-arrow-right\", \"forward\"], [\"\", \"\", \"\", \"\"], [\"Pan\", \"Pan axes with left mouse, zoom with right\", \"fa fa-arrows icon-move\", \"pan\"], [\"Zoom\", \"Zoom to rectangle\", \"fa fa-square-o icon-check-empty\", \"zoom\"], [\"\", \"\", \"\", \"\"], [\"Download\", \"Download plot\", \"fa fa-floppy-o icon-save\", \"download\"]];\n",
       "\n",
       "mpl.extensions = [\"eps\", \"jpeg\", \"pdf\", \"png\", \"ps\", \"raw\", \"svg\", \"tif\"];\n",
       "\n",
       "mpl.default_extension = \"png\";var comm_websocket_adapter = function(comm) {\n",
       "    // Create a \"websocket\"-like object which calls the given IPython comm\n",
       "    // object with the appropriate methods. Currently this is a non binary\n",
       "    // socket, so there is still some room for performance tuning.\n",
       "    var ws = {};\n",
       "\n",
       "    ws.close = function() {\n",
       "        comm.close()\n",
       "    };\n",
       "    ws.send = function(m) {\n",
       "        //console.log('sending', m);\n",
       "        comm.send(m);\n",
       "    };\n",
       "    // Register the callback with on_msg.\n",
       "    comm.on_msg(function(msg) {\n",
       "        //console.log('receiving', msg['content']['data'], msg);\n",
       "        // Pass the mpl event to the overriden (by mpl) onmessage function.\n",
       "        ws.onmessage(msg['content']['data'])\n",
       "    });\n",
       "    return ws;\n",
       "}\n",
       "\n",
       "mpl.mpl_figure_comm = function(comm, msg) {\n",
       "    // This is the function which gets called when the mpl process\n",
       "    // starts-up an IPython Comm through the \"matplotlib\" channel.\n",
       "\n",
       "    var id = msg.content.data.id;\n",
       "    // Get hold of the div created by the display call when the Comm\n",
       "    // socket was opened in Python.\n",
       "    var element = $(\"#\" + id);\n",
       "    var ws_proxy = comm_websocket_adapter(comm)\n",
       "\n",
       "    function ondownload(figure, format) {\n",
       "        window.open(figure.imageObj.src);\n",
       "    }\n",
       "\n",
       "    var fig = new mpl.figure(id, ws_proxy,\n",
       "                           ondownload,\n",
       "                           element.get(0));\n",
       "\n",
       "    // Call onopen now - mpl needs it, as it is assuming we've passed it a real\n",
       "    // web socket which is closed, not our websocket->open comm proxy.\n",
       "    ws_proxy.onopen();\n",
       "\n",
       "    fig.parent_element = element.get(0);\n",
       "    fig.cell_info = mpl.find_output_cell(\"<div id='\" + id + \"'></div>\");\n",
       "    if (!fig.cell_info) {\n",
       "        console.error(\"Failed to find cell for figure\", id, fig);\n",
       "        return;\n",
       "    }\n",
       "\n",
       "    var output_index = fig.cell_info[2]\n",
       "    var cell = fig.cell_info[0];\n",
       "\n",
       "};\n",
       "\n",
       "mpl.figure.prototype.handle_close = function(fig, msg) {\n",
       "    var width = fig.canvas.width/mpl.ratio\n",
       "    fig.root.unbind('remove')\n",
       "\n",
       "    // Update the output cell to use the data from the current canvas.\n",
       "    fig.push_to_output();\n",
       "    var dataURL = fig.canvas.toDataURL();\n",
       "    // Re-enable the keyboard manager in IPython - without this line, in FF,\n",
       "    // the notebook keyboard shortcuts fail.\n",
       "    IPython.keyboard_manager.enable()\n",
       "    $(fig.parent_element).html('<img src=\"' + dataURL + '\" width=\"' + width + '\">');\n",
       "    fig.close_ws(fig, msg);\n",
       "}\n",
       "\n",
       "mpl.figure.prototype.close_ws = function(fig, msg){\n",
       "    fig.send_message('closing', msg);\n",
       "    // fig.ws.close()\n",
       "}\n",
       "\n",
       "mpl.figure.prototype.push_to_output = function(remove_interactive) {\n",
       "    // Turn the data on the canvas into data in the output cell.\n",
       "    var width = this.canvas.width/mpl.ratio\n",
       "    var dataURL = this.canvas.toDataURL();\n",
       "    this.cell_info[1]['text/html'] = '<img src=\"' + dataURL + '\" width=\"' + width + '\">';\n",
       "}\n",
       "\n",
       "mpl.figure.prototype.updated_canvas_event = function() {\n",
       "    // Tell IPython that the notebook contents must change.\n",
       "    IPython.notebook.set_dirty(true);\n",
       "    this.send_message(\"ack\", {});\n",
       "    var fig = this;\n",
       "    // Wait a second, then push the new image to the DOM so\n",
       "    // that it is saved nicely (might be nice to debounce this).\n",
       "    setTimeout(function () { fig.push_to_output() }, 1000);\n",
       "}\n",
       "\n",
       "mpl.figure.prototype._init_toolbar = function() {\n",
       "    var fig = this;\n",
       "\n",
       "    var nav_element = $('<div/>')\n",
       "    nav_element.attr('style', 'width: 100%');\n",
       "    this.root.append(nav_element);\n",
       "\n",
       "    // Define a callback function for later on.\n",
       "    function toolbar_event(event) {\n",
       "        return fig.toolbar_button_onclick(event['data']);\n",
       "    }\n",
       "    function toolbar_mouse_event(event) {\n",
       "        return fig.toolbar_button_onmouseover(event['data']);\n",
       "    }\n",
       "\n",
       "    for(var toolbar_ind in mpl.toolbar_items){\n",
       "        var name = mpl.toolbar_items[toolbar_ind][0];\n",
       "        var tooltip = mpl.toolbar_items[toolbar_ind][1];\n",
       "        var image = mpl.toolbar_items[toolbar_ind][2];\n",
       "        var method_name = mpl.toolbar_items[toolbar_ind][3];\n",
       "\n",
       "        if (!name) { continue; };\n",
       "\n",
       "        var button = $('<button class=\"btn btn-default\" href=\"#\" title=\"' + name + '\"><i class=\"fa ' + image + ' fa-lg\"></i></button>');\n",
       "        button.click(method_name, toolbar_event);\n",
       "        button.mouseover(tooltip, toolbar_mouse_event);\n",
       "        nav_element.append(button);\n",
       "    }\n",
       "\n",
       "    // Add the status bar.\n",
       "    var status_bar = $('<span class=\"mpl-message\" style=\"text-align:right; float: right;\"/>');\n",
       "    nav_element.append(status_bar);\n",
       "    this.message = status_bar[0];\n",
       "\n",
       "    // Add the close button to the window.\n",
       "    var buttongrp = $('<div class=\"btn-group inline pull-right\"></div>');\n",
       "    var button = $('<button class=\"btn btn-mini btn-primary\" href=\"#\" title=\"Stop Interaction\"><i class=\"fa fa-power-off icon-remove icon-large\"></i></button>');\n",
       "    button.click(function (evt) { fig.handle_close(fig, {}); } );\n",
       "    button.mouseover('Stop Interaction', toolbar_mouse_event);\n",
       "    buttongrp.append(button);\n",
       "    var titlebar = this.root.find($('.ui-dialog-titlebar'));\n",
       "    titlebar.prepend(buttongrp);\n",
       "}\n",
       "\n",
       "mpl.figure.prototype._root_extra_style = function(el){\n",
       "    var fig = this\n",
       "    el.on(\"remove\", function(){\n",
       "\tfig.close_ws(fig, {});\n",
       "    });\n",
       "}\n",
       "\n",
       "mpl.figure.prototype._canvas_extra_style = function(el){\n",
       "    // this is important to make the div 'focusable\n",
       "    el.attr('tabindex', 0)\n",
       "    // reach out to IPython and tell the keyboard manager to turn it's self\n",
       "    // off when our div gets focus\n",
       "\n",
       "    // location in version 3\n",
       "    if (IPython.notebook.keyboard_manager) {\n",
       "        IPython.notebook.keyboard_manager.register_events(el);\n",
       "    }\n",
       "    else {\n",
       "        // location in version 2\n",
       "        IPython.keyboard_manager.register_events(el);\n",
       "    }\n",
       "\n",
       "}\n",
       "\n",
       "mpl.figure.prototype._key_event_extra = function(event, name) {\n",
       "    var manager = IPython.notebook.keyboard_manager;\n",
       "    if (!manager)\n",
       "        manager = IPython.keyboard_manager;\n",
       "\n",
       "    // Check for shift+enter\n",
       "    if (event.shiftKey && event.which == 13) {\n",
       "        this.canvas_div.blur();\n",
       "        // select the cell after this one\n",
       "        var index = IPython.notebook.find_cell_index(this.cell_info[0]);\n",
       "        IPython.notebook.select(index + 1);\n",
       "    }\n",
       "}\n",
       "\n",
       "mpl.figure.prototype.handle_save = function(fig, msg) {\n",
       "    fig.ondownload(fig, null);\n",
       "}\n",
       "\n",
       "\n",
       "mpl.find_output_cell = function(html_output) {\n",
       "    // Return the cell and output element which can be found *uniquely* in the notebook.\n",
       "    // Note - this is a bit hacky, but it is done because the \"notebook_saving.Notebook\"\n",
       "    // IPython event is triggered only after the cells have been serialised, which for\n",
       "    // our purposes (turning an active figure into a static one), is too late.\n",
       "    var cells = IPython.notebook.get_cells();\n",
       "    var ncells = cells.length;\n",
       "    for (var i=0; i<ncells; i++) {\n",
       "        var cell = cells[i];\n",
       "        if (cell.cell_type === 'code'){\n",
       "            for (var j=0; j<cell.output_area.outputs.length; j++) {\n",
       "                var data = cell.output_area.outputs[j];\n",
       "                if (data.data) {\n",
       "                    // IPython >= 3 moved mimebundle to data attribute of output\n",
       "                    data = data.data;\n",
       "                }\n",
       "                if (data['text/html'] == html_output) {\n",
       "                    return [cell, data, j];\n",
       "                }\n",
       "            }\n",
       "        }\n",
       "    }\n",
       "}\n",
       "\n",
       "// Register the function which deals with the matplotlib target/channel.\n",
       "// The kernel may be null if the page has been refreshed.\n",
       "if (IPython.notebook.kernel != null) {\n",
       "    IPython.notebook.kernel.comm_manager.register_target('matplotlib', mpl.mpl_figure_comm);\n",
       "}\n"
      ],
      "text/plain": [
       "<IPython.core.display.Javascript object>"
      ]
     },
     "metadata": {},
     "output_type": "display_data"
    },
    {
     "data": {
      "text/html": [
       "<img src=\"data:image/png;base64,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\" width=\"900\">"
      ],
      "text/plain": [
       "<IPython.core.display.HTML object>"
      ]
     },
     "metadata": {},
     "output_type": "display_data"
    }
   ],
   "source": [
    "titles = [\"Excitatory feedback\", \"Inhibitory feedback\", \"Mixed feedback\"]\n",
    "labels = [r\"$w^\\mathrm{ex}_{\\mathrm{RCR}}$\", r\"$|w^\\mathrm{in}_{\\mathrm{RCR}}|$\", \n",
    "          r\"$w^\\mathrm{mix}_{\\mathrm{RCR}}$\"]\n",
    "\n",
    "fig, axarr = plt.subplots(3, 3, figsize=(9, 6), sharex=\"all\")\n",
    "plt.figtext(0.5, 0.99, titles[0], ha='center', va='center', fontsize=16)\n",
    "plt.figtext(0.5, 0.68, titles[1], ha='center', va='center', fontsize=16)\n",
    "plt.figtext(0.5, 0.36, titles[2], ha='center', va='center', fontsize=16)\n",
    "plt.subplots_adjust(hspace=2)\n",
    "\n",
    "# Size tuning curves:\n",
    "for i, (key, w_rc) in enumerate(zip(size_tuning.keys(), [w_rc_ex, w_rc_in, w_rc_mix])):\n",
    "    ax = axarr[i, :]\n",
    "    \n",
    "    for j, w in enumerate(w_rc):\n",
    "        ax[j].set_title(labels[i]+\"={}\".format(w))\n",
    "        ax[j].plot(2**nr, size_tuning[key][\"cen_size\"][:, j], \"-o\")\n",
    "        ax[j].set_ylabel(\"center size\", color=\"C0\")\n",
    "        ax[j].set_xscale('log', basex=2)\n",
    "        \n",
    "        ax_twin = ax[j].twinx()\n",
    "        ax_twin.plot(2**nr, size_tuning[key][\"supp_index\"][:, j], \"-oC1\")\n",
    "        ax_twin.set_ylabel(\"suppression index\", color=\"C1\")\n",
    "        ax_twin.set_xscale('log', basex=2)\n",
    "        \n",
    "\n",
    "for ax in axarr.flat[-3:]:\n",
    "    ax.set_xlabel(r\"Number of spatial points, $N$\")\n",
    "    ax.set_xticks(2**nr)\n",
    "\n",
    "fig.tight_layout()"
   ]
  },
  {
   "cell_type": "code",
   "execution_count": null,
   "metadata": {
    "collapsed": true
   },
   "outputs": [],
   "source": []
  }
 ],
 "metadata": {
  "anaconda-cloud": {},
  "kernelspec": {
   "display_name": "Python 3",
   "language": "python",
   "name": "python3"
  },
  "language_info": {
   "codemirror_mode": {
    "name": "ipython",
    "version": 3
   },
   "file_extension": ".py",
   "mimetype": "text/x-python",
   "name": "python",
   "nbconvert_exporter": "python",
   "pygments_lexer": "ipython3",
   "version": "3.5.4"
  },
  "nbpresent": {
   "slides": {
    "0c512947-22b0-4620-957c-acb049a64df1": {
     "id": "0c512947-22b0-4620-957c-acb049a64df1",
     "prev": "fb0a318a-a23a-4d41-886a-dd6cea238b53",
     "regions": {
      "4f50cc9d-7580-428e-a900-06d87cdfe71a": {
       "attrs": {
        "height": 0.8,
        "width": 0.8,
        "x": 0.1,
        "y": 0.1
       },
       "content": {
        "cell": "0329e4f2-14b2-4162-9265-b79666a7f713",
        "part": "whole"
       },
       "id": "4f50cc9d-7580-428e-a900-06d87cdfe71a"
      }
     },
     "theme": null
    },
    "30d1a1d6-85e5-4a38-b09c-822be9414bd4": {
     "id": "30d1a1d6-85e5-4a38-b09c-822be9414bd4",
     "prev": "d6db61c1-604e-4121-8c01-f3d22416de15",
     "regions": {
      "2f6d32e5-a952-4294-9cc4-f99945d45603": {
       "attrs": {
        "height": 0.8,
        "width": 0.8,
        "x": 0.1,
        "y": 0.1
       },
       "content": {
        "cell": "382b46f7-25d4-4eaf-b3a9-647de01d8348",
        "part": "whole"
       },
       "id": "2f6d32e5-a952-4294-9cc4-f99945d45603"
      }
     }
    },
    "52a12f95-282a-48f3-ad0c-35b4502ef810": {
     "id": "52a12f95-282a-48f3-ad0c-35b4502ef810",
     "prev": null,
     "regions": {
      "f682cb8c-f3ed-466a-b367-d9ee4b3696af": {
       "attrs": {
        "height": 0.8,
        "width": 0.8,
        "x": 0.1,
        "y": 0.1
       },
       "content": {
        "cell": "43262e84-0cf5-4f65-84c5-9efe58e654cd",
        "part": "whole"
       },
       "id": "f682cb8c-f3ed-466a-b367-d9ee4b3696af"
      }
     }
    },
    "641d5b5a-6aa1-40f6-bd32-585fc0e31382": {
     "id": "641d5b5a-6aa1-40f6-bd32-585fc0e31382",
     "prev": "95e6a885-2625-4579-b8b1-086d1fdb95f2",
     "regions": {
      "e4d018eb-5924-4c4b-9fdb-c8bbb2a9518e": {
       "attrs": {
        "height": 0.8,
        "width": 0.8,
        "x": 0.1,
        "y": 0.1
       },
       "content": {
        "cell": "bddec95f-d01d-45ad-aefb-bf3949f29c57",
        "part": "whole"
       },
       "id": "e4d018eb-5924-4c4b-9fdb-c8bbb2a9518e"
      }
     }
    },
    "8e9695f4-d725-4cf1-a771-dd22895bb5fc": {
     "id": "8e9695f4-d725-4cf1-a771-dd22895bb5fc",
     "prev": "641d5b5a-6aa1-40f6-bd32-585fc0e31382",
     "regions": {
      "dc7c7f91-9001-4633-a354-4f5389771235": {
       "attrs": {
        "height": 0.8,
        "width": 0.8,
        "x": 0.1,
        "y": 0.1
       },
       "content": {
        "cell": "dbdb971a-6087-405a-9c5d-9cd2920fbfd0",
        "part": "whole"
       },
       "id": "dc7c7f91-9001-4633-a354-4f5389771235"
      }
     }
    },
    "95e6a885-2625-4579-b8b1-086d1fdb95f2": {
     "id": "95e6a885-2625-4579-b8b1-086d1fdb95f2",
     "prev": "b5581607-c17f-4f66-96cc-1a2c36dc5ca3",
     "regions": {
      "2612b9d1-8f75-4832-b18d-bc756004d96b": {
       "attrs": {
        "height": 0.8,
        "width": 0.8,
        "x": 0.1,
        "y": 0.1
       },
       "content": {
        "cell": "04113409-bf22-490e-929c-902239ddee2f",
        "part": "whole"
       },
       "id": "2612b9d1-8f75-4832-b18d-bc756004d96b"
      }
     }
    },
    "9ba4c26f-cf11-4b3e-aaa9-14b470d809a4": {
     "id": "9ba4c26f-cf11-4b3e-aaa9-14b470d809a4",
     "prev": "df83e99b-f0c7-4f83-82c2-66db3a61d655",
     "regions": {
      "7705d5e8-c66c-4ac6-9f67-af901d3f062f": {
       "attrs": {
        "height": 0.8,
        "width": 0.8,
        "x": 0.1,
        "y": 0.1
       },
       "content": {
        "cell": "382b46f7-25d4-4eaf-b3a9-647de01d8348",
        "part": "whole"
       },
       "id": "7705d5e8-c66c-4ac6-9f67-af901d3f062f"
      }
     }
    },
    "9d0e3a49-f3d0-418f-b9d7-38e403f65770": {
     "id": "9d0e3a49-f3d0-418f-b9d7-38e403f65770",
     "prev": "0c512947-22b0-4620-957c-acb049a64df1",
     "regions": {
      "7668ddf4-59a7-47d0-88ac-987690baaa79": {
       "attrs": {
        "height": 0.8,
        "width": 0.8,
        "x": 0.1,
        "y": 0.1
       },
       "content": {
        "cell": "70350ee6-6295-4d0e-94c3-58e42c451918",
        "part": "whole"
       },
       "id": "7668ddf4-59a7-47d0-88ac-987690baaa79"
      }
     }
    },
    "b5581607-c17f-4f66-96cc-1a2c36dc5ca3": {
     "id": "b5581607-c17f-4f66-96cc-1a2c36dc5ca3",
     "prev": "9ba4c26f-cf11-4b3e-aaa9-14b470d809a4",
     "regions": {
      "eb078aeb-4c73-42f9-b303-62e78c80f9d1": {
       "attrs": {
        "height": 0.8,
        "width": 0.8,
        "x": 0.1,
        "y": 0.1
       },
       "content": {
        "cell": "de161638-3993-460b-bfe5-5f6e7782b40d",
        "part": "whole"
       },
       "id": "eb078aeb-4c73-42f9-b303-62e78c80f9d1"
      }
     }
    },
    "d6db61c1-604e-4121-8c01-f3d22416de15": {
     "id": "d6db61c1-604e-4121-8c01-f3d22416de15",
     "prev": "9d0e3a49-f3d0-418f-b9d7-38e403f65770",
     "regions": {
      "e233c42f-3857-443b-88d3-a3ca810237e8": {
       "attrs": {
        "height": 0.8,
        "width": 0.8,
        "x": 0.1,
        "y": 0.1
       },
       "content": {
        "cell": "4717121a-ec21-4560-a366-49a411d9a737",
        "part": "whole"
       },
       "id": "e233c42f-3857-443b-88d3-a3ca810237e8"
      }
     }
    },
    "df83e99b-f0c7-4f83-82c2-66db3a61d655": {
     "id": "df83e99b-f0c7-4f83-82c2-66db3a61d655",
     "prev": "30d1a1d6-85e5-4a38-b09c-822be9414bd4",
     "regions": {
      "170d6c07-f7ae-4c44-ac52-9ea5fdae038a": {
       "attrs": {
        "height": 0.8,
        "width": 0.8,
        "x": 0.1,
        "y": 0.1
       },
       "content": {
        "cell": "4717121a-ec21-4560-a366-49a411d9a737",
        "part": "whole"
       },
       "id": "170d6c07-f7ae-4c44-ac52-9ea5fdae038a"
      }
     }
    },
    "fb0a318a-a23a-4d41-886a-dd6cea238b53": {
     "id": "fb0a318a-a23a-4d41-886a-dd6cea238b53",
     "prev": "fda6540a-8662-495f-ba36-808ad292157d",
     "regions": {
      "3d312848-0567-498a-bd11-883ee4b6d357": {
       "attrs": {
        "height": 0.8,
        "width": 0.8,
        "x": 0.1,
        "y": 0.1
       },
       "content": {
        "cell": "03a51aa3-95e0-430b-9f4c-9604e8e01fdf",
        "part": "whole"
       },
       "id": "3d312848-0567-498a-bd11-883ee4b6d357"
      }
     }
    },
    "fda6540a-8662-495f-ba36-808ad292157d": {
     "id": "fda6540a-8662-495f-ba36-808ad292157d",
     "prev": "52a12f95-282a-48f3-ad0c-35b4502ef810",
     "regions": {
      "e7a689ab-12c6-4d3e-9619-e6b4c4fa6d3f": {
       "attrs": {
        "height": 0.8,
        "width": 0.8,
        "x": 0.1,
        "y": 0.1
       },
       "content": {
        "cell": "95a143d6-6f5f-4049-945a-a013649da004",
        "part": "whole"
       },
       "id": "e7a689ab-12c6-4d3e-9619-e6b4c4fa6d3f"
      }
     }
    }
   },
   "themes": {
    "default": "75daa297-5cd3-473b-a166-43f1ac864956",
    "theme": {
     "75daa297-5cd3-473b-a166-43f1ac864956": {
      "id": "75daa297-5cd3-473b-a166-43f1ac864956",
      "palette": {
       "19cc588f-0593-49c9-9f4b-e4d7cc113b1c": {
        "id": "19cc588f-0593-49c9-9f4b-e4d7cc113b1c",
        "rgb": [
         252,
         252,
         252
        ]
       },
       "31af15d2-7e15-44c5-ab5e-e04b16a89eff": {
        "id": "31af15d2-7e15-44c5-ab5e-e04b16a89eff",
        "rgb": [
         68,
         68,
         68
        ]
       },
       "50f92c45-a630-455b-aec3-788680ec7410": {
        "id": "50f92c45-a630-455b-aec3-788680ec7410",
        "rgb": [
         155,
         177,
         192
        ]
       },
       "c5cc3653-2ee1-402a-aba2-7caae1da4f6c": {
        "id": "c5cc3653-2ee1-402a-aba2-7caae1da4f6c",
        "rgb": [
         43,
         126,
         184
        ]
       },
       "efa7f048-9acb-414c-8b04-a26811511a21": {
        "id": "efa7f048-9acb-414c-8b04-a26811511a21",
        "rgb": [
         25.118061674008803,
         73.60176211453744,
         107.4819383259912
        ]
       }
      },
      "rules": {
       "blockquote": {
        "color": "50f92c45-a630-455b-aec3-788680ec7410"
       },
       "code": {
        "font-family": "Anonymous Pro"
       },
       "h1": {
        "color": "c5cc3653-2ee1-402a-aba2-7caae1da4f6c",
        "font-family": "Lato",
        "font-size": 8
       },
       "h2": {
        "color": "c5cc3653-2ee1-402a-aba2-7caae1da4f6c",
        "font-family": "Lato",
        "font-size": 6
       },
       "h3": {
        "color": "50f92c45-a630-455b-aec3-788680ec7410",
        "font-family": "Lato",
        "font-size": 5.5
       },
       "h4": {
        "color": "c5cc3653-2ee1-402a-aba2-7caae1da4f6c",
        "font-family": "Lato",
        "font-size": 5
       },
       "h5": {
        "font-family": "Lato"
       },
       "h6": {
        "font-family": "Lato"
       },
       "h7": {
        "font-family": "Lato"
       },
       "pre": {
        "font-family": "Anonymous Pro",
        "font-size": 4
       }
      },
      "text-base": {
       "font-family": "Merriweather",
       "font-size": 4
      }
     },
     "d307f93a-9047-4d98-889d-39af4e4707a4": {
      "backgrounds": {
       "dc7afa04-bf90-40b1-82a5-726e3cff5267": {
        "background-color": "31af15d2-7e15-44c5-ab5e-e04b16a89eff",
        "id": "dc7afa04-bf90-40b1-82a5-726e3cff5267"
       }
      },
      "id": "d307f93a-9047-4d98-889d-39af4e4707a4",
      "palette": {
       "19cc588f-0593-49c9-9f4b-e4d7cc113b1c": {
        "id": "19cc588f-0593-49c9-9f4b-e4d7cc113b1c",
        "rgb": [
         252,
         252,
         252
        ]
       },
       "31af15d2-7e15-44c5-ab5e-e04b16a89eff": {
        "id": "31af15d2-7e15-44c5-ab5e-e04b16a89eff",
        "rgb": [
         68,
         68,
         68
        ]
       },
       "50f92c45-a630-455b-aec3-788680ec7410": {
        "id": "50f92c45-a630-455b-aec3-788680ec7410",
        "rgb": [
         197,
         226,
         245
        ]
       },
       "c5cc3653-2ee1-402a-aba2-7caae1da4f6c": {
        "id": "c5cc3653-2ee1-402a-aba2-7caae1da4f6c",
        "rgb": [
         43,
         126,
         184
        ]
       },
       "efa7f048-9acb-414c-8b04-a26811511a21": {
        "id": "efa7f048-9acb-414c-8b04-a26811511a21",
        "rgb": [
         25.118061674008803,
         73.60176211453744,
         107.4819383259912
        ]
       }
      },
      "rules": {
       "a": {
        "color": "19cc588f-0593-49c9-9f4b-e4d7cc113b1c"
       },
       "blockquote": {
        "color": "50f92c45-a630-455b-aec3-788680ec7410",
        "font-size": 3
       },
       "code": {
        "font-family": "Anonymous Pro"
       },
       "h1": {
        "color": "19cc588f-0593-49c9-9f4b-e4d7cc113b1c",
        "font-family": "Merriweather",
        "font-size": 8
       },
       "h2": {
        "color": "19cc588f-0593-49c9-9f4b-e4d7cc113b1c",
        "font-family": "Merriweather",
        "font-size": 6
       },
       "h3": {
        "color": "50f92c45-a630-455b-aec3-788680ec7410",
        "font-family": "Lato",
        "font-size": 5.5
       },
       "h4": {
        "color": "c5cc3653-2ee1-402a-aba2-7caae1da4f6c",
        "font-family": "Lato",
        "font-size": 5
       },
       "h5": {
        "font-family": "Lato"
       },
       "h6": {
        "font-family": "Lato"
       },
       "h7": {
        "font-family": "Lato"
       },
       "li": {
        "color": "50f92c45-a630-455b-aec3-788680ec7410",
        "font-size": 3.25
       },
       "pre": {
        "font-family": "Anonymous Pro",
        "font-size": 4
       }
      },
      "text-base": {
       "color": "19cc588f-0593-49c9-9f4b-e4d7cc113b1c",
       "font-family": "Lato",
       "font-size": 4
      }
     }
    }
   }
  }
 },
 "nbformat": 4,
 "nbformat_minor": 2
}

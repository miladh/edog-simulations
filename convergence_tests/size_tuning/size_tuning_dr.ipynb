{
 "cells": [
  {
   "cell_type": "code",
   "execution_count": 3,
   "metadata": {
    "slideshow": {
     "slide_type": "slide"
    }
   },
   "outputs": [
    {
     "name": "stdout",
     "output_type": "stream",
     "text": [
      "The autoreload extension is already loaded. To reload it, use:\n",
      "  %reload_ext autoreload\n"
     ]
    }
   ],
   "source": [
    "%load_ext autoreload\n",
    "%autoreload 2\n",
    "%matplotlib notebook\n",
    "\n",
    "from IPython.display import set_matplotlib_formats\n",
    "set_matplotlib_formats('png', 'pdf')\n",
    "\n",
    "import numpy as np\n",
    "import matplotlib.pyplot as plt\n",
    "import quantities as pq\n",
    "from operator import itemgetter\n",
    "from edog.tools import*\n",
    "from edog.plot import*\n",
    "\n",
    "filename = \"params_dr.yaml\"\n",
    "params = parse_parameters(filename)\n",
    "\n",
    "nt, nr, dt, dr = itemgetter(\"nt\", \"nr\", \"dt\", \"dr\")(params[\"grid\"])\n",
    "k_id, w_id, patch_diameter = itemgetter(\"k_id\", \"w_id\", \"patch_diameter\")(params[\"stimulus\"])\n",
    "A_g, a_g, B_g, b_g = itemgetter(\"A\", \"a\", \"B\", \"b\")(params[\"ganglion\"])\n",
    "w_rg, A_rg, a_rg = itemgetter(\"w\", \"A\", \"a\")(params[\"relay\"][\"Krg\"])\n",
    "w_rig, A_rig, a_rig = itemgetter(\"w\", \"A\", \"a\")(params[\"relay\"][\"Krig\"])\n",
    "w_rc_ex, A_rc_ex, a_rc_ex = itemgetter(\"w\", \"A\", \"a\")(params[\"relay\"][\"Krc_ex\"])\n",
    "w_rc_in, A_rc_in, a_rc_in = itemgetter(\"w\", \"A\", \"a\")(params[\"relay\"][\"Krc_in\"])\n",
    "\n",
    "w_rc_mix = itemgetter(\"w\")(params[\"relay\"][\"Krc_mix\"])\n",
    "A_rc_mix_in, a_rc_mix_in = itemgetter(\"A\", \"a\")(params[\"relay\"][\"Krc_mix\"][\"Krc_in\"])\n",
    "A_rc_mix_ex, a_rc_mix_ex = itemgetter(\"A\", \"a\")(params[\"relay\"][\"Krc_mix\"][\"Krc_ex\"])\n",
    "\n",
    "size_tuning = {\"fb_ex\": {}, \"fb_in\": {}, \"fb_mix\": {}}"
   ]
  },
  {
   "cell_type": "markdown",
   "metadata": {
    "nbpresent": {
     "id": "4717121a-ec21-4560-a366-49a411d9a737"
    }
   },
   "source": [
    "## Feedback excitation"
   ]
  },
  {
   "cell_type": "code",
   "execution_count": 4,
   "metadata": {
    "nbpresent": {
     "id": "382b46f7-25d4-4eaf-b3a9-647de01d8348"
    }
   },
   "outputs": [],
   "source": [
    "tuning_curve = np.zeros([len(dr), len(w_rc_ex), len(patch_diameter)])\n",
    "cen_size = np.zeros([len(dr), len(w_rc_ex)])\n",
    "supp_index = np.zeros([len(dr), len(w_rc_ex)])\n",
    "\n",
    "\n",
    "for j, d in enumerate(dr):\n",
    "    for i, w in enumerate(w_rc_ex):\n",
    "        network = create_spatial_network(nt=nt, nr=nr, dt=dt, dr=d,\n",
    "                                 A_g=A_g, a_g=a_g, B_g=B_g, b_g=b_g,\n",
    "                                 w_rg=w_rg, A_rg=A_rg, a_rg=a_rg,\n",
    "                                 w_rig=w_rig, A_rig=A_rig, a_rig=a_rig,\n",
    "                                 w_rc_ex=w, A_rc_ex=A_rc_ex, a_rc_ex=a_rc_ex)\n",
    "\n",
    "        angular_freq = network.integrator.temporal_angular_freqs[int(w_id)]\n",
    "        wavenumber = network.integrator.spatial_angular_freqs[int(k_id)]\n",
    "        spatiotemporal_tuning = spatiotemporal_size_tuning(network=network,\n",
    "                                                           angular_freq=angular_freq,\n",
    "                                                           wavenumber=wavenumber,\n",
    "                                                           patch_diameter=patch_diameter)\n",
    "\n",
    "        tuning_curve[j, i, :] = spatiotemporal_tuning[0, :]\n",
    "\n",
    "        cen_size[j, i] = rf_center_size(tuning_curve[j, i, :], patch_diameter)\n",
    "        supp_index[j, i] = compute_suppression_index(tuning_curve[j, i, :])\n",
    "\n",
    "size_tuning[\"fb_ex\"] = {\"tuning_curve\": tuning_curve, \"cen_size\": cen_size, \"supp_index\": supp_index}"
   ]
  },
  {
   "cell_type": "markdown",
   "metadata": {
    "nbpresent": {
     "id": "4717121a-ec21-4560-a366-49a411d9a737"
    }
   },
   "source": [
    "## Feedback inhibition"
   ]
  },
  {
   "cell_type": "code",
   "execution_count": 5,
   "metadata": {
    "collapsed": true,
    "nbpresent": {
     "id": "382b46f7-25d4-4eaf-b3a9-647de01d8348"
    }
   },
   "outputs": [],
   "source": [
    "tuning_curve = np.zeros([len(dr), len(w_rc_in), len(patch_diameter)])\n",
    "cen_size = np.zeros([len(dr),len(w_rc_in)])\n",
    "supp_index = np.zeros([len(dr),len(w_rc_in)])\n",
    "\n",
    "for j, d in enumerate(dr):\n",
    "    for i, w in enumerate(w_rc_in):\n",
    "        network = create_spatial_network(nt=nt, nr=nr, dt=dt, dr=d,\n",
    "                                 A_g=A_g, a_g=a_g, B_g=B_g, b_g=b_g,\n",
    "                                 w_rg=w_rg, A_rg=A_rg, a_rg=a_rg,\n",
    "                                 w_rig=w_rig, A_rig=A_rig, a_rig=a_rig,\n",
    "                                 w_rc_in=w, A_rc_in=A_rc_in, a_rc_in=a_rc_in)\n",
    "\n",
    "        angular_freq = network.integrator.temporal_angular_freqs[int(w_id)]\n",
    "        wavenumber = network.integrator.spatial_angular_freqs[int(k_id)]\n",
    "        spatiotemporal_tuning = spatiotemporal_size_tuning(network=network,\n",
    "                                                           angular_freq=angular_freq,\n",
    "                                                           wavenumber=wavenumber,\n",
    "                                                           patch_diameter=patch_diameter)\n",
    "\n",
    "        tuning_curve[j, i, :] = spatiotemporal_tuning[0, :]\n",
    "\n",
    "        cen_size[j, i] = rf_center_size(tuning_curve[j, i, :], patch_diameter)\n",
    "        supp_index[j, i] = compute_suppression_index(tuning_curve[j, i, :])\n",
    "\n",
    "size_tuning[\"fb_in\"] = {\"tuning_curve\": tuning_curve, \"cen_size\": cen_size, \"supp_index\": supp_index}"
   ]
  },
  {
   "cell_type": "markdown",
   "metadata": {},
   "source": [
    "## Mixed excitatory and inhibitory feedback"
   ]
  },
  {
   "cell_type": "code",
   "execution_count": 6,
   "metadata": {
    "collapsed": true,
    "nbpresent": {
     "id": "382b46f7-25d4-4eaf-b3a9-647de01d8348"
    }
   },
   "outputs": [],
   "source": [
    "tuning_curve = np.zeros([len(dr), len(w_rc_mix), len(patch_diameter)])\n",
    "cen_size = np.zeros([len(dr),len(w_rc_mix)])\n",
    "supp_index = np.zeros([len(dr),len(w_rc_mix)])\n",
    "\n",
    "for j, d in enumerate(dr):\n",
    "    for i, w in enumerate(w_rc_mix):\n",
    "        network = create_spatial_network(nt=nt, nr=nr, dt=dt, dr=d,\n",
    "                                 A_g=A_g, a_g=a_g, B_g=B_g, b_g=b_g,\n",
    "                                 w_rg=w_rg, A_rg=A_rg, a_rg=a_rg,\n",
    "                                 w_rig=w_rig, A_rig=A_rig, a_rig=a_rig,\n",
    "                                 w_rc_in=w, A_rc_in=A_rc_mix_in, a_rc_in=a_rc_mix_in,\n",
    "                                 w_rc_ex=w, A_rc_ex=A_rc_mix_ex, a_rc_ex=a_rc_mix_ex)\n",
    "\n",
    "        angular_freq = network.integrator.temporal_angular_freqs[int(w_id)]\n",
    "        wavenumber = network.integrator.spatial_angular_freqs[int(k_id)]\n",
    "        spatiotemporal_tuning = spatiotemporal_size_tuning(network=network,\n",
    "                                                           angular_freq=angular_freq,\n",
    "                                                           wavenumber=wavenumber,\n",
    "                                                           patch_diameter=patch_diameter)\n",
    "\n",
    "        tuning_curve[j, i, :] = spatiotemporal_tuning[0, :]\n",
    "\n",
    "        cen_size[j, i] = rf_center_size(tuning_curve[j, i, :], patch_diameter)\n",
    "        supp_index[j, i] = compute_suppression_index(tuning_curve[j, i, :])\n",
    "\n",
    "\n",
    "size_tuning[\"fb_mix\"] = {\"tuning_curve\": tuning_curve, \"cen_size\": cen_size, \"supp_index\": supp_index}"
   ]
  },
  {
   "cell_type": "markdown",
   "metadata": {
    "collapsed": true,
    "nbpresent": {
     "id": "de161638-3993-460b-bfe5-5f6e7782b40d"
    }
   },
   "source": [
    "-------------\n",
    "## Convergence plots"
   ]
  },
  {
   "cell_type": "code",
   "execution_count": 9,
   "metadata": {
    "scrolled": false
   },
   "outputs": [
    {
     "data": {
      "application/javascript": [
       "/* Put everything inside the global mpl namespace */\n",
       "window.mpl = {};\n",
       "\n",
       "\n",
       "mpl.get_websocket_type = function() {\n",
       "    if (typeof(WebSocket) !== 'undefined') {\n",
       "        return WebSocket;\n",
       "    } else if (typeof(MozWebSocket) !== 'undefined') {\n",
       "        return MozWebSocket;\n",
       "    } else {\n",
       "        alert('Your browser does not have WebSocket support.' +\n",
       "              'Please try Chrome, Safari or Firefox ≥ 6. ' +\n",
       "              'Firefox 4 and 5 are also supported but you ' +\n",
       "              'have to enable WebSockets in about:config.');\n",
       "    };\n",
       "}\n",
       "\n",
       "mpl.figure = function(figure_id, websocket, ondownload, parent_element) {\n",
       "    this.id = figure_id;\n",
       "\n",
       "    this.ws = websocket;\n",
       "\n",
       "    this.supports_binary = (this.ws.binaryType != undefined);\n",
       "\n",
       "    if (!this.supports_binary) {\n",
       "        var warnings = document.getElementById(\"mpl-warnings\");\n",
       "        if (warnings) {\n",
       "            warnings.style.display = 'block';\n",
       "            warnings.textContent = (\n",
       "                \"This browser does not support binary websocket messages. \" +\n",
       "                    \"Performance may be slow.\");\n",
       "        }\n",
       "    }\n",
       "\n",
       "    this.imageObj = new Image();\n",
       "\n",
       "    this.context = undefined;\n",
       "    this.message = undefined;\n",
       "    this.canvas = undefined;\n",
       "    this.rubberband_canvas = undefined;\n",
       "    this.rubberband_context = undefined;\n",
       "    this.format_dropdown = undefined;\n",
       "\n",
       "    this.image_mode = 'full';\n",
       "\n",
       "    this.root = $('<div/>');\n",
       "    this._root_extra_style(this.root)\n",
       "    this.root.attr('style', 'display: inline-block');\n",
       "\n",
       "    $(parent_element).append(this.root);\n",
       "\n",
       "    this._init_header(this);\n",
       "    this._init_canvas(this);\n",
       "    this._init_toolbar(this);\n",
       "\n",
       "    var fig = this;\n",
       "\n",
       "    this.waiting = false;\n",
       "\n",
       "    this.ws.onopen =  function () {\n",
       "            fig.send_message(\"supports_binary\", {value: fig.supports_binary});\n",
       "            fig.send_message(\"send_image_mode\", {});\n",
       "            if (mpl.ratio != 1) {\n",
       "                fig.send_message(\"set_dpi_ratio\", {'dpi_ratio': mpl.ratio});\n",
       "            }\n",
       "            fig.send_message(\"refresh\", {});\n",
       "        }\n",
       "\n",
       "    this.imageObj.onload = function() {\n",
       "            if (fig.image_mode == 'full') {\n",
       "                // Full images could contain transparency (where diff images\n",
       "                // almost always do), so we need to clear the canvas so that\n",
       "                // there is no ghosting.\n",
       "                fig.context.clearRect(0, 0, fig.canvas.width, fig.canvas.height);\n",
       "            }\n",
       "            fig.context.drawImage(fig.imageObj, 0, 0);\n",
       "        };\n",
       "\n",
       "    this.imageObj.onunload = function() {\n",
       "        this.ws.close();\n",
       "    }\n",
       "\n",
       "    this.ws.onmessage = this._make_on_message_function(this);\n",
       "\n",
       "    this.ondownload = ondownload;\n",
       "}\n",
       "\n",
       "mpl.figure.prototype._init_header = function() {\n",
       "    var titlebar = $(\n",
       "        '<div class=\"ui-dialog-titlebar ui-widget-header ui-corner-all ' +\n",
       "        'ui-helper-clearfix\"/>');\n",
       "    var titletext = $(\n",
       "        '<div class=\"ui-dialog-title\" style=\"width: 100%; ' +\n",
       "        'text-align: center; padding: 3px;\"/>');\n",
       "    titlebar.append(titletext)\n",
       "    this.root.append(titlebar);\n",
       "    this.header = titletext[0];\n",
       "}\n",
       "\n",
       "\n",
       "\n",
       "mpl.figure.prototype._canvas_extra_style = function(canvas_div) {\n",
       "\n",
       "}\n",
       "\n",
       "\n",
       "mpl.figure.prototype._root_extra_style = function(canvas_div) {\n",
       "\n",
       "}\n",
       "\n",
       "mpl.figure.prototype._init_canvas = function() {\n",
       "    var fig = this;\n",
       "\n",
       "    var canvas_div = $('<div/>');\n",
       "\n",
       "    canvas_div.attr('style', 'position: relative; clear: both; outline: 0');\n",
       "\n",
       "    function canvas_keyboard_event(event) {\n",
       "        return fig.key_event(event, event['data']);\n",
       "    }\n",
       "\n",
       "    canvas_div.keydown('key_press', canvas_keyboard_event);\n",
       "    canvas_div.keyup('key_release', canvas_keyboard_event);\n",
       "    this.canvas_div = canvas_div\n",
       "    this._canvas_extra_style(canvas_div)\n",
       "    this.root.append(canvas_div);\n",
       "\n",
       "    var canvas = $('<canvas/>');\n",
       "    canvas.addClass('mpl-canvas');\n",
       "    canvas.attr('style', \"left: 0; top: 0; z-index: 0; outline: 0\")\n",
       "\n",
       "    this.canvas = canvas[0];\n",
       "    this.context = canvas[0].getContext(\"2d\");\n",
       "\n",
       "    var backingStore = this.context.backingStorePixelRatio ||\n",
       "\tthis.context.webkitBackingStorePixelRatio ||\n",
       "\tthis.context.mozBackingStorePixelRatio ||\n",
       "\tthis.context.msBackingStorePixelRatio ||\n",
       "\tthis.context.oBackingStorePixelRatio ||\n",
       "\tthis.context.backingStorePixelRatio || 1;\n",
       "\n",
       "    mpl.ratio = (window.devicePixelRatio || 1) / backingStore;\n",
       "\n",
       "    var rubberband = $('<canvas/>');\n",
       "    rubberband.attr('style', \"position: absolute; left: 0; top: 0; z-index: 1;\")\n",
       "\n",
       "    var pass_mouse_events = true;\n",
       "\n",
       "    canvas_div.resizable({\n",
       "        start: function(event, ui) {\n",
       "            pass_mouse_events = false;\n",
       "        },\n",
       "        resize: function(event, ui) {\n",
       "            fig.request_resize(ui.size.width, ui.size.height);\n",
       "        },\n",
       "        stop: function(event, ui) {\n",
       "            pass_mouse_events = true;\n",
       "            fig.request_resize(ui.size.width, ui.size.height);\n",
       "        },\n",
       "    });\n",
       "\n",
       "    function mouse_event_fn(event) {\n",
       "        if (pass_mouse_events)\n",
       "            return fig.mouse_event(event, event['data']);\n",
       "    }\n",
       "\n",
       "    rubberband.mousedown('button_press', mouse_event_fn);\n",
       "    rubberband.mouseup('button_release', mouse_event_fn);\n",
       "    // Throttle sequential mouse events to 1 every 20ms.\n",
       "    rubberband.mousemove('motion_notify', mouse_event_fn);\n",
       "\n",
       "    rubberband.mouseenter('figure_enter', mouse_event_fn);\n",
       "    rubberband.mouseleave('figure_leave', mouse_event_fn);\n",
       "\n",
       "    canvas_div.on(\"wheel\", function (event) {\n",
       "        event = event.originalEvent;\n",
       "        event['data'] = 'scroll'\n",
       "        if (event.deltaY < 0) {\n",
       "            event.step = 1;\n",
       "        } else {\n",
       "            event.step = -1;\n",
       "        }\n",
       "        mouse_event_fn(event);\n",
       "    });\n",
       "\n",
       "    canvas_div.append(canvas);\n",
       "    canvas_div.append(rubberband);\n",
       "\n",
       "    this.rubberband = rubberband;\n",
       "    this.rubberband_canvas = rubberband[0];\n",
       "    this.rubberband_context = rubberband[0].getContext(\"2d\");\n",
       "    this.rubberband_context.strokeStyle = \"#000000\";\n",
       "\n",
       "    this._resize_canvas = function(width, height) {\n",
       "        // Keep the size of the canvas, canvas container, and rubber band\n",
       "        // canvas in synch.\n",
       "        canvas_div.css('width', width)\n",
       "        canvas_div.css('height', height)\n",
       "\n",
       "        canvas.attr('width', width * mpl.ratio);\n",
       "        canvas.attr('height', height * mpl.ratio);\n",
       "        canvas.attr('style', 'width: ' + width + 'px; height: ' + height + 'px;');\n",
       "\n",
       "        rubberband.attr('width', width);\n",
       "        rubberband.attr('height', height);\n",
       "    }\n",
       "\n",
       "    // Set the figure to an initial 600x600px, this will subsequently be updated\n",
       "    // upon first draw.\n",
       "    this._resize_canvas(600, 600);\n",
       "\n",
       "    // Disable right mouse context menu.\n",
       "    $(this.rubberband_canvas).bind(\"contextmenu\",function(e){\n",
       "        return false;\n",
       "    });\n",
       "\n",
       "    function set_focus () {\n",
       "        canvas.focus();\n",
       "        canvas_div.focus();\n",
       "    }\n",
       "\n",
       "    window.setTimeout(set_focus, 100);\n",
       "}\n",
       "\n",
       "mpl.figure.prototype._init_toolbar = function() {\n",
       "    var fig = this;\n",
       "\n",
       "    var nav_element = $('<div/>')\n",
       "    nav_element.attr('style', 'width: 100%');\n",
       "    this.root.append(nav_element);\n",
       "\n",
       "    // Define a callback function for later on.\n",
       "    function toolbar_event(event) {\n",
       "        return fig.toolbar_button_onclick(event['data']);\n",
       "    }\n",
       "    function toolbar_mouse_event(event) {\n",
       "        return fig.toolbar_button_onmouseover(event['data']);\n",
       "    }\n",
       "\n",
       "    for(var toolbar_ind in mpl.toolbar_items) {\n",
       "        var name = mpl.toolbar_items[toolbar_ind][0];\n",
       "        var tooltip = mpl.toolbar_items[toolbar_ind][1];\n",
       "        var image = mpl.toolbar_items[toolbar_ind][2];\n",
       "        var method_name = mpl.toolbar_items[toolbar_ind][3];\n",
       "\n",
       "        if (!name) {\n",
       "            // put a spacer in here.\n",
       "            continue;\n",
       "        }\n",
       "        var button = $('<button/>');\n",
       "        button.addClass('ui-button ui-widget ui-state-default ui-corner-all ' +\n",
       "                        'ui-button-icon-only');\n",
       "        button.attr('role', 'button');\n",
       "        button.attr('aria-disabled', 'false');\n",
       "        button.click(method_name, toolbar_event);\n",
       "        button.mouseover(tooltip, toolbar_mouse_event);\n",
       "\n",
       "        var icon_img = $('<span/>');\n",
       "        icon_img.addClass('ui-button-icon-primary ui-icon');\n",
       "        icon_img.addClass(image);\n",
       "        icon_img.addClass('ui-corner-all');\n",
       "\n",
       "        var tooltip_span = $('<span/>');\n",
       "        tooltip_span.addClass('ui-button-text');\n",
       "        tooltip_span.html(tooltip);\n",
       "\n",
       "        button.append(icon_img);\n",
       "        button.append(tooltip_span);\n",
       "\n",
       "        nav_element.append(button);\n",
       "    }\n",
       "\n",
       "    var fmt_picker_span = $('<span/>');\n",
       "\n",
       "    var fmt_picker = $('<select/>');\n",
       "    fmt_picker.addClass('mpl-toolbar-option ui-widget ui-widget-content');\n",
       "    fmt_picker_span.append(fmt_picker);\n",
       "    nav_element.append(fmt_picker_span);\n",
       "    this.format_dropdown = fmt_picker[0];\n",
       "\n",
       "    for (var ind in mpl.extensions) {\n",
       "        var fmt = mpl.extensions[ind];\n",
       "        var option = $(\n",
       "            '<option/>', {selected: fmt === mpl.default_extension}).html(fmt);\n",
       "        fmt_picker.append(option)\n",
       "    }\n",
       "\n",
       "    // Add hover states to the ui-buttons\n",
       "    $( \".ui-button\" ).hover(\n",
       "        function() { $(this).addClass(\"ui-state-hover\");},\n",
       "        function() { $(this).removeClass(\"ui-state-hover\");}\n",
       "    );\n",
       "\n",
       "    var status_bar = $('<span class=\"mpl-message\"/>');\n",
       "    nav_element.append(status_bar);\n",
       "    this.message = status_bar[0];\n",
       "}\n",
       "\n",
       "mpl.figure.prototype.request_resize = function(x_pixels, y_pixels) {\n",
       "    // Request matplotlib to resize the figure. Matplotlib will then trigger a resize in the client,\n",
       "    // which will in turn request a refresh of the image.\n",
       "    this.send_message('resize', {'width': x_pixels, 'height': y_pixels});\n",
       "}\n",
       "\n",
       "mpl.figure.prototype.send_message = function(type, properties) {\n",
       "    properties['type'] = type;\n",
       "    properties['figure_id'] = this.id;\n",
       "    this.ws.send(JSON.stringify(properties));\n",
       "}\n",
       "\n",
       "mpl.figure.prototype.send_draw_message = function() {\n",
       "    if (!this.waiting) {\n",
       "        this.waiting = true;\n",
       "        this.ws.send(JSON.stringify({type: \"draw\", figure_id: this.id}));\n",
       "    }\n",
       "}\n",
       "\n",
       "\n",
       "mpl.figure.prototype.handle_save = function(fig, msg) {\n",
       "    var format_dropdown = fig.format_dropdown;\n",
       "    var format = format_dropdown.options[format_dropdown.selectedIndex].value;\n",
       "    fig.ondownload(fig, format);\n",
       "}\n",
       "\n",
       "\n",
       "mpl.figure.prototype.handle_resize = function(fig, msg) {\n",
       "    var size = msg['size'];\n",
       "    if (size[0] != fig.canvas.width || size[1] != fig.canvas.height) {\n",
       "        fig._resize_canvas(size[0], size[1]);\n",
       "        fig.send_message(\"refresh\", {});\n",
       "    };\n",
       "}\n",
       "\n",
       "mpl.figure.prototype.handle_rubberband = function(fig, msg) {\n",
       "    var x0 = msg['x0'] / mpl.ratio;\n",
       "    var y0 = (fig.canvas.height - msg['y0']) / mpl.ratio;\n",
       "    var x1 = msg['x1'] / mpl.ratio;\n",
       "    var y1 = (fig.canvas.height - msg['y1']) / mpl.ratio;\n",
       "    x0 = Math.floor(x0) + 0.5;\n",
       "    y0 = Math.floor(y0) + 0.5;\n",
       "    x1 = Math.floor(x1) + 0.5;\n",
       "    y1 = Math.floor(y1) + 0.5;\n",
       "    var min_x = Math.min(x0, x1);\n",
       "    var min_y = Math.min(y0, y1);\n",
       "    var width = Math.abs(x1 - x0);\n",
       "    var height = Math.abs(y1 - y0);\n",
       "\n",
       "    fig.rubberband_context.clearRect(\n",
       "        0, 0, fig.canvas.width, fig.canvas.height);\n",
       "\n",
       "    fig.rubberband_context.strokeRect(min_x, min_y, width, height);\n",
       "}\n",
       "\n",
       "mpl.figure.prototype.handle_figure_label = function(fig, msg) {\n",
       "    // Updates the figure title.\n",
       "    fig.header.textContent = msg['label'];\n",
       "}\n",
       "\n",
       "mpl.figure.prototype.handle_cursor = function(fig, msg) {\n",
       "    var cursor = msg['cursor'];\n",
       "    switch(cursor)\n",
       "    {\n",
       "    case 0:\n",
       "        cursor = 'pointer';\n",
       "        break;\n",
       "    case 1:\n",
       "        cursor = 'default';\n",
       "        break;\n",
       "    case 2:\n",
       "        cursor = 'crosshair';\n",
       "        break;\n",
       "    case 3:\n",
       "        cursor = 'move';\n",
       "        break;\n",
       "    }\n",
       "    fig.rubberband_canvas.style.cursor = cursor;\n",
       "}\n",
       "\n",
       "mpl.figure.prototype.handle_message = function(fig, msg) {\n",
       "    fig.message.textContent = msg['message'];\n",
       "}\n",
       "\n",
       "mpl.figure.prototype.handle_draw = function(fig, msg) {\n",
       "    // Request the server to send over a new figure.\n",
       "    fig.send_draw_message();\n",
       "}\n",
       "\n",
       "mpl.figure.prototype.handle_image_mode = function(fig, msg) {\n",
       "    fig.image_mode = msg['mode'];\n",
       "}\n",
       "\n",
       "mpl.figure.prototype.updated_canvas_event = function() {\n",
       "    // Called whenever the canvas gets updated.\n",
       "    this.send_message(\"ack\", {});\n",
       "}\n",
       "\n",
       "// A function to construct a web socket function for onmessage handling.\n",
       "// Called in the figure constructor.\n",
       "mpl.figure.prototype._make_on_message_function = function(fig) {\n",
       "    return function socket_on_message(evt) {\n",
       "        if (evt.data instanceof Blob) {\n",
       "            /* FIXME: We get \"Resource interpreted as Image but\n",
       "             * transferred with MIME type text/plain:\" errors on\n",
       "             * Chrome.  But how to set the MIME type?  It doesn't seem\n",
       "             * to be part of the websocket stream */\n",
       "            evt.data.type = \"image/png\";\n",
       "\n",
       "            /* Free the memory for the previous frames */\n",
       "            if (fig.imageObj.src) {\n",
       "                (window.URL || window.webkitURL).revokeObjectURL(\n",
       "                    fig.imageObj.src);\n",
       "            }\n",
       "\n",
       "            fig.imageObj.src = (window.URL || window.webkitURL).createObjectURL(\n",
       "                evt.data);\n",
       "            fig.updated_canvas_event();\n",
       "            fig.waiting = false;\n",
       "            return;\n",
       "        }\n",
       "        else if (typeof evt.data === 'string' && evt.data.slice(0, 21) == \"data:image/png;base64\") {\n",
       "            fig.imageObj.src = evt.data;\n",
       "            fig.updated_canvas_event();\n",
       "            fig.waiting = false;\n",
       "            return;\n",
       "        }\n",
       "\n",
       "        var msg = JSON.parse(evt.data);\n",
       "        var msg_type = msg['type'];\n",
       "\n",
       "        // Call the  \"handle_{type}\" callback, which takes\n",
       "        // the figure and JSON message as its only arguments.\n",
       "        try {\n",
       "            var callback = fig[\"handle_\" + msg_type];\n",
       "        } catch (e) {\n",
       "            console.log(\"No handler for the '\" + msg_type + \"' message type: \", msg);\n",
       "            return;\n",
       "        }\n",
       "\n",
       "        if (callback) {\n",
       "            try {\n",
       "                // console.log(\"Handling '\" + msg_type + \"' message: \", msg);\n",
       "                callback(fig, msg);\n",
       "            } catch (e) {\n",
       "                console.log(\"Exception inside the 'handler_\" + msg_type + \"' callback:\", e, e.stack, msg);\n",
       "            }\n",
       "        }\n",
       "    };\n",
       "}\n",
       "\n",
       "// from http://stackoverflow.com/questions/1114465/getting-mouse-location-in-canvas\n",
       "mpl.findpos = function(e) {\n",
       "    //this section is from http://www.quirksmode.org/js/events_properties.html\n",
       "    var targ;\n",
       "    if (!e)\n",
       "        e = window.event;\n",
       "    if (e.target)\n",
       "        targ = e.target;\n",
       "    else if (e.srcElement)\n",
       "        targ = e.srcElement;\n",
       "    if (targ.nodeType == 3) // defeat Safari bug\n",
       "        targ = targ.parentNode;\n",
       "\n",
       "    // jQuery normalizes the pageX and pageY\n",
       "    // pageX,Y are the mouse positions relative to the document\n",
       "    // offset() returns the position of the element relative to the document\n",
       "    var x = e.pageX - $(targ).offset().left;\n",
       "    var y = e.pageY - $(targ).offset().top;\n",
       "\n",
       "    return {\"x\": x, \"y\": y};\n",
       "};\n",
       "\n",
       "/*\n",
       " * return a copy of an object with only non-object keys\n",
       " * we need this to avoid circular references\n",
       " * http://stackoverflow.com/a/24161582/3208463\n",
       " */\n",
       "function simpleKeys (original) {\n",
       "  return Object.keys(original).reduce(function (obj, key) {\n",
       "    if (typeof original[key] !== 'object')\n",
       "        obj[key] = original[key]\n",
       "    return obj;\n",
       "  }, {});\n",
       "}\n",
       "\n",
       "mpl.figure.prototype.mouse_event = function(event, name) {\n",
       "    var canvas_pos = mpl.findpos(event)\n",
       "\n",
       "    if (name === 'button_press')\n",
       "    {\n",
       "        this.canvas.focus();\n",
       "        this.canvas_div.focus();\n",
       "    }\n",
       "\n",
       "    var x = canvas_pos.x * mpl.ratio;\n",
       "    var y = canvas_pos.y * mpl.ratio;\n",
       "\n",
       "    this.send_message(name, {x: x, y: y, button: event.button,\n",
       "                             step: event.step,\n",
       "                             guiEvent: simpleKeys(event)});\n",
       "\n",
       "    /* This prevents the web browser from automatically changing to\n",
       "     * the text insertion cursor when the button is pressed.  We want\n",
       "     * to control all of the cursor setting manually through the\n",
       "     * 'cursor' event from matplotlib */\n",
       "    event.preventDefault();\n",
       "    return false;\n",
       "}\n",
       "\n",
       "mpl.figure.prototype._key_event_extra = function(event, name) {\n",
       "    // Handle any extra behaviour associated with a key event\n",
       "}\n",
       "\n",
       "mpl.figure.prototype.key_event = function(event, name) {\n",
       "\n",
       "    // Prevent repeat events\n",
       "    if (name == 'key_press')\n",
       "    {\n",
       "        if (event.which === this._key)\n",
       "            return;\n",
       "        else\n",
       "            this._key = event.which;\n",
       "    }\n",
       "    if (name == 'key_release')\n",
       "        this._key = null;\n",
       "\n",
       "    var value = '';\n",
       "    if (event.ctrlKey && event.which != 17)\n",
       "        value += \"ctrl+\";\n",
       "    if (event.altKey && event.which != 18)\n",
       "        value += \"alt+\";\n",
       "    if (event.shiftKey && event.which != 16)\n",
       "        value += \"shift+\";\n",
       "\n",
       "    value += 'k';\n",
       "    value += event.which.toString();\n",
       "\n",
       "    this._key_event_extra(event, name);\n",
       "\n",
       "    this.send_message(name, {key: value,\n",
       "                             guiEvent: simpleKeys(event)});\n",
       "    return false;\n",
       "}\n",
       "\n",
       "mpl.figure.prototype.toolbar_button_onclick = function(name) {\n",
       "    if (name == 'download') {\n",
       "        this.handle_save(this, null);\n",
       "    } else {\n",
       "        this.send_message(\"toolbar_button\", {name: name});\n",
       "    }\n",
       "};\n",
       "\n",
       "mpl.figure.prototype.toolbar_button_onmouseover = function(tooltip) {\n",
       "    this.message.textContent = tooltip;\n",
       "};\n",
       "mpl.toolbar_items = [[\"Home\", \"Reset original view\", \"fa fa-home icon-home\", \"home\"], [\"Back\", \"Back to  previous view\", \"fa fa-arrow-left icon-arrow-left\", \"back\"], [\"Forward\", \"Forward to next view\", \"fa fa-arrow-right icon-arrow-right\", \"forward\"], [\"\", \"\", \"\", \"\"], [\"Pan\", \"Pan axes with left mouse, zoom with right\", \"fa fa-arrows icon-move\", \"pan\"], [\"Zoom\", \"Zoom to rectangle\", \"fa fa-square-o icon-check-empty\", \"zoom\"], [\"\", \"\", \"\", \"\"], [\"Download\", \"Download plot\", \"fa fa-floppy-o icon-save\", \"download\"]];\n",
       "\n",
       "mpl.extensions = [\"eps\", \"jpeg\", \"pdf\", \"png\", \"ps\", \"raw\", \"svg\", \"tif\"];\n",
       "\n",
       "mpl.default_extension = \"png\";var comm_websocket_adapter = function(comm) {\n",
       "    // Create a \"websocket\"-like object which calls the given IPython comm\n",
       "    // object with the appropriate methods. Currently this is a non binary\n",
       "    // socket, so there is still some room for performance tuning.\n",
       "    var ws = {};\n",
       "\n",
       "    ws.close = function() {\n",
       "        comm.close()\n",
       "    };\n",
       "    ws.send = function(m) {\n",
       "        //console.log('sending', m);\n",
       "        comm.send(m);\n",
       "    };\n",
       "    // Register the callback with on_msg.\n",
       "    comm.on_msg(function(msg) {\n",
       "        //console.log('receiving', msg['content']['data'], msg);\n",
       "        // Pass the mpl event to the overriden (by mpl) onmessage function.\n",
       "        ws.onmessage(msg['content']['data'])\n",
       "    });\n",
       "    return ws;\n",
       "}\n",
       "\n",
       "mpl.mpl_figure_comm = function(comm, msg) {\n",
       "    // This is the function which gets called when the mpl process\n",
       "    // starts-up an IPython Comm through the \"matplotlib\" channel.\n",
       "\n",
       "    var id = msg.content.data.id;\n",
       "    // Get hold of the div created by the display call when the Comm\n",
       "    // socket was opened in Python.\n",
       "    var element = $(\"#\" + id);\n",
       "    var ws_proxy = comm_websocket_adapter(comm)\n",
       "\n",
       "    function ondownload(figure, format) {\n",
       "        window.open(figure.imageObj.src);\n",
       "    }\n",
       "\n",
       "    var fig = new mpl.figure(id, ws_proxy,\n",
       "                           ondownload,\n",
       "                           element.get(0));\n",
       "\n",
       "    // Call onopen now - mpl needs it, as it is assuming we've passed it a real\n",
       "    // web socket which is closed, not our websocket->open comm proxy.\n",
       "    ws_proxy.onopen();\n",
       "\n",
       "    fig.parent_element = element.get(0);\n",
       "    fig.cell_info = mpl.find_output_cell(\"<div id='\" + id + \"'></div>\");\n",
       "    if (!fig.cell_info) {\n",
       "        console.error(\"Failed to find cell for figure\", id, fig);\n",
       "        return;\n",
       "    }\n",
       "\n",
       "    var output_index = fig.cell_info[2]\n",
       "    var cell = fig.cell_info[0];\n",
       "\n",
       "};\n",
       "\n",
       "mpl.figure.prototype.handle_close = function(fig, msg) {\n",
       "    var width = fig.canvas.width/mpl.ratio\n",
       "    fig.root.unbind('remove')\n",
       "\n",
       "    // Update the output cell to use the data from the current canvas.\n",
       "    fig.push_to_output();\n",
       "    var dataURL = fig.canvas.toDataURL();\n",
       "    // Re-enable the keyboard manager in IPython - without this line, in FF,\n",
       "    // the notebook keyboard shortcuts fail.\n",
       "    IPython.keyboard_manager.enable()\n",
       "    $(fig.parent_element).html('<img src=\"' + dataURL + '\" width=\"' + width + '\">');\n",
       "    fig.close_ws(fig, msg);\n",
       "}\n",
       "\n",
       "mpl.figure.prototype.close_ws = function(fig, msg){\n",
       "    fig.send_message('closing', msg);\n",
       "    // fig.ws.close()\n",
       "}\n",
       "\n",
       "mpl.figure.prototype.push_to_output = function(remove_interactive) {\n",
       "    // Turn the data on the canvas into data in the output cell.\n",
       "    var width = this.canvas.width/mpl.ratio\n",
       "    var dataURL = this.canvas.toDataURL();\n",
       "    this.cell_info[1]['text/html'] = '<img src=\"' + dataURL + '\" width=\"' + width + '\">';\n",
       "}\n",
       "\n",
       "mpl.figure.prototype.updated_canvas_event = function() {\n",
       "    // Tell IPython that the notebook contents must change.\n",
       "    IPython.notebook.set_dirty(true);\n",
       "    this.send_message(\"ack\", {});\n",
       "    var fig = this;\n",
       "    // Wait a second, then push the new image to the DOM so\n",
       "    // that it is saved nicely (might be nice to debounce this).\n",
       "    setTimeout(function () { fig.push_to_output() }, 1000);\n",
       "}\n",
       "\n",
       "mpl.figure.prototype._init_toolbar = function() {\n",
       "    var fig = this;\n",
       "\n",
       "    var nav_element = $('<div/>')\n",
       "    nav_element.attr('style', 'width: 100%');\n",
       "    this.root.append(nav_element);\n",
       "\n",
       "    // Define a callback function for later on.\n",
       "    function toolbar_event(event) {\n",
       "        return fig.toolbar_button_onclick(event['data']);\n",
       "    }\n",
       "    function toolbar_mouse_event(event) {\n",
       "        return fig.toolbar_button_onmouseover(event['data']);\n",
       "    }\n",
       "\n",
       "    for(var toolbar_ind in mpl.toolbar_items){\n",
       "        var name = mpl.toolbar_items[toolbar_ind][0];\n",
       "        var tooltip = mpl.toolbar_items[toolbar_ind][1];\n",
       "        var image = mpl.toolbar_items[toolbar_ind][2];\n",
       "        var method_name = mpl.toolbar_items[toolbar_ind][3];\n",
       "\n",
       "        if (!name) { continue; };\n",
       "\n",
       "        var button = $('<button class=\"btn btn-default\" href=\"#\" title=\"' + name + '\"><i class=\"fa ' + image + ' fa-lg\"></i></button>');\n",
       "        button.click(method_name, toolbar_event);\n",
       "        button.mouseover(tooltip, toolbar_mouse_event);\n",
       "        nav_element.append(button);\n",
       "    }\n",
       "\n",
       "    // Add the status bar.\n",
       "    var status_bar = $('<span class=\"mpl-message\" style=\"text-align:right; float: right;\"/>');\n",
       "    nav_element.append(status_bar);\n",
       "    this.message = status_bar[0];\n",
       "\n",
       "    // Add the close button to the window.\n",
       "    var buttongrp = $('<div class=\"btn-group inline pull-right\"></div>');\n",
       "    var button = $('<button class=\"btn btn-mini btn-primary\" href=\"#\" title=\"Stop Interaction\"><i class=\"fa fa-power-off icon-remove icon-large\"></i></button>');\n",
       "    button.click(function (evt) { fig.handle_close(fig, {}); } );\n",
       "    button.mouseover('Stop Interaction', toolbar_mouse_event);\n",
       "    buttongrp.append(button);\n",
       "    var titlebar = this.root.find($('.ui-dialog-titlebar'));\n",
       "    titlebar.prepend(buttongrp);\n",
       "}\n",
       "\n",
       "mpl.figure.prototype._root_extra_style = function(el){\n",
       "    var fig = this\n",
       "    el.on(\"remove\", function(){\n",
       "\tfig.close_ws(fig, {});\n",
       "    });\n",
       "}\n",
       "\n",
       "mpl.figure.prototype._canvas_extra_style = function(el){\n",
       "    // this is important to make the div 'focusable\n",
       "    el.attr('tabindex', 0)\n",
       "    // reach out to IPython and tell the keyboard manager to turn it's self\n",
       "    // off when our div gets focus\n",
       "\n",
       "    // location in version 3\n",
       "    if (IPython.notebook.keyboard_manager) {\n",
       "        IPython.notebook.keyboard_manager.register_events(el);\n",
       "    }\n",
       "    else {\n",
       "        // location in version 2\n",
       "        IPython.keyboard_manager.register_events(el);\n",
       "    }\n",
       "\n",
       "}\n",
       "\n",
       "mpl.figure.prototype._key_event_extra = function(event, name) {\n",
       "    var manager = IPython.notebook.keyboard_manager;\n",
       "    if (!manager)\n",
       "        manager = IPython.keyboard_manager;\n",
       "\n",
       "    // Check for shift+enter\n",
       "    if (event.shiftKey && event.which == 13) {\n",
       "        this.canvas_div.blur();\n",
       "        // select the cell after this one\n",
       "        var index = IPython.notebook.find_cell_index(this.cell_info[0]);\n",
       "        IPython.notebook.select(index + 1);\n",
       "    }\n",
       "}\n",
       "\n",
       "mpl.figure.prototype.handle_save = function(fig, msg) {\n",
       "    fig.ondownload(fig, null);\n",
       "}\n",
       "\n",
       "\n",
       "mpl.find_output_cell = function(html_output) {\n",
       "    // Return the cell and output element which can be found *uniquely* in the notebook.\n",
       "    // Note - this is a bit hacky, but it is done because the \"notebook_saving.Notebook\"\n",
       "    // IPython event is triggered only after the cells have been serialised, which for\n",
       "    // our purposes (turning an active figure into a static one), is too late.\n",
       "    var cells = IPython.notebook.get_cells();\n",
       "    var ncells = cells.length;\n",
       "    for (var i=0; i<ncells; i++) {\n",
       "        var cell = cells[i];\n",
       "        if (cell.cell_type === 'code'){\n",
       "            for (var j=0; j<cell.output_area.outputs.length; j++) {\n",
       "                var data = cell.output_area.outputs[j];\n",
       "                if (data.data) {\n",
       "                    // IPython >= 3 moved mimebundle to data attribute of output\n",
       "                    data = data.data;\n",
       "                }\n",
       "                if (data['text/html'] == html_output) {\n",
       "                    return [cell, data, j];\n",
       "                }\n",
       "            }\n",
       "        }\n",
       "    }\n",
       "}\n",
       "\n",
       "// Register the function which deals with the matplotlib target/channel.\n",
       "// The kernel may be null if the page has been refreshed.\n",
       "if (IPython.notebook.kernel != null) {\n",
       "    IPython.notebook.kernel.comm_manager.register_target('matplotlib', mpl.mpl_figure_comm);\n",
       "}\n"
      ],
      "text/plain": [
       "<IPython.core.display.Javascript object>"
      ]
     },
     "metadata": {},
     "output_type": "display_data"
    },
    {
     "data": {
      "text/html": [
       "<img src=\"data:image/png;base64,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\" width=\"900\">"
      ],
      "text/plain": [
       "<IPython.core.display.HTML object>"
      ]
     },
     "metadata": {},
     "output_type": "display_data"
    }
   ],
   "source": [
    "dk = 2*np.pi/2**nr/dr\n",
    "\n",
    "titles = [\"Excitatory feedback\", \"Inhibitory feedback\", \"Mixed feedback\"]\n",
    "labels = [r\"$w^\\mathrm{ex}_{\\mathrm{RCR}}$\", r\"$|w^\\mathrm{in}_{\\mathrm{RCR}}|$\", \n",
    "          r\"$w^\\mathrm{mix}_{\\mathrm{RCR}}$\"]\n",
    "\n",
    "import matplotlib.ticker as mtick\n",
    "fig, axarr = plt.subplots(3, 3, figsize=(9, 6), sharex=\"all\")\n",
    "plt.figtext(0.5, 0.99, titles[0], ha='center', va='center', fontsize=16)\n",
    "plt.figtext(0.5, 0.68, titles[1], ha='center', va='center', fontsize=16)\n",
    "plt.figtext(0.5, 0.36, titles[2], ha='center', va='center', fontsize=16)\n",
    "plt.subplots_adjust(hspace=2)\n",
    "\n",
    "# Size tuning curves:\n",
    "for i, (key, w_rc) in enumerate(zip(size_tuning.keys(), [w_rc_ex, w_rc_in, w_rc_mix])):\n",
    "    ax = axarr[i, :]\n",
    "    \n",
    "    for j, w in enumerate(w_rc):\n",
    "        ax[j].set_title(labels[i]+\"={}\".format(w))\n",
    "        ax[j].plot(dk, size_tuning[key][\"cen_size\"][:, j], \"-o\")\n",
    "        ax[j].set_ylabel(\"center size\", color=\"C0\")\n",
    "        \n",
    "        ax_twin = ax[j].twinx()\n",
    "        ax_twin.plot(dk, size_tuning[key][\"supp_index\"][:, j], \"-oC1\")\n",
    "        ax_twin.set_ylabel(\"suppression index\", color=\"C1\")\n",
    "        ax_twin.ticklabel_format(useOffset=False)\n",
    "\n",
    "        \n",
    "\n",
    "for ax in axarr.flat[-3:]:\n",
    "    ax.set_xlabel(r\"Spatial frequency resolution, $\\Delta k$\")\n",
    "    #ax.set_xticks(dk)\n",
    "\n",
    "fig.tight_layout()"
   ]
  },
  {
   "cell_type": "code",
   "execution_count": null,
   "metadata": {
    "collapsed": true
   },
   "outputs": [],
   "source": []
  }
 ],
 "metadata": {
  "anaconda-cloud": {},
  "kernelspec": {
   "display_name": "Python 3",
   "language": "python",
   "name": "python3"
  },
  "language_info": {
   "codemirror_mode": {
    "name": "ipython",
    "version": 3
   },
   "file_extension": ".py",
   "mimetype": "text/x-python",
   "name": "python",
   "nbconvert_exporter": "python",
   "pygments_lexer": "ipython3",
   "version": "3.5.4"
  },
  "nbpresent": {
   "slides": {
    "0c512947-22b0-4620-957c-acb049a64df1": {
     "id": "0c512947-22b0-4620-957c-acb049a64df1",
     "prev": "fb0a318a-a23a-4d41-886a-dd6cea238b53",
     "regions": {
      "4f50cc9d-7580-428e-a900-06d87cdfe71a": {
       "attrs": {
        "height": 0.8,
        "width": 0.8,
        "x": 0.1,
        "y": 0.1
       },
       "content": {
        "cell": "0329e4f2-14b2-4162-9265-b79666a7f713",
        "part": "whole"
       },
       "id": "4f50cc9d-7580-428e-a900-06d87cdfe71a"
      }
     },
     "theme": null
    },
    "30d1a1d6-85e5-4a38-b09c-822be9414bd4": {
     "id": "30d1a1d6-85e5-4a38-b09c-822be9414bd4",
     "prev": "d6db61c1-604e-4121-8c01-f3d22416de15",
     "regions": {
      "2f6d32e5-a952-4294-9cc4-f99945d45603": {
       "attrs": {
        "height": 0.8,
        "width": 0.8,
        "x": 0.1,
        "y": 0.1
       },
       "content": {
        "cell": "382b46f7-25d4-4eaf-b3a9-647de01d8348",
        "part": "whole"
       },
       "id": "2f6d32e5-a952-4294-9cc4-f99945d45603"
      }
     }
    },
    "52a12f95-282a-48f3-ad0c-35b4502ef810": {
     "id": "52a12f95-282a-48f3-ad0c-35b4502ef810",
     "prev": null,
     "regions": {
      "f682cb8c-f3ed-466a-b367-d9ee4b3696af": {
       "attrs": {
        "height": 0.8,
        "width": 0.8,
        "x": 0.1,
        "y": 0.1
       },
       "content": {
        "cell": "43262e84-0cf5-4f65-84c5-9efe58e654cd",
        "part": "whole"
       },
       "id": "f682cb8c-f3ed-466a-b367-d9ee4b3696af"
      }
     }
    },
    "641d5b5a-6aa1-40f6-bd32-585fc0e31382": {
     "id": "641d5b5a-6aa1-40f6-bd32-585fc0e31382",
     "prev": "95e6a885-2625-4579-b8b1-086d1fdb95f2",
     "regions": {
      "e4d018eb-5924-4c4b-9fdb-c8bbb2a9518e": {
       "attrs": {
        "height": 0.8,
        "width": 0.8,
        "x": 0.1,
        "y": 0.1
       },
       "content": {
        "cell": "bddec95f-d01d-45ad-aefb-bf3949f29c57",
        "part": "whole"
       },
       "id": "e4d018eb-5924-4c4b-9fdb-c8bbb2a9518e"
      }
     }
    },
    "8e9695f4-d725-4cf1-a771-dd22895bb5fc": {
     "id": "8e9695f4-d725-4cf1-a771-dd22895bb5fc",
     "prev": "641d5b5a-6aa1-40f6-bd32-585fc0e31382",
     "regions": {
      "dc7c7f91-9001-4633-a354-4f5389771235": {
       "attrs": {
        "height": 0.8,
        "width": 0.8,
        "x": 0.1,
        "y": 0.1
       },
       "content": {
        "cell": "dbdb971a-6087-405a-9c5d-9cd2920fbfd0",
        "part": "whole"
       },
       "id": "dc7c7f91-9001-4633-a354-4f5389771235"
      }
     }
    },
    "95e6a885-2625-4579-b8b1-086d1fdb95f2": {
     "id": "95e6a885-2625-4579-b8b1-086d1fdb95f2",
     "prev": "b5581607-c17f-4f66-96cc-1a2c36dc5ca3",
     "regions": {
      "2612b9d1-8f75-4832-b18d-bc756004d96b": {
       "attrs": {
        "height": 0.8,
        "width": 0.8,
        "x": 0.1,
        "y": 0.1
       },
       "content": {
        "cell": "04113409-bf22-490e-929c-902239ddee2f",
        "part": "whole"
       },
       "id": "2612b9d1-8f75-4832-b18d-bc756004d96b"
      }
     }
    },
    "9ba4c26f-cf11-4b3e-aaa9-14b470d809a4": {
     "id": "9ba4c26f-cf11-4b3e-aaa9-14b470d809a4",
     "prev": "df83e99b-f0c7-4f83-82c2-66db3a61d655",
     "regions": {
      "7705d5e8-c66c-4ac6-9f67-af901d3f062f": {
       "attrs": {
        "height": 0.8,
        "width": 0.8,
        "x": 0.1,
        "y": 0.1
       },
       "content": {
        "cell": "382b46f7-25d4-4eaf-b3a9-647de01d8348",
        "part": "whole"
       },
       "id": "7705d5e8-c66c-4ac6-9f67-af901d3f062f"
      }
     }
    },
    "9d0e3a49-f3d0-418f-b9d7-38e403f65770": {
     "id": "9d0e3a49-f3d0-418f-b9d7-38e403f65770",
     "prev": "0c512947-22b0-4620-957c-acb049a64df1",
     "regions": {
      "7668ddf4-59a7-47d0-88ac-987690baaa79": {
       "attrs": {
        "height": 0.8,
        "width": 0.8,
        "x": 0.1,
        "y": 0.1
       },
       "content": {
        "cell": "70350ee6-6295-4d0e-94c3-58e42c451918",
        "part": "whole"
       },
       "id": "7668ddf4-59a7-47d0-88ac-987690baaa79"
      }
     }
    },
    "b5581607-c17f-4f66-96cc-1a2c36dc5ca3": {
     "id": "b5581607-c17f-4f66-96cc-1a2c36dc5ca3",
     "prev": "9ba4c26f-cf11-4b3e-aaa9-14b470d809a4",
     "regions": {
      "eb078aeb-4c73-42f9-b303-62e78c80f9d1": {
       "attrs": {
        "height": 0.8,
        "width": 0.8,
        "x": 0.1,
        "y": 0.1
       },
       "content": {
        "cell": "de161638-3993-460b-bfe5-5f6e7782b40d",
        "part": "whole"
       },
       "id": "eb078aeb-4c73-42f9-b303-62e78c80f9d1"
      }
     }
    },
    "d6db61c1-604e-4121-8c01-f3d22416de15": {
     "id": "d6db61c1-604e-4121-8c01-f3d22416de15",
     "prev": "9d0e3a49-f3d0-418f-b9d7-38e403f65770",
     "regions": {
      "e233c42f-3857-443b-88d3-a3ca810237e8": {
       "attrs": {
        "height": 0.8,
        "width": 0.8,
        "x": 0.1,
        "y": 0.1
       },
       "content": {
        "cell": "4717121a-ec21-4560-a366-49a411d9a737",
        "part": "whole"
       },
       "id": "e233c42f-3857-443b-88d3-a3ca810237e8"
      }
     }
    },
    "df83e99b-f0c7-4f83-82c2-66db3a61d655": {
     "id": "df83e99b-f0c7-4f83-82c2-66db3a61d655",
     "prev": "30d1a1d6-85e5-4a38-b09c-822be9414bd4",
     "regions": {
      "170d6c07-f7ae-4c44-ac52-9ea5fdae038a": {
       "attrs": {
        "height": 0.8,
        "width": 0.8,
        "x": 0.1,
        "y": 0.1
       },
       "content": {
        "cell": "4717121a-ec21-4560-a366-49a411d9a737",
        "part": "whole"
       },
       "id": "170d6c07-f7ae-4c44-ac52-9ea5fdae038a"
      }
     }
    },
    "fb0a318a-a23a-4d41-886a-dd6cea238b53": {
     "id": "fb0a318a-a23a-4d41-886a-dd6cea238b53",
     "prev": "fda6540a-8662-495f-ba36-808ad292157d",
     "regions": {
      "3d312848-0567-498a-bd11-883ee4b6d357": {
       "attrs": {
        "height": 0.8,
        "width": 0.8,
        "x": 0.1,
        "y": 0.1
       },
       "content": {
        "cell": "03a51aa3-95e0-430b-9f4c-9604e8e01fdf",
        "part": "whole"
       },
       "id": "3d312848-0567-498a-bd11-883ee4b6d357"
      }
     }
    },
    "fda6540a-8662-495f-ba36-808ad292157d": {
     "id": "fda6540a-8662-495f-ba36-808ad292157d",
     "prev": "52a12f95-282a-48f3-ad0c-35b4502ef810",
     "regions": {
      "e7a689ab-12c6-4d3e-9619-e6b4c4fa6d3f": {
       "attrs": {
        "height": 0.8,
        "width": 0.8,
        "x": 0.1,
        "y": 0.1
       },
       "content": {
        "cell": "95a143d6-6f5f-4049-945a-a013649da004",
        "part": "whole"
       },
       "id": "e7a689ab-12c6-4d3e-9619-e6b4c4fa6d3f"
      }
     }
    }
   },
   "themes": {
    "default": "75daa297-5cd3-473b-a166-43f1ac864956",
    "theme": {
     "75daa297-5cd3-473b-a166-43f1ac864956": {
      "id": "75daa297-5cd3-473b-a166-43f1ac864956",
      "palette": {
       "19cc588f-0593-49c9-9f4b-e4d7cc113b1c": {
        "id": "19cc588f-0593-49c9-9f4b-e4d7cc113b1c",
        "rgb": [
         252,
         252,
         252
        ]
       },
       "31af15d2-7e15-44c5-ab5e-e04b16a89eff": {
        "id": "31af15d2-7e15-44c5-ab5e-e04b16a89eff",
        "rgb": [
         68,
         68,
         68
        ]
       },
       "50f92c45-a630-455b-aec3-788680ec7410": {
        "id": "50f92c45-a630-455b-aec3-788680ec7410",
        "rgb": [
         155,
         177,
         192
        ]
       },
       "c5cc3653-2ee1-402a-aba2-7caae1da4f6c": {
        "id": "c5cc3653-2ee1-402a-aba2-7caae1da4f6c",
        "rgb": [
         43,
         126,
         184
        ]
       },
       "efa7f048-9acb-414c-8b04-a26811511a21": {
        "id": "efa7f048-9acb-414c-8b04-a26811511a21",
        "rgb": [
         25.118061674008803,
         73.60176211453744,
         107.4819383259912
        ]
       }
      },
      "rules": {
       "blockquote": {
        "color": "50f92c45-a630-455b-aec3-788680ec7410"
       },
       "code": {
        "font-family": "Anonymous Pro"
       },
       "h1": {
        "color": "c5cc3653-2ee1-402a-aba2-7caae1da4f6c",
        "font-family": "Lato",
        "font-size": 8
       },
       "h2": {
        "color": "c5cc3653-2ee1-402a-aba2-7caae1da4f6c",
        "font-family": "Lato",
        "font-size": 6
       },
       "h3": {
        "color": "50f92c45-a630-455b-aec3-788680ec7410",
        "font-family": "Lato",
        "font-size": 5.5
       },
       "h4": {
        "color": "c5cc3653-2ee1-402a-aba2-7caae1da4f6c",
        "font-family": "Lato",
        "font-size": 5
       },
       "h5": {
        "font-family": "Lato"
       },
       "h6": {
        "font-family": "Lato"
       },
       "h7": {
        "font-family": "Lato"
       },
       "pre": {
        "font-family": "Anonymous Pro",
        "font-size": 4
       }
      },
      "text-base": {
       "font-family": "Merriweather",
       "font-size": 4
      }
     },
     "d307f93a-9047-4d98-889d-39af4e4707a4": {
      "backgrounds": {
       "dc7afa04-bf90-40b1-82a5-726e3cff5267": {
        "background-color": "31af15d2-7e15-44c5-ab5e-e04b16a89eff",
        "id": "dc7afa04-bf90-40b1-82a5-726e3cff5267"
       }
      },
      "id": "d307f93a-9047-4d98-889d-39af4e4707a4",
      "palette": {
       "19cc588f-0593-49c9-9f4b-e4d7cc113b1c": {
        "id": "19cc588f-0593-49c9-9f4b-e4d7cc113b1c",
        "rgb": [
         252,
         252,
         252
        ]
       },
       "31af15d2-7e15-44c5-ab5e-e04b16a89eff": {
        "id": "31af15d2-7e15-44c5-ab5e-e04b16a89eff",
        "rgb": [
         68,
         68,
         68
        ]
       },
       "50f92c45-a630-455b-aec3-788680ec7410": {
        "id": "50f92c45-a630-455b-aec3-788680ec7410",
        "rgb": [
         197,
         226,
         245
        ]
       },
       "c5cc3653-2ee1-402a-aba2-7caae1da4f6c": {
        "id": "c5cc3653-2ee1-402a-aba2-7caae1da4f6c",
        "rgb": [
         43,
         126,
         184
        ]
       },
       "efa7f048-9acb-414c-8b04-a26811511a21": {
        "id": "efa7f048-9acb-414c-8b04-a26811511a21",
        "rgb": [
         25.118061674008803,
         73.60176211453744,
         107.4819383259912
        ]
       }
      },
      "rules": {
       "a": {
        "color": "19cc588f-0593-49c9-9f4b-e4d7cc113b1c"
       },
       "blockquote": {
        "color": "50f92c45-a630-455b-aec3-788680ec7410",
        "font-size": 3
       },
       "code": {
        "font-family": "Anonymous Pro"
       },
       "h1": {
        "color": "19cc588f-0593-49c9-9f4b-e4d7cc113b1c",
        "font-family": "Merriweather",
        "font-size": 8
       },
       "h2": {
        "color": "19cc588f-0593-49c9-9f4b-e4d7cc113b1c",
        "font-family": "Merriweather",
        "font-size": 6
       },
       "h3": {
        "color": "50f92c45-a630-455b-aec3-788680ec7410",
        "font-family": "Lato",
        "font-size": 5.5
       },
       "h4": {
        "color": "c5cc3653-2ee1-402a-aba2-7caae1da4f6c",
        "font-family": "Lato",
        "font-size": 5
       },
       "h5": {
        "font-family": "Lato"
       },
       "h6": {
        "font-family": "Lato"
       },
       "h7": {
        "font-family": "Lato"
       },
       "li": {
        "color": "50f92c45-a630-455b-aec3-788680ec7410",
        "font-size": 3.25
       },
       "pre": {
        "font-family": "Anonymous Pro",
        "font-size": 4
       }
      },
      "text-base": {
       "color": "19cc588f-0593-49c9-9f4b-e4d7cc113b1c",
       "font-family": "Lato",
       "font-size": 4
      }
     }
    }
   }
  }
 },
 "nbformat": 4,
 "nbformat_minor": 2
}
